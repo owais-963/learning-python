{
 "cells": [
  {
   "cell_type": "code",
   "execution_count": 8,
   "metadata": {},
   "outputs": [],
   "source": [
    "import pyautogui as pyg\n",
    "import webbrowser as wb\n",
    "import time\n",
    "wb.open(\"C:\\Program Files\\Google\\Chrome\\Application\\chrome.exe\")\n",
    "wb.open(\"https://www.facebook.com/\")\n",
    "time.sleep(2)\n",
    "for i in range(250000099):  \n",
    "    pyg.write(\"HELLO CHUTYE\")\n",
    "    pyg.press(\"enter\")\n",
    "    #pyg.absolute_import()"
   ]
  },
  {
   "cell_type": "code",
   "execution_count": 10,
   "metadata": {},
   "outputs": [],
   "source": [
    "a=pyg.alert(\"Are you ok\")"
   ]
  },
  {
   "cell_type": "code",
   "execution_count": 11,
   "metadata": {},
   "outputs": [
    {
     "data": {
      "text/plain": [
       "'OK'"
      ]
     },
     "execution_count": 11,
     "metadata": {},
     "output_type": "execute_result"
    }
   ],
   "source": [
    "a"
   ]
  },
  {
   "cell_type": "code",
   "execution_count": 13,
   "metadata": {},
   "outputs": [],
   "source": [
    "time.sleep(10)\n",
    "distance = 200\n",
    "while distance > 0:\n",
    "    pyautogui.drag(distance, 0, duration=0.5)   # move right\n",
    "    distance -= 5\n",
    "    pyautogui.drag(0, distance, duration=0.5)   # move down\n",
    "    pyautogui.drag(-distance, 0, duration=0.5)  # move left\n",
    "    distance -= 5\n",
    "    pyautogui.drag(0, -distance, duration=0.5)  # move up\n"
   ]
  },
  {
   "cell_type": "code",
   "execution_count": null,
   "metadata": {},
   "outputs": [],
   "source": [
    "pyg.drag()"
   ]
  }
 ],
 "metadata": {
  "kernelspec": {
   "display_name": "Python 3",
   "language": "python",
   "name": "python3"
  },
  "language_info": {
   "codemirror_mode": {
    "name": "ipython",
    "version": 3
   },
   "file_extension": ".py",
   "mimetype": "text/x-python",
   "name": "python",
   "nbconvert_exporter": "python",
   "pygments_lexer": "ipython3",
   "version": "3.8.5"
  }
 },
 "nbformat": 4,
 "nbformat_minor": 4
}
