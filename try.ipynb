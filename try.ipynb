{
 "cells": [
  {
   "cell_type": "code",
   "execution_count": 1,
   "metadata": {},
   "outputs": [
    {
     "name": "stdout",
     "output_type": "stream",
     "text": [
      "for rolling the dice press enter and spacebar & Enter to exit:  \n",
      "Game End\n"
     ]
    }
   ],
   "source": [
    "import random\n",
    "\n",
    "def play():\n",
    "    while True:\n",
    "        ans=input(\"for rolling the dice press enter and spacebar & Enter to exit: \")\n",
    "        if ans==\"\":\n",
    "            print(random.randrange(1,7))\n",
    "        elif ans==\" \":\n",
    "            print(\"Game End\")\n",
    "            break\n",
    "        else:\n",
    "            print(\"not a valid operation please press 'Enter' or 'SpaceBar & Enter'\")\n",
    "game=play()\n"
   ]
  },
  {
   "cell_type": "code",
   "execution_count": 1,
   "metadata": {},
   "outputs": [],
   "source": [
    "import myapp"
   ]
  },
  {
   "cell_type": "code",
   "execution_count": 2,
   "metadata": {},
   "outputs": [
    {
     "ename": "JSONDecodeError",
     "evalue": "Expecting value: line 1 column 1 (char 0)",
     "output_type": "error",
     "traceback": [
      "\u001b[1;31m---------------------------------------------------------------------------\u001b[0m",
      "\u001b[1;31mJSONDecodeError\u001b[0m                           Traceback (most recent call last)",
      "\u001b[1;32m<ipython-input-2-4f2230d44085>\u001b[0m in \u001b[0;36m<module>\u001b[1;34m\u001b[0m\n\u001b[1;32m----> 1\u001b[1;33m \u001b[0mmyapp\u001b[0m\u001b[1;33m.\u001b[0m\u001b[0msend_app\u001b[0m\u001b[1;33m(\u001b[0m\u001b[1;33m)\u001b[0m\u001b[1;33m\u001b[0m\u001b[1;33m\u001b[0m\u001b[0m\n\u001b[0m",
      "\u001b[1;32m~\\OneDrive\\Desktop\\Pythonfiles\\myapp.py\u001b[0m in \u001b[0;36msend_app\u001b[1;34m()\u001b[0m\n\u001b[0;32m     13\u001b[0m     \u001b[0mjson_data\u001b[0m\u001b[1;33m=\u001b[0m\u001b[0mjson\u001b[0m\u001b[1;33m.\u001b[0m\u001b[0mdumps\u001b[0m\u001b[1;33m(\u001b[0m\u001b[0mdata\u001b[0m\u001b[1;33m)\u001b[0m\u001b[1;33m\u001b[0m\u001b[1;33m\u001b[0m\u001b[0m\n\u001b[0;32m     14\u001b[0m     \u001b[0mr\u001b[0m\u001b[1;33m=\u001b[0m\u001b[0mrequests\u001b[0m\u001b[1;33m.\u001b[0m\u001b[0mpost\u001b[0m\u001b[1;33m(\u001b[0m\u001b[0murl\u001b[0m\u001b[1;33m=\u001b[0m\u001b[0mURL\u001b[0m\u001b[1;33m,\u001b[0m\u001b[0mdata\u001b[0m\u001b[1;33m=\u001b[0m\u001b[0mjson_data\u001b[0m\u001b[1;33m)\u001b[0m\u001b[1;33m\u001b[0m\u001b[1;33m\u001b[0m\u001b[0m\n\u001b[1;32m---> 15\u001b[1;33m     \u001b[0mdata\u001b[0m\u001b[1;33m=\u001b[0m\u001b[0mr\u001b[0m\u001b[1;33m.\u001b[0m\u001b[0mjson\u001b[0m\u001b[1;33m(\u001b[0m\u001b[1;33m)\u001b[0m\u001b[1;33m\u001b[0m\u001b[1;33m\u001b[0m\u001b[0m\n\u001b[0m\u001b[0;32m     16\u001b[0m     \u001b[0mprint\u001b[0m\u001b[1;33m(\u001b[0m\u001b[0mdata\u001b[0m\u001b[1;33m)\u001b[0m\u001b[1;33m\u001b[0m\u001b[1;33m\u001b[0m\u001b[0m\n\u001b[0;32m     17\u001b[0m \u001b[1;33m\u001b[0m\u001b[0m\n",
      "\u001b[1;32m~\\anaconda3\\lib\\site-packages\\requests\\models.py\u001b[0m in \u001b[0;36mjson\u001b[1;34m(self, **kwargs)\u001b[0m\n\u001b[0;32m    896\u001b[0m                     \u001b[1;31m# used.\u001b[0m\u001b[1;33m\u001b[0m\u001b[1;33m\u001b[0m\u001b[1;33m\u001b[0m\u001b[0m\n\u001b[0;32m    897\u001b[0m                     \u001b[1;32mpass\u001b[0m\u001b[1;33m\u001b[0m\u001b[1;33m\u001b[0m\u001b[0m\n\u001b[1;32m--> 898\u001b[1;33m         \u001b[1;32mreturn\u001b[0m \u001b[0mcomplexjson\u001b[0m\u001b[1;33m.\u001b[0m\u001b[0mloads\u001b[0m\u001b[1;33m(\u001b[0m\u001b[0mself\u001b[0m\u001b[1;33m.\u001b[0m\u001b[0mtext\u001b[0m\u001b[1;33m,\u001b[0m \u001b[1;33m**\u001b[0m\u001b[0mkwargs\u001b[0m\u001b[1;33m)\u001b[0m\u001b[1;33m\u001b[0m\u001b[1;33m\u001b[0m\u001b[0m\n\u001b[0m\u001b[0;32m    899\u001b[0m \u001b[1;33m\u001b[0m\u001b[0m\n\u001b[0;32m    900\u001b[0m     \u001b[1;33m@\u001b[0m\u001b[0mproperty\u001b[0m\u001b[1;33m\u001b[0m\u001b[1;33m\u001b[0m\u001b[0m\n",
      "\u001b[1;32m~\\anaconda3\\lib\\json\\__init__.py\u001b[0m in \u001b[0;36mloads\u001b[1;34m(s, cls, object_hook, parse_float, parse_int, parse_constant, object_pairs_hook, **kw)\u001b[0m\n\u001b[0;32m    355\u001b[0m             \u001b[0mparse_int\u001b[0m \u001b[1;32mis\u001b[0m \u001b[1;32mNone\u001b[0m \u001b[1;32mand\u001b[0m \u001b[0mparse_float\u001b[0m \u001b[1;32mis\u001b[0m \u001b[1;32mNone\u001b[0m \u001b[1;32mand\u001b[0m\u001b[1;33m\u001b[0m\u001b[1;33m\u001b[0m\u001b[0m\n\u001b[0;32m    356\u001b[0m             parse_constant is None and object_pairs_hook is None and not kw):\n\u001b[1;32m--> 357\u001b[1;33m         \u001b[1;32mreturn\u001b[0m \u001b[0m_default_decoder\u001b[0m\u001b[1;33m.\u001b[0m\u001b[0mdecode\u001b[0m\u001b[1;33m(\u001b[0m\u001b[0ms\u001b[0m\u001b[1;33m)\u001b[0m\u001b[1;33m\u001b[0m\u001b[1;33m\u001b[0m\u001b[0m\n\u001b[0m\u001b[0;32m    358\u001b[0m     \u001b[1;32mif\u001b[0m \u001b[0mcls\u001b[0m \u001b[1;32mis\u001b[0m \u001b[1;32mNone\u001b[0m\u001b[1;33m:\u001b[0m\u001b[1;33m\u001b[0m\u001b[1;33m\u001b[0m\u001b[0m\n\u001b[0;32m    359\u001b[0m         \u001b[0mcls\u001b[0m \u001b[1;33m=\u001b[0m \u001b[0mJSONDecoder\u001b[0m\u001b[1;33m\u001b[0m\u001b[1;33m\u001b[0m\u001b[0m\n",
      "\u001b[1;32m~\\anaconda3\\lib\\json\\decoder.py\u001b[0m in \u001b[0;36mdecode\u001b[1;34m(self, s, _w)\u001b[0m\n\u001b[0;32m    335\u001b[0m \u001b[1;33m\u001b[0m\u001b[0m\n\u001b[0;32m    336\u001b[0m         \"\"\"\n\u001b[1;32m--> 337\u001b[1;33m         \u001b[0mobj\u001b[0m\u001b[1;33m,\u001b[0m \u001b[0mend\u001b[0m \u001b[1;33m=\u001b[0m \u001b[0mself\u001b[0m\u001b[1;33m.\u001b[0m\u001b[0mraw_decode\u001b[0m\u001b[1;33m(\u001b[0m\u001b[0ms\u001b[0m\u001b[1;33m,\u001b[0m \u001b[0midx\u001b[0m\u001b[1;33m=\u001b[0m\u001b[0m_w\u001b[0m\u001b[1;33m(\u001b[0m\u001b[0ms\u001b[0m\u001b[1;33m,\u001b[0m \u001b[1;36m0\u001b[0m\u001b[1;33m)\u001b[0m\u001b[1;33m.\u001b[0m\u001b[0mend\u001b[0m\u001b[1;33m(\u001b[0m\u001b[1;33m)\u001b[0m\u001b[1;33m)\u001b[0m\u001b[1;33m\u001b[0m\u001b[1;33m\u001b[0m\u001b[0m\n\u001b[0m\u001b[0;32m    338\u001b[0m         \u001b[0mend\u001b[0m \u001b[1;33m=\u001b[0m \u001b[0m_w\u001b[0m\u001b[1;33m(\u001b[0m\u001b[0ms\u001b[0m\u001b[1;33m,\u001b[0m \u001b[0mend\u001b[0m\u001b[1;33m)\u001b[0m\u001b[1;33m.\u001b[0m\u001b[0mend\u001b[0m\u001b[1;33m(\u001b[0m\u001b[1;33m)\u001b[0m\u001b[1;33m\u001b[0m\u001b[1;33m\u001b[0m\u001b[0m\n\u001b[0;32m    339\u001b[0m         \u001b[1;32mif\u001b[0m \u001b[0mend\u001b[0m \u001b[1;33m!=\u001b[0m \u001b[0mlen\u001b[0m\u001b[1;33m(\u001b[0m\u001b[0ms\u001b[0m\u001b[1;33m)\u001b[0m\u001b[1;33m:\u001b[0m\u001b[1;33m\u001b[0m\u001b[1;33m\u001b[0m\u001b[0m\n",
      "\u001b[1;32m~\\anaconda3\\lib\\json\\decoder.py\u001b[0m in \u001b[0;36mraw_decode\u001b[1;34m(self, s, idx)\u001b[0m\n\u001b[0;32m    353\u001b[0m             \u001b[0mobj\u001b[0m\u001b[1;33m,\u001b[0m \u001b[0mend\u001b[0m \u001b[1;33m=\u001b[0m \u001b[0mself\u001b[0m\u001b[1;33m.\u001b[0m\u001b[0mscan_once\u001b[0m\u001b[1;33m(\u001b[0m\u001b[0ms\u001b[0m\u001b[1;33m,\u001b[0m \u001b[0midx\u001b[0m\u001b[1;33m)\u001b[0m\u001b[1;33m\u001b[0m\u001b[1;33m\u001b[0m\u001b[0m\n\u001b[0;32m    354\u001b[0m         \u001b[1;32mexcept\u001b[0m \u001b[0mStopIteration\u001b[0m \u001b[1;32mas\u001b[0m \u001b[0merr\u001b[0m\u001b[1;33m:\u001b[0m\u001b[1;33m\u001b[0m\u001b[1;33m\u001b[0m\u001b[0m\n\u001b[1;32m--> 355\u001b[1;33m             \u001b[1;32mraise\u001b[0m \u001b[0mJSONDecodeError\u001b[0m\u001b[1;33m(\u001b[0m\u001b[1;34m\"Expecting value\"\u001b[0m\u001b[1;33m,\u001b[0m \u001b[0ms\u001b[0m\u001b[1;33m,\u001b[0m \u001b[0merr\u001b[0m\u001b[1;33m.\u001b[0m\u001b[0mvalue\u001b[0m\u001b[1;33m)\u001b[0m \u001b[1;32mfrom\u001b[0m \u001b[1;32mNone\u001b[0m\u001b[1;33m\u001b[0m\u001b[1;33m\u001b[0m\u001b[0m\n\u001b[0m\u001b[0;32m    356\u001b[0m         \u001b[1;32mreturn\u001b[0m \u001b[0mobj\u001b[0m\u001b[1;33m,\u001b[0m \u001b[0mend\u001b[0m\u001b[1;33m\u001b[0m\u001b[1;33m\u001b[0m\u001b[0m\n",
      "\u001b[1;31mJSONDecodeError\u001b[0m: Expecting value: line 1 column 1 (char 0)"
     ]
    }
   ],
   "source": [
    "myapp.send_app()"
   ]
  },
  {
   "cell_type": "code",
   "execution_count": 16,
   "metadata": {},
   "outputs": [],
   "source": [
    "import requests\n",
    "import json\n",
    "\n",
    "URL='http://127.0.0.1:8000/api/editdata/'\n",
    "data={'name':'test','fname':'test','age':100,'email':'owaisali@gmail.com'}\n",
    "json_data=json.dumps(data)\n",
    "r=requests.post(url=URL,data=json_data)\n",
    "\n"
   ]
  },
  {
   "cell_type": "code",
   "execution_count": 2,
   "metadata": {},
   "outputs": [
    {
     "name": "stdout",
     "output_type": "stream",
     "text": [
      "Enter: num\n",
      "['1', '2', '3', '4', '5', '6', '7']\n"
     ]
    }
   ],
   "source": [
    "num=['1','2','3','4','5','6','7']\n",
    "num1=[1,2,3,4,5,6,7,8,9,0]\n",
    "a=input(\"Enter: \").lower()\n",
    "if a==\"num\":\n",
    "    a=num\n",
    "    print(a)\n",
    "elif a==\"num1\":\n",
    "    a=num1\n",
    "    print(a)\n",
    "    "
   ]
  },
  {
   "cell_type": "code",
   "execution_count": 3,
   "metadata": {},
   "outputs": [
    {
     "name": "stdout",
     "output_type": "stream",
     "text": [
      "names are1=owais\n",
      "names are2=uzair\n",
      "names are3=usaid\n",
      "names are4=humaid\n",
      "enter: owais\n"
     ]
    }
   ],
   "source": [
    "name=[\"owais\",'uzair','usaid','humaid']\n",
    "for i in range(1,len(name)+1):\n",
    "    a=(f\"{i}={name[i-1]}\")\n",
    "    print(\"names are\"+a)\n",
    "an=input(\"enter: \")\n",
    "if an in a:\n",
    "    print (\"yes\")\n"
   ]
  },
  {
   "cell_type": "code",
   "execution_count": 4,
   "metadata": {},
   "outputs": [
    {
     "name": "stdout",
     "output_type": "stream",
     "text": [
      "Are you ready for game enter '1' for yes and '0' for exit: 0\n",
      "Good Bye\n"
     ]
    }
   ],
   "source": [
    "import random as rd\n",
    "RED=[\"Red 1\",\"Red 2\",\"Red 3\",\"Red 4\"]\n",
    "GREEN=[\"Green 1\",\"Green 2\",\"Green 3\",\"Green 4\"]\n",
    "YELLOW=[\"Yellow 1\",\"Yellow 2\",\"Yellow 3\",\"Yellow 4\"]\n",
    "BLUE=[\"Blue 1\",\"Blue 2\",\"Blue 3\",\"Blue 4\"]\n",
    "Red=[]\n",
    "Green=[]\n",
    "Yellow=[]\n",
    "Blue=[]\n",
    "def play():\n",
    "    choice=input(\"Are you ready for game enter '1' for yes and '0' for exit: \")\n",
    "    if choice=='0':\n",
    "        return print(\"Good Bye\")\n",
    "    elif choice=='1':\n",
    "        print(\"Wellcome to fun land\".upper().center(100,\"*\"))\n",
    "        paly_with=input(\"You want to play against human or computer: \")\n",
    "        \n",
    "    else:\n",
    "        print(\"Not valid key please enter '1' or '0\")\n",
    "        play()\n",
    "play()"
   ]
  },
  {
   "cell_type": "code",
   "execution_count": 5,
   "metadata": {},
   "outputs": [
    {
     "name": "stdout",
     "output_type": "stream",
     "text": [
      "Are you ready for game enter '1' for yes and '0' for exit: 0\n",
      "Good Bye\n"
     ]
    }
   ],
   "source": [
    "import random as rd\n",
    "RED=[\"Red 1\",\"Red 2\",\"Red 3\",\"Red 4\"]\n",
    "GREEN=[\"Green 1\",\"Green 2\",\"Green 3\",\"Green 4\"]\n",
    "YELLOW=[\"Yellow 1\",\"Yellow 2\",\"Yellow 3\",\"Yellow 4\"]\n",
    "BLUE=[\"Blue 1\",\"Blue 2\",\"Blue 3\",\"Blue 4\"]\n",
    "Red=[]\n",
    "Green=[]\n",
    "Yellow=[]\n",
    "Blue=[]\n",
    "def play():\n",
    "    choice=input(\"Are you ready for game enter '1' for yes and '0' for exit: \")\n",
    "    if choice=='0':\n",
    "        return print(\"Good Bye\")\n",
    "    elif choice=='1':\n",
    "        print(\"Wellcome to fun land\".upper().center(100,\"*\"))\n",
    "        print(\"Follow the instructions to play and press '0' to exit at any point\".title())\n",
    "        while True:\n",
    "            play_with=input(\"Enter 'H' to play against human \\nEnter 'C' to play against computer: \")\n",
    "            if play_with=='0':\n",
    "                break\n",
    "                exit()\n",
    "            elif play_with=='C':\n",
    "                                       \n",
    "                        \n",
    "    else:\n",
    "        print(\"Not valid\")\n",
    "        play()\n",
    "play()"
   ]
  },
  {
   "cell_type": "code",
   "execution_count": 10,
   "metadata": {},
   "outputs": [
    {
     "name": "stdout",
     "output_type": "stream",
     "text": [
      "Play As: 0\n",
      "Good Bye\n"
     ]
    }
   ],
   "source": [
    "def with_comp():\n",
    "    color=input(\"Play As: \").upper()\n",
    "    if color==\"0\":\n",
    "        print(\"Good Bye\")\n",
    "        exit()\n",
    "        #print(f\"your tokens are\"+{color})\n",
    "    elif color=='RED':        \n",
    "        print(\"Your tokens are \",RED )\n",
    "        print(\"Computer play as Yellow\")\n",
    "        print(\"Computer tokens are\",YELLOW)\n",
    "        comp_color=YELLOW\n",
    "        color1=Red\n",
    "        color2=Yellow\n",
    "        color3=Blue\n",
    "        color4=Green \n",
    "    elif color==\"BLUE\":\n",
    "        color=BLUE\n",
    "        comp_color=GREEN\n",
    "        color1=Blue\n",
    "        color2=Green\n",
    "        color3=Red\n",
    "        color4=Yellow\n",
    "        print(\"Computer play as Red\")\n",
    "        print(\"Your tokens are \",color)\n",
    "        print(\"Computer tokens are\",comp_color)\n",
    "    elif color=='GREEN':\n",
    "        color=GREEN\n",
    "        comp_color=BLUE\n",
    "        color1=Green\n",
    "        color2=Blue\n",
    "        color3=Red\n",
    "        color4=Yellow\n",
    "        print(\"Computer play as Yellow\")\n",
    "        print(\"Your tokens are \",GREEN )\n",
    "        print(\"Computer tokens are\",comp_color)\n",
    "    elif color==\"YELLOW\":\n",
    "        color=YELLOW\n",
    "        comp_color=RED\n",
    "        color1=Yellow\n",
    "        color2=Red\n",
    "        color3=Green\n",
    "        color4=Blue\n",
    "        print(\"Computer play as Green\")\n",
    "        print(\"Your tokens are \",YELLOW )\n",
    "    else:\n",
    "        print(\"Please chose 'Red' , 'Green' , 'Yellow' or 'Blue'\")\n",
    "        with_comp()\n",
    "        while True:\n",
    "            H_turn=input(\"Your Turn For Roll the Dice press Enter: \".title())\n",
    "            if H_turn==\"0\":\n",
    "                break\n",
    "                exit()\n",
    "            elif H_turn==\"\":\n",
    "                roll=rd.randrange(1,7)\n",
    "                print(roll)\n",
    "                if roll==6:\n",
    "                            #print(f\"Token no are \\n(1={color[0]},2={color[1]},3={color[2]},4={color[3]})\")\n",
    "                    while True:\n",
    "                        Tk_no=int(input(\"Enter The Token no of which you want to take out: \"))\n",
    "                        if Tk_no==0:\n",
    "                            a=input(\"If you leave the game as result you will lose the game\\nYes or No: \")\n",
    "                            if a=='Yes':\n",
    "                            break\n",
    "                            exit()\n",
    "                        elif Tk_no>0 and Tk_no<=4:\n",
    "                            PoP_Tk=color.pop(Tk_no-1)\n",
    "                            color1.insert(0,PoP_Tk)\n",
    "                            print(color1)\n",
    "                            break\n",
    "            else:\n",
    "                print(\"Not Valid operation for rolling the dice\".title())\n",
    "with_comp()"
   ]
  },
  {
   "cell_type": "code",
   "execution_count": 3,
   "metadata": {
    "scrolled": true
   },
   "outputs": [],
   "source": [
    "with open('./OneDrive/Desktop/Owais HTML/first.html', mode='r') as pic:\n",
    "    a=pic.read()"
   ]
  },
  {
   "cell_type": "code",
   "execution_count": 13,
   "metadata": {},
   "outputs": [
    {
     "name": "stdout",
     "output_type": "stream",
     "text": [
      "After local assignment: test spam\n",
      "After nonlocal assignment: nonlocal spam\n",
      "After global assignment: nonlocal spam\n",
      "In global scope: global spam\n"
     ]
    }
   ],
   "source": [
    "def scope_test():\n",
    "    def do_local():\n",
    "        spam = \"local spam\"\n",
    "\n",
    "    def do_nonlocal():\n",
    "        nonlocal spam\n",
    "        spam = \"nonlocal spam\"\n",
    "\n",
    "    def do_global():\n",
    "        global spam\n",
    "        spam = \"global spam\"\n",
    "\n",
    "    spam = \"test spam\"\n",
    "    do_local()\n",
    "    print(\"After local assignment:\", spam)\n",
    "    do_nonlocal()\n",
    "    print(\"After nonlocal assignment:\", spam)\n",
    "    do_global()\n",
    "    print(\"After global assignment:\", spam)\n",
    "\n",
    "scope_test()\n",
    "print(\"In global scope:\", spam)"
   ]
  },
  {
   "cell_type": "code",
   "execution_count": 14,
   "metadata": {},
   "outputs": [
    {
     "name": "stdout",
     "output_type": "stream",
     "text": [
      "After local assignment: test spam\n",
      "After nonlocal assignment: nonlocal spam\n",
      "After global assignment: nonlocal spam\n"
     ]
    }
   ],
   "source": [
    "scope_test()"
   ]
  },
  {
   "cell_type": "code",
   "execution_count": 35,
   "metadata": {},
   "outputs": [],
   "source": [
    "def test(int):\n",
    "    call=123\n",
    "    def testing(int):\n",
    "        nonlocal call\n",
    "        call=call-int\n",
    "        return call\n",
    "    return testing(int)"
   ]
  },
  {
   "cell_type": "code",
   "execution_count": 36,
   "metadata": {},
   "outputs": [
    {
     "data": {
      "text/plain": [
       "23"
      ]
     },
     "execution_count": 36,
     "metadata": {},
     "output_type": "execute_result"
    }
   ],
   "source": [
    "test(100)"
   ]
  },
  {
   "cell_type": "code",
   "execution_count": 37,
   "metadata": {},
   "outputs": [
    {
     "data": {
      "text/plain": [
       "100"
      ]
     },
     "execution_count": 37,
     "metadata": {},
     "output_type": "execute_result"
    }
   ],
   "source": [
    "test(23)"
   ]
  },
  {
   "cell_type": "code",
   "execution_count": 38,
   "metadata": {},
   "outputs": [],
   "source": [
    "del test"
   ]
  },
  {
   "cell_type": "code",
   "execution_count": 80,
   "metadata": {},
   "outputs": [],
   "source": [
    "def func(int):\n",
    "    ammount=5000\n",
    "    count=0\n",
    "    if count>=3:\n",
    "        return print(\"error\")\n",
    "    def todaydraw(int):\n",
    "        nonlocal count\n",
    "        if count<3:\n",
    "            nonlocal ammount\n",
    "            ammount=ammount-int\n",
    "            return ammount\n",
    "        else:\n",
    "            return print(\"you can't call more then three times\")\n",
    "    count=count+1\n",
    "    ammount=todaydraw(int)\n",
    "    return ammount,count\n",
    "        \n",
    "        \n"
   ]
  },
  {
   "cell_type": "code",
   "execution_count": 81,
   "metadata": {},
   "outputs": [
    {
     "data": {
      "text/plain": [
       "(4910, 1)"
      ]
     },
     "execution_count": 81,
     "metadata": {},
     "output_type": "execute_result"
    }
   ],
   "source": [
    "func(90)"
   ]
  },
  {
   "cell_type": "code",
   "execution_count": 82,
   "metadata": {},
   "outputs": [
    {
     "data": {
      "text/plain": [
       "(4900, 1)"
      ]
     },
     "execution_count": 82,
     "metadata": {},
     "output_type": "execute_result"
    }
   ],
   "source": [
    "a=func(100)\n",
    "a"
   ]
  },
  {
   "cell_type": "code",
   "execution_count": 83,
   "metadata": {},
   "outputs": [
    {
     "data": {
      "text/plain": [
       "(4800, 1)"
      ]
     },
     "execution_count": 83,
     "metadata": {},
     "output_type": "execute_result"
    }
   ],
   "source": [
    "b=func(200)\n",
    "b"
   ]
  },
  {
   "cell_type": "code",
   "execution_count": 84,
   "metadata": {},
   "outputs": [],
   "source": [
    "c=func(877)"
   ]
  },
  {
   "cell_type": "code",
   "execution_count": 77,
   "metadata": {},
   "outputs": [],
   "source": [
    "d=func(455)"
   ]
  },
  {
   "cell_type": "code",
   "execution_count": 56,
   "metadata": {},
   "outputs": [],
   "source": [
    "def fun():\n",
    "    ammount=5000\n",
    "    count=0\n",
    "    if count<3:\n",
    "        def inner_fun():\n",
    "            chance=print(\"you have just three chance\")\n",
    "            return chance\n",
    "        count=count+1\n",
    "        return inner_fun()\n",
    "    else:\n",
    "        prnt=print(\"you blody fucking nonsence i told you thousand times that yoyu have only three chance you blody fucking basterd!\")\n",
    "        return prnt\n",
    "        "
   ]
  },
  {
   "cell_type": "code",
   "execution_count": 57,
   "metadata": {},
   "outputs": [
    {
     "name": "stdout",
     "output_type": "stream",
     "text": [
      "you have just three chance\n"
     ]
    }
   ],
   "source": [
    "x=fun()"
   ]
  },
  {
   "cell_type": "code",
   "execution_count": 61,
   "metadata": {},
   "outputs": [
    {
     "name": "stdout",
     "output_type": "stream",
     "text": [
      "you have just three chance\n"
     ]
    }
   ],
   "source": [
    "x=fun()"
   ]
  },
  {
   "cell_type": "code",
   "execution_count": 59,
   "metadata": {},
   "outputs": [],
   "source": [
    "x"
   ]
  },
  {
   "cell_type": "code",
   "execution_count": 60,
   "metadata": {},
   "outputs": [],
   "source": [
    "x"
   ]
  },
  {
   "cell_type": "code",
   "execution_count": 1,
   "metadata": {},
   "outputs": [],
   "source": [
    "import myapp"
   ]
  },
  {
   "cell_type": "code",
   "execution_count": 7,
   "metadata": {
    "scrolled": false
   },
   "outputs": [
    {
     "name": "stdout",
     "output_type": "stream",
     "text": [
      "[{'name': 'Owais Ali Arshad', 'fname': 'Arshad ali', 'email': 'owais@.com', 'age': 18, 'adress': 'Karachi, Sindh, Pakistan', 'education': 'Intermediate', 'school': 'Islamia govt science collage'}, {'name': 'Uzair Ali Arshad', 'fname': 'Arshad ali', 'email': 'uzair.com', 'age': 17, 'adress': 'Karachi, Sindh, Pakistan', 'education': 'Matric', 'school': 'Iqra High School'}, {'name': 'Usaid Ullah Arshad', 'fname': 'Arshad ali', 'email': 'usaid.com', 'age': 12, 'adress': 'Karachi, Sindh, Pakistan', 'education': 'Primary', 'school': 'Native School'}, {'name': 'Humaid Ullah Arshad', 'fname': 'Arshad ali', 'email': 'Humaid.com', 'age': 7, 'adress': 'Karachi, Sindh, Pakistan', 'education': 'KG', 'school': 'Usman Public School'}]\n"
     ]
    }
   ],
   "source": [
    "myapp.app()"
   ]
  },
  {
   "cell_type": "code",
   "execution_count": 4,
   "metadata": {},
   "outputs": [
    {
     "data": {
      "text/plain": [
       "4"
      ]
     },
     "execution_count": 4,
     "metadata": {},
     "output_type": "execute_result"
    }
   ],
   "source": [
    "myapp.application('loudo.py')"
   ]
  },
  {
   "cell_type": "code",
   "execution_count": null,
   "metadata": {},
   "outputs": [],
   "source": []
  }
 ],
 "metadata": {
  "kernelspec": {
   "display_name": "Python 3",
   "language": "python",
   "name": "python3"
  },
  "language_info": {
   "codemirror_mode": {
    "name": "ipython",
    "version": 3
   },
   "file_extension": ".py",
   "mimetype": "text/x-python",
   "name": "python",
   "nbconvert_exporter": "python",
   "pygments_lexer": "ipython3",
   "version": "3.8.5"
  }
 },
 "nbformat": 4,
 "nbformat_minor": 4
}
