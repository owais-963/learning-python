{
 "cells": [
  {
   "cell_type": "code",
   "execution_count": 1,
   "metadata": {},
   "outputs": [
    {
     "ename": "SyntaxError",
     "evalue": "invalid syntax (<ipython-input-1-51c582094446>, line 6)",
     "output_type": "error",
     "traceback": [
      "\u001b[1;36m  File \u001b[1;32m\"<ipython-input-1-51c582094446>\"\u001b[1;36m, line \u001b[1;32m6\u001b[0m\n\u001b[1;33m    Bill=A+A/1000\u001b[0m\n\u001b[1;37m       ^\u001b[0m\n\u001b[1;31mSyntaxError\u001b[0m\u001b[1;31m:\u001b[0m invalid syntax\n"
     ]
    }
   ],
   "source": [
    "NAME=input(\"Coustomer Name \")\n",
    "A=int(input(\"Amount \")\n",
    "\n",
    "          \n",
    "#if A<=50:\n",
    "     Bill=A+A/1000\n",
    "  #    print(\"Tip is 0.1%\")\n",
    "#if A<=200:\n",
    "     # Bill=A+A/500\n",
    "      #print(\"Tip is 0.2%\")\n",
    "if A>200:\n",
    "      Bill=A+A/100\n",
    "      print(\"Tip is 1%\")\n",
    "print(f\"Total Amount is {Bill}\")"
   ]
  },
  {
   "cell_type": "code",
   "execution_count": null,
   "metadata": {},
   "outputs": [],
   "source": [
    "a = True \n",
    "while a:\n",
    "    C=input(\" \")\n",
    "    if C != \"Bill\":\n",
    "        a = False\n",
    "        break\n",
    "    Name=input(\"costumer Name \")\n",
    "    s=int(input(\"Amount Recive = \"))\n",
    "    A=int(input(\"Bill = \"))\n",
    "    if A<=50:\n",
    "        B=A+A/1000\n",
    "        print(\"Tip is 0.1%\")\n",
    "    elif A<=200:\n",
    "        B=A+A/500\n",
    "        print(\"Tip is 0.2%\")\n",
    "    elif A>200:\n",
    "        B=A+A/100\n",
    "        print(\"Tip is 1%\")\n",
    "    c= s-B\n",
    "    print(f\"Amount Detected = {B}\")\n",
    "    print(f\"Amount Return = {c}\")"
   ]
  },
  {
   "cell_type": "code",
   "execution_count": 2,
   "metadata": {
    "scrolled": true
   },
   "outputs": [
    {
     "name": "stdout",
     "output_type": "stream",
     "text": [
      "Enter the year of day one s\n"
     ]
    },
    {
     "ename": "ValueError",
     "evalue": "invalid literal for int() with base 10: 's'",
     "output_type": "error",
     "traceback": [
      "\u001b[1;31m---------------------------------------------------------------------------\u001b[0m",
      "\u001b[1;31mValueError\u001b[0m                                Traceback (most recent call last)",
      "\u001b[1;32m<ipython-input-2-4b03368b4188>\u001b[0m in \u001b[0;36m<module>\u001b[1;34m\u001b[0m\n\u001b[0;32m      1\u001b[0m \u001b[1;31m#### Python program to calculate number of days between two dates\u001b[0m\u001b[1;33m\u001b[0m\u001b[1;33m\u001b[0m\u001b[1;33m\u001b[0m\u001b[0m\n\u001b[0;32m      2\u001b[0m \u001b[1;33m\u001b[0m\u001b[0m\n\u001b[1;32m----> 3\u001b[1;33m \u001b[0ma1\u001b[0m\u001b[1;33m=\u001b[0m\u001b[0mint\u001b[0m\u001b[1;33m(\u001b[0m\u001b[0minput\u001b[0m\u001b[1;33m(\u001b[0m\u001b[1;34m\"Enter the year of day one \"\u001b[0m\u001b[1;33m)\u001b[0m\u001b[1;33m)\u001b[0m\u001b[1;33m\u001b[0m\u001b[1;33m\u001b[0m\u001b[0m\n\u001b[0m\u001b[0;32m      4\u001b[0m \u001b[0mb1\u001b[0m\u001b[1;33m=\u001b[0m\u001b[0mint\u001b[0m\u001b[1;33m(\u001b[0m\u001b[0minput\u001b[0m\u001b[1;33m(\u001b[0m\u001b[1;34m\"Enter the month of day one \"\u001b[0m\u001b[1;33m)\u001b[0m\u001b[1;33m)\u001b[0m\u001b[1;33m\u001b[0m\u001b[1;33m\u001b[0m\u001b[0m\n\u001b[0;32m      5\u001b[0m \u001b[0mc1\u001b[0m\u001b[1;33m=\u001b[0m\u001b[0mint\u001b[0m\u001b[1;33m(\u001b[0m\u001b[0minput\u001b[0m\u001b[1;33m(\u001b[0m\u001b[1;34m\"Enter the date of day one \"\u001b[0m\u001b[1;33m)\u001b[0m\u001b[1;33m)\u001b[0m\u001b[1;33m\u001b[0m\u001b[1;33m\u001b[0m\u001b[0m\n",
      "\u001b[1;31mValueError\u001b[0m: invalid literal for int() with base 10: 's'"
     ]
    }
   ],
   "source": [
    "#### Python program to calculate number of days between two dates\n",
    "\n",
    "a1=int(input(\"Enter the year of day one \"))\n",
    "b1=int(input(\"Enter the month of day one \"))\n",
    "c1=int(input(\"Enter the date of day one \"))\n",
    "a2=int(input(\"Enter the year of last day \"))\n",
    "b2=int(input(\"Enter the month of last day \"))\n",
    "c2=int(input(\"Enter the date of last day \"))\n",
    "from datetime import date\n",
    "fdate= date(a1,b1,c1)\n",
    "ldate= date(a2,b2,c2)\n",
    "daybetw= fdate-ldate\n",
    "print(daybetw)"
   ]
  },
  {
   "cell_type": "code",
   "execution_count": null,
   "metadata": {},
   "outputs": [],
   "source": [
    "a=int(input(\"Enter the Year \"))\n",
    "b=int(input(\"Enter the Month and for whole year clander Enter 0 \"))\n",
    "import calendar\n",
    "if b==0:\n",
    "    print(calendar.calendar(a))\n",
    "if b>0:\n",
    "    print(calender.month(a,b))"
   ]
  },
  {
   "cell_type": "code",
   "execution_count": null,
   "metadata": {},
   "outputs": [],
   "source": [
    "\n",
    "\n",
    "a1=int(input(\"Enter the year of day one \"))\n",
    "b1=int(input(\"Enter the month of day one \"))\n",
    "c1=int(input(\"Enter the date of day one \"))\n",
    "a2=int(input(\"Enter the year of last day \"))\n",
    "b2=int(input(\"Enter the month of last day \"))\n",
    "c2=int(input(\"Enter the date of last day \"))\n",
    "from datetime import date\n",
    "fdate= date(a1,b1,c1)\n",
    "ldate= date(a2,b2,c2)\n",
    "daybetw= fdate-ldate\n",
    "#years=daybetw\n",
    "#if \n",
    "print(f\"you are {daybetw} old\")"
   ]
  },
  {
   "cell_type": "code",
   "execution_count": null,
   "metadata": {},
   "outputs": [],
   "source": [
    "######8.\tWrite a Python program to get a string which is n (non-negative integer) copies of a given string\n",
    "A=input(\"Enter an string \")\n",
    "B=int(input(\"Enter an non negative integer \"))\n",
    "for a in range(B):\n",
    "    print(A)"
   ]
  },
  {
   "cell_type": "code",
   "execution_count": 8,
   "metadata": {},
   "outputs": [
    {
     "name": "stdout",
     "output_type": "stream",
     "text": [
      "Hi!owais\n",
      "you are invite to a poll party\n",
      "Hi!ali\n",
      "you are invite to a poll party\n",
      "Hi!arshad\n",
      "you are invite to a poll party\n",
      "Hi!ahmed\n",
      "you are invite to a poll party\n",
      "Hi!john\n",
      "you are invite to a poll party\n",
      "Hi!nabeel\n",
      "you are invite to a poll party\n",
      "Hi!Huzaifa\n",
      "you are invite to a poll party\n",
      "Hi!moin\n",
      "you are invite to a poll party\n",
      "Hi!Afridi\n",
      "you are invite to a poll party\n",
      "Hi!asgar\n",
      "you are invite to a poll party\n",
      "Hi!yosuf\n",
      "you are invite to a poll party\n",
      "Hi!esa\n",
      "you are invite to a poll party\n"
     ]
    }
   ],
   "source": [
    "A=[\"owais\",\"ali\",\"arshad\",\"ahmed\",\"john\",\"nabeel\",\"Huzaifa\",\"moin\",\"Afridi\",\"asgar\",\"yosuf\",\"esa\"]\n",
    "for name in A:\n",
    "    print(f\"Hi!{name}\")\n",
    "    print(\"you are invite to a poll party\")\n"
   ]
  },
  {
   "cell_type": "code",
   "execution_count": 20,
   "metadata": {},
   "outputs": [
    {
     "name": "stdout",
     "output_type": "stream",
     "text": [
      "[4, 5]\n"
     ]
    }
   ],
   "source": [
    "f=[1,2,3]\n",
    "b=[1,2,3,4,5]\n",
    "c=list(set(b)-set(a))\n",
    "print(c)\n",
    "        \n"
   ]
  },
  {
   "cell_type": "code",
   "execution_count": 39,
   "metadata": {
    "scrolled": true
   },
   "outputs": [
    {
     "name": "stdout",
     "output_type": "stream",
     "text": [
      "3\n"
     ]
    }
   ],
   "source": [
    "with open(\"owais.txt\",\"w\")as file:\n",
    "    A=file.write(\"wtf\")\n",
    "print(A)"
   ]
  },
  {
   "cell_type": "code",
   "execution_count": 90,
   "metadata": {},
   "outputs": [
    {
     "data": {
      "text/plain": [
       "'\\nc=[]\\nd=[]\\ne=[]\\nf=[]\\ng=[]\\nh=[]\\nfor a in data:\\n    if a[0]==\"male\":\\n        c.append(a[3])\\n        male_mathscore=sum(c)\\n        d.append(a[4])\\n        male_readscore=sum(d)\\n        e.append(a[5])\\n        male_writescore=sum(e)\\n    if a[0]==\"female\":\\n        f.append(a[3])\\n        female_mathscore=sum(f)\\n        g.append(a[4])\\n        female_readscore=sum(g)\\n        h.append(a[5])\\n        female_writescore=sum(h)\\n    if a[1] == \"associate\\'s degree\":\\n        print(1)\\n    elif a[1]==\"master\\'s degree\":\\n        print(0.7)\\n    elif a[1]==\"bachelor\\'s degree\":\\n        print(0.65)\\n    elif a[1]==\"some collage\":\\n        print(0.6)\\n    elif a[1]==\"high school\":\\n        print(0.5)\\nTotal_male_score=male_mathscore+male_readscore+male_writescore\\nTotal_female_score=female_mathscore+female_readscore+female_writescore\\nprint(\"Male\\'s total score in Math\\'s is\",male_mathscore)\\nprint(\"Male\\'s total score in reading is\",male_readscore)\\nprint(\"Male\\'s total score in writing is\",male_writescore)\\nprint(\"Male\\'s total score is\",Total_male_score)\\nprint(\"Female\\'s total score in Math\\'s is\",female_mathscore)\\nprint(\"Female\\'s total score in reading is\",female_readscore)\\nprint(\"Female\\'s total score in writing is\",female_writescore)\\nprint(\"Female\\'s total score is\",Total_female_score)\\nprint(\"Number of Total Male candidate is\",len(c))\\nprint(\"Number of Total Female candidate is\",len(h))\\'\\'\\'\\n#for i in data:\\n'"
      ]
     },
     "execution_count": 90,
     "metadata": {},
     "output_type": "execute_result"
    }
   ],
   "source": [
    "# Input Data\n",
    "Labels = ['gender', 'parental level of education', 'test preparation course', 'math score', 'reading score', 'writing score'], \n",
    "Data = [ \n",
    "   ['female', \"bachelor's degree\", 'none', 72, 72, 74], \n",
    "  ['female', 'some college', 'completed', 69, 90, 88], \n",
    "  ['female', \"master's degree\", 'none', 90, 95, 93], \n",
    "  ['male', \"associate's degree\", 'none', 47, 57, 44], \n",
    "  ['male', 'some college', 'none', 76, 78, 75], \n",
    "  ['female', \"associate's degree\", 'none', 71, 83, 78], \n",
    "  ['female', 'some college', 'completed', 88, 95, 92], \n",
    "  ['male', 'some college', 'none', 40, 43, 39], \n",
    "  ['male', 'high school', 'completed', 64, 64, 67], \n",
    "  ['female', 'high school', 'none', 38, 60, 50], \n",
    "  ['male', \"associate's degree\", 'none', 58, 54, 52], \n",
    " ['male', \"associate's degree\", 'none', 40, 52, 43], \n",
    " ['female', 'high school', 'none', 65, 81, 73], \n",
    " ['male', 'some college', 'completed', 78, 72, 70], \n",
    " ['female', \"master's degree\", 'none', 50, 53, 58], \n",
    " ['female', 'high school', 'none', 69, 75, 78], \n",
    " ['male', 'high school', 'none', 88, 89, 86], \n",
    " ['female', 'high school', 'none', 18, 32, 28], \n",
    " ['male', \"master's degree\", 'completed', 46, 42, 46], \n",
    " ['female', \"associate's degree\", 'none', 54, 58, 61], \n",
    " ['male', 'high school', 'none', 66, 69, 63], \n",
    " ['female', 'some college', 'completed', 65, 75, 70], \n",
    " ['male', 'some college', 'none', 44, 54, 53], \n",
    " ['female', 'high school', 'none', 69, 73, 73], \n",
    " ['male', \"bachelor's degree\", 'completed', 74, 71, 80], \n",
    " ['male', \"master's degree\", 'none', 73, 74, 72], \n",
    " ['male', 'some college', 'none', 69, 54, 55], \n",
    " ['female', \"bachelor's degree\", 'none', 67, 69, 75], \n",
    " ['male', 'high school', 'none', 70, 70, 65], \n",
    " ['female', \"master's degree\", 'none', 62, 70, 75], \n",
    " ['female', 'some college', 'none', 69, 74, 74], \n",
    " ['female', 'some college', 'none', 63, 65, 61], \n",
    " ['female', \"master's degree\", 'none', 56, 72, 65], \n",
    " ['male', 'some college', 'none', 40, 42, 38], \n",
    " ['male', 'some college', 'none', 97, 87, 82], \n",
    " ['male', \"associate's degree\", 'completed', 81, 81, 79], \n",
    " ['female', \"associate's degree\", 'none', 74, 81, 83], \n",
    " ['female', 'high school', 'none', 50, 64, 59], \n",
    " ['female', \"associate's degree\", 'completed', 75, 90, 88], \n",
    "]\n",
    "#male_mathscore=0\n",
    "#male_readscore=0\n",
    "#male_writingscore=0\n",
    "\"\"\"\n",
    "c=[]\n",
    "d=[]\n",
    "e=[]\n",
    "f=[]\n",
    "g=[]\n",
    "h=[]\n",
    "for a in data:\n",
    "    if a[0]==\"male\":\n",
    "        c.append(a[3])\n",
    "        male_mathscore=sum(c)\n",
    "        d.append(a[4])\n",
    "        male_readscore=sum(d)\n",
    "        e.append(a[5])\n",
    "        male_writescore=sum(e)\n",
    "    if a[0]==\"female\":\n",
    "        f.append(a[3])\n",
    "        female_mathscore=sum(f)\n",
    "        g.append(a[4])\n",
    "        female_readscore=sum(g)\n",
    "        h.append(a[5])\n",
    "        female_writescore=sum(h)\n",
    "    if a[1] == \"associate's degree\":\n",
    "        print(1)\n",
    "    elif a[1]==\"master's degree\":\n",
    "        print(0.7)\n",
    "    elif a[1]==\"bachelor's degree\":\n",
    "        print(0.65)\n",
    "    elif a[1]==\"some collage\":\n",
    "        print(0.6)\n",
    "    elif a[1]==\"high school\":\n",
    "        print(0.5)\n",
    "Total_male_score=male_mathscore+male_readscore+male_writescore\n",
    "Total_female_score=female_mathscore+female_readscore+female_writescore\n",
    "print(\"Male's total score in Math's is\",male_mathscore)\n",
    "print(\"Male's total score in reading is\",male_readscore)\n",
    "print(\"Male's total score in writing is\",male_writescore)\n",
    "print(\"Male's total score is\",Total_male_score)\n",
    "print(\"Female's total score in Math's is\",female_mathscore)\n",
    "print(\"Female's total score in reading is\",female_readscore)\n",
    "print(\"Female's total score in writing is\",female_writescore)\n",
    "print(\"Female's total score is\",Total_female_score)\n",
    "print(\"Number of Total Male candidate is\",len(c))\n",
    "print(\"Number of Total Female candidate is\",len(h))'''\n",
    "#for i in data:\n",
    "\"\"\"\n",
    "    \n"
   ]
  },
  {
   "cell_type": "code",
   "execution_count": 113,
   "metadata": {},
   "outputs": [
    {
     "name": "stdout",
     "output_type": "stream",
     "text": [
      "selct score Column (3= math,4=reading 5= writing: 1\n",
      "Females Score Total = 883  Male Score Total = 729\n",
      "Famles performance is better than Males in  parental level of education\n",
      "Number parents who have master lavel education background is 6\n",
      "Number parents who have bachelor's lavel education background is 3\n",
      "Number parents who have some college lavel education background is 12\n"
     ]
    }
   ],
   "source": [
    "# Input Data\n",
    "Labels = ['gender', 'parental level of education', 'test preparation course', 'math score', 'reading score', 'writing score'], \n",
    "Data = [ \n",
    "   ['female', \"bachelor's degree\", 'none', 72, 72, 74], \n",
    "  ['female', 'some college', 'completed', 69, 90, 88], \n",
    "  ['female', \"master's degree\", 'none', 90, 95, 93], \n",
    "  ['male', \"associate's degree\", 'none', 47, 57, 44], \n",
    "  ['male', 'some college', 'none', 76, 78, 75], \n",
    "  ['female', \"associate's degree\", 'none', 71, 83, 78], \n",
    "  ['female', 'some college', 'completed', 88, 95, 92], \n",
    "  ['male', 'some college', 'none', 40, 43, 39], \n",
    "  ['male', 'high school', 'completed', 64, 64, 67], \n",
    "  ['female', 'high school', 'none', 38, 60, 50], \n",
    "  ['male', \"associate's degree\", 'none', 58, 54, 52], \n",
    " ['male', \"associate's degree\", 'none', 40, 52, 43], \n",
    " ['female', 'high school', 'none', 65, 81, 73], \n",
    " ['male', 'some college', 'completed', 78, 72, 70], \n",
    " ['female', \"master's degree\", 'none', 50, 53, 58], \n",
    " ['female', 'high school', 'none', 69, 75, 78], \n",
    " ['male', 'high school', 'none', 88, 89, 86], \n",
    " ['female', 'high school', 'none', 18, 32, 28], \n",
    " ['male', \"master's degree\", 'completed', 46, 42, 46], \n",
    " ['female', \"associate's degree\", 'none', 54, 58, 61], \n",
    " ['male', 'high school', 'none', 66, 69, 63], \n",
    " ['female', 'some college', 'completed', 65, 75, 70], \n",
    " ['male', 'some college', 'none', 44, 54, 53], \n",
    " ['female', 'high school', 'none', 69, 73, 73], \n",
    " ['male', \"bachelor's degree\", 'completed', 74, 71, 80], \n",
    " ['male', \"master's degree\", 'none', 73, 74, 72], \n",
    " ['male', 'some college', 'none', 69, 54, 55], \n",
    " ['female', \"bachelor's degree\", 'none', 67, 69, 75], \n",
    " ['male', 'high school', 'none', 70, 70, 65], \n",
    " ['female', \"master's degree\", 'none', 62, 70, 75], \n",
    " ['female', 'some college', 'none', 69, 74, 74], \n",
    " ['female', 'some college', 'none', 63, 65, 61], \n",
    " ['female', \"master's degree\", 'none', 56, 72, 65], \n",
    " ['male', 'some college', 'none', 40, 42, 38], \n",
    " ['male', 'some college', 'none', 97, 87, 82], \n",
    " ['male', \"associate's degree\", 'completed', 81, 81, 79], \n",
    " ['female', \"associate's degree\", 'none', 74, 81, 83], \n",
    " ['female', 'high school', 'none', 50, 64, 59], \n",
    " ['female', \"associate's degree\", 'completed', 75, 90, 88], \n",
    "]\n",
    "scoreColumn=int(input(\"selct score Column (1=parental level of education=3= math,4=reading 5= writing: \"))\n",
    "Bedu=[]\n",
    "Medu=[]\n",
    "Scollageedu=[]\n",
    "scoreSum=0\n",
    "maleSum=0\n",
    "femaleSum=0\n",
    "for i in data:\n",
    " #   if i[0]==\"male\":\n",
    "        if i[1] == \"associate's degree\":\n",
    "            scoreSum=scoreSum+5\n",
    "        elif i[1]==\"master's degree\":\n",
    "            scoreSum=scoreSum+4\n",
    "        elif i[1]==\"bachelor's degree\":\n",
    "            scoreSum=scoreSum+3\n",
    "        elif i[1]==\"some collage\":\n",
    "            scoreSum=2+scoreSum\n",
    "        elif i[1]==\"high school\":\n",
    "            scoreSum=1+scoreSum\n",
    "        if i[0]==\"male\":\n",
    "            maleSum= scoreSum+maleSum\n",
    "        else:\n",
    "            femaleSum= scoreSum+femaleSum\n",
    "    #elif i[0]==\"female\":\n",
    "     #   if i[1] == \"associate's degree\":\n",
    "     #       femaleSum+5\n",
    "     #   elif i[1]==\"master's degree\":\n",
    "      #      femaleSum+4\n",
    "      #  elif i[1]==\"bachelor's degree\":\n",
    "     #       femaleSum+3\n",
    "      #  elif i[1]==\"master's degree\":\n",
    "       #     femaleSum+2\n",
    "      #  elif i[1]==\"high school\":\n",
    "     #       femaleSum+1\n",
    "        if i[1]==\"bachelor's degree\":\n",
    "            Bedu.append(i[1])\n",
    "        elif i[1]==\"master's degree\":\n",
    "            Medu.append(i[1])\n",
    "        elif i[1]==\"some college\":\n",
    "             Scollageedu.append(i[1])\n",
    "#print(maleSum)\n",
    "#print(femaleSum)\n",
    "##############################################################################\n",
    "\n",
    "#Decision Making\n",
    "print(\"Females Score Total =\", femaleSum, \" Male Score Total =\", maleSum) \n",
    "\n",
    "if femaleSum > maleSum:\n",
    "    print(\"Famles performance is better than Males in \", labels[scoreColumn])\n",
    "elif femaleSum < maleSum:\n",
    "    print(\"Males performance is better than Females in \", labels[scoreColumn])\n",
    "else:\n",
    "    print(\"Same level of performance\", labels[scoreColumn])\n",
    "\n",
    "##################################################################################\n",
    "\n",
    "print(\"Number parents who have master lavel education background is\",len(Medu))\n",
    "print(\"Number parents who have bachelor's lavel education background is\",len(Bedu))\n",
    "print(\"Number parents who have some college lavel education background is\",len(Scollageedu))        "
   ]
  },
  {
   "cell_type": "markdown",
   "metadata": {},
   "source": [
    "# Numpy\n"
   ]
  },
  {
   "cell_type": "code",
   "execution_count": 13,
   "metadata": {},
   "outputs": [
    {
     "name": "stdout",
     "output_type": "stream",
     "text": [
      "[[1, 2, 3], [4, 5, 6], [1, 2, 3], [4, 5, 6]]\n"
     ]
    }
   ],
   "source": [
    "Alist=[[1,2,3],[4,5,6]]\n",
    "S=Alist*2\n",
    "print(S)"
   ]
  },
  {
   "cell_type": "code",
   "execution_count": 1,
   "metadata": {},
   "outputs": [],
   "source": [
    "import numpy as np"
   ]
  },
  {
   "cell_type": "code",
   "execution_count": 18,
   "metadata": {},
   "outputs": [
    {
     "name": "stdout",
     "output_type": "stream",
     "text": [
      "1*43=43\n",
      "23*12=276\n",
      "45*8=360\n",
      "56*54=3024\n"
     ]
    },
    {
     "ename": "TypeError",
     "evalue": "cannot perform accumulate with flexible type",
     "output_type": "error",
     "traceback": [
      "\u001b[1;31m---------------------------------------------------------------------------\u001b[0m",
      "\u001b[1;31mTypeError\u001b[0m                                 Traceback (most recent call last)",
      "\u001b[1;32m<ipython-input-18-ef271606b392>\u001b[0m in \u001b[0;36m<module>\u001b[1;34m\u001b[0m\n\u001b[0;32m     14\u001b[0m     \u001b[0mD\u001b[0m\u001b[1;33m.\u001b[0m\u001b[0mappend\u001b[0m\u001b[1;33m(\u001b[0m\u001b[0md\u001b[0m\u001b[1;33m)\u001b[0m\u001b[1;33m\u001b[0m\u001b[1;33m\u001b[0m\u001b[0m\n\u001b[0;32m     15\u001b[0m \u001b[1;32mimport\u001b[0m \u001b[0mnumpy\u001b[0m \u001b[1;32mas\u001b[0m \u001b[0mnp\u001b[0m\u001b[1;33m\u001b[0m\u001b[1;33m\u001b[0m\u001b[0m\n\u001b[1;32m---> 16\u001b[1;33m \u001b[0mCP\u001b[0m\u001b[1;33m=\u001b[0m\u001b[0mnp\u001b[0m\u001b[1;33m.\u001b[0m\u001b[0mcumprod\u001b[0m\u001b[1;33m(\u001b[0m\u001b[0mD\u001b[0m\u001b[1;33m)\u001b[0m\u001b[1;33m\u001b[0m\u001b[1;33m\u001b[0m\u001b[0m\n\u001b[0m\u001b[0;32m     17\u001b[0m \u001b[0mprint\u001b[0m\u001b[1;33m(\u001b[0m\u001b[0mc\u001b[0m\u001b[1;33m)\u001b[0m\u001b[1;33m\u001b[0m\u001b[1;33m\u001b[0m\u001b[0m\n\u001b[0;32m     18\u001b[0m \u001b[0mprint\u001b[0m\u001b[1;33m(\u001b[0m\u001b[0md\u001b[0m\u001b[1;33m)\u001b[0m\u001b[1;33m\u001b[0m\u001b[1;33m\u001b[0m\u001b[0m\n",
      "\u001b[1;32m<__array_function__ internals>\u001b[0m in \u001b[0;36mcumprod\u001b[1;34m(*args, **kwargs)\u001b[0m\n",
      "\u001b[1;32m~\\anaconda3\\lib\\site-packages\\numpy\\core\\fromnumeric.py\u001b[0m in \u001b[0;36mcumprod\u001b[1;34m(a, axis, dtype, out)\u001b[0m\n\u001b[0;32m   3028\u001b[0m \u001b[1;33m\u001b[0m\u001b[0m\n\u001b[0;32m   3029\u001b[0m     \"\"\"\n\u001b[1;32m-> 3030\u001b[1;33m     \u001b[1;32mreturn\u001b[0m \u001b[0m_wrapfunc\u001b[0m\u001b[1;33m(\u001b[0m\u001b[0ma\u001b[0m\u001b[1;33m,\u001b[0m \u001b[1;34m'cumprod'\u001b[0m\u001b[1;33m,\u001b[0m \u001b[0maxis\u001b[0m\u001b[1;33m=\u001b[0m\u001b[0maxis\u001b[0m\u001b[1;33m,\u001b[0m \u001b[0mdtype\u001b[0m\u001b[1;33m=\u001b[0m\u001b[0mdtype\u001b[0m\u001b[1;33m,\u001b[0m \u001b[0mout\u001b[0m\u001b[1;33m=\u001b[0m\u001b[0mout\u001b[0m\u001b[1;33m)\u001b[0m\u001b[1;33m\u001b[0m\u001b[1;33m\u001b[0m\u001b[0m\n\u001b[0m\u001b[0;32m   3031\u001b[0m \u001b[1;33m\u001b[0m\u001b[0m\n\u001b[0;32m   3032\u001b[0m \u001b[1;33m\u001b[0m\u001b[0m\n",
      "\u001b[1;32m~\\anaconda3\\lib\\site-packages\\numpy\\core\\fromnumeric.py\u001b[0m in \u001b[0;36m_wrapfunc\u001b[1;34m(obj, method, *args, **kwds)\u001b[0m\n\u001b[0;32m     56\u001b[0m     \u001b[0mbound\u001b[0m \u001b[1;33m=\u001b[0m \u001b[0mgetattr\u001b[0m\u001b[1;33m(\u001b[0m\u001b[0mobj\u001b[0m\u001b[1;33m,\u001b[0m \u001b[0mmethod\u001b[0m\u001b[1;33m,\u001b[0m \u001b[1;32mNone\u001b[0m\u001b[1;33m)\u001b[0m\u001b[1;33m\u001b[0m\u001b[1;33m\u001b[0m\u001b[0m\n\u001b[0;32m     57\u001b[0m     \u001b[1;32mif\u001b[0m \u001b[0mbound\u001b[0m \u001b[1;32mis\u001b[0m \u001b[1;32mNone\u001b[0m\u001b[1;33m:\u001b[0m\u001b[1;33m\u001b[0m\u001b[1;33m\u001b[0m\u001b[0m\n\u001b[1;32m---> 58\u001b[1;33m         \u001b[1;32mreturn\u001b[0m \u001b[0m_wrapit\u001b[0m\u001b[1;33m(\u001b[0m\u001b[0mobj\u001b[0m\u001b[1;33m,\u001b[0m \u001b[0mmethod\u001b[0m\u001b[1;33m,\u001b[0m \u001b[1;33m*\u001b[0m\u001b[0margs\u001b[0m\u001b[1;33m,\u001b[0m \u001b[1;33m**\u001b[0m\u001b[0mkwds\u001b[0m\u001b[1;33m)\u001b[0m\u001b[1;33m\u001b[0m\u001b[1;33m\u001b[0m\u001b[0m\n\u001b[0m\u001b[0;32m     59\u001b[0m \u001b[1;33m\u001b[0m\u001b[0m\n\u001b[0;32m     60\u001b[0m     \u001b[1;32mtry\u001b[0m\u001b[1;33m:\u001b[0m\u001b[1;33m\u001b[0m\u001b[1;33m\u001b[0m\u001b[0m\n",
      "\u001b[1;32m~\\anaconda3\\lib\\site-packages\\numpy\\core\\fromnumeric.py\u001b[0m in \u001b[0;36m_wrapit\u001b[1;34m(obj, method, *args, **kwds)\u001b[0m\n\u001b[0;32m     45\u001b[0m     \u001b[1;32mexcept\u001b[0m \u001b[0mAttributeError\u001b[0m\u001b[1;33m:\u001b[0m\u001b[1;33m\u001b[0m\u001b[1;33m\u001b[0m\u001b[0m\n\u001b[0;32m     46\u001b[0m         \u001b[0mwrap\u001b[0m \u001b[1;33m=\u001b[0m \u001b[1;32mNone\u001b[0m\u001b[1;33m\u001b[0m\u001b[1;33m\u001b[0m\u001b[0m\n\u001b[1;32m---> 47\u001b[1;33m     \u001b[0mresult\u001b[0m \u001b[1;33m=\u001b[0m \u001b[0mgetattr\u001b[0m\u001b[1;33m(\u001b[0m\u001b[0masarray\u001b[0m\u001b[1;33m(\u001b[0m\u001b[0mobj\u001b[0m\u001b[1;33m)\u001b[0m\u001b[1;33m,\u001b[0m \u001b[0mmethod\u001b[0m\u001b[1;33m)\u001b[0m\u001b[1;33m(\u001b[0m\u001b[1;33m*\u001b[0m\u001b[0margs\u001b[0m\u001b[1;33m,\u001b[0m \u001b[1;33m**\u001b[0m\u001b[0mkwds\u001b[0m\u001b[1;33m)\u001b[0m\u001b[1;33m\u001b[0m\u001b[1;33m\u001b[0m\u001b[0m\n\u001b[0m\u001b[0;32m     48\u001b[0m     \u001b[1;32mif\u001b[0m \u001b[0mwrap\u001b[0m\u001b[1;33m:\u001b[0m\u001b[1;33m\u001b[0m\u001b[1;33m\u001b[0m\u001b[0m\n\u001b[0;32m     49\u001b[0m         \u001b[1;32mif\u001b[0m \u001b[1;32mnot\u001b[0m \u001b[0misinstance\u001b[0m\u001b[1;33m(\u001b[0m\u001b[0mresult\u001b[0m\u001b[1;33m,\u001b[0m \u001b[0mmu\u001b[0m\u001b[1;33m.\u001b[0m\u001b[0mndarray\u001b[0m\u001b[1;33m)\u001b[0m\u001b[1;33m:\u001b[0m\u001b[1;33m\u001b[0m\u001b[1;33m\u001b[0m\u001b[0m\n",
      "\u001b[1;31mTypeError\u001b[0m: cannot perform accumulate with flexible type"
     ]
    }
   ],
   "source": [
    "a=[1,23,45,56,67,32]\n",
    "b=[32,54,67,8,12,43]\n",
    "c=[]\n",
    "D=[]\n",
    "for i in range(0,len(a)):\n",
    "    for A in a:\n",
    "        if A in b:\n",
    "            _A=a.pop(a.index(A))\n",
    "            c.append(_A)\n",
    "            b.remove(A)\n",
    "for _B in range(1,len(b)+1):\n",
    "    B=_B*-1\n",
    "    print(f\"{a[_B-1]}*{b[B]}={a[_B-1]*b[B]}\")\n",
    "    D.append(d)\n",
    "import numpy as np\n",
    "CP=np.cumprod(D)\n",
    "print(c)\n",
    "print(d)\n",
    "print(CP[-1])"
   ]
  },
  {
   "cell_type": "code",
   "execution_count": 19,
   "metadata": {},
   "outputs": [
    {
     "name": "stdout",
     "output_type": "stream",
     "text": [
      "1*43= 43\n",
      "23*12= 276\n",
      "45*8= 360\n",
      "56*54= 3024\n",
      "[67, 32]\n",
      "35077632\n"
     ]
    }
   ],
   "source": [
    "a=[1,23,45,56,67,32]\n",
    "b=[32,54,67,8,12,43]\n",
    "c=[]\n",
    "D=[]\n",
    "for i in range(0,len(a)):\n",
    "    for A in a:\n",
    "        if A in b:\n",
    "            _A=a.pop(a.index(A))\n",
    "            c.append(_A)\n",
    "            b.remove(A)\n",
    "for _B in range(1,len(b)+1):\n",
    "    B=_B*-1\n",
    "    d=a[_B-1]*b[B]\n",
    "    D.append(d)\n",
    "    print(f\"{a[_B-1]}*{b[B]}=\",d)\n",
    "import numpy as np\n",
    "CP=np.cumprod(D)\n",
    "print(c)\n",
    "print(CP[-1])"
   ]
  },
  {
   "cell_type": "code",
   "execution_count": 43,
   "metadata": {},
   "outputs": [
    {
     "name": "stdout",
     "output_type": "stream",
     "text": [
      "1*43=43\n",
      "23*12=276\n",
      "45*8=360\n",
      "56*54=3024\n",
      "1*43=43\n",
      "23*12=276\n",
      "45*8=360\n",
      "56*54=3024\n",
      "1*43=43\n",
      "23*12=276\n",
      "45*8=360\n",
      "56*54=3024\n",
      "1*43=43\n",
      "23*12=276\n",
      "45*8=360\n",
      "56*54=3024\n"
     ]
    }
   ],
   "source": [
    "for A in a:\n",
    "    if A in b:\n",
    "        c.append(A)\n",
    "    elif A not in b:\n",
    "        for i in range(1,len(b)+1):\n",
    "            _i=i*-1\n",
    "            print(f\"{a[i-1]}*{b[_i]}={a[i-1]*b[_i]}\")\n",
    "\n",
    "        "
   ]
  },
  {
   "cell_type": "code",
   "execution_count": 49,
   "metadata": {},
   "outputs": [
    {
     "name": "stdout",
     "output_type": "stream",
     "text": [
      "43\n",
      "276\n",
      "360\n",
      "3024\n",
      "43\n",
      "276\n",
      "360\n",
      "3024\n",
      "43\n",
      "276\n",
      "360\n",
      "3024\n",
      "43\n",
      "276\n",
      "360\n",
      "3024\n"
     ]
    }
   ],
   "source": [
    "for A in a:\n",
    "    if A in b:\n",
    "        c.append(A)\n",
    "    elif A not in b:\n",
    "        for i in range(1,len(b)+1):\n",
    "            _i=i*-1\n",
    "            print(f\"{a[i-1]*b[_i]}\")\n"
   ]
  },
  {
   "cell_type": "code",
   "execution_count": 42,
   "metadata": {},
   "outputs": [],
   "source": [
    "L=np.zeros(4)"
   ]
  },
  {
   "cell_type": "code",
   "execution_count": 20,
   "metadata": {},
   "outputs": [
    {
     "data": {
      "text/plain": [
       "numpy.float64"
      ]
     },
     "execution_count": 20,
     "metadata": {},
     "output_type": "execute_result"
    }
   ],
   "source": [
    "L\n",
    "type(L[0])"
   ]
  },
  {
   "cell_type": "code",
   "execution_count": 3,
   "metadata": {},
   "outputs": [
    {
     "data": {
      "text/plain": [
       "array([1., 1., 1., 1.])"
      ]
     },
     "execution_count": 3,
     "metadata": {},
     "output_type": "execute_result"
    }
   ],
   "source": [
    "P=np.ones(4)\n",
    "P\n",
    "\n"
   ]
  },
  {
   "cell_type": "code",
   "execution_count": 7,
   "metadata": {},
   "outputs": [
    {
     "ename": "TypeError",
     "evalue": "int() can't convert non-string with explicit base",
     "output_type": "error",
     "traceback": [
      "\u001b[1;31m---------------------------------------------------------------------------\u001b[0m",
      "\u001b[1;31mTypeError\u001b[0m                                 Traceback (most recent call last)",
      "\u001b[1;32m<ipython-input-7-eb74907575b7>\u001b[0m in \u001b[0;36m<module>\u001b[1;34m\u001b[0m\n\u001b[0;32m      3\u001b[0m \u001b[0mL\u001b[0m\u001b[1;33m.\u001b[0m\u001b[0mshape\u001b[0m\u001b[1;33m=\u001b[0m\u001b[1;33m(\u001b[0m\u001b[1;36m2\u001b[0m\u001b[1;33m,\u001b[0m\u001b[1;36m2\u001b[0m\u001b[1;33m)\u001b[0m\u001b[1;33m\u001b[0m\u001b[1;33m\u001b[0m\u001b[0m\n\u001b[0;32m      4\u001b[0m \u001b[0mL\u001b[0m\u001b[1;33m\u001b[0m\u001b[1;33m\u001b[0m\u001b[0m\n\u001b[1;32m----> 5\u001b[1;33m \u001b[0mD\u001b[0m\u001b[1;33m=\u001b[0m\u001b[0mnp\u001b[0m\u001b[1;33m.\u001b[0m\u001b[0mlinspace\u001b[0m\u001b[1;33m(\u001b[0m\u001b[0mint\u001b[0m\u001b[1;33m(\u001b[0m\u001b[1;36m2\u001b[0m\u001b[1;33m,\u001b[0m\u001b[1;36m10\u001b[0m\u001b[1;33m)\u001b[0m\u001b[1;33m)\u001b[0m\u001b[1;33m\u001b[0m\u001b[1;33m\u001b[0m\u001b[0m\n\u001b[0m\u001b[0;32m      6\u001b[0m \u001b[1;31m#D=np.arange(2,20,5)\u001b[0m\u001b[1;33m\u001b[0m\u001b[1;33m\u001b[0m\u001b[1;33m\u001b[0m\u001b[0m\n\u001b[0;32m      7\u001b[0m \u001b[0mD\u001b[0m\u001b[1;33m\u001b[0m\u001b[1;33m\u001b[0m\u001b[0m\n",
      "\u001b[1;31mTypeError\u001b[0m: int() can't convert non-string with explicit base"
     ]
    }
   ],
   "source": [
    "L=np.empty(4)\n",
    "L.dtype\n",
    "L.shape=(2,2)\n",
    "L\n",
    "D=np.linspace(int(2,10))\n",
    "#D=np.arange(2,20,5)\n",
    "D"
   ]
  },
  {
   "cell_type": "code",
   "execution_count": 39,
   "metadata": {},
   "outputs": [
    {
     "name": "stdout",
     "output_type": "stream",
     "text": [
      "[2 5 6 7 8]\n",
      "[[ 2  4  6]\n",
      " [ 8 10 12]]\n"
     ]
    }
   ],
   "source": [
    "J=np.array((2,5,6,7,8))\n",
    "print(J)\n",
    "Blist=np.array(Alist)\n",
    "B=Blist*2\n",
    "print(B)"
   ]
  },
  {
   "cell_type": "code",
   "execution_count": 56,
   "metadata": {},
   "outputs": [
    {
     "name": "stdout",
     "output_type": "stream",
     "text": [
      "(2, 3)\n",
      "(5,)\n"
     ]
    }
   ],
   "source": [
    "print(Blist.shape)\n",
    "print(J.shape)\n",
    "#list_name.(TAB)\n",
    "#give all function of array\n",
    "#Use \"?\" to see all the documentation of numpy\n",
    "#no diff in indexing of python & numpy\n",
    "#if you do any math operation in list of numpy it apply these function on character of list\n",
    "# list@list give dot product of list characters\n"
   ]
  },
  {
   "cell_type": "code",
   "execution_count": 53,
   "metadata": {
    "scrolled": true
   },
   "outputs": [
    {
     "data": {
      "text/plain": [
       "array([74, 70, 94, 70, 41, 72, 55, 91, 45, 55, 87, 78, 61, 89, 98, 49, 73,\n",
       "       72, 93, 43])"
      ]
     },
     "execution_count": 53,
     "metadata": {},
     "output_type": "execute_result"
    }
   ],
   "source": [
    "H=np.random.randint(100,size=33)\n",
    "H[H>40]"
   ]
  },
  {
   "cell_type": "code",
   "execution_count": 57,
   "metadata": {},
   "outputs": [
    {
     "data": {
      "text/plain": [
       "array([ 2, 34,  5,  7,  8,  6,  9,  8,  9])"
      ]
     },
     "execution_count": 57,
     "metadata": {},
     "output_type": "execute_result"
    }
   ],
   "source": [
    "an=np.array([1,2,3,4,5,6,7,8,9])\n",
    "An=np.array([2,34,5,7,8,4,9,2,7])\n",
    "np.where(an>An,an,An)"
   ]
  },
  {
   "cell_type": "code",
   "execution_count": 58,
   "metadata": {},
   "outputs": [
    {
     "data": {
      "text/plain": [
       "array(['pass', 'fail', 'fail', 'pass', 'pass', 'pass', 'fail'],\n",
       "      dtype='<U4')"
      ]
     },
     "execution_count": 58,
     "metadata": {},
     "output_type": "execute_result"
    }
   ],
   "source": [
    "result=np.array([54,12,34,56,76,90,23])\n",
    "np.where(result>40,\"pass\",\"fail\")"
   ]
  },
  {
   "cell_type": "code",
   "execution_count": 8,
   "metadata": {},
   "outputs": [
    {
     "data": {
      "text/plain": [
       "array([     1,      2,      6,     24,    120,    720,   5040,  40320,\n",
       "       362880], dtype=int32)"
      ]
     },
     "execution_count": 8,
     "metadata": {},
     "output_type": "execute_result"
    }
   ],
   "source": [
    "A=np.array([1,2,3,4,5,6,7,8,9])\n",
    "A.mean()\n",
    "A.cumsum()#cmutative addition\n",
    "A.cumprod()#cumuative product"
   ]
  },
  {
   "cell_type": "code",
   "execution_count": 76,
   "metadata": {},
   "outputs": [
    {
     "data": {
      "text/plain": [
       "array([False, False, False, False, False,  True,  True,  True,  True])"
      ]
     },
     "execution_count": 76,
     "metadata": {},
     "output_type": "execute_result"
    }
   ],
   "source": [
    "Z=A>5\n",
    "Z"
   ]
  },
  {
   "cell_type": "code",
   "execution_count": 72,
   "metadata": {},
   "outputs": [
    {
     "data": {
      "text/plain": [
       "4"
      ]
     },
     "execution_count": 72,
     "metadata": {},
     "output_type": "execute_result"
    }
   ],
   "source": [
    "Z.sum()"
   ]
  },
  {
   "cell_type": "code",
   "execution_count": 73,
   "metadata": {},
   "outputs": [
    {
     "data": {
      "text/plain": [
       "True"
      ]
     },
     "execution_count": 73,
     "metadata": {},
     "output_type": "execute_result"
    }
   ],
   "source": [
    "Z.any()"
   ]
  },
  {
   "cell_type": "code",
   "execution_count": 74,
   "metadata": {},
   "outputs": [
    {
     "data": {
      "text/plain": [
       "False"
      ]
     },
     "execution_count": 74,
     "metadata": {},
     "output_type": "execute_result"
    }
   ],
   "source": [
    "Z.all()"
   ]
  },
  {
   "cell_type": "code",
   "execution_count": 81,
   "metadata": {},
   "outputs": [
    {
     "data": {
      "text/plain": [
       "array([   0,    3,    4,    5,    7,    9,   53,   54,   76,  763, 7675])"
      ]
     },
     "execution_count": 81,
     "metadata": {},
     "output_type": "execute_result"
    }
   ],
   "source": [
    "T=np.array([5,76,5,4,763,5,9,4,7,9,0,3,7675,53,54,53])\n",
    "T.sort()\n",
    "np.unique(T)\n"
   ]
  },
  {
   "cell_type": "code",
   "execution_count": 99,
   "metadata": {},
   "outputs": [
    {
     "name": "stdout",
     "output_type": "stream",
     "text": [
      "['bjdghas' 'bsdwale' 'njjf' '32' '232' 'fsfe']\n"
     ]
    },
    {
     "data": {
      "text/plain": [
       "array(['4', 'jkh5', '45', '5e', 'ergf', 'grger', 'wefe', '453'],\n",
       "      dtype='<U11')"
      ]
     },
     "execution_count": 99,
     "metadata": {},
     "output_type": "execute_result"
    }
   ],
   "source": [
    "A1=[\"bjdghas\",\"bsdwale\",\"njjf\",32,'232','fsfe']\n",
    "A2=[4,'jkh5',45,'5e','ergf','grger','wefe',453]\n",
    "np.save(\"sub1.npy\",A1)\n",
    "L1=np.load(\"sub1.npy\")\n",
    "print(L1)\n",
    "np.savez(\"sub2\",A1=A1,A2=A2)\n",
    "L2=np.load(\"sub2.npz\")\n",
    "L2[\"A2\"]"
   ]
  },
  {
   "cell_type": "code",
   "execution_count": 102,
   "metadata": {},
   "outputs": [
    {
     "data": {
      "text/plain": [
       "array([[10.89147411,  9.34161224,  9.27740505],\n",
       "       [ 8.05545992,  8.14648416,  7.31694771],\n",
       "       [10.24203919,  9.14056696,  8.96809655]])"
      ]
     },
     "execution_count": 102,
     "metadata": {},
     "output_type": "execute_result"
    }
   ],
   "source": [
    "np.random.normal(9,size=(3,3))"
   ]
  },
  {
   "cell_type": "code",
   "execution_count": 103,
   "metadata": {},
   "outputs": [],
   "source": [
    "#np.random.TAB"
   ]
  },
  {
   "cell_type": "code",
   "execution_count": 11,
   "metadata": {},
   "outputs": [
    {
     "data": {
      "text/plain": [
       "array([          1,           2,           6,          24,         120,\n",
       "               720,        5040,       40320,      362880,     3628800,\n",
       "          39916800,   479001600,  1932053504,  1278945280,  2004310016,\n",
       "        2004189184,  -288522240,  -898433024,   109641728, -2102132736,\n",
       "       -1195114496], dtype=int32)"
      ]
     },
     "execution_count": 11,
     "metadata": {},
     "output_type": "execute_result"
    }
   ],
   "source": [
    "n=list(range(1,22))\n",
    "N=np.array(n)\n",
    "N.cumprod()"
   ]
  },
  {
   "cell_type": "code",
   "execution_count": 41,
   "metadata": {},
   "outputs": [
    {
     "name": "stdout",
     "output_type": "stream",
     "text": [
      "[ 1  2  3  4  5  6  7  8  9 10 11 12]\n",
      "[[ 1  2  3  4  5  6]\n",
      " [ 7  8  9 10 11 12]]\n",
      "[[ 1  2  3  4  5  6]\n",
      " [ 7  8  9 10 11 12]]\n",
      "[[ 1  7]\n",
      " [ 2  8]\n",
      " [ 3  9]\n",
      " [ 4 10]\n",
      " [ 5 11]\n",
      " [ 6 12]]\n"
     ]
    }
   ],
   "source": [
    "a=np.arange(1,13)\n",
    "print(a)\n",
    "print(a.reshape(2,6))#a.reshape(no_of_rows,no_of_colunm)\n",
    "#ORDER\n",
    "#by default reshape has \"C\" order which arange list charactetr left to right but here is a \"F\" order also who arange in top to bottom partern\n",
    "print(a.reshape(2,6, order =\"C\"))\n",
    "##################################################\n",
    "print(a.reshape(6,2, order =\"F\"))"
   ]
  },
  {
   "cell_type": "code",
   "execution_count": 29,
   "metadata": {},
   "outputs": [
    {
     "name": "stdout",
     "output_type": "stream",
     "text": [
      "[[[ 1  2]\n",
      "  [ 3  4]\n",
      "  [ 5  6]]\n",
      "\n",
      " [[ 7  8]\n",
      "  [ 9 10]\n",
      "  [11 12]]]\n"
     ]
    },
    {
     "data": {
      "text/plain": [
       "array([ 1,  2,  3,  4,  5,  6,  7,  8,  9, 10, 11, 12])"
      ]
     },
     "execution_count": 29,
     "metadata": {},
     "output_type": "execute_result"
    }
   ],
   "source": [
    "A=np.arange(1,13)\n",
    "b=A.reshape(2,3,2,order=\"C\")\n",
    "print(b)\n",
    "b.ravel()#it arange the multi dimensiol array in one dimension(ravel/flatten)\n",
    "b.flatten()"
   ]
  },
  {
   "cell_type": "markdown",
   "metadata": {},
   "source": [
    "# Concatenate & Spliting"
   ]
  },
  {
   "cell_type": "code",
   "execution_count": 49,
   "metadata": {},
   "outputs": [
    {
     "name": "stdout",
     "output_type": "stream",
     "text": [
      "[ 1  2  3  4  5  6  7  8  9 10 11 12]\n"
     ]
    },
    {
     "data": {
      "text/plain": [
       "array([ 1,  2,  3,  4,  5,  6,  7,  8,  9, 10, 11, 12,  1,  2,  3,  4,  5,\n",
       "        6,  7,  8,  9, 10, 11, 12])"
      ]
     },
     "execution_count": 49,
     "metadata": {},
     "output_type": "execute_result"
    }
   ],
   "source": [
    "y=np.array(A)\n",
    "Y=np.array(a)\n",
    "print(y)\n",
    "np.concatenate((y,Y),axis=)"
   ]
  },
  {
   "cell_type": "code",
   "execution_count": 60,
   "metadata": {},
   "outputs": [
    {
     "data": {
      "text/plain": [
       "array([ 1,  2,  3,  4,  5,  6,  7,  8,  9, 10, 11, 12,  1,  2,  3,  4,  5,\n",
       "        6,  7,  8,  9, 10, 11, 12])"
      ]
     },
     "execution_count": 60,
     "metadata": {},
     "output_type": "execute_result"
    }
   ],
   "source": [
    "W=np.hstack((Y,y))\n",
    "w=np.vstack((y,Y))\n",
    "w\n",
    "W\n"
   ]
  },
  {
   "cell_type": "code",
   "execution_count": 67,
   "metadata": {},
   "outputs": [
    {
     "data": {
      "text/plain": [
       "[array([1, 2, 3, 4]),\n",
       " array([5, 6, 7, 8, 9]),\n",
       " array([10, 11, 12,  1]),\n",
       " array([2, 3, 4, 5, 6, 7, 8]),\n",
       " array([ 9, 10, 11, 12])]"
      ]
     },
     "execution_count": 67,
     "metadata": {},
     "output_type": "execute_result"
    }
   ],
   "source": [
    "np.split(W,[4,9,13,20])#[index npo from which i have to split]"
   ]
  },
  {
   "cell_type": "code",
   "execution_count": 70,
   "metadata": {},
   "outputs": [
    {
     "name": "stdout",
     "output_type": "stream",
     "text": [
      "[ 1  2  3  4  5  6  7  8  9 10 11 12  1  2  3  4  5  6  7  8  9 10 11 12]\n",
      "[ 1  1  1  1  1  2  2  2  2  2  3  3  3  3  3  4  4  4  4  4  5  5  5  5\n",
      "  5  6  6  6  6  6  7  7  7  7  7  8  8  8  8  8  9  9  9  9  9 10 10 10\n",
      " 10 10 11 11 11 11 11 12 12 12 12 12  1  1  1  1  1  2  2  2  2  2  3  3\n",
      "  3  3  3  4  4  4  4  4  5  5  5  5  5  6  6  6  6  6  7  7  7  7  7  8\n",
      "  8  8  8  8  9  9  9  9  9 10 10 10 10 10 11 11 11 11 11 12 12 12 12 12]\n",
      "[ 1  1  2  2  3  3  4  4  5  5  6  6  7  7  8  8  9  9 10 10 11 11 12 12\n",
      "  1  1  2  2  3  3  4  4  5  5  6  6  7  7  8  8  9  9 10 10 11 11 12 12]\n"
     ]
    }
   ],
   "source": [
    "f=np.array(W)\n",
    "print(f)\n",
    "print(f.repeat(5))\n",
    "print(np.repeat(f,2))"
   ]
  },
  {
   "cell_type": "code",
   "execution_count": 73,
   "metadata": {},
   "outputs": [
    {
     "data": {
      "text/plain": [
       "array([1, 2, 3, 4, 1, 2, 3, 4, 1, 2, 3, 4])"
      ]
     },
     "execution_count": 73,
     "metadata": {},
     "output_type": "execute_result"
    }
   ],
   "source": [
    "k=np.array([1,2,3,4])\n",
    "np.tile(k,3)"
   ]
  },
  {
   "cell_type": "code",
   "execution_count": 77,
   "metadata": {
    "scrolled": true
   },
   "outputs": [
    {
     "data": {
      "text/plain": [
       "array([[1.+0.j, 3.+0.j],\n",
       "       [4.+0.j, 6.+0.j]])"
      ]
     },
     "execution_count": 77,
     "metadata": {},
     "output_type": "execute_result"
    }
   ],
   "source": [
    "a=np.array([[1,3],[4,6]],dtype=complex)\n",
    "a"
   ]
  },
  {
   "cell_type": "code",
   "execution_count": 78,
   "metadata": {},
   "outputs": [],
   "source": [
    "from numpy import pi"
   ]
  },
  {
   "cell_type": "code",
   "execution_count": 80,
   "metadata": {},
   "outputs": [
    {
     "name": "stdout",
     "output_type": "stream",
     "text": [
      "[0.   0.25 0.5  0.75 1.   1.25 1.5  1.75 2.  ]\n",
      "[0.         0.06346652 0.12693304 0.19039955 0.25386607 0.31733259\n",
      " 0.38079911 0.44426563 0.50773215 0.57119866 0.63466518 0.6981317\n",
      " 0.76159822 0.82506474 0.88853126 0.95199777 1.01546429 1.07893081\n",
      " 1.14239733 1.20586385 1.26933037 1.33279688 1.3962634  1.45972992\n",
      " 1.52319644 1.58666296 1.65012947 1.71359599 1.77706251 1.84052903\n",
      " 1.90399555 1.96746207 2.03092858 2.0943951  2.15786162 2.22132814\n",
      " 2.28479466 2.34826118 2.41172769 2.47519421 2.53866073 2.60212725\n",
      " 2.66559377 2.72906028 2.7925268  2.85599332 2.91945984 2.98292636\n",
      " 3.04639288 3.10985939 3.17332591 3.23679243 3.30025895 3.36372547\n",
      " 3.42719199 3.4906585  3.55412502 3.61759154 3.68105806 3.74452458\n",
      " 3.8079911  3.87145761 3.93492413 3.99839065 4.06185717 4.12532369\n",
      " 4.1887902  4.25225672 4.31572324 4.37918976 4.44265628 4.5061228\n",
      " 4.56958931 4.63305583 4.69652235 4.75998887 4.82345539 4.88692191\n",
      " 4.95038842 5.01385494 5.07732146 5.14078798 5.2042545  5.26772102\n",
      " 5.33118753 5.39465405 5.45812057 5.52158709 5.58505361 5.64852012\n",
      " 5.71198664 5.77545316 5.83891968 5.9023862  5.96585272 6.02931923\n",
      " 6.09278575 6.15625227 6.21971879 6.28318531]\n",
      "[ 0.00000000e+00  6.34239197e-02  1.26592454e-01  1.89251244e-01\n",
      "  2.51147987e-01  3.12033446e-01  3.71662456e-01  4.29794912e-01\n",
      "  4.86196736e-01  5.40640817e-01  5.92907929e-01  6.42787610e-01\n",
      "  6.90079011e-01  7.34591709e-01  7.76146464e-01  8.14575952e-01\n",
      "  8.49725430e-01  8.81453363e-01  9.09631995e-01  9.34147860e-01\n",
      "  9.54902241e-01  9.71811568e-01  9.84807753e-01  9.93838464e-01\n",
      "  9.98867339e-01  9.99874128e-01  9.96854776e-01  9.89821442e-01\n",
      "  9.78802446e-01  9.63842159e-01  9.45000819e-01  9.22354294e-01\n",
      "  8.95993774e-01  8.66025404e-01  8.32569855e-01  7.95761841e-01\n",
      "  7.55749574e-01  7.12694171e-01  6.66769001e-01  6.18158986e-01\n",
      "  5.67059864e-01  5.13677392e-01  4.58226522e-01  4.00930535e-01\n",
      "  3.42020143e-01  2.81732557e-01  2.20310533e-01  1.58001396e-01\n",
      "  9.50560433e-02  3.17279335e-02 -3.17279335e-02 -9.50560433e-02\n",
      " -1.58001396e-01 -2.20310533e-01 -2.81732557e-01 -3.42020143e-01\n",
      " -4.00930535e-01 -4.58226522e-01 -5.13677392e-01 -5.67059864e-01\n",
      " -6.18158986e-01 -6.66769001e-01 -7.12694171e-01 -7.55749574e-01\n",
      " -7.95761841e-01 -8.32569855e-01 -8.66025404e-01 -8.95993774e-01\n",
      " -9.22354294e-01 -9.45000819e-01 -9.63842159e-01 -9.78802446e-01\n",
      " -9.89821442e-01 -9.96854776e-01 -9.99874128e-01 -9.98867339e-01\n",
      " -9.93838464e-01 -9.84807753e-01 -9.71811568e-01 -9.54902241e-01\n",
      " -9.34147860e-01 -9.09631995e-01 -8.81453363e-01 -8.49725430e-01\n",
      " -8.14575952e-01 -7.76146464e-01 -7.34591709e-01 -6.90079011e-01\n",
      " -6.42787610e-01 -5.92907929e-01 -5.40640817e-01 -4.86196736e-01\n",
      " -4.29794912e-01 -3.71662456e-01 -3.12033446e-01 -2.51147987e-01\n",
      " -1.89251244e-01 -1.26592454e-01 -6.34239197e-02 -2.44929360e-16]\n"
     ]
    }
   ],
   "source": [
    "from numpy import pi\n",
    "v=np.linspace( 0, 2, 9 )                 # 9 numbers from 0 to 2\n",
    "#array([0.  , 0.25, 0.5 , 0.75, 1.  , 1.25, 1.5 , 1.75, 2.  ])\n",
    "x = np.linspace( 0, 2*pi, 100 )        # useful to evaluate function at lots of points\n",
    "f = np.sin(x)\n",
    "print(v)\n",
    "print(x)\n",
    "print(f)\n"
   ]
  },
  {
   "cell_type": "code",
   "execution_count": 85,
   "metadata": {},
   "outputs": [
    {
     "data": {
      "text/plain": [
       "-0.4480736161291701"
      ]
     },
     "execution_count": 85,
     "metadata": {},
     "output_type": "execute_result"
    }
   ],
   "source": [
    "np.cos(90)"
   ]
  },
  {
   "cell_type": "code",
   "execution_count": 87,
   "metadata": {},
   "outputs": [
    {
     "name": "stdout",
     "output_type": "stream",
     "text": [
      "~~~~~shimy~~~~~~~\n"
     ]
    }
   ],
   "source": [
    "print(\"~~~~~shimy~~~~~~~\")"
   ]
  },
  {
   "cell_type": "code",
   "execution_count": 2,
   "metadata": {},
   "outputs": [],
   "source": [
    "import numpy as np\n",
    "my_arr = np.arange(1000000)\n",
    "my_list = list(range(1000000))"
   ]
  },
  {
   "cell_type": "code",
   "execution_count": 4,
   "metadata": {},
   "outputs": [
    {
     "name": "stdout",
     "output_type": "stream",
     "text": [
      "Wall time: 51 ms\n"
     ]
    },
    {
     "data": {
      "text/plain": [
       "array([      0,       2,       4, ..., 1999994, 1999996, 1999998])"
      ]
     },
     "execution_count": 4,
     "metadata": {},
     "output_type": "execute_result"
    }
   ],
   "source": [
    "%time for _ in range(10):    my_arr2 = my_arr * 2\n",
    "my_arr2"
   ]
  },
  {
   "cell_type": "code",
   "execution_count": 6,
   "metadata": {},
   "outputs": [
    {
     "name": "stdout",
     "output_type": "stream",
     "text": [
      "Wall time: 959 ms\n"
     ]
    },
    {
     "data": {
      "text/plain": [
       "[0,\n",
       " 2,\n",
       " 4,\n",
       " 6,\n",
       " 8,\n",
       " 10,\n",
       " 12,\n",
       " 14,\n",
       " 16,\n",
       " 18,\n",
       " 20,\n",
       " 22,\n",
       " 24,\n",
       " 26,\n",
       " 28,\n",
       " 30,\n",
       " 32,\n",
       " 34,\n",
       " 36,\n",
       " 38,\n",
       " 40,\n",
       " 42,\n",
       " 44,\n",
       " 46,\n",
       " 48,\n",
       " 50,\n",
       " 52,\n",
       " 54,\n",
       " 56,\n",
       " 58,\n",
       " 60,\n",
       " 62,\n",
       " 64,\n",
       " 66,\n",
       " 68,\n",
       " 70,\n",
       " 72,\n",
       " 74,\n",
       " 76,\n",
       " 78,\n",
       " 80,\n",
       " 82,\n",
       " 84,\n",
       " 86,\n",
       " 88,\n",
       " 90,\n",
       " 92,\n",
       " 94,\n",
       " 96,\n",
       " 98,\n",
       " 100,\n",
       " 102,\n",
       " 104,\n",
       " 106,\n",
       " 108,\n",
       " 110,\n",
       " 112,\n",
       " 114,\n",
       " 116,\n",
       " 118,\n",
       " 120,\n",
       " 122,\n",
       " 124,\n",
       " 126,\n",
       " 128,\n",
       " 130,\n",
       " 132,\n",
       " 134,\n",
       " 136,\n",
       " 138,\n",
       " 140,\n",
       " 142,\n",
       " 144,\n",
       " 146,\n",
       " 148,\n",
       " 150,\n",
       " 152,\n",
       " 154,\n",
       " 156,\n",
       " 158,\n",
       " 160,\n",
       " 162,\n",
       " 164,\n",
       " 166,\n",
       " 168,\n",
       " 170,\n",
       " 172,\n",
       " 174,\n",
       " 176,\n",
       " 178,\n",
       " 180,\n",
       " 182,\n",
       " 184,\n",
       " 186,\n",
       " 188,\n",
       " 190,\n",
       " 192,\n",
       " 194,\n",
       " 196,\n",
       " 198,\n",
       " 200,\n",
       " 202,\n",
       " 204,\n",
       " 206,\n",
       " 208,\n",
       " 210,\n",
       " 212,\n",
       " 214,\n",
       " 216,\n",
       " 218,\n",
       " 220,\n",
       " 222,\n",
       " 224,\n",
       " 226,\n",
       " 228,\n",
       " 230,\n",
       " 232,\n",
       " 234,\n",
       " 236,\n",
       " 238,\n",
       " 240,\n",
       " 242,\n",
       " 244,\n",
       " 246,\n",
       " 248,\n",
       " 250,\n",
       " 252,\n",
       " 254,\n",
       " 256,\n",
       " 258,\n",
       " 260,\n",
       " 262,\n",
       " 264,\n",
       " 266,\n",
       " 268,\n",
       " 270,\n",
       " 272,\n",
       " 274,\n",
       " 276,\n",
       " 278,\n",
       " 280,\n",
       " 282,\n",
       " 284,\n",
       " 286,\n",
       " 288,\n",
       " 290,\n",
       " 292,\n",
       " 294,\n",
       " 296,\n",
       " 298,\n",
       " 300,\n",
       " 302,\n",
       " 304,\n",
       " 306,\n",
       " 308,\n",
       " 310,\n",
       " 312,\n",
       " 314,\n",
       " 316,\n",
       " 318,\n",
       " 320,\n",
       " 322,\n",
       " 324,\n",
       " 326,\n",
       " 328,\n",
       " 330,\n",
       " 332,\n",
       " 334,\n",
       " 336,\n",
       " 338,\n",
       " 340,\n",
       " 342,\n",
       " 344,\n",
       " 346,\n",
       " 348,\n",
       " 350,\n",
       " 352,\n",
       " 354,\n",
       " 356,\n",
       " 358,\n",
       " 360,\n",
       " 362,\n",
       " 364,\n",
       " 366,\n",
       " 368,\n",
       " 370,\n",
       " 372,\n",
       " 374,\n",
       " 376,\n",
       " 378,\n",
       " 380,\n",
       " 382,\n",
       " 384,\n",
       " 386,\n",
       " 388,\n",
       " 390,\n",
       " 392,\n",
       " 394,\n",
       " 396,\n",
       " 398,\n",
       " 400,\n",
       " 402,\n",
       " 404,\n",
       " 406,\n",
       " 408,\n",
       " 410,\n",
       " 412,\n",
       " 414,\n",
       " 416,\n",
       " 418,\n",
       " 420,\n",
       " 422,\n",
       " 424,\n",
       " 426,\n",
       " 428,\n",
       " 430,\n",
       " 432,\n",
       " 434,\n",
       " 436,\n",
       " 438,\n",
       " 440,\n",
       " 442,\n",
       " 444,\n",
       " 446,\n",
       " 448,\n",
       " 450,\n",
       " 452,\n",
       " 454,\n",
       " 456,\n",
       " 458,\n",
       " 460,\n",
       " 462,\n",
       " 464,\n",
       " 466,\n",
       " 468,\n",
       " 470,\n",
       " 472,\n",
       " 474,\n",
       " 476,\n",
       " 478,\n",
       " 480,\n",
       " 482,\n",
       " 484,\n",
       " 486,\n",
       " 488,\n",
       " 490,\n",
       " 492,\n",
       " 494,\n",
       " 496,\n",
       " 498,\n",
       " 500,\n",
       " 502,\n",
       " 504,\n",
       " 506,\n",
       " 508,\n",
       " 510,\n",
       " 512,\n",
       " 514,\n",
       " 516,\n",
       " 518,\n",
       " 520,\n",
       " 522,\n",
       " 524,\n",
       " 526,\n",
       " 528,\n",
       " 530,\n",
       " 532,\n",
       " 534,\n",
       " 536,\n",
       " 538,\n",
       " 540,\n",
       " 542,\n",
       " 544,\n",
       " 546,\n",
       " 548,\n",
       " 550,\n",
       " 552,\n",
       " 554,\n",
       " 556,\n",
       " 558,\n",
       " 560,\n",
       " 562,\n",
       " 564,\n",
       " 566,\n",
       " 568,\n",
       " 570,\n",
       " 572,\n",
       " 574,\n",
       " 576,\n",
       " 578,\n",
       " 580,\n",
       " 582,\n",
       " 584,\n",
       " 586,\n",
       " 588,\n",
       " 590,\n",
       " 592,\n",
       " 594,\n",
       " 596,\n",
       " 598,\n",
       " 600,\n",
       " 602,\n",
       " 604,\n",
       " 606,\n",
       " 608,\n",
       " 610,\n",
       " 612,\n",
       " 614,\n",
       " 616,\n",
       " 618,\n",
       " 620,\n",
       " 622,\n",
       " 624,\n",
       " 626,\n",
       " 628,\n",
       " 630,\n",
       " 632,\n",
       " 634,\n",
       " 636,\n",
       " 638,\n",
       " 640,\n",
       " 642,\n",
       " 644,\n",
       " 646,\n",
       " 648,\n",
       " 650,\n",
       " 652,\n",
       " 654,\n",
       " 656,\n",
       " 658,\n",
       " 660,\n",
       " 662,\n",
       " 664,\n",
       " 666,\n",
       " 668,\n",
       " 670,\n",
       " 672,\n",
       " 674,\n",
       " 676,\n",
       " 678,\n",
       " 680,\n",
       " 682,\n",
       " 684,\n",
       " 686,\n",
       " 688,\n",
       " 690,\n",
       " 692,\n",
       " 694,\n",
       " 696,\n",
       " 698,\n",
       " 700,\n",
       " 702,\n",
       " 704,\n",
       " 706,\n",
       " 708,\n",
       " 710,\n",
       " 712,\n",
       " 714,\n",
       " 716,\n",
       " 718,\n",
       " 720,\n",
       " 722,\n",
       " 724,\n",
       " 726,\n",
       " 728,\n",
       " 730,\n",
       " 732,\n",
       " 734,\n",
       " 736,\n",
       " 738,\n",
       " 740,\n",
       " 742,\n",
       " 744,\n",
       " 746,\n",
       " 748,\n",
       " 750,\n",
       " 752,\n",
       " 754,\n",
       " 756,\n",
       " 758,\n",
       " 760,\n",
       " 762,\n",
       " 764,\n",
       " 766,\n",
       " 768,\n",
       " 770,\n",
       " 772,\n",
       " 774,\n",
       " 776,\n",
       " 778,\n",
       " 780,\n",
       " 782,\n",
       " 784,\n",
       " 786,\n",
       " 788,\n",
       " 790,\n",
       " 792,\n",
       " 794,\n",
       " 796,\n",
       " 798,\n",
       " 800,\n",
       " 802,\n",
       " 804,\n",
       " 806,\n",
       " 808,\n",
       " 810,\n",
       " 812,\n",
       " 814,\n",
       " 816,\n",
       " 818,\n",
       " 820,\n",
       " 822,\n",
       " 824,\n",
       " 826,\n",
       " 828,\n",
       " 830,\n",
       " 832,\n",
       " 834,\n",
       " 836,\n",
       " 838,\n",
       " 840,\n",
       " 842,\n",
       " 844,\n",
       " 846,\n",
       " 848,\n",
       " 850,\n",
       " 852,\n",
       " 854,\n",
       " 856,\n",
       " 858,\n",
       " 860,\n",
       " 862,\n",
       " 864,\n",
       " 866,\n",
       " 868,\n",
       " 870,\n",
       " 872,\n",
       " 874,\n",
       " 876,\n",
       " 878,\n",
       " 880,\n",
       " 882,\n",
       " 884,\n",
       " 886,\n",
       " 888,\n",
       " 890,\n",
       " 892,\n",
       " 894,\n",
       " 896,\n",
       " 898,\n",
       " 900,\n",
       " 902,\n",
       " 904,\n",
       " 906,\n",
       " 908,\n",
       " 910,\n",
       " 912,\n",
       " 914,\n",
       " 916,\n",
       " 918,\n",
       " 920,\n",
       " 922,\n",
       " 924,\n",
       " 926,\n",
       " 928,\n",
       " 930,\n",
       " 932,\n",
       " 934,\n",
       " 936,\n",
       " 938,\n",
       " 940,\n",
       " 942,\n",
       " 944,\n",
       " 946,\n",
       " 948,\n",
       " 950,\n",
       " 952,\n",
       " 954,\n",
       " 956,\n",
       " 958,\n",
       " 960,\n",
       " 962,\n",
       " 964,\n",
       " 966,\n",
       " 968,\n",
       " 970,\n",
       " 972,\n",
       " 974,\n",
       " 976,\n",
       " 978,\n",
       " 980,\n",
       " 982,\n",
       " 984,\n",
       " 986,\n",
       " 988,\n",
       " 990,\n",
       " 992,\n",
       " 994,\n",
       " 996,\n",
       " 998,\n",
       " 1000,\n",
       " 1002,\n",
       " 1004,\n",
       " 1006,\n",
       " 1008,\n",
       " 1010,\n",
       " 1012,\n",
       " 1014,\n",
       " 1016,\n",
       " 1018,\n",
       " 1020,\n",
       " 1022,\n",
       " 1024,\n",
       " 1026,\n",
       " 1028,\n",
       " 1030,\n",
       " 1032,\n",
       " 1034,\n",
       " 1036,\n",
       " 1038,\n",
       " 1040,\n",
       " 1042,\n",
       " 1044,\n",
       " 1046,\n",
       " 1048,\n",
       " 1050,\n",
       " 1052,\n",
       " 1054,\n",
       " 1056,\n",
       " 1058,\n",
       " 1060,\n",
       " 1062,\n",
       " 1064,\n",
       " 1066,\n",
       " 1068,\n",
       " 1070,\n",
       " 1072,\n",
       " 1074,\n",
       " 1076,\n",
       " 1078,\n",
       " 1080,\n",
       " 1082,\n",
       " 1084,\n",
       " 1086,\n",
       " 1088,\n",
       " 1090,\n",
       " 1092,\n",
       " 1094,\n",
       " 1096,\n",
       " 1098,\n",
       " 1100,\n",
       " 1102,\n",
       " 1104,\n",
       " 1106,\n",
       " 1108,\n",
       " 1110,\n",
       " 1112,\n",
       " 1114,\n",
       " 1116,\n",
       " 1118,\n",
       " 1120,\n",
       " 1122,\n",
       " 1124,\n",
       " 1126,\n",
       " 1128,\n",
       " 1130,\n",
       " 1132,\n",
       " 1134,\n",
       " 1136,\n",
       " 1138,\n",
       " 1140,\n",
       " 1142,\n",
       " 1144,\n",
       " 1146,\n",
       " 1148,\n",
       " 1150,\n",
       " 1152,\n",
       " 1154,\n",
       " 1156,\n",
       " 1158,\n",
       " 1160,\n",
       " 1162,\n",
       " 1164,\n",
       " 1166,\n",
       " 1168,\n",
       " 1170,\n",
       " 1172,\n",
       " 1174,\n",
       " 1176,\n",
       " 1178,\n",
       " 1180,\n",
       " 1182,\n",
       " 1184,\n",
       " 1186,\n",
       " 1188,\n",
       " 1190,\n",
       " 1192,\n",
       " 1194,\n",
       " 1196,\n",
       " 1198,\n",
       " 1200,\n",
       " 1202,\n",
       " 1204,\n",
       " 1206,\n",
       " 1208,\n",
       " 1210,\n",
       " 1212,\n",
       " 1214,\n",
       " 1216,\n",
       " 1218,\n",
       " 1220,\n",
       " 1222,\n",
       " 1224,\n",
       " 1226,\n",
       " 1228,\n",
       " 1230,\n",
       " 1232,\n",
       " 1234,\n",
       " 1236,\n",
       " 1238,\n",
       " 1240,\n",
       " 1242,\n",
       " 1244,\n",
       " 1246,\n",
       " 1248,\n",
       " 1250,\n",
       " 1252,\n",
       " 1254,\n",
       " 1256,\n",
       " 1258,\n",
       " 1260,\n",
       " 1262,\n",
       " 1264,\n",
       " 1266,\n",
       " 1268,\n",
       " 1270,\n",
       " 1272,\n",
       " 1274,\n",
       " 1276,\n",
       " 1278,\n",
       " 1280,\n",
       " 1282,\n",
       " 1284,\n",
       " 1286,\n",
       " 1288,\n",
       " 1290,\n",
       " 1292,\n",
       " 1294,\n",
       " 1296,\n",
       " 1298,\n",
       " 1300,\n",
       " 1302,\n",
       " 1304,\n",
       " 1306,\n",
       " 1308,\n",
       " 1310,\n",
       " 1312,\n",
       " 1314,\n",
       " 1316,\n",
       " 1318,\n",
       " 1320,\n",
       " 1322,\n",
       " 1324,\n",
       " 1326,\n",
       " 1328,\n",
       " 1330,\n",
       " 1332,\n",
       " 1334,\n",
       " 1336,\n",
       " 1338,\n",
       " 1340,\n",
       " 1342,\n",
       " 1344,\n",
       " 1346,\n",
       " 1348,\n",
       " 1350,\n",
       " 1352,\n",
       " 1354,\n",
       " 1356,\n",
       " 1358,\n",
       " 1360,\n",
       " 1362,\n",
       " 1364,\n",
       " 1366,\n",
       " 1368,\n",
       " 1370,\n",
       " 1372,\n",
       " 1374,\n",
       " 1376,\n",
       " 1378,\n",
       " 1380,\n",
       " 1382,\n",
       " 1384,\n",
       " 1386,\n",
       " 1388,\n",
       " 1390,\n",
       " 1392,\n",
       " 1394,\n",
       " 1396,\n",
       " 1398,\n",
       " 1400,\n",
       " 1402,\n",
       " 1404,\n",
       " 1406,\n",
       " 1408,\n",
       " 1410,\n",
       " 1412,\n",
       " 1414,\n",
       " 1416,\n",
       " 1418,\n",
       " 1420,\n",
       " 1422,\n",
       " 1424,\n",
       " 1426,\n",
       " 1428,\n",
       " 1430,\n",
       " 1432,\n",
       " 1434,\n",
       " 1436,\n",
       " 1438,\n",
       " 1440,\n",
       " 1442,\n",
       " 1444,\n",
       " 1446,\n",
       " 1448,\n",
       " 1450,\n",
       " 1452,\n",
       " 1454,\n",
       " 1456,\n",
       " 1458,\n",
       " 1460,\n",
       " 1462,\n",
       " 1464,\n",
       " 1466,\n",
       " 1468,\n",
       " 1470,\n",
       " 1472,\n",
       " 1474,\n",
       " 1476,\n",
       " 1478,\n",
       " 1480,\n",
       " 1482,\n",
       " 1484,\n",
       " 1486,\n",
       " 1488,\n",
       " 1490,\n",
       " 1492,\n",
       " 1494,\n",
       " 1496,\n",
       " 1498,\n",
       " 1500,\n",
       " 1502,\n",
       " 1504,\n",
       " 1506,\n",
       " 1508,\n",
       " 1510,\n",
       " 1512,\n",
       " 1514,\n",
       " 1516,\n",
       " 1518,\n",
       " 1520,\n",
       " 1522,\n",
       " 1524,\n",
       " 1526,\n",
       " 1528,\n",
       " 1530,\n",
       " 1532,\n",
       " 1534,\n",
       " 1536,\n",
       " 1538,\n",
       " 1540,\n",
       " 1542,\n",
       " 1544,\n",
       " 1546,\n",
       " 1548,\n",
       " 1550,\n",
       " 1552,\n",
       " 1554,\n",
       " 1556,\n",
       " 1558,\n",
       " 1560,\n",
       " 1562,\n",
       " 1564,\n",
       " 1566,\n",
       " 1568,\n",
       " 1570,\n",
       " 1572,\n",
       " 1574,\n",
       " 1576,\n",
       " 1578,\n",
       " 1580,\n",
       " 1582,\n",
       " 1584,\n",
       " 1586,\n",
       " 1588,\n",
       " 1590,\n",
       " 1592,\n",
       " 1594,\n",
       " 1596,\n",
       " 1598,\n",
       " 1600,\n",
       " 1602,\n",
       " 1604,\n",
       " 1606,\n",
       " 1608,\n",
       " 1610,\n",
       " 1612,\n",
       " 1614,\n",
       " 1616,\n",
       " 1618,\n",
       " 1620,\n",
       " 1622,\n",
       " 1624,\n",
       " 1626,\n",
       " 1628,\n",
       " 1630,\n",
       " 1632,\n",
       " 1634,\n",
       " 1636,\n",
       " 1638,\n",
       " 1640,\n",
       " 1642,\n",
       " 1644,\n",
       " 1646,\n",
       " 1648,\n",
       " 1650,\n",
       " 1652,\n",
       " 1654,\n",
       " 1656,\n",
       " 1658,\n",
       " 1660,\n",
       " 1662,\n",
       " 1664,\n",
       " 1666,\n",
       " 1668,\n",
       " 1670,\n",
       " 1672,\n",
       " 1674,\n",
       " 1676,\n",
       " 1678,\n",
       " 1680,\n",
       " 1682,\n",
       " 1684,\n",
       " 1686,\n",
       " 1688,\n",
       " 1690,\n",
       " 1692,\n",
       " 1694,\n",
       " 1696,\n",
       " 1698,\n",
       " 1700,\n",
       " 1702,\n",
       " 1704,\n",
       " 1706,\n",
       " 1708,\n",
       " 1710,\n",
       " 1712,\n",
       " 1714,\n",
       " 1716,\n",
       " 1718,\n",
       " 1720,\n",
       " 1722,\n",
       " 1724,\n",
       " 1726,\n",
       " 1728,\n",
       " 1730,\n",
       " 1732,\n",
       " 1734,\n",
       " 1736,\n",
       " 1738,\n",
       " 1740,\n",
       " 1742,\n",
       " 1744,\n",
       " 1746,\n",
       " 1748,\n",
       " 1750,\n",
       " 1752,\n",
       " 1754,\n",
       " 1756,\n",
       " 1758,\n",
       " 1760,\n",
       " 1762,\n",
       " 1764,\n",
       " 1766,\n",
       " 1768,\n",
       " 1770,\n",
       " 1772,\n",
       " 1774,\n",
       " 1776,\n",
       " 1778,\n",
       " 1780,\n",
       " 1782,\n",
       " 1784,\n",
       " 1786,\n",
       " 1788,\n",
       " 1790,\n",
       " 1792,\n",
       " 1794,\n",
       " 1796,\n",
       " 1798,\n",
       " 1800,\n",
       " 1802,\n",
       " 1804,\n",
       " 1806,\n",
       " 1808,\n",
       " 1810,\n",
       " 1812,\n",
       " 1814,\n",
       " 1816,\n",
       " 1818,\n",
       " 1820,\n",
       " 1822,\n",
       " 1824,\n",
       " 1826,\n",
       " 1828,\n",
       " 1830,\n",
       " 1832,\n",
       " 1834,\n",
       " 1836,\n",
       " 1838,\n",
       " 1840,\n",
       " 1842,\n",
       " 1844,\n",
       " 1846,\n",
       " 1848,\n",
       " 1850,\n",
       " 1852,\n",
       " 1854,\n",
       " 1856,\n",
       " 1858,\n",
       " 1860,\n",
       " 1862,\n",
       " 1864,\n",
       " 1866,\n",
       " 1868,\n",
       " 1870,\n",
       " 1872,\n",
       " 1874,\n",
       " 1876,\n",
       " 1878,\n",
       " 1880,\n",
       " 1882,\n",
       " 1884,\n",
       " 1886,\n",
       " 1888,\n",
       " 1890,\n",
       " 1892,\n",
       " 1894,\n",
       " 1896,\n",
       " 1898,\n",
       " 1900,\n",
       " 1902,\n",
       " 1904,\n",
       " 1906,\n",
       " 1908,\n",
       " 1910,\n",
       " 1912,\n",
       " 1914,\n",
       " 1916,\n",
       " 1918,\n",
       " 1920,\n",
       " 1922,\n",
       " 1924,\n",
       " 1926,\n",
       " 1928,\n",
       " 1930,\n",
       " 1932,\n",
       " 1934,\n",
       " 1936,\n",
       " 1938,\n",
       " 1940,\n",
       " 1942,\n",
       " 1944,\n",
       " 1946,\n",
       " 1948,\n",
       " 1950,\n",
       " 1952,\n",
       " 1954,\n",
       " 1956,\n",
       " 1958,\n",
       " 1960,\n",
       " 1962,\n",
       " 1964,\n",
       " 1966,\n",
       " 1968,\n",
       " 1970,\n",
       " 1972,\n",
       " 1974,\n",
       " 1976,\n",
       " 1978,\n",
       " 1980,\n",
       " 1982,\n",
       " 1984,\n",
       " 1986,\n",
       " 1988,\n",
       " 1990,\n",
       " 1992,\n",
       " 1994,\n",
       " 1996,\n",
       " 1998,\n",
       " ...]"
      ]
     },
     "execution_count": 6,
     "metadata": {},
     "output_type": "execute_result"
    }
   ],
   "source": [
    " %time for _ in range(10): my_list2 = [x * 2 for x in my_list]\n",
    "my_list2"
   ]
  },
  {
   "cell_type": "code",
   "execution_count": null,
   "metadata": {},
   "outputs": [],
   "source": []
  }
 ],
 "metadata": {
  "kernelspec": {
   "display_name": "Python 3",
   "language": "python",
   "name": "python3"
  },
  "language_info": {
   "codemirror_mode": {
    "name": "ipython",
    "version": 3
   },
   "file_extension": ".py",
   "mimetype": "text/x-python",
   "name": "python",
   "nbconvert_exporter": "python",
   "pygments_lexer": "ipython3",
   "version": "3.8.5"
  }
 },
 "nbformat": 4,
 "nbformat_minor": 4
}
