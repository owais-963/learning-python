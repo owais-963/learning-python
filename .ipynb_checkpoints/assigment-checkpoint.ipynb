{
 "cells": [
  {
   "cell_type": "code",
   "execution_count": 2,
   "metadata": {},
   "outputs": [],
   "source": [
    "import myapp"
   ]
  },
  {
   "cell_type": "code",
   "execution_count": 5,
   "metadata": {},
   "outputs": [
    {
     "name": "stdout",
     "output_type": "stream",
     "text": [
      "[{'name': 'Owais Ali Arshad', 'fname': 'Arshad ali', 'email': 'owais@.com', 'age': 18, 'adress': 'Karachi, Sindh, Pakistan', 'education': 'Intermediate', 'school': 'Islamia govt science collage'}, {'name': 'Uzair Ali Arshad', 'fname': 'Arshad ali', 'email': 'uzair.com', 'age': 17, 'adress': 'Karachi, Sindh, Pakistan', 'education': 'Matric', 'school': 'Iqra High School'}, {'name': 'Usaid Ullah Arshad', 'fname': 'Arshad ali', 'email': 'usaid.com', 'age': 12, 'adress': 'Karachi, Sindh, Pakistan', 'education': 'Primary', 'school': 'Native School'}, {'name': 'Humaid Ullah Arshad', 'fname': 'Arshad ali', 'email': 'Humaid.com', 'age': 7, 'adress': 'Karachi, Sindh, Pakistan', 'education': 'KG', 'school': 'Usman Public School'}]\n"
     ]
    }
   ],
   "source": [
    "myapp.view_app()"
   ]
  },
  {
   "cell_type": "code",
   "execution_count": 4,
   "metadata": {},
   "outputs": [],
   "source": [
    "myapp.send_app()"
   ]
  },
  {
   "cell_type": "code",
   "execution_count": null,
   "metadata": {},
   "outputs": [],
   "source": []
  },
  {
   "cell_type": "code",
   "execution_count": null,
   "metadata": {},
   "outputs": [],
   "source": []
  },
  {
   "cell_type": "code",
   "execution_count": null,
   "metadata": {},
   "outputs": [],
   "source": []
  },
  {
   "cell_type": "code",
   "execution_count": null,
   "metadata": {},
   "outputs": [],
   "source": []
  }
 ],
 "metadata": {
  "kernelspec": {
   "display_name": "Python 3",
   "language": "python",
   "name": "python3"
  },
  "language_info": {
   "codemirror_mode": {
    "name": "ipython",
    "version": 3
   },
   "file_extension": ".py",
   "mimetype": "text/x-python",
   "name": "python",
   "nbconvert_exporter": "python",
   "pygments_lexer": "ipython3",
   "version": "3.8.5"
  }
 },
 "nbformat": 4,
 "nbformat_minor": 4
}
