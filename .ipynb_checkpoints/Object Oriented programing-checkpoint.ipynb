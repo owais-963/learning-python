{
 "cells": [
  {
   "cell_type": "markdown",
   "metadata": {},
   "source": [
    "# Classes"
   ]
  },
  {
   "cell_type": "raw",
   "metadata": {},
   "source": [
    "classes has two feature \"Artibute\" and \"Behaviour\" every thing is class in python and object in a particular class has simlarties with his class \n",
    "\n",
    "ARTIBUTE:\n",
    "    Artibutes are variables in programing\n",
    "BEHAVIOUR:\n",
    "    behaviour are function in programing\n",
    " "
   ]
  },
  {
   "cell_type": "code",
   "execution_count": 1,
   "metadata": {},
   "outputs": [
    {
     "data": {
      "text/plain": [
       "[12, 32]"
      ]
     },
     "execution_count": 1,
     "metadata": {},
     "output_type": "execute_result"
    }
   ],
   "source": [
    "b=[]\n",
    "b.append(12)\n",
    "b.append(32)\n",
    "b"
   ]
  },
  {
   "cell_type": "code",
   "execution_count": 7,
   "metadata": {},
   "outputs": [
    {
     "data": {
      "text/plain": [
       "'    class Color():\\n        def __init__(self,color,dark_or_light):\\n            self.color=color\\n            self.dark_or_light=dark_or_light\\n        def Car_color(self):\\n            return (f\"Car color is {self.color} {self.dark_or_light}\")'"
      ]
     },
     "execution_count": 7,
     "metadata": {},
     "output_type": "execute_result"
    }
   ],
   "source": [
    "class Car():\n",
    "    def __init__(self,make,model,year,engine_CC):\n",
    "        self.make=make\n",
    "        self.model=model\n",
    "        self.year=year\n",
    "        self.engine_CC=engine_CC\n",
    "        self.battery=\"200amp\"\n",
    "        #self.color=self.Color()\n",
    "    def description_of_car(self):\n",
    "        a=print(f\"This car is made by {self.make} company\")\n",
    "        b=print(f\"The model of car is {self.model} of year {self.year}\")\n",
    "        c=print(f\"The car have {self.engine_CC} CC engine\")\n",
    "        d=print(f\"The size of baterry is {self.battery}\")\n",
    "        return print(a,b,c,d)\n",
    "    def BatterySize(self,newsize):\n",
    "        self.battery=newsize\n",
    "    def getBattery(self):\n",
    "        return print(f\"The size of baterry is {self.battery}\")\n",
    "\"\"\"    class Color():\n",
    "        def __init__(self,color,dark_or_light):\n",
    "            self.color=color\n",
    "            self.dark_or_light=dark_or_light\n",
    "        def Car_color(self):\n",
    "            return (f\"Car color is {self.color} {self.dark_or_light}\")\"\"\"\n",
    "        "
   ]
  },
  {
   "cell_type": "markdown",
   "metadata": {},
   "source": [
    "# Object of class"
   ]
  },
  {
   "cell_type": "code",
   "execution_count": 8,
   "metadata": {
    "scrolled": true
   },
   "outputs": [
    {
     "name": "stdout",
     "output_type": "stream",
     "text": [
      "This car is made by Honda company\n",
      "The model of car is Civic of year 2018\n",
      "The car have 1800 CC engine\n",
      "The size of baterry is 200amp\n",
      "None None None None\n",
      "None\n",
      "This car is made by suzuki company\n",
      "The model of car is Cultus of year 2014\n",
      "The car have 1100 CC engine\n",
      "The size of baterry is 200amp\n",
      "None None None None\n",
      "None\n"
     ]
    }
   ],
   "source": [
    "car1=Car(\"Honda\",\"Civic\",2018,1800)\n",
    "car2=Car(\"suzuki\",\"Cultus\",2014,1100)\n",
    "#car_color=Car.Color(\"red\",\"light\")\n",
    "#car_color=carcolor('red','light')\n",
    "print(car1.description_of_car())\n",
    "print(car2.description_of_car())\n",
    "#print(car_color.Car_color())"
   ]
  },
  {
   "cell_type": "markdown",
   "metadata": {},
   "source": [
    "# Changing Value of Artibutes"
   ]
  },
  {
   "cell_type": "code",
   "execution_count": 4,
   "metadata": {},
   "outputs": [
    {
     "name": "stdout",
     "output_type": "stream",
     "text": [
      "This car is made by Yamah company\n",
      "The model of car is unknown of year 2018\n",
      "The car have 1800 CC engine\n",
      "The size of baterry is 200amp\n",
      "This car is made by suzuki company\n",
      "The model of car is Cultus of year 2014\n",
      "The car have 1100 CC engine\n",
      "The size of baterry is 200amp\n"
     ]
    }
   ],
   "source": [
    "car1.make=\"Yamah\"\n",
    "car1.model=\"unknown\"\n",
    "(car1.description_of_car())\n",
    "car2.description_of_car()"
   ]
  },
  {
   "cell_type": "code",
   "execution_count": 5,
   "metadata": {},
   "outputs": [
    {
     "data": {
      "text/plain": [
       "'300amp'"
      ]
     },
     "execution_count": 5,
     "metadata": {},
     "output_type": "execute_result"
    }
   ],
   "source": [
    "car1.baterry=\"300amp\"\n",
    "car1.baterry\n",
    "#this methode is wrong nver hit the artibutes directly make functions to change the value of artibutes"
   ]
  },
  {
   "cell_type": "code",
   "execution_count": 6,
   "metadata": {},
   "outputs": [],
   "source": [
    "car1.BatterySize(400)"
   ]
  },
  {
   "cell_type": "code",
   "execution_count": 7,
   "metadata": {
    "scrolled": true
   },
   "outputs": [
    {
     "name": "stdout",
     "output_type": "stream",
     "text": [
      "The size of baterry is 400\n"
     ]
    }
   ],
   "source": [
    "car1.getBattery()"
   ]
  },
  {
   "cell_type": "code",
   "execution_count": 8,
   "metadata": {},
   "outputs": [
    {
     "data": {
      "text/plain": [
       "'try:\\n    a=int(input(\"How many Time you have to make variables: \"))\\n    for i in range(1,a+1):\\n        b=input()\\n        var,i=b\\n        print(vari,i)\\nexcept ValueError:\\n    print(\"Not valid\")'"
      ]
     },
     "execution_count": 8,
     "metadata": {},
     "output_type": "execute_result"
    }
   ],
   "source": [
    "\"\"\"try:\n",
    "    a=int(input(\"How many Time you have to make variables: \"))\n",
    "    for i in range(1,a+1):\n",
    "        b=input()\n",
    "        var,i=b\n",
    "        print(vari,i)\n",
    "except ValueError:\n",
    "    print(\"Not valid\")\"\"\""
   ]
  },
  {
   "cell_type": "code",
   "execution_count": 19,
   "metadata": {},
   "outputs": [
    {
     "name": "stdout",
     "output_type": "stream",
     "text": [
      "Enter how many variable youn want to enter: sffsdfs\n"
     ]
    }
   ],
   "source": [
    "d={}\n",
    "try:\n",
    "    w=True\n",
    "    while w:\n",
    "        c=int(input(\"Enter how many variable youn want to enter: \"))\n",
    "        break\n",
    "except Exception as e:\n",
    "    if e is ValueError:\n",
    "        w=True\n",
    "for i in range(0,c):\n",
    "    a=input(\"enter varibles: \")\n",
    "    b=input(\"Enter value: \")\n",
    "    d[a]=b\n"
   ]
  },
  {
   "cell_type": "code",
   "execution_count": null,
   "metadata": {},
   "outputs": [],
   "source": []
  },
  {
   "cell_type": "code",
   "execution_count": null,
   "metadata": {},
   "outputs": [],
   "source": []
  },
  {
   "cell_type": "code",
   "execution_count": null,
   "metadata": {},
   "outputs": [],
   "source": []
  }
 ],
 "metadata": {
  "kernelspec": {
   "display_name": "Python 3",
   "language": "python",
   "name": "python3"
  },
  "language_info": {
   "codemirror_mode": {
    "name": "ipython",
    "version": 3
   },
   "file_extension": ".py",
   "mimetype": "text/x-python",
   "name": "python",
   "nbconvert_exporter": "python",
   "pygments_lexer": "ipython3",
   "version": "3.8.5"
  }
 },
 "nbformat": 4,
 "nbformat_minor": 4
}
