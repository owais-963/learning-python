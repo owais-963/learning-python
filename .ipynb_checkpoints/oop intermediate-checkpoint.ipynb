{
 "cells": [
  {
   "cell_type": "code",
   "execution_count": 68,
   "metadata": {},
   "outputs": [],
   "source": [
    "class User():\n",
    "    def __init__(self,*arg):\n",
    "        self.arg=arg\n",
    "    def get_all(self):\n",
    "        return print(self.arg)\n",
    "\n",
    "#User1.get_value"
   ]
  },
  {
   "cell_type": "code",
   "execution_count": 69,
   "metadata": {},
   "outputs": [
    {
     "ename": "AttributeError",
     "evalue": "type object 'user_info' has no attribute 'arg'",
     "output_type": "error",
     "traceback": [
      "\u001b[1;31m---------------------------------------------------------------------------\u001b[0m",
      "\u001b[1;31mAttributeError\u001b[0m                            Traceback (most recent call last)",
      "\u001b[1;32m<ipython-input-69-51ef48aeeea1>\u001b[0m in \u001b[0;36m<module>\u001b[1;34m\u001b[0m\n\u001b[0;32m      3\u001b[0m     \u001b[0memai\u001b[0m\u001b[1;33m=\u001b[0m\u001b[1;34m'owais@.com'\u001b[0m\u001b[1;33m\u001b[0m\u001b[1;33m\u001b[0m\u001b[0m\n\u001b[0;32m      4\u001b[0m     \u001b[0mpassword\u001b[0m\u001b[1;33m=\u001b[0m\u001b[1;36m123\u001b[0m\u001b[1;33m\u001b[0m\u001b[1;33m\u001b[0m\u001b[0m\n\u001b[1;32m----> 5\u001b[1;33m \u001b[0mUser\u001b[0m\u001b[1;33m.\u001b[0m\u001b[0mget_all\u001b[0m\u001b[1;33m(\u001b[0m\u001b[0muser_info\u001b[0m\u001b[1;33m)\u001b[0m\u001b[1;33m\u001b[0m\u001b[1;33m\u001b[0m\u001b[0m\n\u001b[0m",
      "\u001b[1;32m<ipython-input-68-819f62854000>\u001b[0m in \u001b[0;36mget_all\u001b[1;34m(self)\u001b[0m\n\u001b[0;32m      3\u001b[0m         \u001b[0mself\u001b[0m\u001b[1;33m.\u001b[0m\u001b[0marg\u001b[0m\u001b[1;33m=\u001b[0m\u001b[0marg\u001b[0m\u001b[1;33m\u001b[0m\u001b[1;33m\u001b[0m\u001b[0m\n\u001b[0;32m      4\u001b[0m     \u001b[1;32mdef\u001b[0m \u001b[0mget_all\u001b[0m\u001b[1;33m(\u001b[0m\u001b[0mself\u001b[0m\u001b[1;33m)\u001b[0m\u001b[1;33m:\u001b[0m\u001b[1;33m\u001b[0m\u001b[1;33m\u001b[0m\u001b[0m\n\u001b[1;32m----> 5\u001b[1;33m         \u001b[1;32mreturn\u001b[0m \u001b[0mprint\u001b[0m\u001b[1;33m(\u001b[0m\u001b[0mself\u001b[0m\u001b[1;33m.\u001b[0m\u001b[0marg\u001b[0m\u001b[1;33m)\u001b[0m\u001b[1;33m\u001b[0m\u001b[1;33m\u001b[0m\u001b[0m\n\u001b[0m\u001b[0;32m      6\u001b[0m \u001b[1;33m\u001b[0m\u001b[0m\n\u001b[0;32m      7\u001b[0m \u001b[1;31m#User1.get_value\u001b[0m\u001b[1;33m\u001b[0m\u001b[1;33m\u001b[0m\u001b[1;33m\u001b[0m\u001b[0m\n",
      "\u001b[1;31mAttributeError\u001b[0m: type object 'user_info' has no attribute 'arg'"
     ]
    }
   ],
   "source": [
    "class user_info(User):\n",
    "    name='owais'\n",
    "    emai='owais@.com'\n",
    "    password=123\n",
    "User.get_all(user_info)"
   ]
  },
  {
   "cell_type": "code",
   "execution_count": 36,
   "metadata": {},
   "outputs": [
    {
     "data": {
      "text/plain": [
       "\"name='owais'\\n    email='sdnbdb'\\n    password='123'    \\n'''User2=User.make_class('user_info')\\nUser2.get_value()'''\""
      ]
     },
     "execution_count": 36,
     "metadata": {},
     "output_type": "execute_result"
    }
   ],
   "source": [
    "c=User.make_class('user_info')\n",
    "c\n",
    "\"\"\"name='owais'\n",
    "    email='sdnbdb'\n",
    "    password='123'    \n",
    "'''User2=User.make_class('user_info')\n",
    "User2.get_value()'''\"\"\""
   ]
  },
  {
   "cell_type": "code",
   "execution_count": 2,
   "metadata": {},
   "outputs": [],
   "source": [
    "class name():\n",
    "    def __init__(self,name,age):\n",
    "        self.name=name\n",
    "        self.age=age\n",
    "    def get(self):\n",
    "        print(self.name,self.age)"
   ]
  },
  {
   "cell_type": "code",
   "execution_count": null,
   "metadata": {},
   "outputs": [],
   "source": []
  },
  {
   "cell_type": "code",
   "execution_count": 123,
   "metadata": {},
   "outputs": [],
   "source": [
    "class unknown_arg():\n",
    "    def __init__(self,*arg):\n",
    "        self.arg=arg\n",
    "        self.arg=self.add\n",
    "    def get_val(self):\n",
    "        return print(self.arg)"
   ]
  },
  {
   "cell_type": "code",
   "execution_count": 90,
   "metadata": {},
   "outputs": [],
   "source": [
    "multi_arg=unknown_arg('owais','18','student')"
   ]
  },
  {
   "cell_type": "code",
   "execution_count": 91,
   "metadata": {},
   "outputs": [
    {
     "name": "stdout",
     "output_type": "stream",
     "text": [
      "('owais', '18', 'student')\n"
     ]
    }
   ],
   "source": [
    "multi_arg.get_val()"
   ]
  },
  {
   "cell_type": "code",
   "execution_count": 312,
   "metadata": {},
   "outputs": [],
   "source": [
    "def cheeseshop(kind, *arguments, **keywords):\n",
    "    print(\"-- Do you have any\", kind, \"?\")\n",
    "    print(\"-- I'm sorry, we're all out of\", kind)\n",
    "    for arg in arguments:\n",
    "        print(arg)\n",
    "    print(\"-\" * 40)\n",
    "    for kw in keywords:\n",
    "        print(kw, \":\", keywords[kw])"
   ]
  },
  {
   "cell_type": "code",
   "execution_count": 313,
   "metadata": {},
   "outputs": [
    {
     "name": "stdout",
     "output_type": "stream",
     "text": [
      "-- Do you have any milk ?\n",
      "-- I'm sorry, we're all out of milk\n",
      "10kg\n",
      "----------------------------------------\n",
      "quality : supper\n"
     ]
    }
   ],
   "source": [
    "cheeseshop('milk','10kg',quality='supper')"
   ]
  },
  {
   "cell_type": "code",
   "execution_count": 132,
   "metadata": {},
   "outputs": [],
   "source": [
    "class more_unknown():\n",
    "    def __init__(self,*argumentss):\n",
    "        self.argumentss=argumentss\n",
    "    def get(self):\n",
    "        for arg in self.argumentss:\n",
    "            print(arg)"
   ]
  },
  {
   "cell_type": "code",
   "execution_count": 133,
   "metadata": {},
   "outputs": [
    {
     "name": "stdout",
     "output_type": "stream",
     "text": [
      "1\n",
      "2\n",
      "345\n",
      "52\n",
      "35\n",
      "677\n",
      "8\n"
     ]
    }
   ],
   "source": [
    "ex1=more_unknown(1,2,345,52,35,677,8)\n",
    "ex1.get()"
   ]
  },
  {
   "cell_type": "code",
   "execution_count": 155,
   "metadata": {},
   "outputs": [],
   "source": [
    "class unknown_kwrg():\n",
    "    def __init__(self,**Kwargumentss):\n",
    "        self.Kwargumentss=Kwargumentss\n",
    "    def key_val(self):\n",
    "        print(self.Kwargumentss)"
   ]
  },
  {
   "cell_type": "code",
   "execution_count": 156,
   "metadata": {},
   "outputs": [],
   "source": [
    "kwrg=unknown_kwrg(name='owais',age='18',profession='student')"
   ]
  },
  {
   "cell_type": "code",
   "execution_count": 157,
   "metadata": {},
   "outputs": [
    {
     "name": "stdout",
     "output_type": "stream",
     "text": [
      "{'name': 'owais', 'age': '18', 'profession': 'student'}\n"
     ]
    }
   ],
   "source": [
    "kwrg.key_val()"
   ]
  },
  {
   "cell_type": "code",
   "execution_count": 139,
   "metadata": {},
   "outputs": [],
   "source": [
    "x=unknown_kwrg"
   ]
  },
  {
   "cell_type": "code",
   "execution_count": 186,
   "metadata": {},
   "outputs": [],
   "source": [
    "def make_class(Class):\n",
    "    class Class():\n",
    "        def __init__(self,**kwrg):\n",
    "            self.kwrg=kwrg\n",
    "        def show(self):\n",
    "            print(self.kwrg)\n",
    "    Class=Class\n",
    "    return Class\n",
    "    "
   ]
  },
  {
   "cell_type": "code",
   "execution_count": 188,
   "metadata": {},
   "outputs": [
    {
     "data": {
      "text/plain": [
       "__main__.unknown_kwrg"
      ]
     },
     "execution_count": 188,
     "metadata": {},
     "output_type": "execute_result"
    }
   ],
   "source": [
    "Operate=make_class('operate')"
   ]
  },
  {
   "cell_type": "code",
   "execution_count": 203,
   "metadata": {},
   "outputs": [
    {
     "name": "stdout",
     "output_type": "stream",
     "text": [
      "{'name': 'uzair', 'age': 17, 'profession': 'student'}\n"
     ]
    }
   ],
   "source": [
    "Operater=Operate(name='uzair',age=17,profession='student')\n",
    "Operate.show(Operater)"
   ]
  },
  {
   "cell_type": "code",
   "execution_count": 174,
   "metadata": {},
   "outputs": [
    {
     "data": {
      "text/plain": [
       "[]"
      ]
     },
     "execution_count": 174,
     "metadata": {},
     "output_type": "execute_result"
    }
   ],
   "source": []
  },
  {
   "cell_type": "code",
   "execution_count": 169,
   "metadata": {},
   "outputs": [],
   "source": [
    "    class Class():\n",
    "        def __init__(self,**kwrg):\n",
    "            self.kwrg=kwrg\n",
    "        def show(self):\n",
    "            print(self.kwrg)\n",
    "class1=Class(no=1,man=2,me=3)"
   ]
  },
  {
   "cell_type": "code",
   "execution_count": 170,
   "metadata": {},
   "outputs": [
    {
     "name": "stdout",
     "output_type": "stream",
     "text": [
      "{'no': 1, 'man': 2, 'me': 3}\n"
     ]
    }
   ],
   "source": [
    "class1.show()"
   ]
  },
  {
   "cell_type": "code",
   "execution_count": 206,
   "metadata": {},
   "outputs": [],
   "source": [
    "def make_class(Class):\n",
    "    class Class():\n",
    "        def __init__(self,kwrg):\n",
    "            self.kwrg=kwrg\n",
    "        def show(self):\n",
    "            print(self.kwrg)\n",
    "    Class=Class\n",
    "    return Class"
   ]
  },
  {
   "cell_type": "code",
   "execution_count": 207,
   "metadata": {},
   "outputs": [],
   "source": [
    "Class_of_class=make_class('classes')\n",
    "a=Class_of_class('12')"
   ]
  },
  {
   "cell_type": "code",
   "execution_count": 208,
   "metadata": {},
   "outputs": [
    {
     "name": "stdout",
     "output_type": "stream",
     "text": [
      "12\n"
     ]
    }
   ],
   "source": [
    "Class_of_class.show(a)"
   ]
  },
  {
   "cell_type": "code",
   "execution_count": 239,
   "metadata": {},
   "outputs": [],
   "source": [
    "User=[]\n",
    "class model():\n",
    "    def __init__(self,*arg):\n",
    "        self.arg=arg\n",
    "    def make_class(Class):\n",
    "        class Class(model):\n",
    "            def __init__(self,**kwrg):\n",
    "                self.kwrg=kwrg\n",
    "            def show(self):\n",
    "                print(self.kwrg)\n",
    "            def appending(self):\n",
    "                User.append(self.kwrg)\n",
    "        appending(self.kwrg)\n",
    "        Class=Class\n",
    "        return Class\n",
    "    def get(self):\n",
    "        print(self.arg)\n"
   ]
  },
  {
   "cell_type": "code",
   "execution_count": 257,
   "metadata": {},
   "outputs": [
    {
     "name": "stdout",
     "output_type": "stream",
     "text": [
      "(<class '__main__.make_class.<locals>.Class'>,)\n"
     ]
    }
   ],
   "source": [
    "user=model(a_c"
   ]
  },
  {
   "cell_type": "code",
   "execution_count": 240,
   "metadata": {},
   "outputs": [],
   "source": [
    "a_class=make_class('user_info')"
   ]
  },
  {
   "cell_type": "code",
   "execution_count": 241,
   "metadata": {},
   "outputs": [],
   "source": [
    "A_class=a_class('owais')"
   ]
  },
  {
   "cell_type": "code",
   "execution_count": 243,
   "metadata": {},
   "outputs": [
    {
     "name": "stdout",
     "output_type": "stream",
     "text": [
      "owais\n"
     ]
    }
   ],
   "source": [
    "a_class.show(A_class)"
   ]
  },
  {
   "cell_type": "code",
   "execution_count": 244,
   "metadata": {},
   "outputs": [],
   "source": [
    "User.append(a_class)"
   ]
  },
  {
   "cell_type": "code",
   "execution_count": 245,
   "metadata": {},
   "outputs": [
    {
     "data": {
      "text/plain": [
       "[__main__.make_class.<locals>.Class]"
      ]
     },
     "execution_count": 245,
     "metadata": {},
     "output_type": "execute_result"
    }
   ],
   "source": [
    "User"
   ]
  },
  {
   "cell_type": "code",
   "execution_count": 246,
   "metadata": {},
   "outputs": [
    {
     "name": "stdout",
     "output_type": "stream",
     "text": [
      "[<class '__main__.make_class.<locals>.Class'>]\n"
     ]
    }
   ],
   "source": [
    "print(User)"
   ]
  },
  {
   "cell_type": "code",
   "execution_count": 247,
   "metadata": {},
   "outputs": [
    {
     "name": "stdout",
     "output_type": "stream",
     "text": [
      "owais\n"
     ]
    }
   ],
   "source": [
    "User[0].show(A_class)"
   ]
  },
  {
   "cell_type": "code",
   "execution_count": 248,
   "metadata": {},
   "outputs": [
    {
     "data": {
      "text/plain": [
       "[__main__.make_class.<locals>.Class]"
      ]
     },
     "execution_count": 248,
     "metadata": {},
     "output_type": "execute_result"
    }
   ],
   "source": [
    "User"
   ]
  },
  {
   "cell_type": "code",
   "execution_count": 249,
   "metadata": {},
   "outputs": [],
   "source": [
    "User.append(model)"
   ]
  },
  {
   "cell_type": "code",
   "execution_count": 375,
   "metadata": {},
   "outputs": [],
   "source": [
    "class Model():\n",
    "    def __init__(self,kwarg):\n",
    "        self.kwarg=kwarg\n",
    "    def get(self):\n",
    "        print(self.kwarg)"
   ]
  },
  {
   "cell_type": "code",
   "execution_count": 380,
   "metadata": {},
   "outputs": [],
   "source": [
    "class model1(Model):\n",
    "    name=\"owais\"\n",
    "    age='18'\n",
    "    profession='progamer'\n",
    "    class models(model1):\n",
    "        post='post'\n",
    "        Id='id'\n",
    "        comment='comment'"
   ]
  },
  {
   "cell_type": "code",
   "execution_count": 381,
   "metadata": {},
   "outputs": [],
   "source": [
    "model=Model(model1)\n"
   ]
  },
  {
   "cell_type": "code",
   "execution_count": 382,
   "metadata": {},
   "outputs": [
    {
     "data": {
      "text/plain": [
       "'comment'"
      ]
     },
     "execution_count": 382,
     "metadata": {},
     "output_type": "execute_result"
    }
   ],
   "source": [
    "model.kwarg.models.comment"
   ]
  },
  {
   "cell_type": "code",
   "execution_count": 1,
   "metadata": {},
   "outputs": [],
   "source": [
    "import myapp"
   ]
  },
  {
   "cell_type": "code",
   "execution_count": 2,
   "metadata": {},
   "outputs": [
    {
     "name": "stdout",
     "output_type": "stream",
     "text": [
      "[{'name': 'Owais Ali Arshad', 'fname': 'Arshad ali', 'email': 'owais@.com', 'age': 18, 'adress': 'Karachi, Sindh, Pakistan', 'education': 'Intermediate', 'school': 'Islamia govt science collage'}, {'name': 'Uzair Ali Arshad', 'fname': 'Arshad ali', 'email': 'uzair.com', 'age': 17, 'adress': 'Karachi, Sindh, Pakistan', 'education': 'Matric', 'school': 'Iqra High School'}, {'name': 'Usaid Ullah Arshad', 'fname': 'Arshad ali', 'email': 'usaid.com', 'age': 12, 'adress': 'Karachi, Sindh, Pakistan', 'education': 'Primary', 'school': 'Native School'}, {'name': 'Humaid Ullah Arshad', 'fname': 'Arshad ali', 'email': 'Humaid.com', 'age': 7, 'adress': 'Karachi, Sindh, Pakistan', 'education': 'KG', 'school': 'Usman Public School'}]\n"
     ]
    }
   ],
   "source": [
    "myapp.view_app()"
   ]
  },
  {
   "cell_type": "code",
   "execution_count": 3,
   "metadata": {},
   "outputs": [],
   "source": [
    "myapp.send_app()"
   ]
  },
  {
   "cell_type": "code",
   "execution_count": null,
   "metadata": {},
   "outputs": [],
   "source": []
  }
 ],
 "metadata": {
  "kernelspec": {
   "display_name": "Python 3",
   "language": "python",
   "name": "python3"
  },
  "language_info": {
   "codemirror_mode": {
    "name": "ipython",
    "version": 3
   },
   "file_extension": ".py",
   "mimetype": "text/x-python",
   "name": "python",
   "nbconvert_exporter": "python",
   "pygments_lexer": "ipython3",
   "version": "3.8.5"
  }
 },
 "nbformat": 4,
 "nbformat_minor": 4
}
