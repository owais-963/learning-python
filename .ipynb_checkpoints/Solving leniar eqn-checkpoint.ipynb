{
 "cells": [
  {
   "cell_type": "code",
   "execution_count": 76,
   "metadata": {},
   "outputs": [],
   "source": [
    "def leniarAlg(a1=0,a2=0,b1=0,b2=0,c1=0,c2=0):\n",
    "    \n",
    "    #Eqn is:\n",
    "        # a1 + b1 = c1\n",
    "        # a2 + b2 = c2\n",
    "    \n",
    "    #A=[[a1,b1],\n",
    "    #   [a2,b2]]\n",
    "    \n",
    "    #C=[[c1],\n",
    "    #   [c2]]\n",
    "    \n",
    "    #Z=[[x],\n",
    "    #   [y]]\n",
    "    \n",
    "    #Formula:\n",
    "        #Z=A^-1.C\n",
    "    \n",
    "        #A^-1= 1/|A| * Adj(A)\n",
    "    \n",
    "        #|A|=(a1*b2)-(b1*a2)\n",
    "    \n",
    "    detA=(a1*b2)-(b1*a2)\n",
    "    \n",
    "    if detA!=0:\n",
    "\n",
    "            #Adj(A)=[[b2,-b1],\n",
    "            #        [-a2,a1]]\n",
    "\n",
    "        Adja=[[b2,-b1],\n",
    "              [-a2,a1]]\n",
    "\n",
    "        #Finding Inverse of A A^-1\n",
    "\n",
    "        inA=Adja.copy()\n",
    "\n",
    "        for i in range(len(Adja)):\n",
    "            for j in range(len(Adja[i])):\n",
    "                inA[i][j]=Adja[i][j]/detA\n",
    "\n",
    "        # Finding z or soloution set\n",
    "\n",
    "        #Z= A^-1.C\n",
    "\n",
    "        #Z=[[inA[0][0],inA[0][1]],     [[c1],\n",
    "        #   [inA[1][0],inA[1][1]]]  X   [c2]]\n",
    "\n",
    "        #Z=[[inA[0][0]xc1+inA[0][1]xc2],    \n",
    "        #   [inA[1][0]xc1+inA[1][1]]xc2]\n",
    "\n",
    "\n",
    "\n",
    "        x=(inA[0][0]*c1)+(inA[0][1]*c2)\n",
    "        y=(inA[1][0]*c1)+(inA[1][1]*c2)\n",
    "\n",
    "        Z=[[x] ,\n",
    "           [y]]\n",
    "\n",
    "        return Z\n",
    "    \n",
    "    else:\n",
    "        return print(\"Determenent becomes 0 Souttion Does not Exist\")\n",
    "    \n",
    "\n",
    "    "
   ]
  },
  {
   "cell_type": "code",
   "execution_count": 77,
   "metadata": {},
   "outputs": [
    {
     "data": {
      "text/plain": [
       "[[-1.5], [2.5]]"
      ]
     },
     "execution_count": 77,
     "metadata": {},
     "output_type": "execute_result"
    }
   ],
   "source": [
    "mat(2,3,4,5,7,8)"
   ]
  },
  {
   "cell_type": "code",
   "execution_count": 80,
   "metadata": {},
   "outputs": [],
   "source": [
    "a=mat(4,5,6,9,6,3)"
   ]
  },
  {
   "cell_type": "code",
   "execution_count": 85,
   "metadata": {},
   "outputs": [
    {
     "name": "stdout",
     "output_type": "stream",
     "text": [
      "Determenent becomes 0 Does not Exist\n"
     ]
    }
   ],
   "source": [
    "mat(6,3,4,2,9,8)"
   ]
  },
  {
   "cell_type": "code",
   "execution_count": null,
   "metadata": {},
   "outputs": [],
   "source": []
  },
  {
   "cell_type": "code",
   "execution_count": null,
   "metadata": {},
   "outputs": [],
   "source": []
  },
  {
   "cell_type": "code",
   "execution_count": 61,
   "metadata": {},
   "outputs": [
    {
     "name": "stdout",
     "output_type": "stream",
     "text": [
      "[[], [], 0.3333333333333333]\n",
      "[[], [], 0.6666666666666666]\n",
      "[[], [], 1.0]\n",
      "[[], [], 0.3333333333333333]\n",
      "[[1, 2], [3, 1]]\n"
     ]
    },
    {
     "data": {
      "text/plain": [
       "[[1, 2], [3, 0.3333333333333333]]"
      ]
     },
     "execution_count": 61,
     "metadata": {},
     "output_type": "execute_result"
    }
   ],
   "source": [
    "a=[[1,2],\n",
    "   [3,1]]\n",
    "c=a\n",
    "for i in a:\n",
    "    for j in range(2):\n",
    "        b=[[],[]]\n",
    "        b.append(i[j]/3)\n",
    "        print(b)\n",
    "print(a)\n",
    "c[1][1]=c[1][1]/3\n",
    "c"
   ]
  },
  {
   "cell_type": "code",
   "execution_count": 62,
   "metadata": {},
   "outputs": [
    {
     "data": {
      "text/plain": [
       "(-2.5, 2.0, 1.5, -1.0)"
      ]
     },
     "execution_count": 62,
     "metadata": {},
     "output_type": "execute_result"
    }
   ],
   "source": [
    "5/-2,-4/-2,-3/-2,2/-2"
   ]
  },
  {
   "cell_type": "code",
   "execution_count": 46,
   "metadata": {},
   "outputs": [
    {
     "name": "stdout",
     "output_type": "stream",
     "text": [
      "[[2, 2], [2, 2]] [[2, 2], [2, 2]]\n"
     ]
    }
   ],
   "source": [
    "a=[[5,-4],\n",
    " [-3,2]]\n",
    "b=a.copy()\n",
    "for i in range(2):\n",
    "    for j in range(2):\n",
    "        b[i][j]=2\n",
    "print(a,b)"
   ]
  },
  {
   "cell_type": "code",
   "execution_count": null,
   "metadata": {},
   "outputs": [],
   "source": []
  },
  {
   "cell_type": "code",
   "execution_count": null,
   "metadata": {},
   "outputs": [],
   "source": [
    "A=[[2,1,4],\n",
    "   [3,5,6],\n",
    "   [1,7,2]]\n",
    "B=[[4],\n",
    "   [6],\n",
    "   [9]]\n",
    "\n",
    "C=[[2,1,4,4],\n",
    "   [3,5,6,6],\n",
    "   [1,7,2,9]]"
   ]
  },
  {
   "cell_type": "code",
   "execution_count": null,
   "metadata": {},
   "outputs": [],
   "source": [
    "# a1+b1+c1=k\n",
    "# a2+b2+c2=k\n",
    "# a3+b3+c3=k"
   ]
  },
  {
   "cell_type": "code",
   "execution_count": 99,
   "metadata": {},
   "outputs": [],
   "source": [
    "def jacobiMethod(a1,a2,a3,b1,b2,b3,c1,c2,c3,k1,k2,k3):\n",
    "\n",
    "    x=0\n",
    "    y=0\n",
    "    z=0\n",
    "\n",
    "    K=a1*x+b1*y+c1*z\n",
    "\n",
    "    i=0\n",
    "    \n",
    "    while (K!=k1):\n",
    "\n",
    "        x=(k1-(b1*y)-(c1*z))/a1\n",
    "\n",
    "        y=(k2-(a2*x)-(c2*z))/b2\n",
    "\n",
    "        z=(k3-(a3*x)-(b3*y))/c3\n",
    "        \n",
    "        i+=1\n",
    "        \n",
    "        print(i)\n",
    "        \n",
    "        \n",
    "    return x , y ,z"
   ]
  },
  {
   "cell_type": "code",
   "execution_count": 100,
   "metadata": {
    "scrolled": false
   },
   "outputs": [],
   "source": [
    "#itrativ(27,6,1,6,15,1,-1,-12,54,85,72,110)"
   ]
  },
  {
   "cell_type": "code",
   "execution_count": 126,
   "metadata": {},
   "outputs": [
    {
     "name": "stdout",
     "output_type": "stream",
     "text": [
      "[0, 0, 0]\n",
      "index out of range\n",
      "index out of range\n",
      "index out of range\n",
      "6 [0, 0, 0]\n"
     ]
    }
   ],
   "source": [
    "a=[[1,2,3],[1,1,1],[1,1,1]]\n",
    "var=[]\n",
    "for i in range(len(a)):\n",
    "    var.append(0)\n",
    "print(var)\n",
    "run=0\n",
    "for i in range(len(a)):\n",
    "    for j in range(len(a)):\n",
    "        if j==(len(a)-1):\n",
    "            print(\"index out of range\")\n",
    "        else:\n",
    "            var[i]=var[i]+(a[i][j]*var[j+1])\n",
    "            run+=1\n",
    "print(run,var)\n",
    "\n"
   ]
  },
  {
   "cell_type": "code",
   "execution_count": 117,
   "metadata": {},
   "outputs": [
    {
     "ename": "TypeError",
     "evalue": "'int' object is not subscriptable",
     "output_type": "error",
     "traceback": [
      "\u001b[1;31m---------------------------------------------------------------------------\u001b[0m",
      "\u001b[1;31mTypeError\u001b[0m                                 Traceback (most recent call last)",
      "\u001b[1;32m<ipython-input-117-84d31fd595fa>\u001b[0m in \u001b[0;36m<module>\u001b[1;34m\u001b[0m\n\u001b[0;32m      1\u001b[0m \u001b[0ma\u001b[0m\u001b[1;33m=\u001b[0m\u001b[0mlist\u001b[0m\u001b[1;33m(\u001b[0m\u001b[0mrange\u001b[0m\u001b[1;33m(\u001b[0m\u001b[1;36m10\u001b[0m\u001b[1;33m)\u001b[0m\u001b[1;33m)\u001b[0m\u001b[1;33m\u001b[0m\u001b[1;33m\u001b[0m\u001b[0m\n\u001b[0;32m      2\u001b[0m \u001b[0mb\u001b[0m\u001b[1;33m=\u001b[0m\u001b[0mlist\u001b[0m\u001b[1;33m(\u001b[0m\u001b[0mrange\u001b[0m\u001b[1;33m(\u001b[0m\u001b[1;36m10\u001b[0m\u001b[1;33m)\u001b[0m\u001b[1;33m)\u001b[0m\u001b[1;33m\u001b[0m\u001b[1;33m\u001b[0m\u001b[0m\n\u001b[1;32m----> 3\u001b[1;33m \u001b[0mvargen\u001b[0m\u001b[1;33m(\u001b[0m\u001b[0ma\u001b[0m\u001b[1;33m,\u001b[0m\u001b[0mb\u001b[0m\u001b[1;33m)\u001b[0m\u001b[1;33m\u001b[0m\u001b[1;33m\u001b[0m\u001b[0m\n\u001b[0m\u001b[0;32m      4\u001b[0m \u001b[0ma\u001b[0m\u001b[1;33m\u001b[0m\u001b[1;33m\u001b[0m\u001b[0m\n",
      "\u001b[1;32m<ipython-input-116-8ffca1458254>\u001b[0m in \u001b[0;36mvargen\u001b[1;34m(a, b)\u001b[0m\n\u001b[0;32m      5\u001b[0m             \u001b[0mvar\u001b[0m\u001b[1;33m.\u001b[0m\u001b[0mappend\u001b[0m\u001b[1;33m(\u001b[0m\u001b[1;36m0\u001b[0m\u001b[1;33m)\u001b[0m\u001b[1;33m\u001b[0m\u001b[1;33m\u001b[0m\u001b[0m\n\u001b[0;32m      6\u001b[0m             \u001b[1;32mfor\u001b[0m \u001b[0mj\u001b[0m \u001b[1;32min\u001b[0m \u001b[0mrange\u001b[0m\u001b[1;33m(\u001b[0m\u001b[0mlen\u001b[0m\u001b[1;33m(\u001b[0m\u001b[0ma\u001b[0m\u001b[1;33m)\u001b[0m\u001b[1;33m)\u001b[0m\u001b[1;33m:\u001b[0m\u001b[1;33m\u001b[0m\u001b[1;33m\u001b[0m\u001b[0m\n\u001b[1;32m----> 7\u001b[1;33m                 \u001b[0mvar\u001b[0m\u001b[1;33m[\u001b[0m\u001b[0mi\u001b[0m\u001b[1;33m]\u001b[0m\u001b[1;33m=\u001b[0m\u001b[0mvar\u001b[0m\u001b[1;33m[\u001b[0m\u001b[0mi\u001b[0m\u001b[1;33m]\u001b[0m\u001b[1;33m+\u001b[0m\u001b[1;33m(\u001b[0m\u001b[0ma\u001b[0m\u001b[1;33m[\u001b[0m\u001b[0mi\u001b[0m\u001b[1;33m]\u001b[0m\u001b[1;33m[\u001b[0m\u001b[0mj\u001b[0m\u001b[1;33m]\u001b[0m\u001b[1;33m*\u001b[0m\u001b[0mvar\u001b[0m\u001b[1;33m[\u001b[0m\u001b[0mj\u001b[0m\u001b[1;33m+\u001b[0m\u001b[1;36m1\u001b[0m\u001b[1;33m]\u001b[0m\u001b[1;33m)\u001b[0m\u001b[1;33m\u001b[0m\u001b[1;33m\u001b[0m\u001b[0m\n\u001b[0m\u001b[0;32m      8\u001b[0m \u001b[1;33m\u001b[0m\u001b[0m\n\u001b[0;32m      9\u001b[0m         \u001b[0mprint\u001b[0m\u001b[1;33m(\u001b[0m\u001b[0mvar\u001b[0m\u001b[1;33m)\u001b[0m\u001b[1;33m\u001b[0m\u001b[1;33m\u001b[0m\u001b[0m\n",
      "\u001b[1;31mTypeError\u001b[0m: 'int' object is not subscriptable"
     ]
    }
   ],
   "source": [
    "a=list(range(10))\n",
    "b=list(range(10))\n",
    "vargen(a,b)\n",
    "a"
   ]
  },
  {
   "cell_type": "code",
   "execution_count": null,
   "metadata": {},
   "outputs": [],
   "source": []
  },
  {
   "cell_type": "code",
   "execution_count": null,
   "metadata": {},
   "outputs": [],
   "source": []
  }
 ],
 "metadata": {
  "kernelspec": {
   "display_name": "Python 3",
   "language": "python",
   "name": "python3"
  },
  "language_info": {
   "codemirror_mode": {
    "name": "ipython",
    "version": 3
   },
   "file_extension": ".py",
   "mimetype": "text/x-python",
   "name": "python",
   "nbconvert_exporter": "python",
   "pygments_lexer": "ipython3",
   "version": "3.8.5"
  }
 },
 "nbformat": 4,
 "nbformat_minor": 4
}
