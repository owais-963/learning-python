{
 "cells": [
  {
   "cell_type": "code",
   "execution_count": 1,
   "metadata": {},
   "outputs": [
    {
     "ename": "SyntaxError",
     "evalue": "invalid syntax (<ipython-input-1-1b14545ae2ea>, line 3)",
     "output_type": "error",
     "traceback": [
      "\u001b[1;36m  File \u001b[1;32m\"<ipython-input-1-1b14545ae2ea>\"\u001b[1;36m, line \u001b[1;32m3\u001b[0m\n\u001b[1;33m    def___init___(self,name,age):\u001b[0m\n\u001b[1;37m                                 ^\u001b[0m\n\u001b[1;31mSyntaxError\u001b[0m\u001b[1;31m:\u001b[0m invalid syntax\n"
     ]
    }
   ],
   "source": [
    "class Dog:\n",
    "    total=0\n",
    "    def___init___(self,name,age):\n",
    "        self.name=name\n",
    "        self.age=age\n",
    "        Dog.total +=1"
   ]
  },
  {
   "cell_type": "code",
   "execution_count": null,
   "metadata": {},
   "outputs": [],
   "source": [
    "# Input Data\n",
    "\"\"\"\n",
    "Labels = ['gender', 'parental level of education', 'test preparation course', 'math score', 'reading score', 'writing score']\n",
    "Data = [\n",
    "['female', \"bachelor's degree\", 'none', '72', '72', '74'],\n",
    "['female', 'some college', 'completed', '69', '90', '88'],\n",
    "['female', \"master's degree\", 'none', '90', '95', '93'],\n",
    "['male', \"associate's degree\", 'none', '47', '57', '44'],\n",
    "['male', 'some college', 'none', '76', '78', '75'],\n",
    "['female', \"associate's degree\", 'none', '71', '83', '78'],\n",
    "['female', 'some college', 'completed', '88', '95', '92'],\n",
    "['male', 'some college', 'none', '40', '43', '39'],\n",
    "['male', 'high school', 'completed', '64', '64', '67'],\n",
    "['female', 'high school', 'none', '38', '60', '50'],\n",
    "['male', \"associate's degree\", 'none', '58', '54', '52'],\n",
    "['male', \"associate's degree\", 'none', '40', '52', '43'],\n",
    "['female', 'high school', 'none', '65', '81', '73'],\n",
    "['male', 'some college', 'completed', '78', '72', '70'],\n",
    "['female', \"master's degree\", 'none', '50', '53', '58'],\n",
    "['female', 'some high school', 'none', '69', '75', '78'],\n",
    "['male', 'high school', 'none', '88', '89', '86'],\n",
    "['female', 'some high school', 'none', '18', '32', '28'],\n",
    "['male', \"master's degree\", 'completed', '46', '42', '46'],\n",
    "['female', \"associate's degree\", 'none', '54', '58', '61'],\n",
    "['male', 'high school', 'none', '66', '69', '63'],\n",
    "['female', 'some college', 'completed', '65', '75', '70'],\n",
    "['male', 'some college', 'none', '44', '54', '53'],\n",
    "['female', 'some high school', 'none', '69', '73', '73'],\n",
    "['male', \"bachelor's degree\", 'completed', '74', '71', '80'],\n",
    "['male', \"master's degree\", 'none', '73', '74', '72'],\n",
    "['male', 'some college', 'none', '69', '54', '55'],\n",
    "['female', \"bachelor's degree\", 'none', '67', '69', '75'],\n",
    "['male', 'high school', 'none', '70', '70', '65'],\n",
    "['female', \"master's degree\", 'none', '62', '70', '75'],\n",
    "['female', 'some college', 'none', '69', '74', '74'],\n",
    "['female', 'some college', 'none', '63', '65', '61'],\n",
    "['female', \"master's degree\", 'none', '56', '72', '65'],\n",
    "['male', 's6ome college', 'none', '40', '42', '38'],\n",
    "['male', 'some college', 'none', '97', '87', '82'],\n",
    "['male', \"associate's degree\", 'completed', '81', '81', '79'],\n",
    "['female', \"associate's degree\", 'none', '74', '81', '83'],\n",
    "['female', 'some high school', 'none', '50', '64', '59'],\n",
    "['female', \"associate's degree\", 'completed', '75', '90', '88'],\n",
    "]\n",
    "selected_column=int(input(\"selct score Column (3= math,4=reading 5= writing:\"))\n",
    "print(\"**************************\")\n",
    "#initialize degree score\n",
    "master_degree_score=0\n",
    "bachelor_degree_score=0\n",
    "m_degree_list=[]\n",
    "b_degree_list=[]\n",
    "#score specified to gender\n",
    "female_score_sum=0\n",
    "male_score_sum=0\n",
    "male_score_list=[]\n",
    "female_score_list=[]\n",
    "for i in range(len(data)):\n",
    "    degree=data[i][1]\n",
    "    gender=data[i][0]\n",
    "    score=data[i][selected_column]\n",
    "#condition for degree master/bachelor\n",
    "if degree==\"master's degree\":\n",
    "    m_degree_list.append(score)\n",
    "master_degree_score+=int(score)\n",
    "if degree==\"bachelor's degree\":\n",
    "    b_degree_list.append(score)\n",
    "bachelor_degree_score+=int(score)\n",
    "#condition for gender\n",
    "if gender=='female':\n",
    "    male_score_list.append(int(score))\n",
    "    female_score_sum+=int(score)\n",
    "elif gender=='male':\n",
    "    female_score_list.append(int(score))\n",
    "    male_score_sum+=int(score)\n",
    "#claculate persons with degree\n",
    "m_level_parents=len(m_degree_list)\n",
    "b_level_parents=len(b_degree_list)\n",
    "some_degree=len(data)-m_level_parents-b_level_parents\n",
    "#check Who got max marks\n",
    "male_max=max(male_score_list)\n",
    "female_max=max(female_score_list)\n",
    "if male_max >female_max:\n",
    "    print(\"male has high score with marks\",(male_max))\n",
    "else:\n",
    "    print(\"female has highest marks with marks\",format(female_max))\n",
    "#scores with respect to degree\n",
    "print(\"***************************************\")\n",
    "print(\"list of score with parental Master's degree \",m_degree_list)\n",
    "print(\"list of score with parental Bachelor's degree\",b_degree_list)\n",
    "print(\"sum of score with parental Master's degree is \",master_degree_score)\n",
    "print(\"sum of score with parental Bachelor's degree is \",bachelor_degree_score)\n",
    "#how many parents have master bachelor degree etc\n",
    "print(\"********************\")\n",
    "print(\"{} parents are Masters , {} are Bachelors and {} are Some college level\".format(m_level_parents,b_level_parents,some_degree))\n",
    "print(\"******************\")\n",
    "print(\"female score sum in {} is {} \".format( labels[selected_column],female_score_sum))\n",
    "print(\"Male score sum in {} is {}\".format(labels[selected_column],male_score_sum))\n",
    "print(\"Male list \\n\",male_score_list)\n",
    "print(\"female_score_list \\n\",female_score_list)\n",
    "#degree scores\n",
    "\"\"\""
   ]
  },
  {
   "cell_type": "code",
   "execution_count": null,
   "metadata": {},
   "outputs": [],
   "source": [
    "# Input Data\n",
    "\"\"\"\n",
    "labels=['gender', 'parental level of education', 'test preparation course', 'math score', 'reading score', 'writing score']\n",
    "data = [ \n",
    "   ['female', \"bachelor's degree\", 'non1e', '72', '72', '74'], \n",
    "  ['female', 'some college', 'completed', '69', '90', '88'], \n",
    "  ['female', \"master's degree\", 'none', '90', '95', '93'], \n",
    "  ['male', \"associate's degree\", 'none', '47', '57', '44'], \n",
    "  ['male', 'some college', 'none', '76', '78', '75'], \n",
    "  ['female', \"associate's degree\", 'none', '71', '83', '78'], \n",
    "  ['female', 'some college', 'completed', '88', '95', '92'], \n",
    "  ['male', 'some college', 'none', '40', '43', '39'], \n",
    "  ['male', 'high school', 'completed', '64', '64', '67'], \n",
    "  ['female', 'high school', 'none', '38', '60', '50'], \n",
    "  ['male', \"associate's degree\", 'none', '58', '54', '52'], \n",
    " ['male', \"associate's degree\", 'none', '40', '52', '43'], \n",
    " ['female', 'high school', 'none', '65', '81', '73'], \n",
    " ['male', 'some college', 'completed', '78', '72', '70'], \n",
    " ['female', \"master's degree\", 'none', '50', '53', '58'], \n",
    " ['female', 'some high school', 'none', '69', '75', '78'], \n",
    " ['male', 'high school', 'none', '88', '89', '86'], \n",
    " ['female', 'some high school', 'none', '18', '32', '28'], \n",
    " ['male', \"master's degree\", 'completed', '46', '42', '46'], \n",
    " ['female', \"associate's degree\", 'none', '54', '58', '61'], \n",
    " ['male', 'high school', 'none', '66', '69', '63'], \n",
    " ['female', 'some college', 'completed', '65', '75', '70'], \n",
    " ['male', 'some college', 'none', '44', '54', '53'], \n",
    " ['female', 'some high school', 'none', '69', '73', '73'], \n",
    " ['male', \"bachelor's degree\", 'completed', '74', '71', '80'], \n",
    " ['male', \"master's degree\", 'none', '73', '74', '72'], \n",
    " ['male', 'some college', 'none', '69', '54', '55'], \n",
    " ['female', \"bachelor's degree\", 'none', '67', '69', '75'], \n",
    " ['male', 'high school', 'none', '70', '70', '65'], \n",
    " ['female', \"master's degree\", 'none', '62', '70', '75'], \n",
    " ['female', 'some college', 'none', '69', '74', '74'], \n",
    " ['female', 'some college', 'none', '63', '65', '61'], \n",
    " ['female', \"master's degree\", 'none', '56', '72', '65'], \n",
    " ['male', 'some college', 'none', '40', '42', '38'], \n",
    " ['male', 'some college', 'none', '97', '87', '82'], \n",
    " ['male', \"associate's degree\", 'completed', '81', '81', '79'], \n",
    " ['female', \"associate's degree\", 'none', '74', '81', '83'], \n",
    " ['female', 'some high school', 'none', '50', '64', '59'], \n",
    " ['female', \"associate's degree\", 'completed', '75', '90', '88'], \n",
    "]\n",
    "#########################\n",
    "#Q1 Solution\n",
    "femaleSum    = 0\n",
    "maleSum    = 0\n",
    "\n",
    "# Processing\n",
    "scoreColumn = int(input(\"score Column (3= math,4=reading 5= writing)\"))\n",
    "if scoreColumn > 3 and scoreColumn <6:\n",
    "    for innerList in data:\n",
    "        if InnerList[0] == 'female':\n",
    "            femalesSum = femaleSum + int(innerList[scoreColumn])\n",
    "        else:\n",
    "            malesSum = maleSum + int(innerList[scoreColumn])\n",
    "\n",
    "############\n",
    "#Decision Making\n",
    "print(\"Females Score Total =\", femaleSum, \" Male Score Total =\", maleSum) \n",
    "\n",
    "if femaleSum > maleSum:\n",
    "    print(\"Famles performance is better than Males in \", labels[scoreColumn])\n",
    "elif femaleSum < maleSum:\n",
    "    print(\"Males performance is better than Females in \", labels[scoreColumn])\n",
    "else:\n",
    "    print(\"Same level of performance\", labels[scoreColumn])\n",
    "\n",
    "\"\"\"\n"
   ]
  },
  {
   "cell_type": "code",
   "execution_count": 2,
   "metadata": {},
   "outputs": [
    {
     "name": "stdout",
     "output_type": "stream",
     "text": [
      "16\n"
     ]
    },
    {
     "ename": "NameError",
     "evalue": "name 'p' is not defined",
     "output_type": "error",
     "traceback": [
      "\u001b[1;31m---------------------------------------------------------------------------\u001b[0m",
      "\u001b[1;31mNameError\u001b[0m                                 Traceback (most recent call last)",
      "\u001b[1;32m<ipython-input-2-c393d0ee0228>\u001b[0m in \u001b[0;36m<module>\u001b[1;34m\u001b[0m\n\u001b[0;32m     24\u001b[0m \u001b[1;31m#print(r)\u001b[0m\u001b[1;33m\u001b[0m\u001b[1;33m\u001b[0m\u001b[1;33m\u001b[0m\u001b[0m\n\u001b[0;32m     25\u001b[0m \u001b[0mnPr\u001b[0m\u001b[1;33m=\u001b[0m\u001b[0mn_\u001b[0m\u001b[1;33m/\u001b[0m\u001b[0mnr\u001b[0m\u001b[1;33m\u001b[0m\u001b[1;33m\u001b[0m\u001b[0m\n\u001b[1;32m---> 26\u001b[1;33m \u001b[0mprint\u001b[0m\u001b[1;33m(\u001b[0m\u001b[0mp\u001b[0m\u001b[1;33m)\u001b[0m\u001b[1;33m\u001b[0m\u001b[1;33m\u001b[0m\u001b[0m\n\u001b[0m\u001b[0;32m     27\u001b[0m \u001b[1;31m#nCr=nPr/r!\u001b[0m\u001b[1;33m\u001b[0m\u001b[1;33m\u001b[0m\u001b[1;33m\u001b[0m\u001b[0m\n\u001b[0;32m     28\u001b[0m \u001b[1;32mdef\u001b[0m \u001b[0mfactorial\u001b[0m\u001b[1;33m(\u001b[0m\u001b[0mR\u001b[0m\u001b[1;33m)\u001b[0m\u001b[1;33m:\u001b[0m\u001b[1;33m\u001b[0m\u001b[1;33m\u001b[0m\u001b[0m\n",
      "\u001b[1;31mNameError\u001b[0m: name 'p' is not defined"
     ]
    }
   ],
   "source": [
    "student_name=['owais','faheem','nawaz','moin','ali','iftikhar','waheed','arshad','salah','rida','akram'\n",
    "            ,'rimsha','nayla','shakir','alyan','mukhtar','rahila','martin','rafia','ayesha','humauid']\n",
    "# How many chance that the student name start with \"a\" got schlor ship\n",
    "n=len(student_name)\n",
    "e=[]\n",
    "for a  in student_name:\n",
    "    if a[0]==\"a\":\n",
    "        e.append(a)\n",
    "        R=len(e)\n",
    "r=n-R\n",
    "def factorial (n):\n",
    "    if n==0:\n",
    "        return 1\n",
    "    else:\n",
    "        return n*factorial(n-1)\n",
    "print(r)\n",
    "n_=factorial(n)\n",
    "def factorial(r):\n",
    "    if r==0:\n",
    "        return 1\n",
    "    else:\n",
    "        return (r)*factorial(r-1)\n",
    "nr=factorial(r)\n",
    "#print(r)\n",
    "nPr=n_/nr\n",
    "print(p)\n",
    "#nCr=nPr/r!\n",
    "def factorial(R):\n",
    "    if R==0:\n",
    "        return 1\n",
    "    else:\n",
    "        return (R)*factorial(R-1)\n",
    "r_=factorial(R)\n",
    "nCr=nPr*1/r_\n",
    "print(nCr)\n",
    "\n",
    "#r=1\n",
    "#or i in range(1,22):\n",
    " #  r=i*r\n",
    "#rint(r)\n",
    "\n",
    "#program for hwo many chances that the name start with a get scholar ship\n",
    "##################################################################################\n",
    "##################################################################################\n",
    "# formula P(A)=n(A)/n(S)\n",
    "\"__________________________________________________________________________________\"\n",
    "pa=R/n\n",
    "A=(pa*100)\n",
    "PA=(format(A,\".2f\"))\n",
    "print(f\"The chance that the name start with 'A' got schlor ship is {PA}%\")"
   ]
  },
  {
   "cell_type": "code",
   "execution_count": null,
   "metadata": {},
   "outputs": [],
   "source": [
    "a=int(input(\"Number\"))\n",
    "if a==0:\n",
    "    print(1)\n",
    "else:\n",
    "    print((a)*(a-1))\n",
    "\n",
    "\"\"\"def factorial(n):\n",
    "    if n==0:\n",
    "        return 1\n",
    "    else:\n",
    "        return (n)*factorial(n-1)\n",
    "print(factorial(n))\"\"\""
   ]
  },
  {
   "cell_type": "code",
   "execution_count": null,
   "metadata": {},
   "outputs": [],
   "source": [
    " 2432902008176640000*21"
   ]
  },
  {
   "cell_type": "code",
   "execution_count": null,
   "metadata": {},
   "outputs": [],
   "source": [
    "A=int(input(\"Number \"))\n",
    "def g(A):\n",
    "    if A==0:\n",
    "        return 1\n",
    "    else:\n",
    "        return (A)*g(A-1)\n",
    "print(g(A))    "
   ]
  },
  {
   "cell_type": "code",
   "execution_count": null,
   "metadata": {},
   "outputs": [],
   "source": [
    "G=int(input(\"NO \"))\n",
    "def H(G):\n",
    "    if G==0:\n",
    "        return 1\n",
    "    else:\n",
    "        return (G)*H(G-1)\n",
    "H(G)\n",
    "#51090942171709440000"
   ]
  },
  {
   "cell_type": "code",
   "execution_count": null,
   "metadata": {},
   "outputs": [],
   "source": [
    "x = 300\n",
    "\n",
    "def myfunc():\n",
    "    x= 200\n",
    "    print(x)\n",
    "\n",
    "myfunc()\n",
    "\n",
    "print(x)"
   ]
  },
  {
   "cell_type": "code",
   "execution_count": null,
   "metadata": {},
   "outputs": [],
   "source": [
    "x=300\n",
    "def myfunc():\n",
    "    global x\n",
    "    x=1\n",
    "    print(x)\n",
    "\n",
    "myfunc()\n",
    "\n",
    "print(x)"
   ]
  },
  {
   "cell_type": "code",
   "execution_count": null,
   "metadata": {},
   "outputs": [],
   "source": [
    "2^3==1\n"
   ]
  },
  {
   "cell_type": "code",
   "execution_count": null,
   "metadata": {},
   "outputs": [],
   "source": [
    "import adafruit_dht\n",
    "from ISStreamer.Streamer import Streamer\n",
    "import time\n",
    "import board\n",
    "\n",
    "# --------- User Settings ---------\n",
    "SENSOR_LOCATION_NAME = \"Office\" \n",
    "BUCKET_NAME = \":partly_sunny: Room Temperatures\"\n",
    "BUCKET_KEY = \"dht22sensor\"\n",
    "ACCESS_KEY = \"ENTER ACCESS KEY HERE\"\n",
    "MINUTES_BETWEEN_READS = 10\n",
    "METRIC_UNITS = False\n",
    "# ---------------------------------\n",
    "\n",
    "dhtSensor = adafruit_dht.DHT22(board.D4)\n",
    "streamer = Streamer(bucket_name=BUCKET_NAME, bucket_key=BUCKET_KEY, access_key=ACCESS_KEY)\n",
    "\n",
    "while True:\n",
    "        try:\n",
    "                humidity = dhtSensor.humidity\n",
    "                temp_c = dhtSensor.temperature\n",
    "        except RuntimeError:\n",
    "                print(\"RuntimeError, trying again...\")\n",
    "                continue\n",
    "                \n",
    "        if METRIC_UNITS:\n",
    "                streamer.log(SENSOR_LOCATION_NAME + \" Temperature(C)\", temp_c)\n",
    "        else:\n",
    "                temp_f = format(temp_c * 9.0 / 5.0 + 32.0, \".2f\")\n",
    "                streamer.log(SENSOR_LOCATION_NAME + \" Temperature(F)\", temp_f)\n",
    "        humidity = format(humidity,\".2f\")\n",
    "        streamer.log(SENSOR_LOCATION_NAME + \" Humidity(%)\", humidity)\n",
    "        streamer.flush()\n",
    "        time.sleep(60*MINUTES_BETWEEN_READS)"
   ]
  },
  {
   "cell_type": "code",
   "execution_count": null,
   "metadata": {},
   "outputs": [],
   "source": [
    "import temperature\n"
   ]
  },
  {
   "cell_type": "code",
   "execution_count": null,
   "metadata": {},
   "outputs": [],
   "source": [
    "print(\"Welcome To Time Schedule Moduel\")\n",
    "name=\"Owais Ali\"\n",
    "password=\"mypasswordisyou\"\n",
    "a=input(\"Enter your name: \").title()\n",
    "b=input(\"Enter your password: \").lower()\n",
    "if a+b==name+password:\n",
    "    print(f\"Wellcome my master {name}\" )\n",
    "    A=input( \"How are you doing today \")\n",
    "    if A == \"not good \":#or \"not good\":\n",
    "        print(\"Sorry for you\")\n",
    "    else:\n",
    "        print(\"WoW! \\n that's great\")\n",
    "    import time as t\n",
    "    s=t.strftime(\"%H:%M:%S\")\n",
    "    \n",
    "else:\n",
    "    print(\"Get lost you fucking bullshit! it's my master's pc\")\n",
    "\n",
    "        \n",
    "    "
   ]
  },
  {
   "cell_type": "markdown",
   "metadata": {},
   "source": [
    "# PRAY TIME NOTIFIER\n"
   ]
  },
  {
   "cell_type": "code",
   "execution_count": null,
   "metadata": {},
   "outputs": [],
   "source": [
    "import time as t\n",
    "from datetime import datetime as dt\n",
    "P=\"22:00:00\"\n",
    "y=dt.strptime(P,\"%H:%M:%S\")\n",
    "Sleep=y.hour\n",
    "Y=t.strftime(\"%H:%M:%S\")\n",
    "s=dt.strptime(Y,\"%H:%M:%S\")\n",
    "Sleep_Time=s.hour\n",
    "if Sleep==Sleep_Time:\n",
    "    print(\"it's time to sleep\")\n",
    "else:\n",
    "    print(f\"it's {Y} hours\")\n",
    "#p=t.asctime(y)\n",
    "#f=t.strftime(p,\"%H:%M:%S\")\n",
    "#N=dt.datetime(p)\n",
    "#n=N.hour"
   ]
  },
  {
   "cell_type": "code",
   "execution_count": null,
   "metadata": {},
   "outputs": [],
   "source": [
    "help(t.strftime)"
   ]
  },
  {
   "cell_type": "code",
   "execution_count": null,
   "metadata": {},
   "outputs": [],
   "source": [
    "\"\"\"import time as t\n",
    "from datetime import datetime as dt\n",
    "from plyer import notification as nt\n",
    "P=\"18:00:00\"\n",
    "y=dt.strptime(P,\"%H:%M:%S\")\n",
    "Sleep=y.hour\n",
    "Y=t.strftime(\"%H:%M:%S\")\n",
    "s=dt.strptime(Y,\"%H:%M:%S\")\n",
    "Sleep_Time=s.hour\n",
    "if Sleep==Sleep_Time:\n",
    "    nt.notify(\n",
    "        title=\"My Daily Schedule\",\n",
    "        message=\"Hi!\\nowais it's time to take break\",\n",
    "        app_icon=None,\n",
    "        timeout=20,\n",
    "        )\n",
    "        \"\"\""
   ]
  },
  {
   "cell_type": "code",
   "execution_count": null,
   "metadata": {},
   "outputs": [],
   "source": [
    "import myapp"
   ]
  },
  {
   "cell_type": "code",
   "execution_count": null,
   "metadata": {},
   "outputs": [],
   "source": []
  },
  {
   "cell_type": "code",
   "execution_count": null,
   "metadata": {},
   "outputs": [],
   "source": []
  },
  {
   "cell_type": "code",
   "execution_count": null,
   "metadata": {},
   "outputs": [],
   "source": []
  },
  {
   "cell_type": "code",
   "execution_count": null,
   "metadata": {},
   "outputs": [],
   "source": []
  },
  {
   "cell_type": "code",
   "execution_count": null,
   "metadata": {},
   "outputs": [],
   "source": []
  },
  {
   "cell_type": "code",
   "execution_count": null,
   "metadata": {},
   "outputs": [],
   "source": []
  },
  {
   "cell_type": "code",
   "execution_count": null,
   "metadata": {},
   "outputs": [],
   "source": []
  },
  {
   "cell_type": "code",
   "execution_count": null,
   "metadata": {},
   "outputs": [],
   "source": []
  },
  {
   "cell_type": "code",
   "execution_count": null,
   "metadata": {},
   "outputs": [],
   "source": []
  },
  {
   "cell_type": "code",
   "execution_count": null,
   "metadata": {},
   "outputs": [],
   "source": []
  },
  {
   "cell_type": "code",
   "execution_count": null,
   "metadata": {},
   "outputs": [],
   "source": []
  },
  {
   "cell_type": "code",
   "execution_count": null,
   "metadata": {},
   "outputs": [],
   "source": []
  },
  {
   "cell_type": "code",
   "execution_count": null,
   "metadata": {},
   "outputs": [],
   "source": []
  },
  {
   "cell_type": "code",
   "execution_count": null,
   "metadata": {},
   "outputs": [],
   "source": []
  },
  {
   "cell_type": "code",
   "execution_count": null,
   "metadata": {},
   "outputs": [],
   "source": []
  },
  {
   "cell_type": "code",
   "execution_count": null,
   "metadata": {},
   "outputs": [],
   "source": []
  },
  {
   "cell_type": "code",
   "execution_count": null,
   "metadata": {},
   "outputs": [],
   "source": []
  }
 ],
 "metadata": {
  "kernelspec": {
   "display_name": "Python 3",
   "language": "python",
   "name": "python3"
  },
  "language_info": {
   "codemirror_mode": {
    "name": "ipython",
    "version": 3
   },
   "file_extension": ".py",
   "mimetype": "text/x-python",
   "name": "python",
   "nbconvert_exporter": "python",
   "pygments_lexer": "ipython3",
   "version": "3.8.5"
  }
 },
 "nbformat": 4,
 "nbformat_minor": 4
}
