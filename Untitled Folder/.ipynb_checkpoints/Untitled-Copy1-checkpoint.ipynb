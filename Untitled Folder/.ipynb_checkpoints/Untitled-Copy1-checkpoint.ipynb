{
 "cells": [
  {
   "cell_type": "code",
   "execution_count": 236,
   "metadata": {},
   "outputs": [],
   "source": [
    "import pandas as pd\n",
    "import numpy as np\n",
    "import random"
   ]
  },
  {
   "cell_type": "code",
   "execution_count": null,
   "metadata": {},
   "outputs": [],
   "source": []
  },
  {
   "cell_type": "markdown",
   "metadata": {},
   "source": [
    "# OOP"
   ]
  },
  {
   "cell_type": "code",
   "execution_count": 221,
   "metadata": {},
   "outputs": [],
   "source": [
    "class User:\n",
    "    import pandas as pd \n",
    "    import numpy as np\n",
    "    import random\n",
    "    def __init__(self,fname,lname,father_name,age,email,phone_no,adress,password):\n",
    "        import random\n",
    "        import pandas as pd\n",
    "        lower=\"abcdefghijklmnopqrstuvwxyz\"\n",
    "        uper=\"ABCDEFGHIJKLMNOPQRSTUVWXYZ\"\n",
    "        number=\"0123456789\"\n",
    "        symbols=\"~`!@#$%^&*()_-=+/?.>,<\\|\\\"';:{}[]\"\n",
    "        aLL=lower+uper+number+symbols\n",
    "        length=16\n",
    "        key=\"\".join(random.sample(aLL,length))\n",
    "        self.user_id=f\"user({key})\"\n",
    "        self.fname=fname\n",
    "        self.lname=lname\n",
    "        self.father_name=father_name\n",
    "        self.age=age\n",
    "        self.email=email\n",
    "        self.phone_no=phone_no\n",
    "        self.password=password\n",
    "        \n",
    "    def show(self,password):\n",
    "        if password==self.password:\n",
    "            name=f\"Name: {self.fname} {self.lname}\"\n",
    "            father=f\"Father Name: {self.father_name}\"\n",
    "            age=f\"Age: {self.age}\"\n",
    "            email=f\"Email: {self.email}\"\n",
    "            phone=f\"Phone No: {self.phone_no}\"\n",
    "            return print(f\" {name} \\n {father} \\n {age} \\n {email} \\n {phone}\")\n",
    "        else:\n",
    "            print(\"Password wrong aces denied\")\n",
    "    \n",
    "        "
   ]
  },
  {
   "cell_type": "code",
   "execution_count": 245,
   "metadata": {},
   "outputs": [],
   "source": [
    "def use():\n",
    "    lower=\"abcdefghijklmnopqrstuvwxyz\"\n",
    "    uper=\"ABCDEFGHIJKLMNOPQRSTUVWXYZ\"\n",
    "    number=\"0123456789\"\n",
    "    symbols=\"~`!@#$%^&*()_-=+/?.>,<\\|\\\"';:{}[]\"\n",
    "    aLL=lower+uper+number+symbols\n",
    "    length=16\n",
    "    key=\"\".join(random.sample(aLL,length))\n",
    "    obj=key\n",
    "    return obj"
   ]
  },
  {
   "cell_type": "code",
   "execution_count": 254,
   "metadata": {},
   "outputs": [
    {
     "data": {
      "text/plain": [
       "'UnB,0Gv5t%fcFXb7'"
      ]
     },
     "execution_count": 254,
     "metadata": {},
     "output_type": "execute_result"
    }
   ],
   "source": [
    "use()"
   ]
  },
  {
   "cell_type": "code",
   "execution_count": null,
   "metadata": {},
   "outputs": [],
   "source": []
  },
  {
   "cell_type": "code",
   "execution_count": 267,
   "metadata": {},
   "outputs": [],
   "source": [
    "obj=(\"owias\",\"ali\",\"Arshad\",18,\"owais@gmail.com\",988329832,987)\n",
    "data={\"Name\":[o]}"
   ]
  },
  {
   "cell_type": "code",
   "execution_count": 262,
   "metadata": {},
   "outputs": [],
   "source": []
  },
  {
   "cell_type": "code",
   "execution_count": null,
   "metadata": {},
   "outputs": [],
   "source": []
  }
 ],
 "metadata": {
  "kernelspec": {
   "display_name": "Python 3",
   "language": "python",
   "name": "python3"
  },
  "language_info": {
   "codemirror_mode": {
    "name": "ipython",
    "version": 3
   },
   "file_extension": ".py",
   "mimetype": "text/x-python",
   "name": "python",
   "nbconvert_exporter": "python",
   "pygments_lexer": "ipython3",
   "version": "3.8.5"
  }
 },
 "nbformat": 4,
 "nbformat_minor": 4
}
