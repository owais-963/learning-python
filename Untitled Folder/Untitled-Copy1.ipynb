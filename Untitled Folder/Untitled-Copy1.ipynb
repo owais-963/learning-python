{
 "cells": [
  {
   "cell_type": "code",
   "execution_count": 18,
   "metadata": {},
   "outputs": [],
   "source": [
    "import pandas as pd\n",
    "import numpy as np\n",
    "import random\n",
    "import csv"
   ]
  },
  {
   "cell_type": "code",
   "execution_count": null,
   "metadata": {},
   "outputs": [],
   "source": []
  },
  {
   "cell_type": "markdown",
   "metadata": {},
   "source": [
    "# OOP"
   ]
  },
  {
   "cell_type": "code",
   "execution_count": 25,
   "metadata": {},
   "outputs": [],
   "source": [
    "class User:\n",
    "    import pandas as pd \n",
    "    import numpy as np\n",
    "    import random\n",
    "    def __init__(self,fname,lname,father_name,age,email,phone_no,adress,password):\n",
    "        import random\n",
    "        import pandas as pd\n",
    "        lower=\"abcdefghijklmnopqrstuvwxyz\"\n",
    "        uper=\"ABCDEFGHIJKLMNOPQRSTUVWXYZ\"\n",
    "        number=\"0123456789\"\n",
    "        symbols=\"~`!@#$%^&*()_-=+/?.>,<\\|\\\"';:{}[]\"\n",
    "        aLL=lower+uper+number+symbols\n",
    "        length=16\n",
    "        key=\"\".join(random.sample(aLL,length))\n",
    "        self.user_id=f\"user_( {key} )\"\n",
    "        self.fname=fname\n",
    "        self.lname=lname\n",
    "        self.father_name=father_name\n",
    "        self.age=age\n",
    "        self.email=email\n",
    "        self.phone_no=phone_no\n",
    "        self.adress=adress\n",
    "        self.password=password\n",
    "        \n",
    "    def show(self,password):\n",
    "        if password==self.password:\n",
    "            name=f\"Name: {self.fname} {self.lname}\"\n",
    "            father=f\"Father Name: {self.father_name}\"\n",
    "            age=f\"Age: {self.age}\"\n",
    "            email=f\"Email: {self.email}\"\n",
    "            phone=f\"Phone No: {self.phone_no}\"\n",
    "            return print(f\" {name} \\n {father} \\n {age} \\n {email} \\n {phone}\")\n",
    "        else:\n",
    "            return print(\"Password wrong aces denied\")\n",
    "    def update(self,password,field,value):\n",
    "        if password==self.password:\n",
    "            def updt(self,field,value):\n",
    "                if field==\"first name\":\n",
    "                    self.fname=value\n",
    "                elif field==\"last name\":\n",
    "                    self.lname=value\n",
    "                elif field==\"father name\":\n",
    "                    self.father_name=value\n",
    "                elif field==\"age\":\n",
    "                    self.age=value\n",
    "                elif field==\"email\":\n",
    "                    self.email=value\n",
    "                elif field==\"phone no\":\n",
    "                    self.phone_no=value\n",
    "                elif field==\"adress\":\n",
    "                    self.adress==value\n",
    "                elif field==\"password\":\n",
    "                    self.password=value\n",
    "                else:\n",
    "                    return print(\"un valid field\")\n",
    "        else:\n",
    "            return print (\"Password wrong aces denied\")\n",
    "    \n",
    "        "
   ]
  },
  {
   "cell_type": "code",
   "execution_count": 63,
   "metadata": {},
   "outputs": [
    {
     "name": "stdout",
     "output_type": "stream",
     "text": [
      "Enter your first name: Humaid\n",
      "Enter your last name: Ullah\n",
      "Enter your fathe name: Arshad Ali\n",
      "Enter your age: 8\n",
      "Enter your email adress: owais@gmail.com\n",
      "Email is already taken\n",
      "Enter another email adress: usaid@ullaha.com\n",
      "Enter your Phone No: 09875212233\n",
      "Enter your adress: Karachi,Pakistan\n",
      "Enter your password: humaid@.com\n",
      "Do you want to see your data(yes/no): yes\n",
      "Enter your email adress: usaid@ullaha.com\n",
      "Enter your Password: humaid@.com\n"
     ]
    }
   ],
   "source": [
    "Data=pd.read_csv(\"user data.csv\")\n",
    "fname=input(\"Enter your first name: \")\n",
    "lname=input(\"Enter your last name: \")\n",
    "father_name=input(\"Enter your fathe name: \")\n",
    "age=input(\"Enter your age: \")\n",
    "email=input(\"Enter your email adress: \")\n",
    "for i in range(len(Data)):\n",
    "    while email==Data.Email[i]:\n",
    "        print(\"Email is already taken\")\n",
    "        email=input(\"Enter another email adress: \")\n",
    "phone_no=input(\"Enter your Phone No: \")\n",
    "Adress=input(\"Enter your adress: \")\n",
    "password=input(\"Enter your password: \")\n",
    "obj=User(fname,lname,father_name,age,email,phone_no,Adress,password)\n",
    "with open(\"user data.csv\",\"a\",newline=\"\") as f:\n",
    "    data_writer=csv.writer(f,delimiter=\",\")\n",
    "    data_writer.writerow([obj.user_id,obj.fname+\" \"+obj.lname,obj.father_name,obj.age,obj.email,obj.phone_no,obj.adress,obj.password])\n",
    "    del obj\n",
    "Data=pd.read_csv(\"user data.csv\")\n",
    "Choice=input(\"Do you want to see your data(yes/no): \")\n",
    "if Choice=='yes':\n",
    "    Email=input(\"Enter your email adress: \")\n",
    "    password=input(\"Enter your Password: \")\n",
    "    email=np.where(Data.Email==Email)\n",
    "    pas=np.where(Data.Password==password)\n",
    "    data=np.intersect1d(email,pas)\n",
    "    Data.iloc[data]\n",
    "else:\n",
    "    print(\"Thanks for using our service\")\n"
   ]
  },
  {
   "cell_type": "code",
   "execution_count": 59,
   "metadata": {},
   "outputs": [
    {
     "name": "stdout",
     "output_type": "stream",
     "text": [
      "Enter your email adress: owais@gmail.com\n",
      "Enter your Password: owais963.com\n"
     ]
    },
    {
     "ename": "SyntaxError",
     "evalue": "'return' outside function (<ipython-input-59-0bc8a87f4318>, line 6)",
     "output_type": "error",
     "traceback": [
      "\u001b[1;36m  File \u001b[1;32m\"<ipython-input-59-0bc8a87f4318>\"\u001b[1;36m, line \u001b[1;32m6\u001b[0m\n\u001b[1;33m    return Data.iloc[data]\u001b[0m\n\u001b[1;37m    ^\u001b[0m\n\u001b[1;31mSyntaxError\u001b[0m\u001b[1;31m:\u001b[0m 'return' outside function\n"
     ]
    }
   ],
   "source": [
    "Email=input(\"Enter your email adress: \")\n",
    "password=input(\"Enter your Password: \")\n",
    "email=np.where(Data.Email==Email)\n",
    "pas=np.where(Data.Password==password)\n",
    "data=np.intersect1d(email,pas)\n",
    "Data.iloc[data]"
   ]
  },
  {
   "cell_type": "code",
   "execution_count": 58,
   "metadata": {},
   "outputs": [
    {
     "name": "stdout",
     "output_type": "stream",
     "text": [
      "Enter your email adress: owais@gmail.com\n",
      "Email is already taken\n",
      "Enter another email adress: uzair@ali.com\n",
      "Email is already taken\n",
      "Enter another email adress: owiass\n"
     ]
    }
   ],
   "source": []
  },
  {
   "cell_type": "code",
   "execution_count": 56,
   "metadata": {},
   "outputs": [
    {
     "name": "stdout",
     "output_type": "stream",
     "text": [
      "0\n",
      "1\n"
     ]
    }
   ],
   "source": [
    "for i in range(len(Data)):\n",
    "    print(i)"
   ]
  },
  {
   "cell_type": "code",
   "execution_count": 64,
   "metadata": {},
   "outputs": [
    {
     "data": {
      "text/html": [
       "<div>\n",
       "<style scoped>\n",
       "    .dataframe tbody tr th:only-of-type {\n",
       "        vertical-align: middle;\n",
       "    }\n",
       "\n",
       "    .dataframe tbody tr th {\n",
       "        vertical-align: top;\n",
       "    }\n",
       "\n",
       "    .dataframe thead th {\n",
       "        text-align: right;\n",
       "    }\n",
       "</style>\n",
       "<table border=\"1\" class=\"dataframe\">\n",
       "  <thead>\n",
       "    <tr style=\"text-align: right;\">\n",
       "      <th></th>\n",
       "      <th>User Id</th>\n",
       "      <th>Name</th>\n",
       "      <th>Father Name</th>\n",
       "      <th>Age</th>\n",
       "      <th>Email</th>\n",
       "      <th>Phone No</th>\n",
       "      <th>Adress</th>\n",
       "      <th>Password</th>\n",
       "    </tr>\n",
       "  </thead>\n",
       "  <tbody>\n",
       "    <tr>\n",
       "      <th>0</th>\n",
       "      <td>user_( 0R&amp;w3,hg;&lt;uUP#8s )</td>\n",
       "      <td>Owais Ali</td>\n",
       "      <td>Arshad Ali</td>\n",
       "      <td>18</td>\n",
       "      <td>owais@gmail.com</td>\n",
       "      <td>923112531232</td>\n",
       "      <td>Karachi,Pakistan</td>\n",
       "      <td>owais963.com</td>\n",
       "    </tr>\n",
       "    <tr>\n",
       "      <th>1</th>\n",
       "      <td>user_( ahz%URx9H6K![pQ_ )</td>\n",
       "      <td>Uzair Ali</td>\n",
       "      <td>Arshad Ali</td>\n",
       "      <td>17</td>\n",
       "      <td>uzair@ali.com</td>\n",
       "      <td>3132335889</td>\n",
       "      <td>Karachi,Pakistan</td>\n",
       "      <td>uzair339</td>\n",
       "    </tr>\n",
       "    <tr>\n",
       "      <th>2</th>\n",
       "      <td>user_( |\"zIGMD#a~T_f3X) )</td>\n",
       "      <td>Usaid Ullaha</td>\n",
       "      <td>Arshad Ali</td>\n",
       "      <td>13</td>\n",
       "      <td>usaid@ullah.com</td>\n",
       "      <td>987654321</td>\n",
       "      <td>Karachi,Pakistan</td>\n",
       "      <td>usaid789</td>\n",
       "    </tr>\n",
       "    <tr>\n",
       "      <th>3</th>\n",
       "      <td>user_( }&gt;9^\\2Hf&amp;x0eZ*5; )</td>\n",
       "      <td>Humaid Ullah</td>\n",
       "      <td>Arshad Ali</td>\n",
       "      <td>8</td>\n",
       "      <td>usaid@ullaha.com</td>\n",
       "      <td>9875212233</td>\n",
       "      <td>Karachi,Pakistan</td>\n",
       "      <td>humaid@.com</td>\n",
       "    </tr>\n",
       "  </tbody>\n",
       "</table>\n",
       "</div>"
      ],
      "text/plain": [
       "                     User Id          Name Father Name  Age             Email  \\\n",
       "0  user_( 0R&w3,hg;<uUP#8s )     Owais Ali  Arshad Ali   18   owais@gmail.com   \n",
       "1  user_( ahz%URx9H6K![pQ_ )     Uzair Ali  Arshad Ali   17     uzair@ali.com   \n",
       "2  user_( |\"zIGMD#a~T_f3X) )  Usaid Ullaha  Arshad Ali   13   usaid@ullah.com   \n",
       "3  user_( }>9^\\2Hf&x0eZ*5; )  Humaid Ullah  Arshad Ali    8  usaid@ullaha.com   \n",
       "\n",
       "       Phone No            Adress      Password  \n",
       "0  923112531232  Karachi,Pakistan  owais963.com  \n",
       "1    3132335889  Karachi,Pakistan      uzair339  \n",
       "2     987654321  Karachi,Pakistan      usaid789  \n",
       "3    9875212233  Karachi,Pakistan   humaid@.com  "
      ]
     },
     "execution_count": 64,
     "metadata": {},
     "output_type": "execute_result"
    }
   ],
   "source": [
    "Data"
   ]
  },
  {
   "cell_type": "code",
   "execution_count": null,
   "metadata": {},
   "outputs": [],
   "source": []
  }
 ],
 "metadata": {
  "kernelspec": {
   "display_name": "Python 3",
   "language": "python",
   "name": "python3"
  },
  "language_info": {
   "codemirror_mode": {
    "name": "ipython",
    "version": 3
   },
   "file_extension": ".py",
   "mimetype": "text/x-python",
   "name": "python",
   "nbconvert_exporter": "python",
   "pygments_lexer": "ipython3",
   "version": "3.8.5"
  }
 },
 "nbformat": 4,
 "nbformat_minor": 4
}
