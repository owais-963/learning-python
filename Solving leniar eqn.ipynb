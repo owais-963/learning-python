{
 "cells": [
  {
   "cell_type": "code",
   "execution_count": 1,
   "metadata": {},
   "outputs": [],
   "source": [
    "#leniar algebra with 2 variables\n",
    "\n",
    "def leniarAlg(a1=0,a2=0,b1=0,b2=0,c1=0,c2=0):\n",
    "    \n",
    "    #Eqn is:\n",
    "        # a1 + b1 = c1\n",
    "        # a2 + b2 = c2\n",
    "    \n",
    "    #A=[[a1,b1],\n",
    "    #   [a2,b2]]\n",
    "    \n",
    "    #C=[[c1],\n",
    "    #   [c2]]\n",
    "    \n",
    "    #Z=[[x],\n",
    "    #   [y]]\n",
    "    \n",
    "    #Formula:\n",
    "        #Z=A^-1.C\n",
    "    \n",
    "        #A^-1= 1/|A| * Adj(A)\n",
    "    \n",
    "        #|A|=(a1*b2)-(b1*a2)\n",
    "    \n",
    "    detA=(a1*b2)-(b1*a2)\n",
    "    \n",
    "    if detA!=0:\n",
    "\n",
    "            #Adj(A)=[[b2,-b1],\n",
    "            #        [-a2,a1]]\n",
    "\n",
    "        Adja=[[b2,-b1],\n",
    "              [-a2,a1]]\n",
    "\n",
    "        #Finding Inverse of A A^-1\n",
    "\n",
    "        inA=Adja.copy()\n",
    "\n",
    "        for i in range(len(Adja)):\n",
    "            for j in range(len(Adja[i])):\n",
    "                inA[i][j]=Adja[i][j]/detA\n",
    "\n",
    "        # Finding z or soloution set\n",
    "\n",
    "        #Z= A^-1.C\n",
    "\n",
    "        #Z=[[inA[0][0],inA[0][1]],     [[c1],\n",
    "        #   [inA[1][0],inA[1][1]]]  X   [c2]]\n",
    "\n",
    "        #Z=[[inA[0][0]xc1+inA[0][1]xc2],    \n",
    "        #   [inA[1][0]xc1+inA[1][1]]xc2]\n",
    "\n",
    "\n",
    "\n",
    "        x=(inA[0][0]*c1)+(inA[0][1]*c2)\n",
    "        y=(inA[1][0]*c1)+(inA[1][1]*c2)\n",
    "\n",
    "        Z=[[x] ,\n",
    "           [y]]\n",
    "\n",
    "        return Z\n",
    "    \n",
    "    else:\n",
    "        return print(\"Determenent becomes 0 Souttion Does not Exist\")\n",
    "    \n",
    "\n",
    "    "
   ]
  },
  {
   "cell_type": "code",
   "execution_count": 2,
   "metadata": {},
   "outputs": [
    {
     "data": {
      "text/plain": [
       "[[-1.5], [2.5]]"
      ]
     },
     "execution_count": 2,
     "metadata": {},
     "output_type": "execute_result"
    }
   ],
   "source": [
    "leniarAlg(2,3,4,5,7,8)"
   ]
  },
  {
   "cell_type": "code",
   "execution_count": 3,
   "metadata": {},
   "outputs": [
    {
     "data": {
      "text/plain": [
       "[[6.0], [-3.0]]"
      ]
     },
     "execution_count": 3,
     "metadata": {},
     "output_type": "execute_result"
    }
   ],
   "source": [
    "a=leniarAlg(4,5,6,9,6,3)\n",
    "a"
   ]
  },
  {
   "cell_type": "code",
   "execution_count": 4,
   "metadata": {},
   "outputs": [
    {
     "name": "stdout",
     "output_type": "stream",
     "text": [
      "Determenent becomes 0 Souttion Does not Exist\n"
     ]
    }
   ],
   "source": [
    "leniarAlg(6,3,4,2,9,8)"
   ]
  },
  {
   "cell_type": "code",
   "execution_count": 9,
   "metadata": {},
   "outputs": [
    {
     "data": {
      "text/plain": [
       "[[-0.22222222222222232], [0.7777777777777777]]"
      ]
     },
     "execution_count": 9,
     "metadata": {},
     "output_type": "execute_result"
    }
   ],
   "source": [
    "leniarAlg(4,3,5,6,3,4)"
   ]
  },
  {
   "cell_type": "code",
   "execution_count": null,
   "metadata": {},
   "outputs": [],
   "source": []
  },
  {
   "cell_type": "code",
   "execution_count": 7,
   "metadata": {},
   "outputs": [],
   "source": [
    "#leniar Algebra with 3 variables by using jacobi method\n",
    "\n",
    "def jacobiMethod(a1,a2,a3,b1,b2,b3,c1,c2,c3,k1,k2,k3):\n",
    "\n",
    "    x0=0     \n",
    "    y0=0      \n",
    "    z0=0     \n",
    "    \n",
    "    x=0\n",
    "    y=0\n",
    "    z=0\n",
    "    \n",
    "    a=True\n",
    "    b=True\n",
    "    c=True\n",
    "\n",
    "\n",
    "    i=0\n",
    "    \n",
    "    td=10**-3\n",
    "    \n",
    "    while (a|b|c):\n",
    "        \n",
    "       # if(abs(x1-x0)<td)&(x1!=0):\n",
    "        #    x=x1\n",
    "        #else:\n",
    "            #x0=x1\n",
    "        if(a):\n",
    "            x1=(k1-(b1*y0)-(c1*z0))/a1\n",
    "            xdif=x1-x0\n",
    "            if(abs(xdif)<td):\n",
    "                x=x1\n",
    "            \n",
    "                \n",
    "       # if(abs(y1-y0)<td)&(y1!=0):\n",
    "        #    y=y1\n",
    "        #else:\n",
    "         #   y0=y1\n",
    "        if(b):\n",
    "            y1=(k2-(a2*x0)-(c2*z0))/b2\n",
    "            ydif=y1-y0\n",
    "            if(abs(ydif)<td):\n",
    "                y=y1\n",
    "                \n",
    "        #if(abs(z1-z0)<td)&(z1!=0):\n",
    "         #   z=z1\n",
    "        #else:\n",
    "         #   z0=z1\n",
    "        if(c):\n",
    "            z1=(k3-(a3*x0)-(b3*y0))/c3\n",
    "            zdif=z1-z0\n",
    "            if(abs(zdif)<td):\n",
    "                z=z1\n",
    "        x0=x1\n",
    "        y0=y1\n",
    "        z0=z1\n",
    "        \n",
    "        \n",
    "      #  if(z1-z0<10**-3):\n",
    "       #     z=z1\n",
    "        #else:\n",
    "         #   z0=z1\n",
    "       \n",
    "        i+=1\n",
    "        \n",
    "        if(x!=0):\n",
    "            a=False\n",
    "        if(y!=0):\n",
    "            b=False\n",
    "        if(z!=0):\n",
    "            c=False\n",
    "    \n",
    "    print(f\"after {i} iterations the value of x, y and z is\")    \n",
    "        \n",
    "    return x , y ,z"
   ]
  },
  {
   "cell_type": "code",
   "execution_count": null,
   "metadata": {},
   "outputs": [],
   "source": []
  },
  {
   "cell_type": "code",
   "execution_count": null,
   "metadata": {},
   "outputs": [],
   "source": []
  },
  {
   "cell_type": "code",
   "execution_count": null,
   "metadata": {},
   "outputs": [],
   "source": [
    "jacobi_method([6,3,4,2],[,9,8])"
   ]
  },
  {
   "cell_type": "code",
   "execution_count": null,
   "metadata": {},
   "outputs": [],
   "source": []
  },
  {
   "cell_type": "code",
   "execution_count": null,
   "metadata": {},
   "outputs": [],
   "source": []
  },
  {
   "cell_type": "code",
   "execution_count": null,
   "metadata": {},
   "outputs": [],
   "source": []
  },
  {
   "cell_type": "code",
   "execution_count": null,
   "metadata": {},
   "outputs": [],
   "source": []
  },
  {
   "cell_type": "code",
   "execution_count": 11,
   "metadata": {},
   "outputs": [],
   "source": [
    "#leniar algebra with n number of variable by using jacobi method \n",
    "def jacobi_method(a,b):\n",
    "    import math as m\n",
    "    a=list(a)\n",
    "    b=list(b)\n",
    "    mat=[]\n",
    "    var=[]\n",
    "    var0=[]\n",
    "    var1=[]\n",
    "    ans_check=[]\n",
    "    var_diff=[]\n",
    "    td=10**-3\n",
    "    l=int(m.sqrt(len(a)))\n",
    "    r=0\n",
    "    for i in range(l):\n",
    "        mat.append(list())\n",
    "        var.append(0)                        \n",
    "        var0.append(0)\n",
    "        var1.append(0)\n",
    "        var_diff.append(0)\n",
    "        ans_check.append(0)\n",
    "        for j in range(r,l+r):\n",
    "            mat[i].append(a[j])\n",
    "        r+=l\n",
    "        \n",
    "    \n",
    "    while(0 in ans_check):\n",
    "        diff=0\n",
    "        for i in range(len(mat)):\n",
    "            if(var_diff[i]>=diff):\n",
    "                var_diff=diff\n",
    "                for j in range(len(mat[i])):\n",
    "                    if j==i:\n",
    "                        continue\n",
    "                    else:\n",
    "                        var1[i]=var1[i]+(mat[i][j]*var0[j])\n",
    "                var1[i]=(b[i]-var1[i])/mat[i][i]\n",
    "\n",
    "                diff=abs(var1[i]-var0[i])\n",
    "                if(diff<td):\n",
    "                    var[i]=round(var1[i],2)\n",
    "                    ans_check[i]=1\n",
    "            else:\n",
    "                for i in range(len(ans_check)):\n",
    "                    ans_check.append(\"x\")\n",
    "                print(\"Solution of the equations does not exist\")\n",
    "                break\n",
    "            var0=var1.copy()\n",
    "            for i in range(len(b)):\n",
    "                var1[i]=0\n",
    "\n",
    "\n",
    "        return var\n"
   ]
  },
  {
   "cell_type": "code",
   "execution_count": 12,
   "metadata": {},
   "outputs": [
    {
     "data": {
      "text/plain": [
       "[-0.22, 0.78]"
      ]
     },
     "execution_count": 12,
     "metadata": {},
     "output_type": "execute_result"
    }
   ],
   "source": [
    "jacobi_method([4,5,3,6],[3,4])"
   ]
  },
  {
   "cell_type": "code",
   "execution_count": null,
   "metadata": {},
   "outputs": [],
   "source": []
  },
  {
   "cell_type": "code",
   "execution_count": 61,
   "metadata": {},
   "outputs": [
    {
     "name": "stdout",
     "output_type": "stream",
     "text": [
      "[[], [], 0.3333333333333333]\n",
      "[[], [], 0.6666666666666666]\n",
      "[[], [], 1.0]\n",
      "[[], [], 0.3333333333333333]\n",
      "[[1, 2], [3, 1]]\n"
     ]
    },
    {
     "data": {
      "text/plain": [
       "[[1, 2], [3, 0.3333333333333333]]"
      ]
     },
     "execution_count": 61,
     "metadata": {},
     "output_type": "execute_result"
    }
   ],
   "source": [
    "a=[[1,2],\n",
    "   [3,1]]\n",
    "c=a\n",
    "for i in a:\n",
    "    for j in range(2):\n",
    "        b=[[],[]]\n",
    "        b.append(i[j]/3)\n",
    "        print(b)\n",
    "print(a)\n",
    "c[1][1]=c[1][1]/3\n",
    "c"
   ]
  },
  {
   "cell_type": "code",
   "execution_count": 62,
   "metadata": {},
   "outputs": [
    {
     "data": {
      "text/plain": [
       "(-2.5, 2.0, 1.5, -1.0)"
      ]
     },
     "execution_count": 62,
     "metadata": {},
     "output_type": "execute_result"
    }
   ],
   "source": [
    "5/-2,-4/-2,-3/-2,2/-2"
   ]
  },
  {
   "cell_type": "code",
   "execution_count": 46,
   "metadata": {},
   "outputs": [
    {
     "name": "stdout",
     "output_type": "stream",
     "text": [
      "[[2, 2], [2, 2]] [[2, 2], [2, 2]]\n"
     ]
    }
   ],
   "source": [
    "a=[[5,-4],\n",
    " [-3,2]]\n",
    "b=a.copy()\n",
    "for i in range(2):\n",
    "    for j in range(2):\n",
    "        b[i][j]=2\n",
    "print(a,b)"
   ]
  },
  {
   "cell_type": "code",
   "execution_count": null,
   "metadata": {},
   "outputs": [],
   "source": []
  },
  {
   "cell_type": "code",
   "execution_count": null,
   "metadata": {},
   "outputs": [],
   "source": [
    "A=[[2,1,4],\n",
    "   [3,5,6],\n",
    "   [1,7,2]]\n",
    "B=[[4],\n",
    "   [6],\n",
    "   [9]]\n",
    "\n",
    "C=[[2,1,4,4],\n",
    "   [3,5,6,6],\n",
    "   [1,7,2,9]]"
   ]
  },
  {
   "cell_type": "code",
   "execution_count": null,
   "metadata": {},
   "outputs": [],
   "source": [
    "# a1+b1+c1=k\n",
    "# a2+b2+c2=k\n",
    "# a3+b3+c3=k"
   ]
  },
  {
   "cell_type": "code",
   "execution_count": 130,
   "metadata": {},
   "outputs": [],
   "source": []
  },
  {
   "cell_type": "code",
   "execution_count": 131,
   "metadata": {},
   "outputs": [
    {
     "data": {
      "text/plain": [
       "(1, 51)"
      ]
     },
     "execution_count": 131,
     "metadata": {},
     "output_type": "execute_result"
    }
   ],
   "source": [
    "abs(-1),17*3"
   ]
  },
  {
   "cell_type": "code",
   "execution_count": 132,
   "metadata": {
    "scrolled": false
   },
   "outputs": [
    {
     "name": "stdout",
     "output_type": "stream",
     "text": [
      "after 36 iterations the value of x, y and z is\n"
     ]
    },
    {
     "data": {
      "text/plain": [
       "(7.525588102276923, -4.261041192885148, 0.2645469093917745)"
      ]
     },
     "execution_count": 132,
     "metadata": {},
     "output_type": "execute_result"
    }
   ],
   "source": [
    "jacobiMethod(1,2,1,1,3,1,-1,-1,3,3,2,4)"
   ]
  },
  {
   "cell_type": "code",
   "execution_count": 71,
   "metadata": {},
   "outputs": [
    {
     "data": {
      "text/plain": [
       "(7.5, -4.25, 0.25)"
      ]
     },
     "execution_count": 71,
     "metadata": {},
     "output_type": "execute_result"
    }
   ],
   "source": [
    "15/2,-17/4,1/4"
   ]
  },
  {
   "cell_type": "code",
   "execution_count": 83,
   "metadata": {},
   "outputs": [
    {
     "data": {
      "text/plain": [
       "4.058187637567098"
      ]
     },
     "execution_count": 83,
     "metadata": {},
     "output_type": "execute_result"
    }
   ],
   "source": [
    "x=7.525588102276923\n",
    "y=-4.261041192885148\n",
    "z=0.2645469093917745\n",
    "\n",
    "x+y+3*z"
   ]
  },
  {
   "cell_type": "code",
   "execution_count": 129,
   "metadata": {},
   "outputs": [
    {
     "name": "stdout",
     "output_type": "stream",
     "text": [
      "[0, 0, 0]\n",
      "index out of range\n",
      "index out of range\n",
      "index out of range\n",
      "6 [0.5, 2.0, 5.0]\n"
     ]
    }
   ],
   "source": [
    "n a=[[2,1,3],[3,1,1],[1,1,1]]\n",
    "b=[1,2,1]\n",
    "var=[]\n",
    "for i in range(len(a)):\n",
    "    var.append(0)\n",
    "print(var)\n",
    "run=0\n",
    "for i in range(len(a)):\n",
    "    for j in range(len(a)):\n",
    "        if j==(len(a)-1):\n",
    "            print(\"index out of range\")\n",
    "        else:\n",
    "            var[i]=var[i]+(a[i][j+1]*var[j+1])\n",
    "            run+=1\n",
    "    var[i]=(var[i]+b[i])/a[i][i]\n",
    "print(run,var)\n",
    "\n"
   ]
  },
  {
   "cell_type": "code",
   "execution_count": null,
   "metadata": {},
   "outputs": [],
   "source": []
  },
  {
   "cell_type": "code",
   "execution_count": 345,
   "metadata": {},
   "outputs": [],
   "source": []
  },
  {
   "cell_type": "code",
   "execution_count": 347,
   "metadata": {},
   "outputs": [
    {
     "data": {
      "text/plain": [
       "[4.0, -2.0]"
      ]
     },
     "execution_count": 347,
     "metadata": {},
     "output_type": "execute_result"
    }
   ],
   "source": [
    "jacob([1,1/2,2,3],[3,2])"
   ]
  },
  {
   "cell_type": "code",
   "execution_count": 346,
   "metadata": {},
   "outputs": [
    {
     "data": {
      "text/plain": [
       "[7.5, -4.25, 0.25]"
      ]
     },
     "execution_count": 346,
     "metadata": {},
     "output_type": "execute_result"
    }
   ],
   "source": [
    "jacob([1,1,-1,2,3,-1,1,1,3],[3,2,4])"
   ]
  },
  {
   "cell_type": "code",
   "execution_count": 336,
   "metadata": {},
   "outputs": [
    {
     "data": {
      "text/plain": [
       "(0.5514094069142446, -4.25)"
      ]
     },
     "execution_count": 336,
     "metadata": {},
     "output_type": "execute_result"
    }
   ],
   "source": [
    "x=1.8871088032833325\n",
    "y=-0.3608201215285847\n",
    "z=-0.32495975828016777\n",
    "\n",
    "x+y+3*z,-17/4"
   ]
  },
  {
   "cell_type": "code",
   "execution_count": 214,
   "metadata": {},
   "outputs": [
    {
     "data": {
      "text/plain": [
       "(-1.5, 2.25, 0.75)"
      ]
     },
     "execution_count": 214,
     "metadata": {},
     "output_type": "execute_result"
    }
   ],
   "source": [
    "x=4*(-0.375)\n",
    "y=3*(0.75)\n",
    "x,y,x+y"
   ]
  },
  {
   "cell_type": "code",
   "execution_count": 233,
   "metadata": {},
   "outputs": [
    {
     "name": "stdout",
     "output_type": "stream",
     "text": [
      "[0, 0, 0, 0] [1, 2, 3, 4]\n",
      "[1, 3, 3, 4] [1, 2, 3, 4]\n"
     ]
    }
   ],
   "source": [
    "a=[0,0,0,0]\n",
    "b=[1,2,3,4]\n",
    "print(a,b)\n",
    "a=b.copy()\n",
    "a[1]=3\n",
    "print(a,b)\n"
   ]
  },
  {
   "cell_type": "code",
   "execution_count": null,
   "metadata": {},
   "outputs": [],
   "source": []
  },
  {
   "cell_type": "code",
   "execution_count": 270,
   "metadata": {},
   "outputs": [
    {
     "name": "stdout",
     "output_type": "stream",
     "text": [
      "[1.2, 3, 4]\n",
      "[1.2, 3, 4]\n"
     ]
    },
    {
     "data": {
      "text/plain": [
       "[1.2, 3, 4, 56]"
      ]
     },
     "execution_count": 270,
     "metadata": {},
     "output_type": "execute_result"
    }
   ],
   "source": [
    "a=[1.2,3,4]\n",
    "print(a)\n",
    "a=list(a)\n",
    "print(a)\n",
    "a.append(56)\n",
    "a"
   ]
  },
  {
   "cell_type": "code",
   "execution_count": 294,
   "metadata": {},
   "outputs": [
    {
     "data": {
      "text/plain": [
       "(4, -1.7407407407407407, 0.4074074074074074)"
      ]
     },
     "execution_count": 294,
     "metadata": {},
     "output_type": "execute_result"
    }
   ],
   "source": [
    "4,-47/27,11/27"
   ]
  },
  {
   "cell_type": "code",
   "execution_count": 272,
   "metadata": {},
   "outputs": [
    {
     "data": {
      "text/plain": [
       "(1.0, [1.2, 3, 4, 56])"
      ]
     },
     "execution_count": 272,
     "metadata": {},
     "output_type": "execute_result"
    }
   ],
   "source": [
    "b=a.copy()\n",
    "b=a[1]/3\n",
    "b,a"
   ]
  },
  {
   "cell_type": "code",
   "execution_count": 293,
   "metadata": {},
   "outputs": [
    {
     "data": {
      "text/plain": [
       "-21"
      ]
     },
     "execution_count": 293,
     "metadata": {},
     "output_type": "execute_result"
    }
   ],
   "source": [
    "(4-33+8)"
   ]
  },
  {
   "cell_type": "code",
   "execution_count": 281,
   "metadata": {},
   "outputs": [],
   "source": [
    "a.clear()\n",
    "a.extend(list(range(10)))"
   ]
  },
  {
   "cell_type": "code",
   "execution_count": 282,
   "metadata": {},
   "outputs": [
    {
     "data": {
      "text/plain": [
       "[0, 1, 2, 3, 4, 5, 6, 7, 8, 9]"
      ]
     },
     "execution_count": 282,
     "metadata": {},
     "output_type": "execute_result"
    }
   ],
   "source": [
    "#a[0:len(a)]='a'\n",
    "a"
   ]
  },
  {
   "cell_type": "code",
   "execution_count": 128,
   "metadata": {},
   "outputs": [],
   "source": [
    "import math as m\n",
    "def arg(*arg):\n",
    "    ar=list(arg)\n",
    "    l=m.sqrt(len(arg))\n",
    "    l=int(l)\n",
    "    a=[]\n",
    "    for i in range(l):\n",
    "        a.append(list())\n",
    "        a[i]=ar[i]\n",
    "    return a"
   ]
  },
  {
   "cell_type": "code",
   "execution_count": 289,
   "metadata": {},
   "outputs": [
    {
     "data": {
      "text/plain": [
       "-47"
      ]
     },
     "execution_count": 289,
     "metadata": {},
     "output_type": "execute_result"
    }
   ],
   "source": [
    "18-65"
   ]
  },
  {
   "cell_type": "code",
   "execution_count": null,
   "metadata": {},
   "outputs": [],
   "source": []
  },
  {
   "cell_type": "code",
   "execution_count": null,
   "metadata": {},
   "outputs": [],
   "source": []
  },
  {
   "cell_type": "code",
   "execution_count": null,
   "metadata": {},
   "outputs": [],
   "source": []
  },
  {
   "cell_type": "code",
   "execution_count": 170,
   "metadata": {},
   "outputs": [],
   "source": [
    "def arrg(*arg):\n",
    "    l=int(m.sqrt(len(arg)))\n",
    "    a=[]\n",
    "    r=0\n",
    "    for i in range(l):\n",
    "        a.append(list())\n",
    "        for j in range(r,l+r):\n",
    "            a[i].append(arg[j])\n",
    "        r+=l\n",
    "    return a"
   ]
  },
  {
   "cell_type": "code",
   "execution_count": 171,
   "metadata": {},
   "outputs": [
    {
     "data": {
      "text/plain": [
       "[[3, 42, 34, 5], [3, 53, 53, 43], [8, 5, 4, 5], [23, 5, 4, 5]]"
      ]
     },
     "execution_count": 171,
     "metadata": {},
     "output_type": "execute_result"
    }
   ],
   "source": [
    "arrg(3,42,34,5,3,53,53,43,8,5,4,5,23,5,4,5)"
   ]
  },
  {
   "cell_type": "code",
   "execution_count": 164,
   "metadata": {},
   "outputs": [],
   "source": [
    "# ixl,l+l;"
   ]
  },
  {
   "cell_type": "code",
   "execution_count": 166,
   "metadata": {},
   "outputs": [
    {
     "data": {
      "text/plain": [
       "4.0"
      ]
     },
     "execution_count": 166,
     "metadata": {},
     "output_type": "execute_result"
    }
   ],
   "source": [
    "m.sqrt(16)"
   ]
  },
  {
   "cell_type": "code",
   "execution_count": 178,
   "metadata": {},
   "outputs": [],
   "source": [
    "def l(list):\n",
    "    a=len(list)\n",
    "    return list,a"
   ]
  },
  {
   "cell_type": "code",
   "execution_count": 179,
   "metadata": {},
   "outputs": [
    {
     "data": {
      "text/plain": [
       "([7.6, 76, 56, 4, 54], 5)"
      ]
     },
     "execution_count": 179,
     "metadata": {},
     "output_type": "execute_result"
    }
   ],
   "source": [
    "a=[7.6,76,56,4,54]\n",
    "l(a)"
   ]
  },
  {
   "cell_type": "code",
   "execution_count": null,
   "metadata": {},
   "outputs": [],
   "source": []
  },
  {
   "cell_type": "code",
   "execution_count": 200,
   "metadata": {},
   "outputs": [
    {
     "name": "stdout",
     "output_type": "stream",
     "text": [
      "yes\n",
      "yes\n",
      "yes\n",
      "yes\n",
      "yes\n",
      "yes\n",
      "yes\n",
      "yes\n",
      "yes\n",
      "yes\n",
      "yes\n",
      "yes\n",
      "yes\n",
      "yes\n"
     ]
    }
   ],
   "source": [
    "a=[32,43,23,3,4,2,0]\n",
    "i=0\n",
    "while(0 in a):\n",
    "    i+=1\n",
    "    if i==15:\n",
    "        break\n",
    "    else:\n",
    "        print(\"yes\")\n",
    "        "
   ]
  },
  {
   "cell_type": "code",
   "execution_count": null,
   "metadata": {},
   "outputs": [],
   "source": []
  },
  {
   "cell_type": "code",
   "execution_count": 309,
   "metadata": {},
   "outputs": [
    {
     "name": "stdout",
     "output_type": "stream",
     "text": [
      "[7.496136997740078, -4.246683920691034, 0.2502273477667079]\n"
     ]
    }
   ],
   "source": [
    "b=[3,2,4]\n",
    "mat=[[1,1,-1],[2,3,-1],[1,1,3]]\n",
    "    var=[]\n",
    "    var0=[]\n",
    "    var1=[]\n",
    "    ans_check=[]\n",
    "    td=10**-3\n",
    "    #l=int(m.sqrt(len(a)))\n",
    "    #r=0\n",
    "    for i in range(len(mat)):\n",
    "        #mat.append(list())\n",
    "        var.append(0)       #jacob([1,1,-1,2,3,-1,1,1,3],[3,2,4])\n",
    "        var0.append(0)\n",
    "        var1.append(0)\n",
    "        ans_check.append(0)\n",
    "        #for j in range(r,l+r):\n",
    "         #   mat[i].append(a[j])\n",
    "        #r+=l\n",
    "\n",
    "    while(0 in ans_check):\n",
    "\n",
    "        for i in range(len(mat)):      \n",
    "            for j in range(len(mat[i])):\n",
    "                if j==i:\n",
    "                    continue\n",
    "                else:\n",
    "                    var1[i]=var1[i]+(mat[i][j]*var0[j])\n",
    "            var1[i]=(b[i]-var1[i])/mat[i][i]\n",
    "            if(abs(var1[i]-var0[i])<td):\n",
    "                var[i]=var1[i]\n",
    "                ans_check[i]=1\n",
    "                    #var.append(f\"value of {i+1} variable is {var1[i]}\")\n",
    "        var0=var1.copy()\n",
    "        for i in range(len(b)):\n",
    "            var1[i]=0\n",
    "    \n",
    "\n",
    "print(var)"
   ]
  },
  {
   "cell_type": "code",
   "execution_count": 329,
   "metadata": {},
   "outputs": [
    {
     "data": {
      "text/plain": [
       "(4.05, 7.53, -4.26, 0.26)"
      ]
     },
     "execution_count": 329,
     "metadata": {},
     "output_type": "execute_result"
    }
   ],
   "source": [
    "x=7.525588102276923\n",
    "y=-4.261041192885148\n",
    "z=0.2645469093917745\n",
    "x=round(x,2)\n",
    "y=round(y,2)\n",
    "z=round(z,2)\n",
    "round(x+y+3*z,2),x,y,z"
   ]
  },
  {
   "cell_type": "code",
   "execution_count": 315,
   "metadata": {},
   "outputs": [
    {
     "data": {
      "text/plain": [
       "(-4.25, 7.5)"
      ]
     },
     "execution_count": 315,
     "metadata": {},
     "output_type": "execute_result"
    }
   ],
   "source": [
    "-17/4,15/2"
   ]
  },
  {
   "cell_type": "code",
   "execution_count": 305,
   "metadata": {},
   "outputs": [
    {
     "data": {
      "text/plain": [
       "([1, 2, 3], [0, 2, 0])"
      ]
     },
     "execution_count": 305,
     "metadata": {},
     "output_type": "execute_result"
    }
   ],
   "source": [
    "a=[1,2,3]\n",
    "b=[0,0,0]\n",
    "b[1]=a[1]\n",
    "a,b"
   ]
  },
  {
   "cell_type": "code",
   "execution_count": 301,
   "metadata": {},
   "outputs": [],
   "source": [
    "b[1]=3"
   ]
  },
  {
   "cell_type": "code",
   "execution_count": 306,
   "metadata": {},
   "outputs": [],
   "source": [
    "a[1]=0"
   ]
  },
  {
   "cell_type": "code",
   "execution_count": 307,
   "metadata": {},
   "outputs": [
    {
     "data": {
      "text/plain": [
       "([1, 0, 3], [0, 2, 0])"
      ]
     },
     "execution_count": 307,
     "metadata": {},
     "output_type": "execute_result"
    }
   ],
   "source": [
    "a,b"
   ]
  },
  {
   "cell_type": "code",
   "execution_count": null,
   "metadata": {},
   "outputs": [],
   "source": []
  }
 ],
 "metadata": {
  "kernelspec": {
   "display_name": "Python 3",
   "language": "python",
   "name": "python3"
  },
  "language_info": {
   "codemirror_mode": {
    "name": "ipython",
    "version": 3
   },
   "file_extension": ".py",
   "mimetype": "text/x-python",
   "name": "python",
   "nbconvert_exporter": "python",
   "pygments_lexer": "ipython3",
   "version": "3.8.5"
  }
 },
 "nbformat": 4,
 "nbformat_minor": 4
}
