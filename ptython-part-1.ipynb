{
 "cells": [
  {
   "cell_type": "markdown",
   "metadata": {},
   "source": [
    "# Print"
   ]
  },
  {
   "cell_type": "code",
   "execution_count": 1,
   "metadata": {},
   "outputs": [
    {
     "name": "stdout",
     "output_type": "stream",
     "text": [
      "My first project on python\n"
     ]
    }
   ],
   "source": [
    "print(\"My first project on python\")"
   ]
  },
  {
   "cell_type": "code",
   "execution_count": 2,
   "metadata": {},
   "outputs": [
    {
     "name": "stdout",
     "output_type": "stream",
     "text": [
      "10 12 20.354\n"
     ]
    }
   ],
   "source": [
    "print(10, 12 ,20.354)"
   ]
  },
  {
   "cell_type": "code",
   "execution_count": 3,
   "metadata": {},
   "outputs": [
    {
     "name": "stdout",
     "output_type": "stream",
     "text": [
      "\n"
     ]
    }
   ],
   "source": [
    "print()"
   ]
  },
  {
   "cell_type": "code",
   "execution_count": 4,
   "metadata": {},
   "outputs": [
    {
     "name": "stdout",
     "output_type": "stream",
     "text": [
      "owais uzair usaid humaid\n"
     ]
    }
   ],
   "source": [
    "print(\"owais\",\"uzair\",\"usaid\",\"humaid\")"
   ]
  },
  {
   "cell_type": "code",
   "execution_count": 5,
   "metadata": {},
   "outputs": [
    {
     "name": "stdout",
     "output_type": "stream",
     "text": [
      "owaisuzairusaidhumaid\n"
     ]
    }
   ],
   "source": [
    "print(\"owais\",\"uzair\",\"usaid\",\"humaid\", sep=\"\")"
   ]
  },
  {
   "cell_type": "code",
   "execution_count": 6,
   "metadata": {},
   "outputs": [
    {
     "name": "stdout",
     "output_type": "stream",
     "text": [
      "owais        uzair        usaid        humaid\n"
     ]
    }
   ],
   "source": [
    "print(\"owais\",\"uzair\",\"usaid\",\"humaid\", sep=\"        \")"
   ]
  },
  {
   "cell_type": "code",
   "execution_count": 7,
   "metadata": {},
   "outputs": [
    {
     "name": "stdout",
     "output_type": "stream",
     "text": [
      "owais arshad uzair arshad usaid arshad humaid\n"
     ]
    }
   ],
   "source": [
    "print(\"owais\",\"uzair\",\"usaid\",\"humaid\", sep=\" arshad \")"
   ]
  },
  {
   "cell_type": "code",
   "execution_count": 8,
   "metadata": {},
   "outputs": [
    {
     "name": "stdout",
     "output_type": "stream",
     "text": [
      "owais\n",
      "uzair\n",
      "usaid\n",
      "humaid\n"
     ]
    }
   ],
   "source": [
    "print(\"owais\")\n",
    "print(\"uzair\")\n",
    "print(\"usaid\")\n",
    "print(\"humaid\")"
   ]
  },
  {
   "cell_type": "code",
   "execution_count": 9,
   "metadata": {},
   "outputs": [
    {
     "name": "stdout",
     "output_type": "stream",
     "text": [
      "owaisuzairusaidhumaid\n"
     ]
    }
   ],
   "source": [
    "print(\"owais\", end=\"\")\n",
    "print(\"uzair\", end=\"\")\n",
    "print(\"usaid\", end=\"\")\n",
    "print(\"humaid\")"
   ]
  },
  {
   "cell_type": "code",
   "execution_count": 10,
   "metadata": {},
   "outputs": [
    {
     "name": "stdout",
     "output_type": "stream",
     "text": [
      "owais\tuzair\tusaid\thumaid\n"
     ]
    }
   ],
   "source": [
    "print(\"owais\", end=\"\\t\")\n",
    "print(\"uzair\", end=\"\\t\")\n",
    "print(\"usaid\", end=\"\\t\")\n",
    "print(\"humaid\")"
   ]
  },
  {
   "cell_type": "code",
   "execution_count": 11,
   "metadata": {},
   "outputs": [
    {
     "name": "stdout",
     "output_type": "stream",
     "text": [
      "owais\n",
      "\n",
      "uzair\n",
      "\n",
      "usaid\n",
      "\n",
      "humaid\n"
     ]
    }
   ],
   "source": [
    "print(\"owais\", end=\"\\n\\n\")\n",
    "print(\"uzair\", end=\"\\n\\n\")\n",
    "print(\"usaid\", end=\"\\n\\n\")\n",
    "print(\"humaid\")"
   ]
  },
  {
   "cell_type": "code",
   "execution_count": 12,
   "metadata": {},
   "outputs": [
    {
     "name": "stdout",
     "output_type": "stream",
     "text": [
      "owais'uzair'usaid'humaid\n"
     ]
    }
   ],
   "source": [
    "print(\"owais\", end=\"\\'\")\n",
    "print(\"uzair\", end=\"\\'\")\n",
    "print(\"usaid\", end=\"\\'\")\n",
    "print(\"humaid\")"
   ]
  },
  {
   "cell_type": "code",
   "execution_count": 13,
   "metadata": {},
   "outputs": [
    {
     "name": "stdout",
     "output_type": "stream",
     "text": [
      "owais\r",
      "uzair\r",
      "usaid\r",
      "humaid\n"
     ]
    }
   ],
   "source": [
    "print(\"owais\", end=\"\\r\")\n",
    "print(\"uzair\", end=\"\\r\")\n",
    "print(\"usaid\", end=\"\\r\")\n",
    "print(\"humaid\")"
   ]
  },
  {
   "cell_type": "code",
   "execution_count": 14,
   "metadata": {},
   "outputs": [
    {
     "name": "stdout",
     "output_type": "stream",
     "text": [
      "owais\u0007uzair\u0007usaid\u0007humaid\n"
     ]
    }
   ],
   "source": [
    "print(\"owais\", end=\"\\a\")\n",
    "print(\"uzair\", end=\"\\a\")\n",
    "print(\"usaid\", end=\"\\a\")\n",
    "print(\"humaid\")"
   ]
  },
  {
   "cell_type": "code",
   "execution_count": 15,
   "metadata": {},
   "outputs": [
    {
     "name": "stdout",
     "output_type": "stream",
     "text": [
      "owais \buzair \busaid \bhumaid\n"
     ]
    }
   ],
   "source": [
    "print(\"owais\", end=\" \\b\")\n",
    "print(\"uzair\", end=\" \\b\")\n",
    "print(\"usaid\", end=\" \\b\")\n",
    "print(\"humaid\")"
   ]
  },
  {
   "cell_type": "code",
   "execution_count": 16,
   "metadata": {},
   "outputs": [
    {
     "name": "stdout",
     "output_type": "stream",
     "text": [
      "owais\b 1 uzair\b 2 usaid\b 3 humaid\b 4 "
     ]
    }
   ],
   "source": [
    "print(\"owais\", end=\"\\b 1 \")\n",
    "print(\"uzair\", end=\"\\b 2 \")\n",
    "print(\"usaid\", end=\"\\b 3 \")\n",
    "print(\"humaid\", end=\"\\b 4 \")"
   ]
  },
  {
   "cell_type": "code",
   "execution_count": 17,
   "metadata": {},
   "outputs": [
    {
     "name": "stdout",
     "output_type": "stream",
     "text": [
      "owais\b1\n",
      "uzair\b2\n",
      "usaid\b3\n",
      "humaid\b4\n"
     ]
    }
   ],
   "source": [
    "print(\"owais\\b1\")\n",
    "print(\"uzair\\b2\")\n",
    "print(\"usaid\\b3\")\n",
    "print(\"humaid\\b4\")"
   ]
  },
  {
   "cell_type": "code",
   "execution_count": 18,
   "metadata": {},
   "outputs": [
    {
     "name": "stdout",
     "output_type": "stream",
     "text": [
      "owais \b 1 uzair \b 2 usaid \b 3 humaid \b 4 "
     ]
    }
   ],
   "source": [
    "print(\"owais\", end=\" \\b 1 \")\n",
    "print(\"uzair\", end=\" \\b 2 \")\n",
    "print(\"usaid\", end=\" \\b 3 \")\n",
    "print(\"humaid\", end=\" \\b 4 \")"
   ]
  },
  {
   "cell_type": "markdown",
   "metadata": {},
   "source": [
    "# Variables and type checking"
   ]
  },
  {
   "cell_type": "code",
   "execution_count": 19,
   "metadata": {},
   "outputs": [],
   "source": [
    "a=93"
   ]
  },
  {
   "cell_type": "code",
   "execution_count": 20,
   "metadata": {},
   "outputs": [
    {
     "data": {
      "text/plain": [
       "int"
      ]
     },
     "execution_count": 20,
     "metadata": {},
     "output_type": "execute_result"
    }
   ],
   "source": [
    "type(a)"
   ]
  },
  {
   "cell_type": "code",
   "execution_count": 21,
   "metadata": {},
   "outputs": [],
   "source": [
    "a=009.5"
   ]
  },
  {
   "cell_type": "code",
   "execution_count": 22,
   "metadata": {},
   "outputs": [
    {
     "data": {
      "text/plain": [
       "float"
      ]
     },
     "execution_count": 22,
     "metadata": {},
     "output_type": "execute_result"
    }
   ],
   "source": [
    "type(a)"
   ]
  },
  {
   "cell_type": "code",
   "execution_count": 23,
   "metadata": {},
   "outputs": [],
   "source": [
    "a=\"owais\""
   ]
  },
  {
   "cell_type": "code",
   "execution_count": 24,
   "metadata": {},
   "outputs": [
    {
     "data": {
      "text/plain": [
       "str"
      ]
     },
     "execution_count": 24,
     "metadata": {},
     "output_type": "execute_result"
    }
   ],
   "source": [
    "type(a)"
   ]
  },
  {
   "cell_type": "markdown",
   "metadata": {},
   "source": [
    "# Math operation"
   ]
  },
  {
   "cell_type": "code",
   "execution_count": 25,
   "metadata": {},
   "outputs": [
    {
     "name": "stdout",
     "output_type": "stream",
     "text": [
      "-790\n"
     ]
    }
   ],
   "source": [
    "a=99\n",
    "b=98\n",
    "c=987\n",
    "sum=a+b-c\n",
    "print(sum)"
   ]
  },
  {
   "cell_type": "code",
   "execution_count": 26,
   "metadata": {},
   "outputs": [
    {
     "name": "stdout",
     "output_type": "stream",
     "text": [
      "-0.010126582278481013\n"
     ]
    }
   ],
   "source": [
    "d=sum\n",
    "ans=8/d\n",
    "print(ans)"
   ]
  },
  {
   "cell_type": "code",
   "execution_count": 27,
   "metadata": {},
   "outputs": [
    {
     "data": {
      "text/plain": [
       "-0.10126582278481013"
      ]
     },
     "execution_count": 27,
     "metadata": {},
     "output_type": "execute_result"
    }
   ],
   "source": [
    "ans*10"
   ]
  },
  {
   "cell_type": "code",
   "execution_count": 28,
   "metadata": {},
   "outputs": [
    {
     "data": {
      "text/plain": [
       "1.0"
      ]
     },
     "execution_count": 28,
     "metadata": {},
     "output_type": "execute_result"
    }
   ],
   "source": [
    "10/10"
   ]
  },
  {
   "cell_type": "code",
   "execution_count": 29,
   "metadata": {},
   "outputs": [
    {
     "data": {
      "text/plain": [
       "1"
      ]
     },
     "execution_count": 29,
     "metadata": {},
     "output_type": "execute_result"
    }
   ],
   "source": [
    "10//10"
   ]
  },
  {
   "cell_type": "code",
   "execution_count": 30,
   "metadata": {},
   "outputs": [
    {
     "data": {
      "text/plain": [
       "0.06"
      ]
     },
     "execution_count": 30,
     "metadata": {},
     "output_type": "execute_result"
    }
   ],
   "source": [
    "3/50"
   ]
  },
  {
   "cell_type": "code",
   "execution_count": 31,
   "metadata": {},
   "outputs": [
    {
     "data": {
      "text/plain": [
       "3"
      ]
     },
     "execution_count": 31,
     "metadata": {},
     "output_type": "execute_result"
    }
   ],
   "source": [
    "3%50"
   ]
  },
  {
   "cell_type": "markdown",
   "metadata": {},
   "source": [
    "# Comments"
   ]
  },
  {
   "cell_type": "code",
   "execution_count": 32,
   "metadata": {},
   "outputs": [],
   "source": [
    "# the answer is the rminder of 3/50\n",
    "# whhen we use \"%\" this sign it give\n",
    "# us reminder not the answer"
   ]
  },
  {
   "cell_type": "markdown",
   "metadata": {},
   "source": [
    "# If else statement and boolen "
   ]
  },
  {
   "cell_type": "code",
   "execution_count": 33,
   "metadata": {},
   "outputs": [
    {
     "data": {
      "text/plain": [
       "True"
      ]
     },
     "execution_count": 33,
     "metadata": {},
     "output_type": "execute_result"
    }
   ],
   "source": [
    "name=\"owais\"\n",
    "name==\"owais\""
   ]
  },
  {
   "cell_type": "code",
   "execution_count": 34,
   "metadata": {},
   "outputs": [
    {
     "data": {
      "text/plain": [
       "False"
      ]
     },
     "execution_count": 34,
     "metadata": {},
     "output_type": "execute_result"
    }
   ],
   "source": [
    "name==\"ali\""
   ]
  },
  {
   "cell_type": "code",
   "execution_count": 35,
   "metadata": {},
   "outputs": [
    {
     "data": {
      "text/plain": [
       "True"
      ]
     },
     "execution_count": 35,
     "metadata": {},
     "output_type": "execute_result"
    }
   ],
   "source": [
    "per = 80\n",
    "per==80"
   ]
  },
  {
   "cell_type": "code",
   "execution_count": 36,
   "metadata": {},
   "outputs": [
    {
     "data": {
      "text/plain": [
       "False"
      ]
     },
     "execution_count": 36,
     "metadata": {},
     "output_type": "execute_result"
    }
   ],
   "source": [
    "per!=80"
   ]
  },
  {
   "cell_type": "code",
   "execution_count": 37,
   "metadata": {},
   "outputs": [
    {
     "data": {
      "text/plain": [
       "True"
      ]
     },
     "execution_count": 37,
     "metadata": {},
     "output_type": "execute_result"
    }
   ],
   "source": [
    "per>=80"
   ]
  },
  {
   "cell_type": "code",
   "execution_count": 38,
   "metadata": {},
   "outputs": [
    {
     "data": {
      "text/plain": [
       "True"
      ]
     },
     "execution_count": 38,
     "metadata": {},
     "output_type": "execute_result"
    }
   ],
   "source": [
    "per<=80"
   ]
  },
  {
   "cell_type": "code",
   "execution_count": 39,
   "metadata": {},
   "outputs": [
    {
     "data": {
      "text/plain": [
       "False"
      ]
     },
     "execution_count": 39,
     "metadata": {},
     "output_type": "execute_result"
    }
   ],
   "source": [
    "per>80"
   ]
  },
  {
   "cell_type": "code",
   "execution_count": 40,
   "metadata": {},
   "outputs": [
    {
     "data": {
      "text/plain": [
       "False"
      ]
     },
     "execution_count": 40,
     "metadata": {},
     "output_type": "execute_result"
    }
   ],
   "source": [
    "per<80"
   ]
  },
  {
   "cell_type": "markdown",
   "metadata": {},
   "source": [
    "# Nested if"
   ]
  },
  {
   "cell_type": "code",
   "execution_count": 41,
   "metadata": {},
   "outputs": [
    {
     "name": "stdout",
     "output_type": "stream",
     "text": [
      "A+\n",
      "A\n",
      "B\n",
      "c\n"
     ]
    }
   ],
   "source": [
    "per=90\n",
    "if per>=80:\n",
    "    print(\"A+\")\n",
    "else:\n",
    "    print(\"not able to A+\")\n",
    "if per>=70:\n",
    "    print(\"A\")\n",
    "else:\n",
    "    print(\"not able to A\")\n",
    "if per>=60:\n",
    "    print(\"B\")\n",
    "else:\n",
    "    print(\"not able to B also\")\n",
    "if per>=50:\n",
    "    print(\"c\")\n",
    "if per==50:\n",
    "    print(\"Bal bal bacha hai shukar mana C a gaya warna latk jata\") \n",
    "if per<50:\n",
    "    print(\"kanjar tu C k like bh nh tha\")\n",
    "if per==49:\n",
    "    print(\"chutye 1 per le leta to pass ho jata 1 per se latak gaya na\" )\n",
    "if per<50:\n",
    "    print(\"fail ho gaya chal nkl ab ja kr rote rhe\")\n",
    "if per<=40:\n",
    "    print(\"tu hai hi nalaik parhna likhna sare bais bs pagl panti krne de do\")  "
   ]
  },
  {
   "cell_type": "code",
   "execution_count": 42,
   "metadata": {},
   "outputs": [
    {
     "name": "stdout",
     "output_type": "stream",
     "text": [
      "A+\n",
      "A\n",
      "B\n",
      "c\n"
     ]
    }
   ],
   "source": [
    "per=89\n",
    "if per>=80:\n",
    "    print(\"A+\")\n",
    "else:\n",
    "    print(\"not able to A+\")\n",
    "if per>=70:\n",
    "    print(\"A\")\n",
    "else:\n",
    "    print(\"not able to A\")\n",
    "if per>=60:\n",
    "    print(\"B\")\n",
    "else:\n",
    "    print(\"not able to B also\")\n",
    "if per>=50:\n",
    "    print(\"c\")\n",
    "if per==50:\n",
    "    print(\"Bal bal bacha hai shukar mana C a gaya warna latk jata\") \n",
    "if per<50:\n",
    "    print(\"kanjar tu C k like bh nh tha\")\n",
    "if per==49:\n",
    "    print(\"chutye 1 per le leta to pass ho jata 1 per se latak gaya na\" )\n",
    "if per<50:\n",
    "    print(\"fail ho gaya chal nkl ab ja kr rote rhe\")\n",
    "if per<=40:\n",
    "    print(\"tu hai hi nalaik parhna likhna sare bais bs pagl panti krne de do\")  "
   ]
  },
  {
   "cell_type": "code",
   "execution_count": 43,
   "metadata": {},
   "outputs": [
    {
     "name": "stdout",
     "output_type": "stream",
     "text": [
      "A+\n",
      "A\n",
      "B\n",
      "c\n"
     ]
    }
   ],
   "source": [
    "per=80\n",
    "if per>=80:\n",
    "    print(\"A+\")\n",
    "else:\n",
    "    print(\"not able to A+\")\n",
    "if per>=70:\n",
    "    print(\"A\")\n",
    "else:\n",
    "    print(\"not able to A\")\n",
    "if per>=60:\n",
    "    print(\"B\")\n",
    "else:\n",
    "    print(\"not able to B also\")\n",
    "if per>=50:\n",
    "    print(\"c\")\n",
    "if per==50:\n",
    "    print(\"Bal bal bacha hai shukar mana C a gaya warna latk jata\") \n",
    "if per<50:\n",
    "    print(\"kanjar tu C k like bh nh tha\")\n",
    "if per==49:\n",
    "    print(\"chutye 1 per le leta to pass ho jata 1 per se latak gaya na\" )\n",
    "if per<50:\n",
    "    print(\"fail ho gaya chal nkl ab ja kr rote rhe\")\n",
    "if per<=40:\n",
    "    print(\"tu hai hi nalaik parhna likhna sare bais bs pagl panti krne de do\")  "
   ]
  },
  {
   "cell_type": "code",
   "execution_count": 44,
   "metadata": {},
   "outputs": [
    {
     "name": "stdout",
     "output_type": "stream",
     "text": [
      "not able to A+\n",
      "A\n",
      "B\n",
      "c\n"
     ]
    }
   ],
   "source": [
    "per=79\n",
    "if per>=80:\n",
    "    print(\"A+\")\n",
    "else:\n",
    "    print(\"not able to A+\")\n",
    "if per>=70:\n",
    "    print(\"A\")\n",
    "else:\n",
    "    print(\"not able to A\")\n",
    "if per>=60:\n",
    "    print(\"B\")\n",
    "else:\n",
    "    print(\"not able to B also\")\n",
    "if per>=50:\n",
    "    print(\"c\")\n",
    "if per==50:\n",
    "    print(\"Bal bal bacha hai shukar mana C a gaya warna latk jata\") \n",
    "if per<50:\n",
    "    print(\"kanjar tu C k like bh nh tha\")\n",
    "if per==49:\n",
    "    print(\"chutye 1 per le leta to pass ho jata 1 per se latak gaya na\" )\n",
    "if per<50:\n",
    "    print(\"fail ho gaya chal nkl ab ja kr rote rhe\")\n",
    "if per<=40:\n",
    "    print(\"tu hai hi nalaik parhna likhna sare bais bs pagl panti krne de do\")  "
   ]
  },
  {
   "cell_type": "code",
   "execution_count": 45,
   "metadata": {},
   "outputs": [
    {
     "name": "stdout",
     "output_type": "stream",
     "text": [
      "not able to A+\n",
      "A\n",
      "B\n",
      "c\n"
     ]
    }
   ],
   "source": [
    "per=70\n",
    "if per>=80:\n",
    "    print(\"A+\")\n",
    "else:\n",
    "    print(\"not able to A+\")\n",
    "if per>=70:\n",
    "    print(\"A\")\n",
    "else:\n",
    "    print(\"not able to A\")\n",
    "if per>=60:\n",
    "    print(\"B\")\n",
    "else:\n",
    "    print(\"not able to B also\")\n",
    "if per>=50:\n",
    "    print(\"c\")\n",
    "if per==50:\n",
    "    print(\"Bal bal bacha hai shukar mana C a gaya warna latk jata\") \n",
    "if per<50:\n",
    "    print(\"kanjar tu C k like bh nh tha\")\n",
    "if per==49:\n",
    "    print(\"chutye 1 per le leta to pass ho jata 1 per se latak gaya na\" )\n",
    "if per<50:\n",
    "    print(\"fail ho gaya chal nkl ab ja kr rote rhe\")\n",
    "if per<=40:\n",
    "    print(\"tu hai hi nalaik parhna likhna sare bais bs pagl panti krne de do\")  "
   ]
  },
  {
   "cell_type": "code",
   "execution_count": 46,
   "metadata": {},
   "outputs": [
    {
     "name": "stdout",
     "output_type": "stream",
     "text": [
      "not able to A+\n",
      "not able to A\n",
      "B\n",
      "c\n"
     ]
    }
   ],
   "source": [
    "per=69\n",
    "if per>=80:\n",
    "    print(\"A+\")\n",
    "else:\n",
    "    print(\"not able to A+\")\n",
    "if per>=70:\n",
    "    print(\"A\")\n",
    "else:\n",
    "    print(\"not able to A\")\n",
    "if per>=60:\n",
    "    print(\"B\")\n",
    "else:\n",
    "    print(\"not able to B also\")\n",
    "if per>=50:\n",
    "    print(\"c\")\n",
    "if per==50:\n",
    "    print(\"Bal bal bacha hai shukar mana C a gaya warna latk jata\") \n",
    "if per<50:\n",
    "    print(\"kanjar tu C k like bh nh tha\")\n",
    "if per==49:\n",
    "    print(\"chutye 1 per le leta to pass ho jata 1 per se latak gaya na\" )\n",
    "if per<50:\n",
    "    print(\"fail ho gaya chal nkl ab ja kr rote rhe\")\n",
    "if per<=40:\n",
    "    print(\"tu hai hi nalaik parhna likhna sare bais bs pagl panti krne de do\")  "
   ]
  },
  {
   "cell_type": "code",
   "execution_count": 47,
   "metadata": {},
   "outputs": [
    {
     "name": "stdout",
     "output_type": "stream",
     "text": [
      "not able to A+\n",
      "not able to A\n",
      "B\n",
      "c\n"
     ]
    }
   ],
   "source": [
    "per=60\n",
    "if per>=80:\n",
    "    print(\"A+\")\n",
    "else:\n",
    "    print(\"not able to A+\")\n",
    "if per>=70:\n",
    "    print(\"A\")\n",
    "else:\n",
    "    print(\"not able to A\")\n",
    "if per>=60:\n",
    "    print(\"B\")\n",
    "else:\n",
    "    print(\"not able to B also\")\n",
    "if per>=50:\n",
    "    print(\"c\")\n",
    "if per==50:\n",
    "    print(\"Bal bal bacha hai shukar mana C a gaya warna latk jata\") \n",
    "if per<50:\n",
    "    print(\"kanjar tu C k like bh nh tha\")\n",
    "if per==49:\n",
    "    print(\"chutye 1 per le leta to pass ho jata 1 per se latak gaya na\" )\n",
    "if per<50:\n",
    "    print(\"fail ho gaya chal nkl ab ja kr rote rhe\")\n",
    "if per<=40:\n",
    "    print(\"tu hai hi nalaik parhna likhna sare bais bs pagl panti krne de do\")  "
   ]
  },
  {
   "cell_type": "code",
   "execution_count": 48,
   "metadata": {},
   "outputs": [
    {
     "name": "stdout",
     "output_type": "stream",
     "text": [
      "not able to A+\n",
      "not able to A\n",
      "not able to B also\n",
      "c\n"
     ]
    }
   ],
   "source": [
    "per=59\n",
    "if per>=80:\n",
    "    print(\"A+\")\n",
    "else:\n",
    "    print(\"not able to A+\")\n",
    "if per>=70:\n",
    "    print(\"A\")\n",
    "else:\n",
    "    print(\"not able to A\")\n",
    "if per>=60:\n",
    "    print(\"B\")\n",
    "else:\n",
    "    print(\"not able to B also\")\n",
    "if per>=50:\n",
    "    print(\"c\")\n",
    "if per==50:\n",
    "    print(\"Bal bal bacha hai shukar mana C a gaya warna latk jata\") \n",
    "if per<50:\n",
    "    print(\"kanjar tu C k like bh nh tha\")\n",
    "if per==49:\n",
    "    print(\"chutye 1 per le leta to pass ho jata 1 per se latak gaya na\" )\n",
    "if per<50:\n",
    "    print(\"fail ho gaya chal nkl ab ja kr rote rhe\")\n",
    "if per<=40:\n",
    "    print(\"tu hai hi nalaik parhna likhna sare bais bs pagl panti krne de do\")  "
   ]
  },
  {
   "cell_type": "code",
   "execution_count": 49,
   "metadata": {},
   "outputs": [
    {
     "name": "stdout",
     "output_type": "stream",
     "text": [
      "not able to A+\n",
      "not able to A\n",
      "not able to B also\n",
      "c\n",
      "Bal bal bacha hai shukar mana C a gaya warna latk jata\n"
     ]
    }
   ],
   "source": [
    "per=50\n",
    "if per>=80:\n",
    "    print(\"A+\")\n",
    "else:\n",
    "    print(\"not able to A+\")\n",
    "if per>=70:\n",
    "    print(\"A\")\n",
    "else:\n",
    "    print(\"not able to A\")\n",
    "if per>=60:\n",
    "    print(\"B\")\n",
    "else:\n",
    "    print(\"not able to B also\")\n",
    "if per>=50:\n",
    "    print(\"c\")\n",
    "if per==50:\n",
    "    print(\"Bal bal bacha hai shukar mana C a gaya warna latk jata\") \n",
    "if per<50:\n",
    "    print(\"kanjar tu C k like bh nh tha\")\n",
    "if per==49:\n",
    "    print(\"chutye 1 per le leta to pass ho jata 1 per se latak gaya na\" )\n",
    "if per<50:\n",
    "    print(\"fail ho gaya chal nkl ab ja kr rote rhe\")\n",
    "if per<=40:\n",
    "    print(\"tu hai hi nalaik parhna likhna sare bais bs pagl panti krne de do\")  "
   ]
  },
  {
   "cell_type": "code",
   "execution_count": 50,
   "metadata": {
    "scrolled": true
   },
   "outputs": [
    {
     "name": "stdout",
     "output_type": "stream",
     "text": [
      "not able to A+\n",
      "not able to A\n",
      "not able to B also\n",
      "kanjar tu C k like bh nh tha\n",
      "chutye 1 per le leta to pass ho jata 1 per se latak gaya na\n",
      "fail ho gaya chal nkl ab ja kr rote rhe\n"
     ]
    }
   ],
   "source": [
    "per=49\n",
    "if per>=80:\n",
    "    print(\"A+\")\n",
    "else:\n",
    "    print(\"not able to A+\")\n",
    "if per>=70:\n",
    "    print(\"A\")\n",
    "else:\n",
    "    print(\"not able to A\")\n",
    "if per>=60:\n",
    "    print(\"B\")\n",
    "else:\n",
    "    print(\"not able to B also\")\n",
    "if per>=50:\n",
    "    print(\"c\")\n",
    "if per==50:\n",
    "    print(\"Bal bal bacha hai shukar mana C a gaya warna latk jata\") \n",
    "if per<50:\n",
    "    print(\"kanjar tu C k like bh nh tha\")\n",
    "if per==49:\n",
    "    print(\"chutye 1 per le leta to pass ho jata 1 per se latak gaya na\" )\n",
    "if per<50:\n",
    "    print(\"fail ho gaya chal nkl ab ja kr rote rhe\")\n",
    "if per<=40:\n",
    "    print(\"tu hai hi nalaik parhna likhna sare bais bs pagl panti krne de do\") "
   ]
  },
  {
   "cell_type": "code",
   "execution_count": 1,
   "metadata": {},
   "outputs": [
    {
     "name": "stdout",
     "output_type": "stream",
     "text": [
      "not able to A+\n",
      "not able to A\n",
      "not able to B also\n",
      "kanjar tu C k like bh nh tha\n",
      "fail ho gaya chal nkl ab ja kr rote rhe\n",
      "tu hai hi nalaik parhna likhna sare bais bs pagl panti krne de do\n"
     ]
    }
   ],
   "source": [
    "per=40\n",
    "if per>=80:\n",
    "    print(\"A+\")\n",
    "else:\n",
    "    print(\"not able to A+\")\n",
    "if per>=70:\n",
    "    print(\"A\")\n",
    "else:\n",
    "    print(\"not able to A\")\n",
    "if per>=60:\n",
    "    print(\"B\")\n",
    "else:\n",
    "    print(\"not able to B also\")\n",
    "if per>=50:\n",
    "    print(\"c\")\n",
    "if per==50:\n",
    "    print(\"Bal bal bacha hai shukar mana C a gaya warna latk jata\") \n",
    "if per<50:\n",
    "    print(\"kanjar tu C k like bh nh tha\")\n",
    "if per==49:\n",
    "    print(\"chutye 1 per le leta to pass ho jata 1 per se latak gaya na\" )\n",
    "if per<50:\n",
    "    print(\"fail ho gaya chal nkl ab ja kr rote rhe\")\n",
    "if per<=40:\n",
    "    print(\"tu hai hi nalaik parhna likhna sare bais bs pagl panti krne de do\")"
   ]
  },
  {
   "cell_type": "markdown",
   "metadata": {},
   "source": [
    "#  elif"
   ]
  },
  {
   "cell_type": "code",
   "execution_count": 5,
   "metadata": {},
   "outputs": [
    {
     "name": "stdout",
     "output_type": "stream",
     "text": [
      "49\n",
      "chutye 1 per le leta to pass ho jata 1 per se latak gaya na\n"
     ]
    }
   ],
   "source": [
    "per=int(input())\n",
    "if per >=80:\n",
    "    print(\"A+\")\n",
    "elif per>=70:\n",
    "    print(\"A\")\n",
    "elif per>=60:\n",
    "    print(\"B\")\n",
    "elif per>=50:\n",
    "    print(\"C\")\n",
    "if per==49:\n",
    "    print(\"chutye 1 per le leta to pass ho jata 1 per se latak gaya na\" )\n",
    "elif per<49:\n",
    "    print(\"Fail\")\n",
    "    print(\"kanjar tu C k like bh nh tha\")\n",
    "    print(\"fail ho gaya chal nkl ab ja kr rote rhe chutye\")\n",
    "elif per<=40:\n",
    "    print(\"tu hai hi nalaik parhna likhna sare bais bs pagl panti krne de do\")"
   ]
  },
  {
   "cell_type": "code",
   "execution_count": 53,
   "metadata": {},
   "outputs": [
    {
     "name": "stdout",
     "output_type": "stream",
     "text": [
      "A\n"
     ]
    }
   ],
   "source": [
    "per=70\n",
    "if per >=80:\n",
    "    print(\"A+\")\n",
    "elif per>=70:\n",
    "    print(\"A\")\n",
    "elif per>=60:\n",
    "    print(\"B\")\n",
    "elif per>=50:\n",
    "    print(\"C\")\n",
    "elif per<50:\n",
    "    print(\"Fail\")\n",
    "    print(\"kanjar tu C k like bh nh tha\")\n",
    "    print(\"fail ho gaya chal nkl ab ja kr rote rhe\")\n",
    "if per==49:\n",
    "    print(\"chutye 1 per le leta to pass ho jata 1 per se latak gaya na\" )\n",
    "elif per<=40:\n",
    "    print(\"tu hai hi nalaik parhna likhna sare bais bs pagl panti krne de do\")"
   ]
  },
  {
   "cell_type": "code",
   "execution_count": 54,
   "metadata": {},
   "outputs": [
    {
     "name": "stdout",
     "output_type": "stream",
     "text": [
      "B\n"
     ]
    }
   ],
   "source": [
    "per=69\n",
    "if per >=80:\n",
    "    print(\"A+\")\n",
    "elif per>=70:\n",
    "    print(\"A\")\n",
    "elif per>=60:\n",
    "    print(\"B\")\n",
    "elif per>=50:\n",
    "    print(\"C\")\n",
    "elif per<50:\n",
    "    print(\"Fail\")\n",
    "    print(\"kanjar tu C k like bh nh tha\")\n",
    "    print(\"fail ho gaya chal nkl ab ja kr rote rhe\")\n",
    "if per==49:\n",
    "    print(\"chutye 1 per le leta to pass ho jata 1 per se latak gaya na\" )\n",
    "elif per<=40:\n",
    "    print(\"tu hai hi nalaik parhna likhna sare bais bs pagl panti krne de do\")"
   ]
  },
  {
   "cell_type": "code",
   "execution_count": 55,
   "metadata": {},
   "outputs": [
    {
     "name": "stdout",
     "output_type": "stream",
     "text": [
      "B\n"
     ]
    }
   ],
   "source": [
    "per=60\n",
    "if per >=80:\n",
    "    print(\"A+\")\n",
    "elif per>=70:\n",
    "    print(\"A\")\n",
    "elif per>=60:\n",
    "    print(\"B\")\n",
    "elif per>=50:\n",
    "    print(\"C\")\n",
    "elif per<50:\n",
    "    print(\"Fail\")\n",
    "    print(\"kanjar tu C k like bh nh tha\")\n",
    "    print(\"fail ho gaya chal nkl ab ja kr rote rhe\")\n",
    "if per==49:\n",
    "    print(\"chutye 1 per le leta to pass ho jata 1 per se latak gaya na\" )\n",
    "elif per<=40:\n",
    "    print(\"tu hai hi nalaik parhna likhna sare bais bs pagl panti krne de do\")"
   ]
  },
  {
   "cell_type": "code",
   "execution_count": 56,
   "metadata": {},
   "outputs": [
    {
     "name": "stdout",
     "output_type": "stream",
     "text": [
      "C\n"
     ]
    }
   ],
   "source": [
    "per=59\n",
    "if per >=80:\n",
    "    print(\"A+\")\n",
    "elif per>=70:\n",
    "    print(\"A\")\n",
    "elif per>=60:\n",
    "    print(\"B\")\n",
    "elif per>=50:\n",
    "    print(\"C\")\n",
    "elif per<50:\n",
    "    print(\"Fail\")\n",
    "    print(\"kanjar tu C k like bh nh tha\")\n",
    "    print(\"fail ho gaya chal nkl ab ja kr rote rhe\")\n",
    "if per==49:\n",
    "    print(\"chutye 1 per le leta to pass ho jata 1 per se latak gaya na\" )\n",
    "elif per<=40:\n",
    "    print(\"tu hai hi nalaik parhna likhna sare bais bs pagl panti krne de do\")"
   ]
  },
  {
   "cell_type": "code",
   "execution_count": 57,
   "metadata": {},
   "outputs": [
    {
     "name": "stdout",
     "output_type": "stream",
     "text": [
      "C\n"
     ]
    }
   ],
   "source": [
    "per=50\n",
    "if per >=80:\n",
    "    print(\"A+\")\n",
    "elif per>=70:\n",
    "    print(\"A\")\n",
    "elif per>=60:\n",
    "    print(\"B\")\n",
    "elif per>=50:\n",
    "    print(\"C\")\n",
    "elif per<50:\n",
    "    print(\"Fail\")\n",
    "    print(\"kanjar tu C k like bh nh tha\")\n",
    "    print(\"fail ho gaya chal nkl ab ja kr rote rhe\")\n",
    "if per==49:\n",
    "    print(\"chutye 1 per le leta to pass ho jata 1 per se latak gaya na\" )\n",
    "elif per<=40:\n",
    "    print(\"tu hai hi nalaik parhna likhna sare bais bs pagl panti krne de do\")"
   ]
  },
  {
   "cell_type": "code",
   "execution_count": 58,
   "metadata": {},
   "outputs": [
    {
     "name": "stdout",
     "output_type": "stream",
     "text": [
      "Fail\n",
      "kanjar tu C k like bh nh tha\n",
      "fail ho gaya chal nkl ab ja kr rote rhe\n",
      "chutye 1 per le leta to pass ho jata 1 per se latak gaya na\n"
     ]
    }
   ],
   "source": [
    "per=49\n",
    "if per >=80:\n",
    "    print(\"A+\")\n",
    "elif per>=70:\n",
    "    print(\"A\")\n",
    "elif per>=60:\n",
    "    print(\"B\")\n",
    "elif per>=50:\n",
    "    print(\"C\")\n",
    "elif per<50:\n",
    "    print(\"Fail\")\n",
    "    print(\"kanjar tu C k like bh nh tha\")\n",
    "    print(\"fail ho gaya chal nkl ab ja kr rote rhe\")\n",
    "if per==49:\n",
    "    print(\"chutye 1 per le leta to pass ho jata 1 per se latak gaya na\" )\n",
    "elif per<=40:\n",
    "    print(\"tu hai hi nalaik parhna likhna sare bais bs pagl panti krne de do\")"
   ]
  },
  {
   "cell_type": "code",
   "execution_count": 59,
   "metadata": {},
   "outputs": [
    {
     "name": "stdout",
     "output_type": "stream",
     "text": [
      "Fail\n",
      "kanjar tu C k like bh nh tha\n",
      "fail ho gaya chal nkl ab ja kr rote rhe\n",
      "tu hai hi nalaik parhna likhna sare bais bs pagl panti krne de do\n"
     ]
    }
   ],
   "source": [
    "per=40\n",
    "if per >=80:\n",
    "    print(\"A+\")\n",
    "elif per>=70:\n",
    "    print(\"A\")\n",
    "elif per>=60:\n",
    "    print(\"B\")\n",
    "elif per>=50:\n",
    "    print(\"C\")\n",
    "elif per<50:\n",
    "    print(\"Fail\")\n",
    "    print(\"kanjar tu C k like bh nh tha\")\n",
    "    print(\"fail ho gaya chal nkl ab ja kr rote rhe\")\n",
    "if per==49:\n",
    "    print(\"chutye 1 per le leta to pass ho jata 1 per se latak gaya na\" )\n",
    "elif per<=40:\n",
    "    print(\"tu hai hi nalaik parhna likhna sare bais bs pagl panti krne de do\")"
   ]
  },
  {
   "cell_type": "markdown",
   "metadata": {},
   "source": [
    "# List"
   ]
  },
  {
   "cell_type": "code",
   "execution_count": 60,
   "metadata": {},
   "outputs": [],
   "source": [
    "nums=[1,2,3,4,5,6,7,8,9,10,11,12,13,14,15,16,17,18,19,20]"
   ]
  },
  {
   "cell_type": "code",
   "execution_count": 61,
   "metadata": {},
   "outputs": [
    {
     "data": {
      "text/plain": [
       "[1, 2, 3, 4, 5, 6, 7, 8, 9, 10, 11, 12, 13, 14, 15, 16, 17, 18, 19, 20]"
      ]
     },
     "execution_count": 61,
     "metadata": {},
     "output_type": "execute_result"
    }
   ],
   "source": [
    "nums"
   ]
  },
  {
   "cell_type": "code",
   "execution_count": 62,
   "metadata": {},
   "outputs": [
    {
     "data": {
      "text/plain": [
       "1"
      ]
     },
     "execution_count": 62,
     "metadata": {},
     "output_type": "execute_result"
    }
   ],
   "source": [
    "nums[0]"
   ]
  },
  {
   "cell_type": "code",
   "execution_count": 63,
   "metadata": {},
   "outputs": [
    {
     "data": {
      "text/plain": [
       "20"
      ]
     },
     "execution_count": 63,
     "metadata": {},
     "output_type": "execute_result"
    }
   ],
   "source": [
    "nums[-1]"
   ]
  },
  {
   "cell_type": "code",
   "execution_count": 64,
   "metadata": {},
   "outputs": [],
   "source": [
    "# \"0\" is the first index of list \"nums\" when we count left to right\n",
    "# and when we count right to left it starat from \"-1\"\n",
    "# every list have same rule of counting"
   ]
  },
  {
   "cell_type": "code",
   "execution_count": 65,
   "metadata": {},
   "outputs": [
    {
     "data": {
      "text/plain": [
       "20"
      ]
     },
     "execution_count": 65,
     "metadata": {},
     "output_type": "execute_result"
    }
   ],
   "source": [
    "len(nums)"
   ]
  },
  {
   "cell_type": "code",
   "execution_count": 66,
   "metadata": {},
   "outputs": [],
   "source": [
    "nums.append(21)"
   ]
  },
  {
   "cell_type": "code",
   "execution_count": 67,
   "metadata": {},
   "outputs": [
    {
     "data": {
      "text/plain": [
       "[1, 2, 3, 4, 5, 6, 7, 8, 9, 10, 11, 12, 13, 14, 15, 16, 17, 18, 19, 20, 21]"
      ]
     },
     "execution_count": 67,
     "metadata": {},
     "output_type": "execute_result"
    }
   ],
   "source": [
    "nums"
   ]
  },
  {
   "cell_type": "code",
   "execution_count": 68,
   "metadata": {},
   "outputs": [],
   "source": [
    "nums.insert(23,22)"
   ]
  },
  {
   "cell_type": "code",
   "execution_count": 69,
   "metadata": {},
   "outputs": [
    {
     "data": {
      "text/plain": [
       "[1, 2, 3, 4, 5, 6, 7, 8, 9, 10, 11, 12, 13, 14, 15, 16, 17, 18, 19, 20, 21, 22]"
      ]
     },
     "execution_count": 69,
     "metadata": {},
     "output_type": "execute_result"
    }
   ],
   "source": [
    "nums"
   ]
  },
  {
   "cell_type": "code",
   "execution_count": 70,
   "metadata": {},
   "outputs": [],
   "source": [
    "#append add the value at the last But in insert we give the index to define the position of the value which we want to add"
   ]
  },
  {
   "cell_type": "code",
   "execution_count": 71,
   "metadata": {},
   "outputs": [],
   "source": [
    "nums.extend([23,24,25,26])"
   ]
  },
  {
   "cell_type": "code",
   "execution_count": 72,
   "metadata": {},
   "outputs": [
    {
     "data": {
      "text/plain": [
       "[1,\n",
       " 2,\n",
       " 3,\n",
       " 4,\n",
       " 5,\n",
       " 6,\n",
       " 7,\n",
       " 8,\n",
       " 9,\n",
       " 10,\n",
       " 11,\n",
       " 12,\n",
       " 13,\n",
       " 14,\n",
       " 15,\n",
       " 16,\n",
       " 17,\n",
       " 18,\n",
       " 19,\n",
       " 20,\n",
       " 21,\n",
       " 22,\n",
       " 23,\n",
       " 24,\n",
       " 25,\n",
       " 26]"
      ]
     },
     "execution_count": 72,
     "metadata": {},
     "output_type": "execute_result"
    }
   ],
   "source": [
    "nums"
   ]
  },
  {
   "cell_type": "code",
   "execution_count": 73,
   "metadata": {},
   "outputs": [],
   "source": [
    "#both in above function we can add just a value but in extend we can add the number of value"
   ]
  },
  {
   "cell_type": "code",
   "execution_count": 74,
   "metadata": {},
   "outputs": [
    {
     "data": {
      "text/plain": [
       "13"
      ]
     },
     "execution_count": 74,
     "metadata": {},
     "output_type": "execute_result"
    }
   ],
   "source": [
    "nums.index(14)"
   ]
  },
  {
   "cell_type": "code",
   "execution_count": 75,
   "metadata": {},
   "outputs": [],
   "source": [
    "nums2=nums.copy()"
   ]
  },
  {
   "cell_type": "code",
   "execution_count": 76,
   "metadata": {},
   "outputs": [
    {
     "data": {
      "text/plain": [
       "[1,\n",
       " 2,\n",
       " 3,\n",
       " 4,\n",
       " 5,\n",
       " 6,\n",
       " 7,\n",
       " 8,\n",
       " 9,\n",
       " 10,\n",
       " 11,\n",
       " 12,\n",
       " 13,\n",
       " 14,\n",
       " 15,\n",
       " 16,\n",
       " 17,\n",
       " 18,\n",
       " 19,\n",
       " 20,\n",
       " 21,\n",
       " 22,\n",
       " 23,\n",
       " 24,\n",
       " 25,\n",
       " 26]"
      ]
     },
     "execution_count": 76,
     "metadata": {},
     "output_type": "execute_result"
    }
   ],
   "source": [
    "nums2"
   ]
  },
  {
   "cell_type": "code",
   "execution_count": 77,
   "metadata": {},
   "outputs": [],
   "source": [
    "#when we use copy function it make the copy of refrence list not make another variable of same list\n",
    "#when we code like this \"nums2=nums\" it make another variable for same list not makimg a copy of refrence list"
   ]
  },
  {
   "cell_type": "markdown",
   "metadata": {},
   "source": []
  },
  {
   "cell_type": "code",
   "execution_count": 78,
   "metadata": {},
   "outputs": [
    {
     "data": {
      "text/plain": [
       "[1,\n",
       " 2,\n",
       " 3,\n",
       " 4,\n",
       " 5,\n",
       " 6,\n",
       " 7,\n",
       " 8,\n",
       " 9,\n",
       " 10,\n",
       " 11,\n",
       " 12,\n",
       " 13,\n",
       " 14,\n",
       " 15,\n",
       " 16,\n",
       " 17,\n",
       " 18,\n",
       " 19,\n",
       " 20,\n",
       " 21,\n",
       " 22,\n",
       " 23,\n",
       " 24,\n",
       " 25,\n",
       " 26]"
      ]
     },
     "execution_count": 78,
     "metadata": {},
     "output_type": "execute_result"
    }
   ],
   "source": [
    "nums"
   ]
  },
  {
   "cell_type": "code",
   "execution_count": 79,
   "metadata": {},
   "outputs": [],
   "source": [
    "nums.remove(25)"
   ]
  },
  {
   "cell_type": "code",
   "execution_count": 80,
   "metadata": {},
   "outputs": [
    {
     "data": {
      "text/plain": [
       "[1,\n",
       " 2,\n",
       " 3,\n",
       " 4,\n",
       " 5,\n",
       " 6,\n",
       " 7,\n",
       " 8,\n",
       " 9,\n",
       " 10,\n",
       " 11,\n",
       " 12,\n",
       " 13,\n",
       " 14,\n",
       " 15,\n",
       " 16,\n",
       " 17,\n",
       " 18,\n",
       " 19,\n",
       " 20,\n",
       " 21,\n",
       " 22,\n",
       " 23,\n",
       " 24,\n",
       " 26]"
      ]
     },
     "execution_count": 80,
     "metadata": {},
     "output_type": "execute_result"
    }
   ],
   "source": [
    "nums"
   ]
  },
  {
   "cell_type": "code",
   "execution_count": 81,
   "metadata": {},
   "outputs": [],
   "source": [
    "del nums[-1]"
   ]
  },
  {
   "cell_type": "code",
   "execution_count": 82,
   "metadata": {},
   "outputs": [],
   "source": [
    "nums.sort()"
   ]
  },
  {
   "cell_type": "code",
   "execution_count": 83,
   "metadata": {},
   "outputs": [],
   "source": [
    "#when we use del or removefunction it remove perminently we can't call the del or remove value again "
   ]
  },
  {
   "cell_type": "code",
   "execution_count": 84,
   "metadata": {},
   "outputs": [
    {
     "data": {
      "text/plain": [
       "[1,\n",
       " 2,\n",
       " 3,\n",
       " 4,\n",
       " 5,\n",
       " 6,\n",
       " 7,\n",
       " 8,\n",
       " 9,\n",
       " 10,\n",
       " 11,\n",
       " 12,\n",
       " 13,\n",
       " 14,\n",
       " 15,\n",
       " 16,\n",
       " 17,\n",
       " 18,\n",
       " 19,\n",
       " 20,\n",
       " 21,\n",
       " 22,\n",
       " 23,\n",
       " 24]"
      ]
     },
     "execution_count": 84,
     "metadata": {},
     "output_type": "execute_result"
    }
   ],
   "source": [
    "nums"
   ]
  },
  {
   "cell_type": "code",
   "execution_count": 85,
   "metadata": {},
   "outputs": [
    {
     "data": {
      "text/plain": [
       "24"
      ]
     },
     "execution_count": 85,
     "metadata": {},
     "output_type": "execute_result"
    }
   ],
   "source": [
    "nums.pop()"
   ]
  },
  {
   "cell_type": "code",
   "execution_count": 86,
   "metadata": {},
   "outputs": [
    {
     "data": {
      "text/plain": [
       "18"
      ]
     },
     "execution_count": 86,
     "metadata": {},
     "output_type": "execute_result"
    }
   ],
   "source": [
    "nums.pop(17)"
   ]
  },
  {
   "cell_type": "code",
   "execution_count": 87,
   "metadata": {},
   "outputs": [],
   "source": [
    "\n",
    "\n",
    "popped_nums=nums.pop()"
   ]
  },
  {
   "cell_type": "code",
   "execution_count": 88,
   "metadata": {},
   "outputs": [
    {
     "data": {
      "text/plain": [
       "23"
      ]
     },
     "execution_count": 88,
     "metadata": {},
     "output_type": "execute_result"
    }
   ],
   "source": [
    "popped_nums\n"
   ]
  },
  {
   "cell_type": "code",
   "execution_count": 89,
   "metadata": {},
   "outputs": [],
   "source": [
    "a=[7, 12, 65, 76, 90, 98, 98776]"
   ]
  },
  {
   "cell_type": "code",
   "execution_count": 90,
   "metadata": {},
   "outputs": [],
   "source": [
    "a.sort()"
   ]
  },
  {
   "cell_type": "code",
   "execution_count": 91,
   "metadata": {},
   "outputs": [
    {
     "data": {
      "text/plain": [
       "[7, 12, 65, 76, 90, 98, 98776]"
      ]
     },
     "execution_count": 91,
     "metadata": {},
     "output_type": "execute_result"
    }
   ],
   "source": [
    "a"
   ]
  },
  {
   "cell_type": "code",
   "execution_count": 92,
   "metadata": {},
   "outputs": [],
   "source": [
    "a.reverse()"
   ]
  },
  {
   "cell_type": "code",
   "execution_count": 93,
   "metadata": {},
   "outputs": [
    {
     "data": {
      "text/plain": [
       "[98776, 98, 90, 76, 65, 12, 7]"
      ]
     },
     "execution_count": 93,
     "metadata": {},
     "output_type": "execute_result"
    }
   ],
   "source": [
    "a"
   ]
  },
  {
   "cell_type": "code",
   "execution_count": 94,
   "metadata": {},
   "outputs": [],
   "source": [
    "a.sort(reverse=True)"
   ]
  },
  {
   "cell_type": "code",
   "execution_count": 95,
   "metadata": {},
   "outputs": [
    {
     "data": {
      "text/plain": [
       "[98776, 98, 90, 76, 65, 12, 7]"
      ]
     },
     "execution_count": 95,
     "metadata": {},
     "output_type": "execute_result"
    }
   ],
   "source": [
    "a"
   ]
  },
  {
   "cell_type": "code",
   "execution_count": null,
   "metadata": {},
   "outputs": [],
   "source": []
  },
  {
   "cell_type": "code",
   "execution_count": null,
   "metadata": {},
   "outputs": [],
   "source": []
  },
  {
   "cell_type": "code",
   "execution_count": null,
   "metadata": {},
   "outputs": [],
   "source": []
  },
  {
   "cell_type": "code",
   "execution_count": null,
   "metadata": {},
   "outputs": [],
   "source": []
  },
  {
   "cell_type": "code",
   "execution_count": 96,
   "metadata": {},
   "outputs": [
    {
     "name": "stdout",
     "output_type": "stream",
     "text": [
      "available\n",
      "available\n",
      "available\n",
      "available\n",
      "Not available\n"
     ]
    }
   ],
   "source": [
    "a=[20,5403.32,\"owais\",[\"Ali\",30,50.6]]\n",
    "if 20 in a:\n",
    "    print(\"available\")\n",
    "else:\n",
    "    print(\"Not available\")\n",
    "if 5403.32 in a:\n",
    "    print(\"available\")\n",
    "else:\n",
    "    print(\"Not available\")\n",
    "if \"owais\" in a:\n",
    "    print(\"available\")\n",
    "else:\n",
    "    print(\"Not available\")\n",
    "if [\"Ali\",30,50.6] in a:\n",
    "    print(\"available\")\n",
    "else:\n",
    "    print(\"Not available\")\n",
    "if \"fuits\" in a:\n",
    "    print(\"available\")\n",
    "else:\n",
    "    print(\"Not available\")  "
   ]
  },
  {
   "cell_type": "code",
   "execution_count": 14,
   "metadata": {},
   "outputs": [
    {
     "data": {
      "text/plain": [
       "list"
      ]
     },
     "execution_count": 14,
     "metadata": {},
     "output_type": "execute_result"
    }
   ],
   "source": [
    "list"
   ]
  },
  {
   "cell_type": "code",
   "execution_count": 16,
   "metadata": {},
   "outputs": [],
   "source": []
  },
  {
   "cell_type": "code",
   "execution_count": null,
   "metadata": {},
   "outputs": [],
   "source": []
  },
  {
   "cell_type": "code",
   "execution_count": null,
   "metadata": {},
   "outputs": [],
   "source": [
    "close_friends_list= [6565644,43,443,434,34]\n",
    "flag = True\n",
    "while flag:\n",
    "        close_friends=input(\"Enter your close friends name or q to quite\") \n",
    "        if close_friends == \"q\":\n",
    "            flag = False\n",
    "            \n",
    "            \n",
    "        \n",
    "       \n",
    "        \n"
   ]
  },
  {
   "cell_type": "code",
   "execution_count": null,
   "metadata": {},
   "outputs": [],
   "source": [
    "fruits_name= [\"apple\",\"mango\",\"Bannana\",\"cherry\",\"Grappes\",\"Pomegrant\",\"papaya\",\"injeer\",\"water millon\",\"Millon\",\"Pine apple\"]\n",
    "flag = True\n",
    "while flag:\n",
    "    fruits_name=input(\"Enter fruits name or d to close\")\n",
    "    if \"input\" in fruits_name:\n",
    "         print(\"Avialable\")\n",
    "    if fruits_name == \"d\":\n",
    "        flag=False"
   ]
  },
  {
   "cell_type": "code",
   "execution_count": 106,
   "metadata": {},
   "outputs": [
    {
     "ename": "IndentationError",
     "evalue": "unexpected indent (<ipython-input-106-d97d47d65618>, line 4)",
     "output_type": "error",
     "traceback": [
      "\u001b[1;36m  File \u001b[1;32m\"<ipython-input-106-d97d47d65618>\"\u001b[1;36m, line \u001b[1;32m4\u001b[0m\n\u001b[1;33m    List.append(your_percentage)\u001b[0m\n\u001b[1;37m    ^\u001b[0m\n\u001b[1;31mIndentationError\u001b[0m\u001b[1;31m:\u001b[0m unexpected indent\n"
     ]
    }
   ],
   "source": [
    "List= []\n",
    "for a in range(4):\n",
    "    List=input(\"Enter your percentage\")\n",
    "      List.append(your_percentage)\n",
    "  "
   ]
  },
  {
   "cell_type": "code",
   "execution_count": 104,
   "metadata": {},
   "outputs": [
    {
     "data": {
      "text/plain": [
       "'4'"
      ]
     },
     "execution_count": 104,
     "metadata": {},
     "output_type": "execute_result"
    }
   ],
   "source": [
    "List"
   ]
  },
  {
   "cell_type": "code",
   "execution_count": null,
   "metadata": {},
   "outputs": [],
   "source": [
    "num=[]\n",
    "for a in range(4):\n",
    "    num=input(\"Enter your number\")\n",
    "    \n"
   ]
  },
  {
   "cell_type": "code",
   "execution_count": 11,
   "metadata": {},
   "outputs": [
    {
     "name": "stdout",
     "output_type": "stream",
     "text": [
      "Enter your percentage90\n",
      "A+\n",
      "Bhai party kb dai rha\n"
     ]
    }
   ],
   "source": [
    "per=int(input(\"Enter your percentage\"))\n",
    "if per>=85:\n",
    "    print(\"A+\")\n",
    "    print(\"Bhai party kb dai rha\")\n",
    "elif per >=80:\n",
    "    print(\"A+\")\n",
    "elif per>=70:\n",
    "    print(\"A\")\n",
    "elif per>=60:\n",
    "    print(\"B\")\n",
    "elif per>=50:\n",
    "    print(\"C\")\n",
    "elif per<50:\n",
    "    print(\"Fail\")\n",
    "    print(\"kanjar tu C k like bh nh tha\")\n",
    "    print(\"fail ho gaya chal nkl ab ja kr rote rhe\")\n",
    "if per==49:\n",
    "    print(\"chutye 1 per le leta to pass ho jata 1 per se latak gaya na\" )\n",
    "elif per<=40:\n",
    "    print(\"tu hai hi nalaik parhna likhna sare bais bs pagl panti krne de do\")"
   ]
  },
  {
   "cell_type": "code",
   "execution_count": 1,
   "metadata": {},
   "outputs": [
    {
     "name": "stdout",
     "output_type": "stream",
     "text": [
      "Enter the eqn 25+64\n",
      "89\n",
      "Enter the eqn sad+887\n"
     ]
    },
    {
     "ename": "NameError",
     "evalue": "name 'sad' is not defined",
     "output_type": "error",
     "traceback": [
      "\u001b[1;31m---------------------------------------------------------------------------\u001b[0m",
      "\u001b[1;31mNameError\u001b[0m                                 Traceback (most recent call last)",
      "\u001b[1;32m<ipython-input-1-65fea3736548>\u001b[0m in \u001b[0;36m<module>\u001b[1;34m\u001b[0m\n\u001b[0;32m      1\u001b[0m \u001b[1;32mfor\u001b[0m \u001b[0ma\u001b[0m \u001b[1;32min\u001b[0m \u001b[0mrange\u001b[0m\u001b[1;33m(\u001b[0m\u001b[1;36m999999999999999999999\u001b[0m\u001b[1;33m)\u001b[0m\u001b[1;33m:\u001b[0m\u001b[1;33m\u001b[0m\u001b[1;33m\u001b[0m\u001b[0m\n\u001b[1;32m----> 2\u001b[1;33m     \u001b[0ma\u001b[0m\u001b[1;33m=\u001b[0m\u001b[0meval\u001b[0m\u001b[1;33m(\u001b[0m\u001b[0minput\u001b[0m\u001b[1;33m(\u001b[0m\u001b[1;34m\"Enter the eqn \"\u001b[0m\u001b[1;33m)\u001b[0m\u001b[1;33m)\u001b[0m\u001b[1;33m\u001b[0m\u001b[1;33m\u001b[0m\u001b[0m\n\u001b[0m\u001b[0;32m      3\u001b[0m     \u001b[0mprint\u001b[0m\u001b[1;33m(\u001b[0m\u001b[0ma\u001b[0m\u001b[1;33m)\u001b[0m\u001b[1;33m\u001b[0m\u001b[1;33m\u001b[0m\u001b[0m\n\u001b[0;32m      4\u001b[0m     \u001b[1;32mdel\u001b[0m \u001b[0ma\u001b[0m\u001b[1;33m\u001b[0m\u001b[1;33m\u001b[0m\u001b[0m\n\u001b[0;32m      5\u001b[0m     \u001b[1;32mcontinue\u001b[0m\u001b[1;33m\u001b[0m\u001b[1;33m\u001b[0m\u001b[0m\n",
      "\u001b[1;32m<string>\u001b[0m in \u001b[0;36m<module>\u001b[1;34m\u001b[0m\n",
      "\u001b[1;31mNameError\u001b[0m: name 'sad' is not defined"
     ]
    }
   ],
   "source": [
    "for a in range(999999999999999999999):\n",
    "    a=eval(input(\"Enter the eqn \"))\n",
    "    print(a)\n",
    "    del a \n",
    "    continue"
   ]
  },
  {
   "cell_type": "code",
   "execution_count": null,
   "metadata": {},
   "outputs": [],
   "source": [
    "n="
   ]
  }
 ],
 "metadata": {
  "kernelspec": {
   "display_name": "Python 3",
   "language": "python",
   "name": "python3"
  },
  "language_info": {
   "codemirror_mode": {
    "name": "ipython",
    "version": 3
   },
   "file_extension": ".py",
   "mimetype": "text/x-python",
   "name": "python",
   "nbconvert_exporter": "python",
   "pygments_lexer": "ipython3",
   "version": "3.7.6"
  }
 },
 "nbformat": 4,
 "nbformat_minor": 4
}
