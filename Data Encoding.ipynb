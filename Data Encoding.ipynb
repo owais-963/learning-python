{
 "cells": [
  {
   "cell_type": "code",
   "execution_count": 78,
   "metadata": {},
   "outputs": [],
   "source": [
    "animals=['cat','dog','lion','elephent','rabit','got','cow','monkey']\n",
    "l=[]\n",
    "d={}\n",
    "for i in range(len(animals)):\n",
    "    l.append(list())\n",
    "    d[animals[i]]=l[i]\n",
    "    for j in range(len(animals[i])):\n",
    "        l[i].append(list())\n",
    "        l[i][j].append(bin(ord(animals[i][j])))\n",
    "    \n",
    "    "
   ]
  },
  {
   "cell_type": "code",
   "execution_count": 59,
   "metadata": {},
   "outputs": [
    {
     "data": {
      "text/plain": [
       "[[['0b1100011'], ['0b1100001'], ['0b1110100']],\n",
       " [['0b1100100'], ['0b1101111'], ['0b1100111']],\n",
       " [['0b1101100'], ['0b1101001'], ['0b1101111'], ['0b1101110']],\n",
       " [['0b1100101'],\n",
       "  ['0b1101100'],\n",
       "  ['0b1100101'],\n",
       "  ['0b1110000'],\n",
       "  ['0b1101000'],\n",
       "  ['0b1100101'],\n",
       "  ['0b1101110'],\n",
       "  ['0b1110100']],\n",
       " [['0b1110010'], ['0b1100001'], ['0b1100010'], ['0b1101001'], ['0b1110100']],\n",
       " [['0b1100111'], ['0b1101111'], ['0b1110100']],\n",
       " [['0b1100011'], ['0b1101111'], ['0b1110111']],\n",
       " [['0b1101101'],\n",
       "  ['0b1101111'],\n",
       "  ['0b1101110'],\n",
       "  ['0b1101011'],\n",
       "  ['0b1100101'],\n",
       "  ['0b1111001']]]"
      ]
     },
     "execution_count": 59,
     "metadata": {},
     "output_type": "execute_result"
    }
   ],
   "source": [
    "l"
   ]
  },
  {
   "cell_type": "code",
   "execution_count": 85,
   "metadata": {},
   "outputs": [
    {
     "data": {
      "text/html": [
       "<div>\n",
       "<style scoped>\n",
       "    .dataframe tbody tr th:only-of-type {\n",
       "        vertical-align: middle;\n",
       "    }\n",
       "\n",
       "    .dataframe tbody tr th {\n",
       "        vertical-align: top;\n",
       "    }\n",
       "\n",
       "    .dataframe thead th {\n",
       "        text-align: right;\n",
       "    }\n",
       "</style>\n",
       "<table border=\"1\" class=\"dataframe\">\n",
       "  <thead>\n",
       "    <tr style=\"text-align: right;\">\n",
       "      <th></th>\n",
       "      <th>a</th>\n",
       "      <th>b</th>\n",
       "      <th>c</th>\n",
       "    </tr>\n",
       "  </thead>\n",
       "  <tbody>\n",
       "    <tr>\n",
       "      <th>0</th>\n",
       "      <td>1</td>\n",
       "      <td>2</td>\n",
       "      <td>3</td>\n",
       "    </tr>\n",
       "    <tr>\n",
       "      <th>1</th>\n",
       "      <td>2</td>\n",
       "      <td>3</td>\n",
       "      <td>4</td>\n",
       "    </tr>\n",
       "  </tbody>\n",
       "</table>\n",
       "</div>"
      ],
      "text/plain": [
       "   a  b  c\n",
       "0  1  2  3\n",
       "1  2  3  4"
      ]
     },
     "execution_count": 85,
     "metadata": {},
     "output_type": "execute_result"
    }
   ],
   "source": [
    "import pandas as pd\n",
    "df={'a':[1,2],'b':[2,3],'c':[3,4]}\n",
    "pd.DataFrame(df)"
   ]
  },
  {
   "cell_type": "code",
   "execution_count": 86,
   "metadata": {},
   "outputs": [
    {
     "data": {
      "text/plain": [
       "{'cat': [['0b1100011'], ['0b1100001'], ['0b1110100']],\n",
       " 'dog': [['0b1100100'], ['0b1101111'], ['0b1100111']],\n",
       " 'lion': [['0b1101100'], ['0b1101001'], ['0b1101111'], ['0b1101110']],\n",
       " 'elephent': [['0b1100101'],\n",
       "  ['0b1101100'],\n",
       "  ['0b1100101'],\n",
       "  ['0b1110000'],\n",
       "  ['0b1101000'],\n",
       "  ['0b1100101'],\n",
       "  ['0b1101110'],\n",
       "  ['0b1110100']],\n",
       " 'rabit': [['0b1110010'],\n",
       "  ['0b1100001'],\n",
       "  ['0b1100010'],\n",
       "  ['0b1101001'],\n",
       "  ['0b1110100']],\n",
       " 'got': [['0b1100111'], ['0b1101111'], ['0b1110100']],\n",
       " 'cow': [['0b1100011'], ['0b1101111'], ['0b1110111']],\n",
       " 'monkey': [['0b1101101'],\n",
       "  ['0b1101111'],\n",
       "  ['0b1101110'],\n",
       "  ['0b1101011'],\n",
       "  ['0b1100101'],\n",
       "  ['0b1111001']]}"
      ]
     },
     "execution_count": 86,
     "metadata": {},
     "output_type": "execute_result"
    }
   ],
   "source": [
    "d"
   ]
  },
  {
   "cell_type": "code",
   "execution_count": 57,
   "metadata": {},
   "outputs": [
    {
     "data": {
      "text/plain": [
       "(1, '0b1100100')"
      ]
     },
     "execution_count": 57,
     "metadata": {},
     "output_type": "execute_result"
    }
   ],
   "source": [
    "99%2,bin(100)   "
   ]
  },
  {
   "cell_type": "code",
   "execution_count": 28,
   "metadata": {},
   "outputs": [
    {
     "data": {
      "text/plain": [
       "1"
      ]
     },
     "execution_count": 28,
     "metadata": {},
     "output_type": "execute_result"
    }
   ],
   "source": [
    "(99//2)%2"
   ]
  },
  {
   "cell_type": "code",
   "execution_count": 30,
   "metadata": {},
   "outputs": [
    {
     "data": {
      "text/plain": [
       "0"
      ]
     },
     "execution_count": 30,
     "metadata": {},
     "output_type": "execute_result"
    }
   ],
   "source": [
    "((99//2)//2)%2"
   ]
  },
  {
   "cell_type": "code",
   "execution_count": 34,
   "metadata": {},
   "outputs": [
    {
     "data": {
      "text/plain": [
       "0"
      ]
     },
     "execution_count": 34,
     "metadata": {},
     "output_type": "execute_result"
    }
   ],
   "source": [
    "(((99//2)//2)//2)%2"
   ]
  },
  {
   "cell_type": "code",
   "execution_count": 36,
   "metadata": {},
   "outputs": [
    {
     "data": {
      "text/plain": [
       "0"
      ]
     },
     "execution_count": 36,
     "metadata": {},
     "output_type": "execute_result"
    }
   ],
   "source": [
    "((((99//2)//2)//2)//2)%2"
   ]
  },
  {
   "cell_type": "code",
   "execution_count": 38,
   "metadata": {},
   "outputs": [
    {
     "data": {
      "text/plain": [
       "1"
      ]
     },
     "execution_count": 38,
     "metadata": {},
     "output_type": "execute_result"
    }
   ],
   "source": [
    "(((((99//2)//2)//2)//2)//2)%2"
   ]
  },
  {
   "cell_type": "code",
   "execution_count": 40,
   "metadata": {},
   "outputs": [
    {
     "data": {
      "text/plain": [
       "1"
      ]
     },
     "execution_count": 40,
     "metadata": {},
     "output_type": "execute_result"
    }
   ],
   "source": [
    "((((((99//2)//2)//2)//2)//2)//2)%2"
   ]
  },
  {
   "cell_type": "code",
   "execution_count": 60,
   "metadata": {},
   "outputs": [
    {
     "data": {
      "text/plain": [
       "str"
      ]
     },
     "execution_count": 60,
     "metadata": {},
     "output_type": "execute_result"
    }
   ],
   "source": [
    "type(l[0][0][0])"
   ]
  },
  {
   "cell_type": "code",
   "execution_count": null,
   "metadata": {},
   "outputs": [],
   "source": []
  },
  {
   "cell_type": "code",
   "execution_count": 66,
   "metadata": {},
   "outputs": [],
   "source": [
    "d={'a':1}"
   ]
  },
  {
   "cell_type": "code",
   "execution_count": 74,
   "metadata": {},
   "outputs": [],
   "source": [
    "d.update({'b':2})"
   ]
  },
  {
   "cell_type": "code",
   "execution_count": 76,
   "metadata": {},
   "outputs": [],
   "source": [
    "d['c']=3"
   ]
  },
  {
   "cell_type": "code",
   "execution_count": 77,
   "metadata": {},
   "outputs": [
    {
     "data": {
      "text/plain": [
       "{'a': 1, 'b': 2, 'c': 3}"
      ]
     },
     "execution_count": 77,
     "metadata": {},
     "output_type": "execute_result"
    }
   ],
   "source": [
    "d"
   ]
  },
  {
   "cell_type": "code",
   "execution_count": null,
   "metadata": {},
   "outputs": [],
   "source": []
  }
 ],
 "metadata": {
  "kernelspec": {
   "display_name": "Python 3",
   "language": "python",
   "name": "python3"
  },
  "language_info": {
   "codemirror_mode": {
    "name": "ipython",
    "version": 3
   },
   "file_extension": ".py",
   "mimetype": "text/x-python",
   "name": "python",
   "nbconvert_exporter": "python",
   "pygments_lexer": "ipython3",
   "version": "3.8.5"
  }
 },
 "nbformat": 4,
 "nbformat_minor": 4
}
