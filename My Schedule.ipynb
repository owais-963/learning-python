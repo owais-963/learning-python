{
 "cells": [
  {
   "cell_type": "markdown",
   "metadata": {},
   "source": [
    "# My Daily Schedule\n"
   ]
  },
  {
   "cell_type": "code",
   "execution_count": 1,
   "metadata": {},
   "outputs": [
    {
     "name": "stdout",
     "output_type": "stream",
     "text": [
      "Requirement already satisfied: schedule in c:\\users\\owais\\anaconda3\\lib\\site-packages (0.6.0)\n",
      "Note: you may need to restart the kernel to use updated packages.\n"
     ]
    }
   ],
   "source": [
    "pip install schedule"
   ]
  },
  {
   "cell_type": "code",
   "execution_count": 2,
   "metadata": {},
   "outputs": [
    {
     "name": "stdout",
     "output_type": "stream",
     "text": [
      "Requirement already satisfied: plyer in c:\\users\\owais\\anaconda3\\lib\\site-packages (2.0.0)\n",
      "Note: you may need to restart the kernel to use updated packages.\n"
     ]
    }
   ],
   "source": [
    "pip install plyer"
   ]
  },
  {
   "cell_type": "code",
   "execution_count": 9,
   "metadata": {
    "scrolled": true
   },
   "outputs": [
    {
     "name": "stdout",
     "output_type": "stream",
     "text": [
      "I AM YOUR NOIFIER TO NTOIFY YOU ABOUT YOUR DAILY SCHEDULE\n",
      "To See The Schedule Press '1' And Enter Your Name And Password\n",
      "Press 3 To Continue\n",
      "And Press 0 To Dismiss: 1\n",
      "Name: owais ali\n",
      "Password: myschedule.123\n",
      "Hi! Owais Today is Thu Nov 12 19:26:48 2020\n",
      "SO,IT'S YOUR TODAY'S SCHEDULE\n",
      "At 05:55 o'clock \n",
      "you have to leave the bad prepeaare your self for Nmaze Fajar\n"
     ]
    },
    {
     "ename": "KeyboardInterrupt",
     "evalue": "",
     "output_type": "error",
     "traceback": [
      "\u001b[1;31m---------------------------------------------------------------------------\u001b[0m",
      "\u001b[1;31mKeyboardInterrupt\u001b[0m                         Traceback (most recent call last)",
      "\u001b[1;32m<ipython-input-9-b60f5caaefbd>\u001b[0m in \u001b[0;36m<module>\u001b[1;34m\u001b[0m\n\u001b[0;32m     78\u001b[0m                     \u001b[1;32mwhile\u001b[0m \u001b[1;32mTrue\u001b[0m\u001b[1;33m:\u001b[0m\u001b[1;33m\u001b[0m\u001b[1;33m\u001b[0m\u001b[0m\n\u001b[0;32m     79\u001b[0m                         \u001b[0msd\u001b[0m\u001b[1;33m.\u001b[0m\u001b[0mrun_pending\u001b[0m\u001b[1;33m(\u001b[0m\u001b[1;33m)\u001b[0m\u001b[1;33m\u001b[0m\u001b[1;33m\u001b[0m\u001b[0m\n\u001b[1;32m---> 80\u001b[1;33m                         \u001b[0mtm\u001b[0m\u001b[1;33m.\u001b[0m\u001b[0msleep\u001b[0m\u001b[1;33m(\u001b[0m\u001b[1;36m1\u001b[0m\u001b[1;33m)\u001b[0m\u001b[1;33m\u001b[0m\u001b[1;33m\u001b[0m\u001b[0m\n\u001b[0m\u001b[0;32m     81\u001b[0m             \u001b[1;32melif\u001b[0m \u001b[0ma\u001b[0m\u001b[1;33m+\u001b[0m\u001b[0mb\u001b[0m\u001b[1;33m!=\u001b[0m\u001b[0mname\u001b[0m\u001b[1;33m+\u001b[0m\u001b[0mpassword\u001b[0m\u001b[1;33m:\u001b[0m\u001b[1;33m\u001b[0m\u001b[1;33m\u001b[0m\u001b[0m\n\u001b[0;32m     82\u001b[0m                 \u001b[0mwrng\u001b[0m\u001b[1;33m=\u001b[0m\u001b[0minput\u001b[0m\u001b[1;33m(\u001b[0m\u001b[1;34m\"Invalid user name or password\\npress 'B' to back or 'R' to retry: \"\u001b[0m\u001b[1;33m)\u001b[0m\u001b[1;33m\u001b[0m\u001b[1;33m\u001b[0m\u001b[0m\n",
      "\u001b[1;31mKeyboardInterrupt\u001b[0m: "
     ]
    }
   ],
   "source": [
    "#Trying to make a daily schedule\n",
    "import time as tm\n",
    "from datetime import datetime as dt\n",
    "import os\n",
    "from plyer import notification as nt\n",
    "import schedule as sd\n",
    "Time=[\"05:55\"\n",
    ",\"6:00\"\n",
    ",\"06:30\"\n",
    ",\"08:30\"\n",
    ",\"09:00\"\n",
    ",\"10:00\"\n",
    ",'11:15'\n",
    ",\"12:30\"\n",
    ",\"13:15\"\n",
    ",'14:00'\n",
    ",\"15:00\"\n",
    ",\"15:45\"\n",
    ",\"16:30\"\n",
    ",\"18:30\"\n",
    ",\"19:30\"\n",
    ",\"20:30\"\n",
    ",'21:30'\n",
    ",'22:00'\n",
    ",\"18:47\"]\n",
    "#Time=[T0,T1,T2,T3,T4,T5,T6,T7,T8,T9,T10,T11,T12,T13,T14,T15,T16,T17,T18]\n",
    "Ruteen=[\"you have to leave the bad prepeaare your self for Nmaze Fajar\"\n",
    ",\"You have to perform Nmaze-e-Fajar\"\n",
    ",\"Go to ground and run it's good for health\"\n",
    ",\"Take break fast\"\n",
    ",\"Read book and take rest\"\n",
    ",\"Learn and practice of Math\"\n",
    ",'Take Out your Physics book and learn some physics'\n",
    ",\"Learn English\"\n",
    ",'Perform Nmaz-e-Zohar'\n",
    ",\"Watch video and learn software development\"\n",
    ",\"Learn digital marketing\"\n",
    ",\"Watch video of python programing\"\n",
    ",\"Perform Nmaz-e-Asar\"\n",
    ",\"Do programing on python\"\n",
    ",\"Perform Nmaz-e-Esha\"\n",
    ",\"Do Programing Again\"\n",
    ",\"Shut dwon your Pc\"\n",
    ",\"Go for exercise with your friends\"\n",
    ",\"Go to the Bed\"]\n",
    "name=\"owais ali\"\n",
    "password=\"myschedule.123\"\n",
    "Tm=tm.strftime(\"%H:%M\")\n",
    "def noti():\n",
    "    if Tm in Time:\n",
    "        MSG_No=Time.index(Tm)\n",
    "        MSG=Ruteen[MSG_No]\n",
    "        for i in range(0,1):\n",
    "            nt.notify(title=\"My Daily Schedule\",message=f\"{MSG}\",app_icon=None,timeout=20,)\n",
    "        \n",
    "#Ruteen=[r0,r1,r2,r3,r4,r5,r6,r7,r8,r9,r10,r11,r12,r13,r14,r15,r16,r17,r18]\n",
    "##########################################################################\n",
    "\"*************************************************************************\"\n",
    "Flag=True\n",
    "while Flag:\n",
    "    print(\"I am your noifier to ntoify you about your daily schedule\".upper())\n",
    "    starter=input(\"to See the schedule press '1' and Enter your name and password\\nPress 3 to continue\\nAnd press 0 to dismiss: \".title())\n",
    "    if starter=='0':\n",
    "        break\n",
    "    elif starter=='1':\n",
    "        Flag=False\n",
    "        Run=True\n",
    "        while Run:\n",
    "            a=input(\"Name: \")\n",
    "            b=input(\"Password: \")\n",
    "            if a+b==name+password:\n",
    "                Date=tm.ctime()\n",
    "                print(f\"Hi! Owais Today is {Date}\")\n",
    "                print(\"So,it's your today's schedule\".upper())\n",
    "                for n in range (0,len(Time)):\n",
    "                    print(f\"At {Time[n]} o'clock \\n{Ruteen[n]}\")\n",
    "                    sd.every(30).seconds.do(noti)\n",
    "                    while True:\n",
    "                        sd.run_pending()\n",
    "                        tm.sleep(1)\n",
    "            elif a+b!=name+password:\n",
    "                wrng=input(\"Invalid user name or password\\npress 'B' to back or 'R' to retry: \")\n",
    "                if wrng==\"b\":\n",
    "                    Run=False\n",
    "                    Flag=False\n",
    "                    break\n",
    "                elif wrng=='r':\n",
    "                    Run=True\n",
    "    elif starter==\"3\":\n",
    "        sd.every(30).seconds.do(noti)\n",
    "        while True:\n",
    "            sd.run_pending()\n",
    "            tm.sleep(1)\n",
    "\n",
    "    else:\n",
    "        print(\"Not Valid Operation please press '1' , '3' & '0' \")\n"
   ]
  },
  {
   "cell_type": "code",
   "execution_count": 7,
   "metadata": {},
   "outputs": [],
   "source": [
    "Time=[\"05:55\"\n",
    ",\"6:00\"\n",
    ",\"06:30\"\n",
    ",\"08:30\"\n",
    ",\"09:00\"\n",
    ",\"10:00\"\n",
    ",'11:15'\n",
    ",\"12:30\"\n",
    ",\"13:15\"\n",
    ",'14:00'\n",
    ",\"15:00\"\n",
    ",\"15:45\"\n",
    ",\"16:30\"\n",
    ",\"18:30\"\n",
    ",\"19:30\"\n",
    ",\"20:30\"\n",
    ",'21:30'\n",
    ",'22:00']"
   ]
  },
  {
   "cell_type": "code",
   "execution_count": null,
   "metadata": {},
   "outputs": [],
   "source": [
    "Ruteen=[\"you have to leave the bad prepeaare your self for Nmaze Fajar\"\n",
    ",\"You have to perform Nmaze-e-Fajar\"\n",
    ",\"Go to ground and run it's good for health\"\n",
    ",\"Take break fast\"\n",
    ",\"Read book and take rest\"\n",
    ",\"Learn and practice of Math\"\n",
    ",'Take Out your Physics book and learn some physics'\n",
    ",\"Learn English\"\n",
    ",'Perform Nmaz-e-Zohar'\n",
    ",\"Watch video and learn software development\"\n",
    ",\"Learn digital marketing\"\n",
    ",\"Watch video of python programing\"\n",
    ",\"Perform Nmaz-e-Asar\"\n",
    ",\"Do programing on python\"\n",
    ",\"Perform Nmaz-e-Esha\"\n",
    ",\"Do Programing Again\"\n",
    ",\"Shut dwon your Pc\"\n",
    ",\"Go for exercise with your friends\"\n",
    ",\"Go to the Bed\"]\n",
    "for n in range(0,len(Time)):\n",
    "    print(f\"At {Time[n]} o'clock \\n{Ruteen[n]}\")"
   ]
  },
  {
   "cell_type": "code",
   "execution_count": 2,
   "metadata": {},
   "outputs": [
    {
     "name": "stdout",
     "output_type": "stream",
     "text": [
      "['False', 'None', 'True', 'and', 'as', 'assert', 'async', 'await', 'break', 'class', 'continue', 'def', 'del', 'elif', 'else', 'except', 'finally', 'for', 'from', 'global', 'if', 'import', 'in', 'is', 'lambda', 'nonlocal', 'not', 'or', 'pass', 'raise', 'return', 'try', 'while', 'with', 'yield']\n"
     ]
    }
   ],
   "source": [
    "import keyword\n",
    "print(keyword.kwlist)"
   ]
  },
  {
   "cell_type": "code",
   "execution_count": 4,
   "metadata": {},
   "outputs": [
    {
     "ename": "SyntaxError",
     "evalue": "invalid syntax (<ipython-input-4-832b6f2cdb3a>, line 2)",
     "output_type": "error",
     "traceback": [
      "\u001b[1;36m  File \u001b[1;32m\"<ipython-input-4-832b6f2cdb3a>\"\u001b[1;36m, line \u001b[1;32m2\u001b[0m\n\u001b[1;33m    a with \"is\"\u001b[0m\n\u001b[1;37m         ^\u001b[0m\n\u001b[1;31mSyntaxError\u001b[0m\u001b[1;31m:\u001b[0m invalid syntax\n"
     ]
    }
   ],
   "source": [
    "a=input(\"Enter an string \")\n",
    "a with \"is\""
   ]
  },
  {
   "cell_type": "code",
   "execution_count": 5,
   "metadata": {},
   "outputs": [
    {
     "ename": "NameError",
     "evalue": "name 'floogle' is not defined",
     "output_type": "error",
     "traceback": [
      "\u001b[1;31m---------------------------------------------------------------------------\u001b[0m",
      "\u001b[1;31mNameError\u001b[0m                                 Traceback (most recent call last)",
      "\u001b[1;32m<ipython-input-5-6b5e23429960>\u001b[0m in \u001b[0;36m<module>\u001b[1;34m\u001b[0m\n\u001b[1;32m----> 1\u001b[1;33m \u001b[0mprint\u001b[0m\u001b[1;33m(\u001b[0m\u001b[0mfloogle\u001b[0m\u001b[1;33m)\u001b[0m\u001b[1;33m\u001b[0m\u001b[1;33m\u001b[0m\u001b[0m\n\u001b[0m",
      "\u001b[1;31mNameError\u001b[0m: name 'floogle' is not defined"
     ]
    }
   ],
   "source": [
    "print(floogle)"
   ]
  },
  {
   "cell_type": "code",
   "execution_count": 6,
   "metadata": {},
   "outputs": [],
   "source": [
    "Time.append(exit)"
   ]
  },
  {
   "cell_type": "code",
   "execution_count": null,
   "metadata": {},
   "outputs": [],
   "source": [
    "import time\n",
    "print('Please enter your email-id : ', end=' ')\n",
    "#print('Please enter your email-id : ', end=' ', flush=True) #run this to see the difference and comment out the above line of code.\n",
    "time.sleep(5)"
   ]
  },
  {
   "cell_type": "code",
   "execution_count": 13,
   "metadata": {},
   "outputs": [
    {
     "data": {
      "text/plain": [
       "\"'owais'\""
      ]
     },
     "execution_count": 13,
     "metadata": {},
     "output_type": "execute_result"
    }
   ],
   "source": [
    "name=\"owais\"\n",
    "repr(name)"
   ]
  },
  {
   "cell_type": "code",
   "execution_count": 14,
   "metadata": {},
   "outputs": [
    {
     "name": "stdout",
     "output_type": "stream",
     "text": [
      "Help on built-in function repr in module builtins:\n",
      "\n",
      "repr(obj, /)\n",
      "    Return the canonical string representation of the object.\n",
      "    \n",
      "    For many object types, including most builtins, eval(repr(obj)) == obj.\n",
      "\n"
     ]
    }
   ],
   "source": [
    "help(repr)"
   ]
  },
  {
   "cell_type": "code",
   "execution_count": 15,
   "metadata": {},
   "outputs": [
    {
     "name": "stdout",
     "output_type": "stream",
     "text": [
      "arshad\n"
     ]
    }
   ],
   "source": [
    "repr(\"owais\")\n",
    "str(\"ali\")\n",
    "print('arshad')"
   ]
  },
  {
   "cell_type": "code",
   "execution_count": 17,
   "metadata": {},
   "outputs": [
    {
     "data": {
      "text/plain": [
       "str"
      ]
     },
     "execution_count": 17,
     "metadata": {},
     "output_type": "execute_result"
    }
   ],
   "source": [
    "a=repr(12)\n",
    "type(a)"
   ]
  },
  {
   "cell_type": "code",
   "execution_count": 47,
   "metadata": {},
   "outputs": [
    {
     "ename": "SyntaxError",
     "evalue": "invalid syntax (<ipython-input-47-e808b8615d32>, line 1)",
     "output_type": "error",
     "traceback": [
      "\u001b[1;36m  File \u001b[1;32m\"<ipython-input-47-e808b8615d32>\"\u001b[1;36m, line \u001b[1;32m1\u001b[0m\n\u001b[1;33m    A=['1','2','3','4','5','6','7','8', {:2d}]\u001b[0m\n\u001b[1;37m                                         ^\u001b[0m\n\u001b[1;31mSyntaxError\u001b[0m\u001b[1;31m:\u001b[0m invalid syntax\n"
     ]
    }
   ],
   "source": [
    "A=['1','2','3','4','5','6','7','8', {:2d}]\n",
    "a=str(A)\n",
    "print(a)\n",
    "type(a)"
   ]
  },
  {
   "cell_type": "code",
   "execution_count": 45,
   "metadata": {},
   "outputs": [
    {
     "name": "stdout",
     "output_type": "stream",
     "text": [
      " 1   1    1\n",
      " 2   4    8\n",
      " 3   9   27\n",
      " 4  16   64\n",
      " 5  25  125\n",
      " 6  36  216\n",
      " 7  49  343\n",
      " 8  64  512\n",
      " 9  81  729\n",
      "10 100 1000\n"
     ]
    }
   ],
   "source": [
    "for x in range(1, 11):\n",
    "    print('{0:2d} {1:3d} {2:4d}'.format(x, x*x, x*x*x))"
   ]
  },
  {
   "cell_type": "code",
   "execution_count": 48,
   "metadata": {},
   "outputs": [
    {
     "name": "stdout",
     "output_type": "stream",
     "text": [
      " 1   1    1\n",
      " 2   4    8\n",
      " 3   9   27\n",
      " 4  16   64\n",
      " 5  25  125\n",
      " 6  36  216\n",
      " 7  49  343\n",
      " 8  64  512\n",
      " 9  81  729\n",
      "10 100 1000\n"
     ]
    }
   ],
   "source": [
    "for x in range(1, 11):\n",
    "    print(repr(x).rjust(2), repr(x*x).rjust(3), end=' ')\n",
    "    # Note use of 'end' on previous line\n",
    "    print(repr(x*x*x).rjust(4))"
   ]
  },
  {
   "cell_type": "code",
   "execution_count": 63,
   "metadata": {},
   "outputs": [
    {
     "name": "stdout",
     "output_type": "stream",
     "text": [
      " 1   1    1\n",
      " 2   4    8\n",
      " 3   9   27\n",
      " 4  16   64\n",
      " 5  25  125\n",
      " 6  36  216\n",
      " 7  49  343\n",
      " 8  64  512\n",
      " 9  81  729\n",
      "10 100 1000\n"
     ]
    }
   ],
   "source": [
    "for x in range(1, 11):\n",
    "    print(repr(x).rjust(2), repr(x*x).rjust(3),repr(x*x*x).rjust(4), end='\\n')"
   ]
  },
  {
   "cell_type": "code",
   "execution_count": 66,
   "metadata": {},
   "outputs": [
    {
     "name": "stdout",
     "output_type": "stream",
     "text": [
      "20\n"
     ]
    },
    {
     "ename": "TypeError",
     "evalue": "can only concatenate str (not \"int\") to str",
     "output_type": "error",
     "traceback": [
      "\u001b[1;31m---------------------------------------------------------------------------\u001b[0m",
      "\u001b[1;31mTypeError\u001b[0m                                 Traceback (most recent call last)",
      "\u001b[1;32m<ipython-input-66-41f89ca5735e>\u001b[0m in \u001b[0;36m<module>\u001b[1;34m\u001b[0m\n\u001b[0;32m      1\u001b[0m \u001b[0mn\u001b[0m\u001b[1;33m=\u001b[0m\u001b[1;33m(\u001b[0m\u001b[0minput\u001b[0m\u001b[1;33m(\u001b[0m\u001b[1;33m)\u001b[0m\u001b[1;33m)\u001b[0m\u001b[1;33m\u001b[0m\u001b[1;33m\u001b[0m\u001b[0m\n\u001b[1;32m----> 2\u001b[1;33m \u001b[1;32mfor\u001b[0m \u001b[0mi\u001b[0m \u001b[1;32min\u001b[0m \u001b[0mrange\u001b[0m\u001b[1;33m(\u001b[0m\u001b[1;36m0\u001b[0m\u001b[1;33m,\u001b[0m\u001b[0mn\u001b[0m\u001b[1;33m+\u001b[0m\u001b[1;36m1\u001b[0m\u001b[1;33m)\u001b[0m\u001b[1;33m:\u001b[0m\u001b[1;33m\u001b[0m\u001b[1;33m\u001b[0m\u001b[0m\n\u001b[0m\u001b[0;32m      3\u001b[0m     \u001b[0mprint\u001b[0m\u001b[1;33m(\u001b[0m\u001b[0mrepr\u001b[0m\u001b[1;33m(\u001b[0m\u001b[0mi\u001b[0m\u001b[1;33m)\u001b[0m\u001b[1;33m.\u001b[0m\u001b[0mrjust\u001b[0m\u001b[1;33m(\u001b[0m\u001b[0mlen\u001b[0m\u001b[1;33m(\u001b[0m\u001b[0mn\u001b[0m\u001b[1;33m)\u001b[0m\u001b[1;33m)\u001b[0m\u001b[1;33m)\u001b[0m\u001b[1;33m\u001b[0m\u001b[1;33m\u001b[0m\u001b[0m\n",
      "\u001b[1;31mTypeError\u001b[0m: can only concatenate str (not \"int\") to str"
     ]
    }
   ],
   "source": [
    "\n",
    "n=(input())\n",
    "for i in range(0,n+1):\n",
    "    print(repr(i).rjust(len(n)))"
   ]
  },
  {
   "cell_type": "code",
   "execution_count": 18,
   "metadata": {},
   "outputs": [
    {
     "name": "stdout",
     "output_type": "stream",
     "text": [
      "'**.-'\n",
      "'***..--'\n",
      "'****...---'\n",
      "'*****....----'\n",
      "'******.....-----'\n",
      "'*******......------'\n",
      "'********.......-------'\n",
      "'*********........--------'\n",
      "'**********.........---------'\n",
      "'***********..........----------'\n",
      "'************...........-----------'\n",
      "'*************............------------'\n",
      "'**************.............-------------'\n",
      "'***************..............--------------'\n",
      "'****************...............---------------'\n",
      "'*****************................----------------'\n",
      "'******************.................-----------------'\n",
      "'*******************..................------------------'\n",
      "'********************...................-------------------'\n",
      "'*********************....................--------------------'\n",
      "'**********************.....................---------------------'\n",
      "'***********************......................----------------------'\n",
      "'************************.......................-----------------------'\n",
      "'*************************........................------------------------'\n",
      "'**************************.........................-------------------------'\n",
      "'***************************..........................--------------------------'\n",
      "'****************************...........................---------------------------'\n",
      "'*****************************............................----------------------------'\n",
      "'******************************.............................-----------------------------'\n",
      "'*******************************..............................------------------------------'\n",
      "'********************************...............................-------------------------------'\n",
      "'*********************************................................--------------------------------'\n",
      "'**********************************.................................---------------------------------'\n",
      "'***********************************..................................----------------------------------'\n",
      "'************************************...................................-----------------------------------'\n",
      "'*************************************....................................------------------------------------'\n",
      "'**************************************.....................................-------------------------------------'\n",
      "'***************************************......................................--------------------------------------'\n",
      "'****************************************.......................................---------------------------------------'\n"
     ]
    }
   ],
   "source": [
    "for x in range (1,40):\n",
    "    print(repr('*'*(x+1)+'.'*x+'-'*x).rjust(x))\n",
    "    "
   ]
  },
  {
   "cell_type": "code",
   "execution_count": null,
   "metadata": {},
   "outputs": [],
   "source": []
  }
 ],
 "metadata": {
  "kernelspec": {
   "display_name": "Python 3",
   "language": "python",
   "name": "python3"
  },
  "language_info": {
   "codemirror_mode": {
    "name": "ipython",
    "version": 3
   },
   "file_extension": ".py",
   "mimetype": "text/x-python",
   "name": "python",
   "nbconvert_exporter": "python",
   "pygments_lexer": "ipython3",
   "version": "3.7.6"
  }
 },
 "nbformat": 4,
 "nbformat_minor": 4
}
