{
 "cells": [
  {
   "cell_type": "code",
   "execution_count": 91,
   "metadata": {},
   "outputs": [],
   "source": [
    "import cmath as m\n",
    "import matplotlib.pyplot as plt\n",
    "def quarditicEqn(a=1,b=1,c=1):\n",
    "    #finding discriminant\n",
    "    d=(b**2)-(4*a*c)\n",
    "    sol1=(-b-m.sqrt(d))/2*a\n",
    "    sol2=(-b+m.sqrt(d))/2*a\n",
    "    \n",
    "    y1=(a*(sol1**2))+(b*sol1)+c\n",
    "    y2=a*sol2**2+b*sol2+c\n",
    "    return sol1,sol2,y1,y2\n"
   ]
  },
  {
   "cell_type": "code",
   "execution_count": 92,
   "metadata": {},
   "outputs": [],
   "source": [
    "#x^2-5x+6=0\n",
    "#x^2-3x-2x+6=0\n",
    "#x(x-3)-2(x-3)=0\n",
    "#(x-2)(x-3)=0\n",
    "#x=2\n",
    "#x=3"
   ]
  },
  {
   "cell_type": "code",
   "execution_count": 93,
   "metadata": {},
   "outputs": [
    {
     "data": {
      "text/plain": [
       "((-3.732050807568877+0j),\n",
       " (-0.2679491924311228+0j),\n",
       " 0j,\n",
       " (-4.440892098500626e-16+0j),\n",
       " [<matplotlib.lines.Line2D at 0x206e4495940>])"
      ]
     },
     "execution_count": 93,
     "metadata": {},
     "output_type": "execute_result"
    },
    {
     "data": {
      "image/png": "[encoded data removed]",
      "text/plain": [
       "<Figure size 432x288 with 1 Axes>"
      ]
     },
     "metadata": {
      "needs_background": "light"
     },
     "output_type": "display_data"
    }
   ],
   "source": [
    "quarditicEqn(a=1,b=4,c=1)"
   ]
  },
  {
   "cell_type": "code",
   "execution_count": 78,
   "metadata": {},
   "outputs": [],
   "source": []
  },
  {
   "cell_type": "code",
   "execution_count": null,
   "metadata": {},
   "outputs": [],
   "source": []
  },
  {
   "cell_type": "code",
   "execution_count": null,
   "metadata": {},
   "outputs": [],
   "source": []
  }
 ],
 "metadata": {
  "kernelspec": {
   "display_name": "Python 3",
   "language": "python",
   "name": "python3"
  },
  "language_info": {
   "codemirror_mode": {
    "name": "ipython",
    "version": 3
   },
   "file_extension": ".py",
   "mimetype": "text/x-python",
   "name": "python",
   "nbconvert_exporter": "python",
   "pygments_lexer": "ipython3",
   "version": "3.8.5"
  }
 },
 "nbformat": 4,
 "nbformat_minor": 4
}
