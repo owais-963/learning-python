{
 "cells": [
  {
   "cell_type": "code",
   "execution_count": 3,
   "metadata": {},
   "outputs": [],
   "source": [
    "import requests as rq\n",
    "from bs4 import BeautifulSoup as bts\n",
    "import html5lib as h5lib"
   ]
  },
  {
   "cell_type": "code",
   "execution_count": 45,
   "metadata": {},
   "outputs": [
    {
     "name": "stdout",
     "output_type": "stream",
     "text": [
      "Confused on which course to take? I have got you covered. Browse courses and find out\n",
      "            the best course for you. Its free!Code With Harry is my attempt to teach basics and those coding\n",
      "            techniques to people in short time which took me ages to learn.\n",
      "\n"
     ]
    }
   ],
   "source": [
    "# step0:set the url\n",
    "URL=\"https://codewithharry.com//\"\n",
    "\n",
    "#step1:get the HTML\n",
    "r=rq.get(URL)\n",
    "content=r.content\n",
    "#print(content)\n",
    "\n",
    "#step2: parse the HTML\n",
    "soup=bts(content,'html.parser')\n",
    "#print(soup.prettify)\n",
    "\n",
    "#step3: HTML Tree Traversal\n",
    "#comonly used types of object of bs4\n",
    "  #1:Tag\n",
    "  #2:Navigablestring\n",
    "  #3:Beautifulsoup\n",
    "  #4:Comment\n",
    "'''\n",
    "#Get The Title of the Html Page\n",
    "title=soup.title\n",
    "print(title)\n",
    "print('\\n')\n",
    "#Get all paragrph from html page\n",
    "paras=soup.find_all('p')\n",
    "print(paras)\n",
    "print('\\n')\n",
    "#Get all the anchor Tags\n",
    "anchors=soup.find_all('a')\n",
    "print(anchors)\n",
    "print('\\n')\n",
    "#Get all the link from the page\n",
    "for link in anchors:\n",
    "    if link.get('href')!='#':\n",
    "        Link=URL+link.get('href')\n",
    "        add_link=set()\n",
    "        add_link.add(Link)\n",
    "        print(Link)\n",
    "print('\\n')\n",
    "#Get the first element\n",
    "print(soup.find('p'))\n",
    "#Get the class of any element\n",
    "print(soup.find('p')['class'])\n",
    "#Get the element of specific class\n",
    "print(soup.find_all('p',class_='lead'))\n",
    "print('\\n')\n",
    "#Get Text '''\n",
    "print(soup.find('p').get_text())\n",
    "print()"
   ]
  },
  {
   "cell_type": "code",
   "execution_count": 47,
   "metadata": {},
   "outputs": [],
   "source": [
    "URL=\"https://www.pcb.com.pk/averages-reports.php?action=bowling_averages&tournament_id=1235&match_type_id=9&new_page_limit=all\""
   ]
  },
  {
   "cell_type": "code",
   "execution_count": 48,
   "metadata": {},
   "outputs": [],
   "source": [
    "r=rq.get(URL)"
   ]
  },
  {
   "cell_type": "code",
   "execution_count": 49,
   "metadata": {},
   "outputs": [],
   "source": [
    "content=r.content"
   ]
  },
  {
   "cell_type": "code",
   "execution_count": 50,
   "metadata": {},
   "outputs": [],
   "source": [
    "soup=bts(content,'html.parser')"
   ]
  },
  {
   "cell_type": "code",
   "execution_count": 51,
   "metadata": {},
   "outputs": [],
   "source": [
    "table=soup.find_all('td')"
   ]
  },
  {
   "cell_type": "code",
   "execution_count": 54,
   "metadata": {},
   "outputs": [
    {
     "name": "stdout",
     "output_type": "stream",
     "text": [
      "<class 'bs4.element.ResultSet'>\n"
     ]
    }
   ],
   "source": [
    "print(type(table))"
   ]
  },
  {
   "cell_type": "code",
   "execution_count": null,
   "metadata": {},
   "outputs": [],
   "source": []
  },
  {
   "cell_type": "code",
   "execution_count": null,
   "metadata": {},
   "outputs": [],
   "source": []
  },
  {
   "cell_type": "code",
   "execution_count": null,
   "metadata": {},
   "outputs": [],
   "source": []
  }
 ],
 "metadata": {
  "kernelspec": {
   "display_name": "Python 3",
   "language": "python",
   "name": "python3"
  },
  "language_info": {
   "codemirror_mode": {
    "name": "ipython",
    "version": 3
   },
   "file_extension": ".py",
   "mimetype": "text/x-python",
   "name": "python",
   "nbconvert_exporter": "python",
   "pygments_lexer": "ipython3",
   "version": "3.8.5"
  }
 },
 "nbformat": 4,
 "nbformat_minor": 4
}
