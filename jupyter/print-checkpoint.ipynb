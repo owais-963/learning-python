{
 "cells": [
  {
   "cell_type": "code",
   "execution_count": 1,
   "metadata": {},
   "outputs": [
    {
     "name": "stdout",
     "output_type": "stream",
     "text": [
      "\n"
     ]
    }
   ],
   "source": [
    "print()"
   ]
  },
  {
   "cell_type": "code",
   "execution_count": 2,
   "metadata": {},
   "outputs": [
    {
     "name": "stdout",
     "output_type": "stream",
     "text": [
      "100\n"
     ]
    }
   ],
   "source": [
    "print(100)  #integer value"
   ]
  },
  {
   "cell_type": "code",
   "execution_count": 3,
   "metadata": {},
   "outputs": [
    {
     "name": "stdout",
     "output_type": "stream",
     "text": [
      "100.5\n"
     ]
    }
   ],
   "source": [
    "print(100.5)  #folating point value"
   ]
  },
  {
   "cell_type": "code",
   "execution_count": 4,
   "metadata": {},
   "outputs": [
    {
     "name": "stdout",
     "output_type": "stream",
     "text": [
      "100 100.5\n"
     ]
    }
   ],
   "source": [
    "print(100,100.5)  #integer, folating pint value"
   ]
  },
  {
   "cell_type": "code",
   "execution_count": 5,
   "metadata": {},
   "outputs": [
    {
     "name": "stdout",
     "output_type": "stream",
     "text": [
      "Owais\n"
     ]
    }
   ],
   "source": [
    "print(\"Owais\")  #string "
   ]
  },
  {
   "cell_type": "code",
   "execution_count": 6,
   "metadata": {},
   "outputs": [
    {
     "name": "stdout",
     "output_type": "stream",
     "text": [
      "Owais Uzair Usaid Humaid\n"
     ]
    }
   ],
   "source": [
    "print(\"Owais\", \"Uzair\", \"Usaid\", \"Humaid\" )"
   ]
  },
  {
   "cell_type": "code",
   "execution_count": 7,
   "metadata": {},
   "outputs": [
    {
     "name": "stdout",
     "output_type": "stream",
     "text": [
      "OwaisUzairUsaidHumaid\n"
     ]
    }
   ],
   "source": [
    "print(\"Owais\", \"Uzair\", \"Usaid\", \"Humaid\", sep=\"\")\n"
   ]
  },
  {
   "cell_type": "code",
   "execution_count": 8,
   "metadata": {},
   "outputs": [
    {
     "name": "stdout",
     "output_type": "stream",
     "text": [
      "Owais  Uzair  Usaid  Humaid\n"
     ]
    }
   ],
   "source": [
    "print(\"Owais\", \"Uzair\", \"Usaid\", \"Humaid\", sep=\"  \")"
   ]
  },
  {
   "cell_type": "code",
   "execution_count": 9,
   "metadata": {},
   "outputs": [
    {
     "name": "stdout",
     "output_type": "stream",
     "text": [
      "Owais\tUzair\tUsaid\tHumaid\n"
     ]
    }
   ],
   "source": [
    "print(\"Owais\", \"Uzair\", \"Usaid\", \"Humaid\", sep=\"\\t\")"
   ]
  },
  {
   "cell_type": "code",
   "execution_count": 10,
   "metadata": {},
   "outputs": [
    {
     "name": "stdout",
     "output_type": "stream",
     "text": [
      "Owais\n",
      "Uzair\n",
      "Usaid\n",
      "Humaid\n"
     ]
    }
   ],
   "source": [
    "print(\"Owais\", \"Uzair\", \"Usaid\", \"Humaid\", sep=\"\\n\")"
   ]
  },
  {
   "cell_type": "code",
   "execution_count": 11,
   "metadata": {},
   "outputs": [
    {
     "name": "stdout",
     "output_type": "stream",
     "text": [
      "Owais @@@@@ Uzair @@@@@ Usaid @@@@@ Humaid\n"
     ]
    }
   ],
   "source": [
    "print(\"Owais\", \"Uzair\", \"Usaid\", \"Humaid\", sep=\" @@@@@ \")"
   ]
  },
  {
   "cell_type": "code",
   "execution_count": 12,
   "metadata": {},
   "outputs": [
    {
     "name": "stdout",
     "output_type": "stream",
     "text": [
      "Owais + Uzair + Usaid + Humaid\n"
     ]
    }
   ],
   "source": [
    "print(\"Owais\", \"Uzair\", \"Usaid\", \"Humaid\", sep=\" + \")"
   ]
  },
  {
   "cell_type": "code",
   "execution_count": 13,
   "metadata": {},
   "outputs": [
    {
     "name": "stdout",
     "output_type": "stream",
     "text": [
      "Owais i am a seprater Uzair i am a seprater Usaid i am a seprater Humaid\n"
     ]
    }
   ],
   "source": [
    "print(\"Owais\", \"Uzair\", \"Usaid\", \"Humaid\", sep=\" i am a seprater \")"
   ]
  },
  {
   "cell_type": "code",
   "execution_count": 14,
   "metadata": {},
   "outputs": [
    {
     "name": "stdout",
     "output_type": "stream",
     "text": [
      "owais1\n",
      "owais2\n",
      "owais3\n"
     ]
    }
   ],
   "source": [
    "print(\"owais1\")\n",
    "print(\"owais2\")\n",
    "print(\"owais3\")"
   ]
  },
  {
   "cell_type": "code",
   "execution_count": 15,
   "metadata": {},
   "outputs": [
    {
     "name": "stdout",
     "output_type": "stream",
     "text": [
      "owais1owais2owais3\n"
     ]
    }
   ],
   "source": [
    "print(\"owais1\", end=\"\")\n",
    "print(\"owais2\", end=\"\")\n",
    "print(\"owais3\")"
   ]
  },
  {
   "cell_type": "code",
   "execution_count": 16,
   "metadata": {},
   "outputs": [
    {
     "name": "stdout",
     "output_type": "stream",
     "text": [
      "owais1 owais2 owais3\n"
     ]
    }
   ],
   "source": [
    "print(\"owais1\", end=\" \")\n",
    "print(\"owais2\", end=\" \")\n",
    "print(\"owais3\")"
   ]
  },
  {
   "cell_type": "code",
   "execution_count": 17,
   "metadata": {},
   "outputs": [
    {
     "name": "stdout",
     "output_type": "stream",
     "text": [
      "owais1\towais2\towais3\n"
     ]
    }
   ],
   "source": [
    "print(\"owais1\", end=\"\\t\")\n",
    "print(\"owais2\", end=\"\\t\")\n",
    "print(\"owais3\")"
   ]
  },
  {
   "cell_type": "code",
   "execution_count": 18,
   "metadata": {},
   "outputs": [
    {
     "name": "stdout",
     "output_type": "stream",
     "text": [
      "owais1\n",
      "\n",
      "owais2\n",
      "\n",
      "owais3\n"
     ]
    }
   ],
   "source": [
    "print(\"owais1\", end=\"\\n\\n\")\n",
    "print(\"owais2\", end=\"\\n\\n\")\n",
    "print(\"owais3\")"
   ]
  },
  {
   "cell_type": "code",
   "execution_count": 19,
   "metadata": {},
   "outputs": [
    {
     "name": "stdout",
     "output_type": "stream",
     "text": [
      "owais1\\owais2\\owais3\n"
     ]
    }
   ],
   "source": [
    "print(\"owais1\", end=\"\\\\\")\n",
    "print(\"owais2\", end=\"\\\\\")\n",
    "print(\"owais3\")"
   ]
  },
  {
   "cell_type": "code",
   "execution_count": 20,
   "metadata": {},
   "outputs": [
    {
     "name": "stdout",
     "output_type": "stream",
     "text": [
      "owais1'owais2'owais3\n"
     ]
    }
   ],
   "source": [
    "print(\"owais1\", end=\"\\'\")\n",
    "print(\"owais2\", end=\"\\'\")\n",
    "print(\"owais3\")"
   ]
  },
  {
   "cell_type": "code",
   "execution_count": 21,
   "metadata": {},
   "outputs": [
    {
     "name": "stdout",
     "output_type": "stream",
     "text": [
      "owais1\"owais2\"owais3\n"
     ]
    }
   ],
   "source": [
    "print(\"owais1\", end=\"\\\"\")\n",
    "print(\"owais2\", end=\"\\\"\")\n",
    "print(\"owais3\")"
   ]
  },
  {
   "cell_type": "code",
   "execution_count": 22,
   "metadata": {},
   "outputs": [
    {
     "name": "stdout",
     "output_type": "stream",
     "text": [
      "owais1\u0007owais2\u0007owais3\n"
     ]
    }
   ],
   "source": [
    "print(\"owais1\", end=\"\\a\")\n",
    "print(\"owais2\", end=\"\\a\")\n",
    "print(\"owais3\")"
   ]
  },
  {
   "cell_type": "code",
   "execution_count": 23,
   "metadata": {},
   "outputs": [
    {
     "name": "stdout",
     "output_type": "stream",
     "text": [
      "owais1\bowais2\bowais3\n"
     ]
    }
   ],
   "source": [
    "print(\"owais1\", end=\"\\b\")\n",
    "print(\"owais2\", end=\"\\b\")\n",
    "print(\"owais3\")"
   ]
  },
  {
   "cell_type": "code",
   "execution_count": 24,
   "metadata": {},
   "outputs": [
    {
     "name": "stdout",
     "output_type": "stream",
     "text": [
      "owais \b 1\n",
      "owais \b 2\n",
      "owais \b 3\n"
     ]
    }
   ],
   "source": [
    "print(\"owais \\b 1\")\n",
    "print(\"owais \\b 2\")\n",
    "print(\"owais \\b 3\")"
   ]
  },
  {
   "cell_type": "code",
   "execution_count": 25,
   "metadata": {},
   "outputs": [
    {
     "name": "stdout",
     "output_type": "stream",
     "text": [
      "Helo \b world!\n"
     ]
    }
   ],
   "source": [
    "print(\"Helo \\b world!\")"
   ]
  },
  {
   "cell_type": "code",
   "execution_count": 26,
   "metadata": {},
   "outputs": [
    {
     "name": "stdout",
     "output_type": "stream",
     "text": [
      "Hello \b World!\n"
     ]
    }
   ],
   "source": [
    "print(\"Hello \\b World!\")"
   ]
  },
  {
   "cell_type": "code",
   "execution_count": 27,
   "metadata": {},
   "outputs": [
    {
     "name": "stdout",
     "output_type": "stream",
     "text": [
      "Hello \f",
      " World!\n"
     ]
    }
   ],
   "source": [
    "print(\"Hello \\f World!\")"
   ]
  },
  {
   "cell_type": "code",
   "execution_count": 28,
   "metadata": {},
   "outputs": [
    {
     "name": "stdout",
     "output_type": "stream",
     "text": [
      "Hello\n",
      "World!\n"
     ]
    }
   ],
   "source": [
    "print(\"Hello\\nWorld!\")"
   ]
  },
  {
   "cell_type": "code",
   "execution_count": 29,
   "metadata": {},
   "outputs": [
    {
     "name": "stdout",
     "output_type": "stream",
     "text": [
      "Hello\r",
      "World!\n"
     ]
    }
   ],
   "source": [
    "print(\"Hello\\rWorld!\")"
   ]
  },
  {
   "cell_type": "code",
   "execution_count": 30,
   "metadata": {},
   "outputs": [
    {
     "name": "stdout",
     "output_type": "stream",
     "text": [
      "Hello \u000b",
      " World!\n"
     ]
    }
   ],
   "source": [
    "print(\"Hello \\v World!\")"
   ]
  },
  {
   "cell_type": "code",
   "execution_count": 31,
   "metadata": {},
   "outputs": [
    {
     "name": "stdout",
     "output_type": "stream",
     "text": [
      "10\n"
     ]
    }
   ],
   "source": [
    "a=10\n",
    "      # a is variable name (identifier)\n",
    "      # = assigment operater\n",
    "      # 10 value (Integer value)\n",
    "print(a)"
   ]
  },
  {
   "cell_type": "code",
   "execution_count": 32,
   "metadata": {},
   "outputs": [
    {
     "data": {
      "text/plain": [
       "int"
      ]
     },
     "execution_count": 32,
     "metadata": {},
     "output_type": "execute_result"
    }
   ],
   "source": [
    "type(a)"
   ]
  },
  {
   "cell_type": "code",
   "execution_count": 33,
   "metadata": {},
   "outputs": [
    {
     "name": "stdout",
     "output_type": "stream",
     "text": [
      "10.6\n"
     ]
    }
   ],
   "source": [
    "a=10.6\n",
    "\n",
    "print(a)"
   ]
  },
  {
   "cell_type": "code",
   "execution_count": 34,
   "metadata": {},
   "outputs": [
    {
     "data": {
      "text/plain": [
       "float"
      ]
     },
     "execution_count": 34,
     "metadata": {},
     "output_type": "execute_result"
    }
   ],
   "source": [
    "type(a)"
   ]
  },
  {
   "cell_type": "code",
   "execution_count": 35,
   "metadata": {},
   "outputs": [],
   "source": [
    "# In python there is no need to defined type of variable it adjust it self "
   ]
  },
  {
   "cell_type": "code",
   "execution_count": 36,
   "metadata": {},
   "outputs": [
    {
     "name": "stdout",
     "output_type": "stream",
     "text": [
      "karachi\n"
     ]
    }
   ],
   "source": [
    "city=\"karachi\"\n",
    " \n",
    "print(city)"
   ]
  },
  {
   "cell_type": "code",
   "execution_count": 37,
   "metadata": {},
   "outputs": [
    {
     "data": {
      "text/plain": [
       "str"
      ]
     },
     "execution_count": 37,
     "metadata": {},
     "output_type": "execute_result"
    }
   ],
   "source": [
    "type(city)"
   ]
  },
  {
   "cell_type": "code",
   "execution_count": 38,
   "metadata": {},
   "outputs": [],
   "source": [
    "student_name=\"Owais Ali\"\n",
    "father_name=\" Arshad\""
   ]
  },
  {
   "cell_type": "code",
   "execution_count": 39,
   "metadata": {},
   "outputs": [
    {
     "name": "stdout",
     "output_type": "stream",
     "text": [
      "Owais Ali Arshad\n"
     ]
    }
   ],
   "source": [
    "print(student_name + father_name)"
   ]
  },
  {
   "cell_type": "code",
   "execution_count": 40,
   "metadata": {},
   "outputs": [],
   "source": [
    "# In string it dose not add the two valuebut combined them"
   ]
  },
  {
   "cell_type": "code",
   "execution_count": 41,
   "metadata": {},
   "outputs": [
    {
     "name": "stdout",
     "output_type": "stream",
     "text": [
      "1024\n"
     ]
    }
   ],
   "source": [
    "#such as\n",
    "\n",
    "a=\"10\"\n",
    "b=\"24\"\n",
    "#because of inverted comma (\"\") interperater read it as a string \n",
    "print(a+b)\n",
    "#because the value is string so it can not plus the above value or make it \"34\" but it combined them and make it \"1024\""
   ]
  },
  {
   "cell_type": "markdown",
   "metadata": {},
   "source": [
    "# Math operation"
   ]
  },
  {
   "cell_type": "code",
   "execution_count": 42,
   "metadata": {},
   "outputs": [],
   "source": [
    "# Operators{/,*,+,-}"
   ]
  },
  {
   "cell_type": "code",
   "execution_count": 43,
   "metadata": {},
   "outputs": [
    {
     "name": "stdout",
     "output_type": "stream",
     "text": [
      "57\n"
     ]
    }
   ],
   "source": [
    "print(23+34)"
   ]
  },
  {
   "cell_type": "code",
   "execution_count": 44,
   "metadata": {},
   "outputs": [
    {
     "name": "stdout",
     "output_type": "stream",
     "text": [
      "57\n"
     ]
    }
   ],
   "source": [
    "a=23\n",
    "b=34\n",
    "c=a+b\n",
    "print(c)"
   ]
  },
  {
   "cell_type": "code",
   "execution_count": 45,
   "metadata": {},
   "outputs": [
    {
     "name": "stdout",
     "output_type": "stream",
     "text": [
      "-89.5\n"
     ]
    }
   ],
   "source": [
    "value1=100\n",
    "value2=10.5\n",
    "sum=value2-value1\n",
    "print(sum)"
   ]
  },
  {
   "cell_type": "code",
   "execution_count": 46,
   "metadata": {},
   "outputs": [
    {
     "name": "stdout",
     "output_type": "stream",
     "text": [
      "1.0\n"
     ]
    }
   ],
   "source": [
    "value1=100\n",
    "value2=100\n",
    "sum=value2/value1\n",
    "print(sum)"
   ]
  },
  {
   "cell_type": "code",
   "execution_count": 47,
   "metadata": {},
   "outputs": [],
   "source": [
    "#It give folating value because by default on division python give folating values\n",
    "     "
   ]
  },
  {
   "cell_type": "code",
   "execution_count": 48,
   "metadata": {},
   "outputs": [
    {
     "name": "stdout",
     "output_type": "stream",
     "text": [
      "1\n"
     ]
    }
   ],
   "source": [
    "sum=value1//value2\n",
    "print(sum)"
   ]
  },
  {
   "cell_type": "code",
   "execution_count": 49,
   "metadata": {},
   "outputs": [],
   "source": [
    "#because of double sign of divison \"//\" it give integer value because it discard the decimal point value as shown below"
   ]
  },
  {
   "cell_type": "code",
   "execution_count": 50,
   "metadata": {},
   "outputs": [
    {
     "name": "stdout",
     "output_type": "stream",
     "text": [
      "0\n"
     ]
    }
   ],
   "source": [
    "value1=100\n",
    "           #the ans is 0.5    \n",
    "value2=200\n",
    "sum=value1//value2\n",
    "print(sum)"
   ]
  },
  {
   "cell_type": "code",
   "execution_count": 59,
   "metadata": {},
   "outputs": [
    {
     "name": "stdout",
     "output_type": "stream",
     "text": [
      "Enter your close friends name or cherry to quiteapp;e\n"
     ]
    },
    {
     "ename": "AttributeError",
     "evalue": "'tuple' object has no attribute 'append'",
     "output_type": "error",
     "traceback": [
      "\u001b[1;31m---------------------------------------------------------------------------\u001b[0m",
      "\u001b[1;31mAttributeError\u001b[0m                            Traceback (most recent call last)",
      "\u001b[1;32m<ipython-input-59-ca39637e3a5c>\u001b[0m in \u001b[0;36m<module>\u001b[1;34m\u001b[0m\n\u001b[0;32m      5\u001b[0m         \u001b[1;32mif\u001b[0m \u001b[0mclose_friends\u001b[0m \u001b[1;33m==\u001b[0m \u001b[1;34m\"cherry\"\u001b[0m\u001b[1;33m:\u001b[0m\u001b[1;33m\u001b[0m\u001b[1;33m\u001b[0m\u001b[0m\n\u001b[0;32m      6\u001b[0m             \u001b[0mflag\u001b[0m \u001b[1;33m=\u001b[0m \u001b[1;32mFalse\u001b[0m\u001b[1;33m\u001b[0m\u001b[1;33m\u001b[0m\u001b[0m\n\u001b[1;32m----> 7\u001b[1;33m         \u001b[0mclose_friends_list\u001b[0m\u001b[1;33m.\u001b[0m\u001b[0mappend\u001b[0m\u001b[1;33m(\u001b[0m\u001b[0mclose_friends\u001b[0m\u001b[1;33m)\u001b[0m\u001b[1;33m\u001b[0m\u001b[1;33m\u001b[0m\u001b[0m\n\u001b[0m",
      "\u001b[1;31mAttributeError\u001b[0m: 'tuple' object has no attribute 'append'"
     ]
    }
   ],
   "source": [
    "close_friends_list=()\n",
    "flag = True\n",
    "while flag:\n",
    "        close_friends=input(\"Enter your close friends name or cherry to quite\") \n",
    "        if close_friends == \"cherry\":\n",
    "            flag = False\n",
    "        close_friends_list"
   ]
  },
  {
   "cell_type": "code",
   "execution_count": 57,
   "metadata": {},
   "outputs": [
    {
     "name": "stdout",
     "output_type": "stream",
     "text": [
      "avilable\n"
     ]
    }
   ],
   "source": [
    "fruits_name= [\"apple\",\"mango\",\"cherry\",\"Bannana\",\"Grappes\",\"Pomegrant\",\"papaya\",\"injeer\",\"water millon\",\"Millon\",\"Pine apple\"]\n",
    "if close_friends_list in fruits_name:\n",
    "    print(\"avilable\")\n",
    "else:\n",
    "    print(\"not avilabe\")"
   ]
  },
  {
   "cell_type": "code",
   "execution_count": 53,
   "metadata": {},
   "outputs": [
    {
     "name": "stdout",
     "output_type": "stream",
     "text": [
      "owais\n"
     ]
    }
   ],
   "source": [
    "print(\"owais\")"
   ]
  },
  {
   "cell_type": "code",
   "execution_count": null,
   "metadata": {},
   "outputs": [],
   "source": []
  },
  {
   "cell_type": "code",
   "execution_count": null,
   "metadata": {},
   "outputs": [],
   "source": []
  }
 ],
 "metadata": {
  "kernelspec": {
   "display_name": "Python 3",
   "language": "python",
   "name": "python3"
  },
  "language_info": {
   "codemirror_mode": {
    "name": "ipython",
    "version": 3
   },
   "file_extension": ".py",
   "mimetype": "text/x-python",
   "name": "python",
   "nbconvert_exporter": "python",
   "pygments_lexer": "ipython3",
   "version": "3.7.6"
  }
 },
 "nbformat": 4,
 "nbformat_minor": 4
}
