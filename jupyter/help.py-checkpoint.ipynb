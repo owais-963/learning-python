{
 "cells": [
  {
   "cell_type": "code",
   "execution_count": 1,
   "metadata": {},
   "outputs": [
    {
     "name": "stdout",
     "output_type": "stream",
     "text": [
      "Help on built-in function print in module builtins:\n",
      "\n",
      "print(...)\n",
      "    print(value, ..., sep=' ', end='\\n', file=sys.stdout, flush=False)\n",
      "    \n",
      "    Prints the values to a stream, or to sys.stdout by default.\n",
      "    Optional keyword arguments:\n",
      "    file:  a file-like object (stream); defaults to the current sys.stdout.\n",
      "    sep:   string inserted between values, default a space.\n",
      "    end:   string appended after the last value, default a newline.\n",
      "    flush: whether to forcibly flush the stream.\n",
      "\n"
     ]
    }
   ],
   "source": [
    "help(print)"
   ]
  },
  {
   "cell_type": "code",
   "execution_count": 2,
   "metadata": {},
   "outputs": [
    {
     "name": "stdout",
     "output_type": "stream",
     "text": [
      "my name is owais\n"
     ]
    }
   ],
   "source": [
    "print(\"my name is owais\",sep=\"\")"
   ]
  },
  {
   "cell_type": "code",
   "execution_count": null,
   "metadata": {},
   "outputs": [],
   "source": []
  },
  {
   "cell_type": "code",
   "execution_count": 3,
   "metadata": {
    "scrolled": true
   },
   "outputs": [
    {
     "data": {
      "text/plain": [
       "'Mon Nov  9 21:10:24 2020'"
      ]
     },
     "execution_count": 3,
     "metadata": {},
     "output_type": "execute_result"
    }
   ],
   "source": [
    "from datetime import datetime as dt\n",
    "import time as tm\n",
    "t=tm.ctime()\n",
    "\n",
    "t"
   ]
  },
  {
   "cell_type": "code",
   "execution_count": 4,
   "metadata": {},
   "outputs": [
    {
     "data": {
      "text/plain": [
       "str"
      ]
     },
     "execution_count": 4,
     "metadata": {},
     "output_type": "execute_result"
    }
   ],
   "source": [
    "a=\"owais\"\n",
    "type(a)"
   ]
  },
  {
   "cell_type": "code",
   "execution_count": 5,
   "metadata": {},
   "outputs": [
    {
     "name": "stdout",
     "output_type": "stream",
     "text": [
      "Mon Nov  9 21:10:24 2020\n"
     ]
    }
   ],
   "source": [
    "Date=tm.ctime()\n",
    "print(Date)"
   ]
  },
  {
   "cell_type": "code",
   "execution_count": 6,
   "metadata": {},
   "outputs": [
    {
     "name": "stdout",
     "output_type": "stream",
     "text": [
      "Mon Nov  9 21:10:24 2020\n"
     ]
    }
   ],
   "source": [
    "print(Date)"
   ]
  },
  {
   "cell_type": "code",
   "execution_count": 7,
   "metadata": {},
   "outputs": [
    {
     "name": "stdout",
     "output_type": "stream",
     "text": [
      "owais\n"
     ]
    }
   ],
   "source": [
    "l=[1,2,3,4,5,6]\n",
    "#n=[1,'s',3,'f',5,6,'k']\n",
    "#k=[]\n",
    "for i in range(0,6):\n",
    "    if l[i]==6:\n",
    "        #k.append(n[i])\n",
    "        print(\"owais\")\n",
    "   # else:\n",
    "    #    print(\"No\")"
   ]
  },
  {
   "cell_type": "code",
   "execution_count": 8,
   "metadata": {},
   "outputs": [
    {
     "name": "stdout",
     "output_type": "stream",
     "text": [
      "what\n",
      "okgfg\n",
      "not valid\n",
      "Enter your answer in 1 or 2fsd\n"
     ]
    }
   ],
   "source": [
    "a=input(\"what\\nok\")\n",
    "if a== \"1\":\n",
    "    print(\"ok\")\n",
    "else:\n",
    "    print(\"not valid\")\n",
    "    a=input(\"Enter your answer in 1 or 2\")"
   ]
  },
  {
   "cell_type": "code",
   "execution_count": 9,
   "metadata": {},
   "outputs": [
    {
     "name": "stdout",
     "output_type": "stream",
     "text": [
      "Help on method_descriptor:\n",
      "\n",
      "insert(self, index, object, /)\n",
      "    Insert object before index.\n",
      "\n"
     ]
    }
   ],
   "source": [
    "help(list.insert)"
   ]
  },
  {
   "cell_type": "code",
   "execution_count": 10,
   "metadata": {},
   "outputs": [
    {
     "ename": "TypeError",
     "evalue": "clear() takes no arguments (1 given)",
     "output_type": "error",
     "traceback": [
      "\u001b[1;31m---------------------------------------------------------------------------\u001b[0m",
      "\u001b[1;31mTypeError\u001b[0m                                 Traceback (most recent call last)",
      "\u001b[1;32m<ipython-input-10-44ca739e6b72>\u001b[0m in \u001b[0;36m<module>\u001b[1;34m\u001b[0m\n\u001b[0;32m      1\u001b[0m \u001b[0ml\u001b[0m\u001b[1;33m.\u001b[0m\u001b[0minsert\u001b[0m\u001b[1;33m(\u001b[0m\u001b[1;36m2\u001b[0m\u001b[1;33m,\u001b[0m\u001b[1;34m\"h\"\u001b[0m\u001b[1;33m)\u001b[0m\u001b[1;33m\u001b[0m\u001b[1;33m\u001b[0m\u001b[0m\n\u001b[1;32m----> 2\u001b[1;33m \u001b[0ml\u001b[0m\u001b[1;33m.\u001b[0m\u001b[0mclear\u001b[0m\u001b[1;33m(\u001b[0m\u001b[0mall\u001b[0m\u001b[1;33m)\u001b[0m\u001b[1;33m\u001b[0m\u001b[1;33m\u001b[0m\u001b[0m\n\u001b[0m",
      "\u001b[1;31mTypeError\u001b[0m: clear() takes no arguments (1 given)"
     ]
    }
   ],
   "source": [
    "l.insert(2,\"h\")\n",
    "l.clear(all)"
   ]
  },
  {
   "cell_type": "code",
   "execution_count": null,
   "metadata": {},
   "outputs": [],
   "source": [
    "help(list.index)"
   ]
  },
  {
   "cell_type": "code",
   "execution_count": null,
   "metadata": {},
   "outputs": [],
   "source": [
    "a=l.index('f')\n",
    "RunTimeError \n",
    "if a not in l:\n",
    "    print('Not')"
   ]
  },
  {
   "cell_type": "code",
   "execution_count": null,
   "metadata": {},
   "outputs": [],
   "source": [
    "txt = \"The rain in Spain stays mainly in the plain\"\n",
    "x = 'ain' in txt\n",
    "print(x) "
   ]
  },
  {
   "cell_type": "code",
   "execution_count": null,
   "metadata": {},
   "outputs": [],
   "source": [
    "quantity = 3\n",
    "itemno = 567\n",
    "price = 49.95\n",
    "myorder = \"I want {} pieces of item {} for {} dollars.\"\n",
    "print(myorder.format(quantity, itemno, price))"
   ]
  },
  {
   "cell_type": "code",
   "execution_count": null,
   "metadata": {},
   "outputs": [],
   "source": [
    "help(list.remove)"
   ]
  },
  {
   "cell_type": "code",
   "execution_count": null,
   "metadata": {},
   "outputs": [],
   "source": [
    "l=[1,2,3,4]\n",
    "m=[6,7,8,9]\n",
    "k=int(input(\"Enter \"))\n",
    "n=int(input(\"Enter \"))\n",
    "if k not in l and n not in m:\n",
    "    if k==n:\n",
    "        print(\"list are not same\")\n",
    "    print(\"Not in l\\nNot in m\")\n",
    "elif k in l and n not in m:\n",
    "    if k==n:\n",
    "        print(\"list are not same\")\n",
    "    print(\"in l \\nbut not in m\")\n",
    "elif k not in l and n in m and k not in m:\n",
    "    print(\"yes in m but not in l\")\n",
    "elif k in l and n in m:\n",
    "    print('yes i am')"
   ]
  },
  {
   "cell_type": "code",
   "execution_count": null,
   "metadata": {},
   "outputs": [],
   "source": [
    "help(list.replace())"
   ]
  },
  {
   "cell_type": "code",
   "execution_count": null,
   "metadata": {},
   "outputs": [],
   "source": [
    "o=\"11\"\n",
    "o_int=int(o)\n",
    "type(o_int)"
   ]
  },
  {
   "cell_type": "code",
   "execution_count": null,
   "metadata": {},
   "outputs": [],
   "source": [
    "help(list.append)"
   ]
  },
  {
   "cell_type": "code",
   "execution_count": null,
   "metadata": {},
   "outputs": [],
   "source": [
    "help(list)"
   ]
  },
  {
   "cell_type": "code",
   "execution_count": null,
   "metadata": {},
   "outputs": [],
   "source": [
    "Time=[\"05:55:\"\n",
    ",\"06:00\"\n",
    ",\"06:30\"\n",
    ",\"08:30\"\n",
    ",\"09:00\"\n",
    ",\"10:00\"\n",
    ",'11:15'\n",
    ",\"12:30\"\n",
    ",\"13:15\"\n",
    ",'14:00'\n",
    ",\"15:00\"\n",
    ",\"15:45\"\n",
    ",\"16:30\"\n",
    ",\"18:30\"\n",
    ",\"19:30\"\n",
    "\"20:30\",\n",
    "'21:30',\n",
    "'22:00',\n",
    "\"23:00\"]\n",
    "T_ind=[]\n",
    "for f in range(0,len(Time)):\n",
    "    T_ind.append(Time[f][0]+Time[f][1]+Time[f][3]+Time[f][4])\n",
    "    print(T_ind)\n",
    "    print(len(T_ind))"
   ]
  },
  {
   "cell_type": "code",
   "execution_count": null,
   "metadata": {},
   "outputs": [],
   "source": [
    "T_int=[]\n",
    "for i in range(0,len(T_ind)):\n",
    "    T_int.append(int(T_ind[i]))\n",
    "print(T_ind)\n",
    "print(T_int)"
   ]
  },
  {
   "cell_type": "code",
   "execution_count": null,
   "metadata": {},
   "outputs": [],
   "source": [
    "a=(1,2,3)\n",
    "type(a)"
   ]
  },
  {
   "cell_type": "code",
   "execution_count": null,
   "metadata": {},
   "outputs": [],
   "source": [
    "help(tuple)"
   ]
  },
  {
   "cell_type": "code",
   "execution_count": null,
   "metadata": {},
   "outputs": [],
   "source": [
    "Run=True\n",
    "while Run:\n",
    "    Ti_ind=[]\n",
    "    Ti_int=[]\n",
    "    Ti=input(\"Enter \")\n",
    "    Ti_ind.append(Ti)\n",
    "    if Ti==\"o\":\n",
    "        Run= False\n",
    "        Ti_ind.remove('o')\n",
    "        for i in range(0,T):\n",
    "            print(\"owais\")\n",
    "        \n",
    "        print(Ti_ind)\n",
    "        print(Ti_ind)"
   ]
  },
  {
   "cell_type": "code",
   "execution_count": 17,
   "metadata": {},
   "outputs": [
    {
     "name": "stdout",
     "output_type": "stream",
     "text": [
      "Time: D\n",
      "ok\n"
     ]
    }
   ],
   "source": [
    "from datetime import datetime as dt\n",
    "def tim():\n",
    "    a=input(\"Time: \")\n",
    "    if a==\"D\":\n",
    "        return print('ok')\n",
    "    else:\n",
    "        try:\n",
    "            global b\n",
    "            b=dt.strptime(a,\"%H:%M\")\n",
    "            print(b)\n",
    "            tim()\n",
    "        except ValueError:\n",
    "            print(\"Not Valid value for time\")\n",
    "            tim()\n",
    "tim()          "
   ]
  },
  {
   "cell_type": "code",
   "execution_count": 31,
   "metadata": {},
   "outputs": [
    {
     "name": "stdout",
     "output_type": "stream",
     "text": [
      "1900-01-01 21:49:00\n"
     ]
    }
   ],
   "source": [
    "import time as tm\n",
    "a=tm.ctime()\n",
    "b=tm.strftime(\"%H:%M\")\n",
    "D=dt.strptime(b,\"%H:%M\")\n",
    "print(D)"
   ]
  },
  {
   "cell_type": "code",
   "execution_count": null,
   "metadata": {},
   "outputs": [],
   "source": [
    " '''  ruteen=int(input(\"Tell me hwo many time today I have to notfy you: \"))\n",
    "                        T=[]\n",
    "                        R=[]\n",
    "                        flag=True\n",
    "                    while flag:\n",
    "                        A=input(\"Enter the time: \")\n",
    "                        B=input(\"Please tell me I have to notify you for: \")\n",
    "                        T.append(A)\n",
    "                        R.append(B)\n",
    "                        if len(T)==ruteen:\n",
    "                            flag=False\n",
    "                            for s in range (0,len(T)):\n",
    "                                SCHEDULE2=f\"At {T[s]} o'clock \\n You have to do {R[s]}\"\n",
    "                                EDT_SEE=input(\"For See the Schedule press '3' and '4' for edit and 5 for close \\n and 0 for dismiss all: \")\n",
    "                                if EDT_SEE==\"0\":\n",
    "                                    exit\n",
    "                                elif EDT_SEE=='4':\n",
    "                                    EDT=True\n",
    "                                    while EDT:\n",
    "                                        print(SCHEDULE2)\n",
    "                                        TELL=input(\"Add a schedule press 'A' and for edit set schedule press 'E' \")\n",
    "                                        if TELL=='A':\n",
    "                                            rtn=int(input(\"Hwo many time i have to notify you more: \"))\n",
    "                                            ADD=input(\"Enter the time: \")\n",
    "                                            Work=input(\"Please tell me I have to notify you for: \")\n",
    "                                            T.append(ADD)\n",
    "                                            R.append(Work)\n",
    "                                            added=rtn+ruteen\n",
    "                                            if T==added:\n",
    "                                                EDT=False\n",
    "                                                print(SCHEDULE2)'''"
   ]
  },
  {
   "cell_type": "code",
   "execution_count": null,
   "metadata": {},
   "outputs": [],
   "source": [
    " elif c=='yes':\n",
    "                        Run=False\n",
    "                        for i in range(0,len(Time)):\n",
    "                            SCH=(f\"At {Time[i]} o'clock \\n {Ruteen[i]}\")\n",
    "                            print(SCH)\n",
    "                            EDT=True\n",
    "                            while EDT:\n",
    "                                T=input(\"Enter the time or press 9 to close: \")\n",
    "                                R=input(\"I have to notify you for: \")\n",
    "                                T_ind=[]\n",
    "                                T_int=[]\n",
    "                                Tm_ind=[]\n",
    "                                Tm_int=[]\n",
    "                                Tm_ind.append(Time[i][0]+Time[i][1]+Time[i][3]+Time[i[4]])\n",
    "                                for Tmi in range(0,len(Tm_ind)):\n",
    "                                    Tm_int.append(int(T_ind[Tmi]))\n",
    "                                T_ind.append()\n",
    "                                if T not in Time and R not in Ruteen:\n",
    "                                    \n",
    "                                    Time.append(T)\n",
    "                                    Ruteen.append(R)\n",
    "                                if T in Time:\n",
    "                                    Ti=Time.index(T)"
   ]
  },
  {
   "cell_type": "code",
   "execution_count": 44,
   "metadata": {},
   "outputs": [
    {
     "name": "stdout",
     "output_type": "stream",
     "text": [
      "enter ff\n",
      "yes\n"
     ]
    }
   ],
   "source": [
    "def start():\n",
    "    a=input(\"enter \")\n",
    "    if a!=\"I\":\n",
    "        def inpt():\n",
    "            return print(\"yes\")\n",
    "        inpt()\n",
    "    else:\n",
    "        start()\n",
    "start()"
   ]
  },
  {
   "cell_type": "code",
   "execution_count": 43,
   "metadata": {},
   "outputs": [
    {
     "name": "stdout",
     "output_type": "stream",
     "text": [
      "ok \n"
     ]
    }
   ],
   "source": [
    "a=input(\"ok\")\n",
    "if a==\"\":\n",
    "    print(\"It's work\")"
   ]
  },
  {
   "cell_type": "code",
   "execution_count": null,
   "metadata": {},
   "outputs": [],
   "source": []
  }
 ],
 "metadata": {
  "kernelspec": {
   "display_name": "Python 3",
   "language": "python",
   "name": "python3"
  },
  "language_info": {
   "codemirror_mode": {
    "name": "ipython",
    "version": 3
   },
   "file_extension": ".py",
   "mimetype": "text/x-python",
   "name": "python",
   "nbconvert_exporter": "python",
   "pygments_lexer": "ipython3",
   "version": "3.7.6"
  }
 },
 "nbformat": 4,
 "nbformat_minor": 4
}
