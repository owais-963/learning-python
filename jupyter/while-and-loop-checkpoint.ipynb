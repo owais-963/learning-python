{
 "cells": [
  {
   "cell_type": "code",
   "execution_count": 1,
   "metadata": {},
   "outputs": [
    {
     "name": "stdout",
     "output_type": "stream",
     "text": [
      "owais\n"
     ]
    }
   ],
   "source": [
    "print (\"owais\")\n",
    "   "
   ]
  },
  {
   "cell_type": "code",
   "execution_count": null,
   "metadata": {},
   "outputs": [],
   "source": [
    "\n"
   ]
  },
  {
   "cell_type": "code",
   "execution_count": null,
   "metadata": {},
   "outputs": [],
   "source": [
    "for a in range(10):\n",
    "    print(a)"
   ]
  },
  {
   "cell_type": "code",
   "execution_count": 3,
   "metadata": {},
   "outputs": [
    {
     "name": "stdout",
     "output_type": "stream",
     "text": [
      "Enter your close friends nameS\n",
      "Enter your close friends nameSS\n",
      "Enter your close friends nameS\n",
      "Enter your close friends name\n"
     ]
    }
   ],
   "source": [
    "close_friends_list= []\n",
    "for a in range(4):\n",
    "    close_friends=input(\"Enter your close friends name\")\n",
    "    close_friends_list.append(close_friend)\n"
   ]
  },
  {
   "cell_type": "code",
   "execution_count": 4,
   "metadata": {},
   "outputs": [
    {
     "data": {
      "text/plain": [
       "['S', 'SS', 'S', '']"
      ]
     },
     "execution_count": 4,
     "metadata": {},
     "output_type": "execute_result"
    }
   ],
   "source": [
    "close_friends_list"
   ]
  },
  {
   "cell_type": "code",
   "execution_count": null,
   "metadata": {},
   "outputs": [],
   "source": [
    "close_friends_list= []\n",
    "flag = True\n",
    "while flag:\n",
    "        close_friends=input(\"Enter your close friends name or q to quite\") \n",
    "        if close_friends == \"q\":\n",
    "            flag = False\n",
    "            close_friends_list.append(close_friends)\n",
    "\n"
   ]
  },
  {
   "cell_type": "code",
   "execution_count": null,
   "metadata": {},
   "outputs": [],
   "source": [
    "fruits_name=[\"apple\",\"mango\",\"Bannana\",\"cherry\",\"Grappes\",\"Pomegrant\",\"papaya\",\"injeer\",\"water millon\",\"Millon\",\"Pine apple\"]\n",
    "flag = True\n",
    "while flag:\n",
    "     fruits_name=input(\"Enter fruits name or d to close\")\n",
    "        if fruits_name==\"d\":\n",
    "            flag = False\n",
    "        "
   ]
  },
  {
   "cell_type": "code",
   "execution_count": null,
   "metadata": {},
   "outputs": [],
   "source": [
    "print(\"owais\")"
   ]
  },
  {
   "cell_type": "code",
   "execution_count": null,
   "metadata": {},
   "outputs": [],
   "source": [
    "close_friends_list= []\n",
    "for a in range(1):\n",
    "    close_friends=input(\"Enter your close friends name\")\n",
    "\n"
   ]
  },
  {
   "cell_type": "code",
   "execution_count": null,
   "metadata": {},
   "outputs": [],
   "source": [
    "per= input  \n",
    "if per >=80:\n",
    "    print(\"A+\")\n",
    "elif per>=70:\n",
    "    print(\"A\")\n",
    "elif per>=60:\n",
    "    print(\"B\")\n",
    "elif per>=50:\n",
    "    print(\"C\")\n",
    "elif per<50:\n",
    "    print(\"Fail\")\n",
    "    print(\"kanjar tu C k like bh nh tha\")\n",
    "    print(\"fail ho gaya chal nkl ab ja kr rote rhe\")\n",
    "if per==49:\n",
    "    print(\"chutye 1 per le leta to pass ho jata 1 per se latak gaya na\" )\n",
    "elif per<=40:\n",
    "    print(\"tu hai hi nalaik parhna likhna sare bais bs pagl panti krne de do\")"
   ]
  },
  {
   "cell_type": "code",
   "execution_count": null,
   "metadata": {},
   "outputs": [],
   "source": [
    "your_percentage= []\n",
    "for a in range(1):\n",
    "    your_percentage=input(\"Enter your percentage\")\n",
    "    your_percentage."
   ]
  },
  {
   "cell_type": "code",
   "execution_count": null,
   "metadata": {},
   "outputs": [],
   "source": []
  },
  {
   "cell_type": "code",
   "execution_count": null,
   "metadata": {},
   "outputs": [],
   "source": []
  },
  {
   "cell_type": "code",
   "execution_count": null,
   "metadata": {},
   "outputs": [],
   "source": []
  },
  {
   "cell_type": "code",
   "execution_count": null,
   "metadata": {},
   "outputs": [],
   "source": []
  }
 ],
 "metadata": {
  "kernelspec": {
   "display_name": "Python 3",
   "language": "python",
   "name": "python3"
  },
  "language_info": {
   "codemirror_mode": {
    "name": "ipython",
    "version": 3
   },
   "file_extension": ".py",
   "mimetype": "text/x-python",
   "name": "python",
   "nbconvert_exporter": "python",
   "pygments_lexer": "ipython3",
   "version": "3.7.6"
  }
 },
 "nbformat": 4,
 "nbformat_minor": 4
}
