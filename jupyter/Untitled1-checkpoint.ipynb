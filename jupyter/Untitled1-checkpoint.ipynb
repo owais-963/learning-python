{
 "cells": [
  {
   "cell_type": "code",
   "execution_count": 3,
   "metadata": {},
   "outputs": [
    {
     "ename": "SyntaxError",
     "evalue": "invalid syntax (<ipython-input-3-1b14545ae2ea>, line 3)",
     "output_type": "error",
     "traceback": [
      "\u001b[1;36m  File \u001b[1;32m\"<ipython-input-3-1b14545ae2ea>\"\u001b[1;36m, line \u001b[1;32m3\u001b[0m\n\u001b[1;33m    def___init___(self,name,age):\u001b[0m\n\u001b[1;37m                                 ^\u001b[0m\n\u001b[1;31mSyntaxError\u001b[0m\u001b[1;31m:\u001b[0m invalid syntax\n"
     ]
    }
   ],
   "source": [
    "class Dog:\n",
    "    total=0\n",
    "    def___init___(self,name,age):\n",
    "        self.name=name\n",
    "        self.age=age\n",
    "        Dog.total +=1"
   ]
  },
  {
   "cell_type": "code",
   "execution_count": 8,
   "metadata": {},
   "outputs": [
    {
     "name": "stdout",
     "output_type": "stream",
     "text": [
      "selct score Column (3= math,4=reading 5= writing:3\n",
      "**************************\n"
     ]
    },
    {
     "ename": "ValueError",
     "evalue": "max() arg is an empty sequence",
     "output_type": "error",
     "traceback": [
      "\u001b[1;31m---------------------------------------------------------------------------\u001b[0m",
      "\u001b[1;31mValueError\u001b[0m                                Traceback (most recent call last)",
      "\u001b[1;32m<ipython-input-8-3704aaf807a2>\u001b[0m in \u001b[0;36m<module>\u001b[1;34m\u001b[0m\n\u001b[0;32m     78\u001b[0m \u001b[1;31m#check Who got max marks\u001b[0m\u001b[1;33m\u001b[0m\u001b[1;33m\u001b[0m\u001b[1;33m\u001b[0m\u001b[0m\n\u001b[0;32m     79\u001b[0m \u001b[0mmale_max\u001b[0m\u001b[1;33m=\u001b[0m\u001b[0mmax\u001b[0m\u001b[1;33m(\u001b[0m\u001b[0mmale_score_list\u001b[0m\u001b[1;33m)\u001b[0m\u001b[1;33m\u001b[0m\u001b[1;33m\u001b[0m\u001b[0m\n\u001b[1;32m---> 80\u001b[1;33m \u001b[0mfemale_max\u001b[0m\u001b[1;33m=\u001b[0m\u001b[0mmax\u001b[0m\u001b[1;33m(\u001b[0m\u001b[0mfemale_score_list\u001b[0m\u001b[1;33m)\u001b[0m\u001b[1;33m\u001b[0m\u001b[1;33m\u001b[0m\u001b[0m\n\u001b[0m\u001b[0;32m     81\u001b[0m \u001b[1;32mif\u001b[0m \u001b[0mmale_max\u001b[0m \u001b[1;33m>\u001b[0m\u001b[0mfemale_max\u001b[0m\u001b[1;33m:\u001b[0m\u001b[1;33m\u001b[0m\u001b[1;33m\u001b[0m\u001b[0m\n\u001b[0;32m     82\u001b[0m     \u001b[0mprint\u001b[0m\u001b[1;33m(\u001b[0m\u001b[1;34m\"male has high score with marks\"\u001b[0m\u001b[1;33m,\u001b[0m\u001b[1;33m(\u001b[0m\u001b[0mmale_max\u001b[0m\u001b[1;33m)\u001b[0m\u001b[1;33m)\u001b[0m\u001b[1;33m\u001b[0m\u001b[1;33m\u001b[0m\u001b[0m\n",
      "\u001b[1;31mValueError\u001b[0m: max() arg is an empty sequence"
     ]
    }
   ],
   "source": [
    "# Input Data\n",
    "\"\"\"\n",
    "Labels = ['gender', 'parental level of education', 'test preparation course', 'math score', 'reading score', 'writing score']\n",
    "Data = [\n",
    "['female', \"bachelor's degree\", 'none', '72', '72', '74'],\n",
    "['female', 'some college', 'completed', '69', '90', '88'],\n",
    "['female', \"master's degree\", 'none', '90', '95', '93'],\n",
    "['male', \"associate's degree\", 'none', '47', '57', '44'],\n",
    "['male', 'some college', 'none', '76', '78', '75'],\n",
    "['female', \"associate's degree\", 'none', '71', '83', '78'],\n",
    "['female', 'some college', 'completed', '88', '95', '92'],\n",
    "['male', 'some college', 'none', '40', '43', '39'],\n",
    "['male', 'high school', 'completed', '64', '64', '67'],\n",
    "['female', 'high school', 'none', '38', '60', '50'],\n",
    "['male', \"associate's degree\", 'none', '58', '54', '52'],\n",
    "['male', \"associate's degree\", 'none', '40', '52', '43'],\n",
    "['female', 'high school', 'none', '65', '81', '73'],\n",
    "['male', 'some college', 'completed', '78', '72', '70'],\n",
    "['female', \"master's degree\", 'none', '50', '53', '58'],\n",
    "['female', 'some high school', 'none', '69', '75', '78'],\n",
    "['male', 'high school', 'none', '88', '89', '86'],\n",
    "['female', 'some high school', 'none', '18', '32', '28'],\n",
    "['male', \"master's degree\", 'completed', '46', '42', '46'],\n",
    "['female', \"associate's degree\", 'none', '54', '58', '61'],\n",
    "['male', 'high school', 'none', '66', '69', '63'],\n",
    "['female', 'some college', 'completed', '65', '75', '70'],\n",
    "['male', 'some college', 'none', '44', '54', '53'],\n",
    "['female', 'some high school', 'none', '69', '73', '73'],\n",
    "['male', \"bachelor's degree\", 'completed', '74', '71', '80'],\n",
    "['male', \"master's degree\", 'none', '73', '74', '72'],\n",
    "['male', 'some college', 'none', '69', '54', '55'],\n",
    "['female', \"bachelor's degree\", 'none', '67', '69', '75'],\n",
    "['male', 'high school', 'none', '70', '70', '65'],\n",
    "['female', \"master's degree\", 'none', '62', '70', '75'],\n",
    "['female', 'some college', 'none', '69', '74', '74'],\n",
    "['female', 'some college', 'none', '63', '65', '61'],\n",
    "['female', \"master's degree\", 'none', '56', '72', '65'],\n",
    "['male', 's6ome college', 'none', '40', '42', '38'],\n",
    "['male', 'some college', 'none', '97', '87', '82'],\n",
    "['male', \"associate's degree\", 'completed', '81', '81', '79'],\n",
    "['female', \"associate's degree\", 'none', '74', '81', '83'],\n",
    "['female', 'some high school', 'none', '50', '64', '59'],\n",
    "['female', \"associate's degree\", 'completed', '75', '90', '88'],\n",
    "]\n",
    "selected_column=int(input(\"selct score Column (3= math,4=reading 5= writing:\"))\n",
    "print(\"**************************\")\n",
    "#initialize degree score\n",
    "master_degree_score=0\n",
    "bachelor_degree_score=0\n",
    "m_degree_list=[]\n",
    "b_degree_list=[]\n",
    "#score specified to gender\n",
    "female_score_sum=0\n",
    "male_score_sum=0\n",
    "male_score_list=[]\n",
    "female_score_list=[]\n",
    "for i in range(len(data)):\n",
    "    degree=data[i][1]\n",
    "    gender=data[i][0]\n",
    "    score=data[i][selected_column]\n",
    "#condition for degree master/bachelor\n",
    "if degree==\"master's degree\":\n",
    "    m_degree_list.append(score)\n",
    "master_degree_score+=int(score)\n",
    "if degree==\"bachelor's degree\":\n",
    "    b_degree_list.append(score)\n",
    "bachelor_degree_score+=int(score)\n",
    "#condition for gender\n",
    "if gender=='female':\n",
    "    male_score_list.append(int(score))\n",
    "    female_score_sum+=int(score)\n",
    "elif gender=='male':\n",
    "    female_score_list.append(int(score))\n",
    "    male_score_sum+=int(score)\n",
    "#claculate persons with degree\n",
    "m_level_parents=len(m_degree_list)\n",
    "b_level_parents=len(b_degree_list)\n",
    "some_degree=len(data)-m_level_parents-b_level_parents\n",
    "#check Who got max marks\n",
    "male_max=max(male_score_list)\n",
    "female_max=max(female_score_list)\n",
    "if male_max >female_max:\n",
    "    print(\"male has high score with marks\",(male_max))\n",
    "else:\n",
    "    print(\"female has highest marks with marks\",format(female_max))\n",
    "#scores with respect to degree\n",
    "print(\"***************************************\")\n",
    "print(\"list of score with parental Master's degree \",m_degree_list)\n",
    "print(\"list of score with parental Bachelor's degree\",b_degree_list)\n",
    "print(\"sum of score with parental Master's degree is \",master_degree_score)\n",
    "print(\"sum of score with parental Bachelor's degree is \",bachelor_degree_score)\n",
    "#how many parents have master bachelor degree etc\n",
    "print(\"********************\")\n",
    "print(\"{} parents are Masters , {} are Bachelors and {} are Some college level\".format(m_level_parents,b_level_parents,some_degree))\n",
    "print(\"******************\")\n",
    "print(\"female score sum in {} is {} \".format( labels[selected_column],female_score_sum))\n",
    "print(\"Male score sum in {} is {}\".format(labels[selected_column],male_score_sum))\n",
    "print(\"Male list \\n\",male_score_list)\n",
    "print(\"female_score_list \\n\",female_score_list)\n",
    "#degree scores\n",
    "\"\"\""
   ]
  },
  {
   "cell_type": "code",
   "execution_count": 2,
   "metadata": {},
   "outputs": [
    {
     "data": {
      "text/plain": [
       "'\\nlabels=[\\'gender\\', \\'parental level of education\\', \\'test preparation course\\', \\'math score\\', \\'reading score\\', \\'writing score\\']\\ndata = [ \\n   [\\'female\\', \"bachelor\\'s degree\", \\'non1e\\', \\'72\\', \\'72\\', \\'74\\'], \\n  [\\'female\\', \\'some college\\', \\'completed\\', \\'69\\', \\'90\\', \\'88\\'], \\n  [\\'female\\', \"master\\'s degree\", \\'none\\', \\'90\\', \\'95\\', \\'93\\'], \\n  [\\'male\\', \"associate\\'s degree\", \\'none\\', \\'47\\', \\'57\\', \\'44\\'], \\n  [\\'male\\', \\'some college\\', \\'none\\', \\'76\\', \\'78\\', \\'75\\'], \\n  [\\'female\\', \"associate\\'s degree\", \\'none\\', \\'71\\', \\'83\\', \\'78\\'], \\n  [\\'female\\', \\'some college\\', \\'completed\\', \\'88\\', \\'95\\', \\'92\\'], \\n  [\\'male\\', \\'some college\\', \\'none\\', \\'40\\', \\'43\\', \\'39\\'], \\n  [\\'male\\', \\'high school\\', \\'completed\\', \\'64\\', \\'64\\', \\'67\\'], \\n  [\\'female\\', \\'high school\\', \\'none\\', \\'38\\', \\'60\\', \\'50\\'], \\n  [\\'male\\', \"associate\\'s degree\", \\'none\\', \\'58\\', \\'54\\', \\'52\\'], \\n [\\'male\\', \"associate\\'s degree\", \\'none\\', \\'40\\', \\'52\\', \\'43\\'], \\n [\\'female\\', \\'high school\\', \\'none\\', \\'65\\', \\'81\\', \\'73\\'], \\n [\\'male\\', \\'some college\\', \\'completed\\', \\'78\\', \\'72\\', \\'70\\'], \\n [\\'female\\', \"master\\'s degree\", \\'none\\', \\'50\\', \\'53\\', \\'58\\'], \\n [\\'female\\', \\'some high school\\', \\'none\\', \\'69\\', \\'75\\', \\'78\\'], \\n [\\'male\\', \\'high school\\', \\'none\\', \\'88\\', \\'89\\', \\'86\\'], \\n [\\'female\\', \\'some high school\\', \\'none\\', \\'18\\', \\'32\\', \\'28\\'], \\n [\\'male\\', \"master\\'s degree\", \\'completed\\', \\'46\\', \\'42\\', \\'46\\'], \\n [\\'female\\', \"associate\\'s degree\", \\'none\\', \\'54\\', \\'58\\', \\'61\\'], \\n [\\'male\\', \\'high school\\', \\'none\\', \\'66\\', \\'69\\', \\'63\\'], \\n [\\'female\\', \\'some college\\', \\'completed\\', \\'65\\', \\'75\\', \\'70\\'], \\n [\\'male\\', \\'some college\\', \\'none\\', \\'44\\', \\'54\\', \\'53\\'], \\n [\\'female\\', \\'some high school\\', \\'none\\', \\'69\\', \\'73\\', \\'73\\'], \\n [\\'male\\', \"bachelor\\'s degree\", \\'completed\\', \\'74\\', \\'71\\', \\'80\\'], \\n [\\'male\\', \"master\\'s degree\", \\'none\\', \\'73\\', \\'74\\', \\'72\\'], \\n [\\'male\\', \\'some college\\', \\'none\\', \\'69\\', \\'54\\', \\'55\\'], \\n [\\'female\\', \"bachelor\\'s degree\", \\'none\\', \\'67\\', \\'69\\', \\'75\\'], \\n [\\'male\\', \\'high school\\', \\'none\\', \\'70\\', \\'70\\', \\'65\\'], \\n [\\'female\\', \"master\\'s degree\", \\'none\\', \\'62\\', \\'70\\', \\'75\\'], \\n [\\'female\\', \\'some college\\', \\'none\\', \\'69\\', \\'74\\', \\'74\\'], \\n [\\'female\\', \\'some college\\', \\'none\\', \\'63\\', \\'65\\', \\'61\\'], \\n [\\'female\\', \"master\\'s degree\", \\'none\\', \\'56\\', \\'72\\', \\'65\\'], \\n [\\'male\\', \\'some college\\', \\'none\\', \\'40\\', \\'42\\', \\'38\\'], \\n [\\'male\\', \\'some college\\', \\'none\\', \\'97\\', \\'87\\', \\'82\\'], \\n [\\'male\\', \"associate\\'s degree\", \\'completed\\', \\'81\\', \\'81\\', \\'79\\'], \\n [\\'female\\', \"associate\\'s degree\", \\'none\\', \\'74\\', \\'81\\', \\'83\\'], \\n [\\'female\\', \\'some high school\\', \\'none\\', \\'50\\', \\'64\\', \\'59\\'], \\n [\\'female\\', \"associate\\'s degree\", \\'completed\\', \\'75\\', \\'90\\', \\'88\\'], \\n]\\n#########################\\n#Q1 Solution\\nfemaleSum    = 0\\nmaleSum    = 0\\n\\n# Processing\\nscoreColumn = int(input(\"score Column (3= math,4=reading 5= writing)\"))\\nif scoreColumn > 3 and scoreColumn <6:\\n    for innerList in data:\\n        if InnerList[0] == \\'female\\':\\n            femalesSum = femaleSum + int(innerList[scoreColumn])\\n        else:\\n            malesSum = maleSum + int(innerList[scoreColumn])\\n\\n############\\n#Decision Making\\nprint(\"Females Score Total =\", femaleSum, \" Male Score Total =\", maleSum) \\n\\nif femaleSum > maleSum:\\n    print(\"Famles performance is better than Males in \", labels[scoreColumn])\\nelif femaleSum < maleSum:\\n    print(\"Males performance is better than Females in \", labels[scoreColumn])\\nelse:\\n    print(\"Same level of performance\", labels[scoreColumn])\\n\\n'"
      ]
     },
     "execution_count": 2,
     "metadata": {},
     "output_type": "execute_result"
    }
   ],
   "source": [
    "# Input Data\n",
    "\"\"\"\n",
    "labels=['gender', 'parental level of education', 'test preparation course', 'math score', 'reading score', 'writing score']\n",
    "data = [ \n",
    "   ['female', \"bachelor's degree\", 'non1e', '72', '72', '74'], \n",
    "  ['female', 'some college', 'completed', '69', '90', '88'], \n",
    "  ['female', \"master's degree\", 'none', '90', '95', '93'], \n",
    "  ['male', \"associate's degree\", 'none', '47', '57', '44'], \n",
    "  ['male', 'some college', 'none', '76', '78', '75'], \n",
    "  ['female', \"associate's degree\", 'none', '71', '83', '78'], \n",
    "  ['female', 'some college', 'completed', '88', '95', '92'], \n",
    "  ['male', 'some college', 'none', '40', '43', '39'], \n",
    "  ['male', 'high school', 'completed', '64', '64', '67'], \n",
    "  ['female', 'high school', 'none', '38', '60', '50'], \n",
    "  ['male', \"associate's degree\", 'none', '58', '54', '52'], \n",
    " ['male', \"associate's degree\", 'none', '40', '52', '43'], \n",
    " ['female', 'high school', 'none', '65', '81', '73'], \n",
    " ['male', 'some college', 'completed', '78', '72', '70'], \n",
    " ['female', \"master's degree\", 'none', '50', '53', '58'], \n",
    " ['female', 'some high school', 'none', '69', '75', '78'], \n",
    " ['male', 'high school', 'none', '88', '89', '86'], \n",
    " ['female', 'some high school', 'none', '18', '32', '28'], \n",
    " ['male', \"master's degree\", 'completed', '46', '42', '46'], \n",
    " ['female', \"associate's degree\", 'none', '54', '58', '61'], \n",
    " ['male', 'high school', 'none', '66', '69', '63'], \n",
    " ['female', 'some college', 'completed', '65', '75', '70'], \n",
    " ['male', 'some college', 'none', '44', '54', '53'], \n",
    " ['female', 'some high school', 'none', '69', '73', '73'], \n",
    " ['male', \"bachelor's degree\", 'completed', '74', '71', '80'], \n",
    " ['male', \"master's degree\", 'none', '73', '74', '72'], \n",
    " ['male', 'some college', 'none', '69', '54', '55'], \n",
    " ['female', \"bachelor's degree\", 'none', '67', '69', '75'], \n",
    " ['male', 'high school', 'none', '70', '70', '65'], \n",
    " ['female', \"master's degree\", 'none', '62', '70', '75'], \n",
    " ['female', 'some college', 'none', '69', '74', '74'], \n",
    " ['female', 'some college', 'none', '63', '65', '61'], \n",
    " ['female', \"master's degree\", 'none', '56', '72', '65'], \n",
    " ['male', 'some college', 'none', '40', '42', '38'], \n",
    " ['male', 'some college', 'none', '97', '87', '82'], \n",
    " ['male', \"associate's degree\", 'completed', '81', '81', '79'], \n",
    " ['female', \"associate's degree\", 'none', '74', '81', '83'], \n",
    " ['female', 'some high school', 'none', '50', '64', '59'], \n",
    " ['female', \"associate's degree\", 'completed', '75', '90', '88'], \n",
    "]\n",
    "#########################\n",
    "#Q1 Solution\n",
    "femaleSum    = 0\n",
    "maleSum    = 0\n",
    "\n",
    "# Processing\n",
    "scoreColumn = int(input(\"score Column (3= math,4=reading 5= writing)\"))\n",
    "if scoreColumn > 3 and scoreColumn <6:\n",
    "    for innerList in data:\n",
    "        if InnerList[0] == 'female':\n",
    "            femalesSum = femaleSum + int(innerList[scoreColumn])\n",
    "        else:\n",
    "            malesSum = maleSum + int(innerList[scoreColumn])\n",
    "\n",
    "############\n",
    "#Decision Making\n",
    "print(\"Females Score Total =\", femaleSum, \" Male Score Total =\", maleSum) \n",
    "\n",
    "if femaleSum > maleSum:\n",
    "    print(\"Famles performance is better than Males in \", labels[scoreColumn])\n",
    "elif femaleSum < maleSum:\n",
    "    print(\"Males performance is better than Females in \", labels[scoreColumn])\n",
    "else:\n",
    "    print(\"Same level of performance\", labels[scoreColumn])\n",
    "\n",
    "\"\"\"\n"
   ]
  },
  {
   "cell_type": "code",
   "execution_count": 79,
   "metadata": {},
   "outputs": [
    {
     "name": "stdout",
     "output_type": "stream",
     "text": [
      "2441880.0\n"
     ]
    }
   ],
   "source": [
    "student_name=['owais','faheem','nawaz','moin','ali','iftikhar','waheed','arshad','salah','rida','akram'\n",
    "            ,'rimsha','nayla','shakir','alyan','mukhtar','rahila','martin','rafia','ayesha','humauid']\n",
    "# How many chance that the student name start with \"a\" got schlor ship\n",
    "n=len(student_name)\n",
    "e=[]\n",
    "for a  in student_name:\n",
    "    if a[0]==\"a\":\n",
    "        e.append(a)\n",
    "        R=len(e)\n",
    "r=n-R\n",
    "def factorial (n):\n",
    "    if n==0:\n",
    "        return 1\n",
    "    else:\n",
    "        return n*factorial(n-1)\n",
    "n_=factorial(n)\n",
    "def factorial(r):\n",
    "    if r==0:\n",
    "        return 1\n",
    "    else:\n",
    "        return (r)*factorial(r-1)\n",
    "nr=factorial(r)\n",
    "#print(r)\n",
    "p=n_/nr\n",
    "print(p)\n",
    "\n",
    "\n",
    "        "
   ]
  },
  {
   "cell_type": "code",
   "execution_count": 31,
   "metadata": {},
   "outputs": [
    {
     "name": "stdout",
     "output_type": "stream",
     "text": [
      "<class 'int'>\n",
      "<class 'int'>\n",
      "<class 'int'>\n",
      "<class 'int'>\n",
      "<class 'int'>\n",
      "<class 'int'>\n",
      "<class 'int'>\n",
      "<class 'int'>\n",
      "<class 'int'>\n",
      "<class 'int'>\n",
      "<class 'int'>\n",
      "<class 'int'>\n",
      "<class 'int'>\n",
      "<class 'int'>\n",
      "<class 'int'>\n",
      "<class 'int'>\n",
      "<class 'int'>\n",
      "<class 'int'>\n",
      "<class 'int'>\n",
      "<class 'int'>\n",
      "<class 'int'>\n"
     ]
    }
   ],
   "source": [
    "a=list(range(1,n+1))\n",
    "for A in a:\n",
    "    print(type(A))"
   ]
  },
  {
   "cell_type": "code",
   "execution_count": 43,
   "metadata": {},
   "outputs": [
    {
     "data": {
      "text/plain": [
       "51090942171709440000"
      ]
     },
     "execution_count": 43,
     "metadata": {},
     "output_type": "execute_result"
    }
   ],
   "source": [
    " 2432902008176640000*21"
   ]
  },
  {
   "cell_type": "code",
   "execution_count": null,
   "metadata": {},
   "outputs": [],
   "source": []
  }
 ],
 "metadata": {
  "kernelspec": {
   "display_name": "Python 3",
   "language": "python",
   "name": "python3"
  },
  "language_info": {
   "codemirror_mode": {
    "name": "ipython",
    "version": 3
   },
   "file_extension": ".py",
   "mimetype": "text/x-python",
   "name": "python",
   "nbconvert_exporter": "python",
   "pygments_lexer": "ipython3",
   "version": "3.7.6"
  }
 },
 "nbformat": 4,
 "nbformat_minor": 4
}
