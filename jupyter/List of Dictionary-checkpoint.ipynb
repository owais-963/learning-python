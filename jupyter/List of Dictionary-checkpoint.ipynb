{
 "cells": [
  {
   "cell_type": "code",
   "execution_count": 1,
   "metadata": {},
   "outputs": [],
   "source": [
    "#User={\"user(0)\":{\"user(0)_info\":{\"user_name\":\"Owais Ali\",'user_email':\"owais@gmail.com\",'password':'owais123'},\n",
    "#                'user(0)_post':{\"post_id\":'user(id)'}}}"
   ]
  },
  {
   "cell_type": "code",
   "execution_count": 9,
   "metadata": {},
   "outputs": [
    {
     "name": "stdout",
     "output_type": "stream",
     "text": [
      "owais\n"
     ]
    }
   ],
   "source": [
    "with open(\"./OneDrive/Desktop/read.txt\",mode=\"r\")as file:\n",
    "    a=file.read()\n",
    "print(a)"
   ]
  },
  {
   "cell_type": "code",
   "execution_count": 44,
   "metadata": {},
   "outputs": [],
   "source": [
    "def List(lst_name):\n",
    "    lst_name=[]\n",
    "    return lst_name\n",
    "def unique_key(lst_name):\n",
    "    key=len(lst_name)\n",
    "    return key\n",
    "    #Unique_Key=unique_key(lst_name)\n",
    "    #a=Unique_Key\n",
    "    #return lst_name\n"
   ]
  },
  {
   "cell_type": "code",
   "execution_count": 71,
   "metadata": {},
   "outputs": [
    {
     "name": "stdout",
     "output_type": "stream",
     "text": [
      "owais 18 owais@.com 123\n"
     ]
    }
   ],
   "source": [
    "class User:\n",
    "    class User_info(User):\n",
    "        def __init__(self,name,age,email,password):\n",
    "            self.name=name\n",
    "            self.age=age\n",
    "            self.email=email\n",
    "            self.password=password\n",
    "        def get_value(self):\n",
    "            print(self.name,self.age,self.email,self.password)\n",
    "User1=User.User_info('owais','18','owais@.com','123')\n",
    "User1.get_value()\n",
    "    "
   ]
  },
  {
   "cell_type": "code",
   "execution_count": 69,
   "metadata": {
    "scrolled": true
   },
   "outputs": [
    {
     "data": {
      "text/plain": [
       "['owais']"
      ]
     },
     "execution_count": 69,
     "metadata": {},
     "output_type": "execute_result"
    }
   ],
   "source": [
    "#Tessting Box\n",
    "print(List(User))\n",
    "print(unique_key(User))\n",
    "dic={'name':\"Owais\" , \"age\":17}\n",
    "dic['age']='18'\n",
    "dic"
   ]
  },
  {
   "cell_type": "code",
   "execution_count": 3,
   "metadata": {},
   "outputs": [],
   "source": [
    "User=[]\n",
    "def user_info(info):\n",
    "    user_name='Owais Ali'\n",
    "    email=\"owaisali@gmail.com\"\n",
    "    password='owais123'\n",
    "    a= unique_key(info)\n",
    "    Dic={f'user({a})':{'user_name':user_name,'email':email,'password':password}}\n",
    "    info.append(Dic)\n",
    "    return print(info)"
   ]
  },
  {
   "cell_type": "code",
   "execution_count": 4,
   "metadata": {},
   "outputs": [],
   "source": [
    "#user_info(User)"
   ]
  },
  {
   "cell_type": "code",
   "execution_count": 5,
   "metadata": {},
   "outputs": [
    {
     "name": "stdout",
     "output_type": "stream",
     "text": [
      "Enter roll no or q for quite q\n"
     ]
    }
   ],
   "source": [
    "def creat_str(roll_no):\n",
    "    return \"roll no \"+roll_no\n",
    "\n",
    "RollNo=[]\n",
    "flag=True\n",
    "while flag:\n",
    "    a=input(\"Enter roll no or q for quite \")\n",
    "    if a=='q':\n",
    "        flag=False\n",
    "    else:\n",
    "        RollNo.append(creat_str(a))"
   ]
  },
  {
   "cell_type": "code",
   "execution_count": null,
   "metadata": {},
   "outputs": [],
   "source": []
  },
  {
   "cell_type": "code",
   "execution_count": 57,
   "metadata": {},
   "outputs": [],
   "source": [
    "User.clear()"
   ]
  },
  {
   "cell_type": "code",
   "execution_count": null,
   "metadata": {},
   "outputs": [],
   "source": []
  },
  {
   "cell_type": "code",
   "execution_count": null,
   "metadata": {},
   "outputs": [],
   "source": []
  },
  {
   "cell_type": "code",
   "execution_count": 112,
   "metadata": {},
   "outputs": [],
   "source": []
  },
  {
   "cell_type": "code",
   "execution_count": null,
   "metadata": {},
   "outputs": [],
   "source": [
    "\n"
   ]
  },
  {
   "cell_type": "code",
   "execution_count": null,
   "metadata": {},
   "outputs": [],
   "source": []
  },
  {
   "cell_type": "code",
   "execution_count": null,
   "metadata": {},
   "outputs": [],
   "source": []
  },
  {
   "cell_type": "code",
   "execution_count": null,
   "metadata": {},
   "outputs": [],
   "source": []
  },
  {
   "cell_type": "code",
   "execution_count": null,
   "metadata": {},
   "outputs": [],
   "source": []
  },
  {
   "cell_type": "code",
   "execution_count": null,
   "metadata": {},
   "outputs": [],
   "source": []
  }
 ],
 "metadata": {
  "kernelspec": {
   "display_name": "Python 3",
   "language": "python",
   "name": "python3"
  },
  "language_info": {
   "codemirror_mode": {
    "name": "ipython",
    "version": 3
   },
   "file_extension": ".py",
   "mimetype": "text/x-python",
   "name": "python",
   "nbconvert_exporter": "python",
   "pygments_lexer": "ipython3",
   "version": "3.7.6"
  }
 },
 "nbformat": 4,
 "nbformat_minor": 4
}
