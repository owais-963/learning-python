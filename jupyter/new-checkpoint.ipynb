{
 "cells": [
  {
   "cell_type": "code",
   "execution_count": 1,
   "metadata": {},
   "outputs": [
    {
     "ename": "SyntaxError",
     "evalue": "invalid syntax (<ipython-input-1-51c582094446>, line 6)",
     "output_type": "error",
     "traceback": [
      "\u001b[1;36m  File \u001b[1;32m\"<ipython-input-1-51c582094446>\"\u001b[1;36m, line \u001b[1;32m6\u001b[0m\n\u001b[1;33m    Bill=A+A/1000\u001b[0m\n\u001b[1;37m       ^\u001b[0m\n\u001b[1;31mSyntaxError\u001b[0m\u001b[1;31m:\u001b[0m invalid syntax\n"
     ]
    }
   ],
   "source": [
    "NAME=input(\"Coustomer Name \")\n",
    "A=int(input(\"Amount \")\n",
    "\n",
    "          \n",
    "#if A<=50:\n",
    "     Bill=A+A/1000\n",
    "  #    print(\"Tip is 0.1%\")\n",
    "#if A<=200:\n",
    "     # Bill=A+A/500\n",
    "      #print(\"Tip is 0.2%\")\n",
    "if A>200:\n",
    "      Bill=A+A/100\n",
    "      print(\"Tip is 1%\")\n",
    "print(f\"Total Amount is {Bill}\")"
   ]
  },
  {
   "cell_type": "code",
   "execution_count": null,
   "metadata": {},
   "outputs": [],
   "source": [
    "a = True \n",
    "while a:\n",
    "    C=input(\" \")\n",
    "    if C != \"Bill\":\n",
    "        a = False\n",
    "        break\n",
    "    Name=input(\"costumer Name \")\n",
    "    s=int(input(\"Amount Recive = \"))\n",
    "    A=int(input(\"Bill = \"))\n",
    "    if A<=50:\n",
    "        B=A+A/1000\n",
    "        print(\"Tip is 0.1%\")\n",
    "    elif A<=200:\n",
    "        B=A+A/500\n",
    "        print(\"Tip is 0.2%\")\n",
    "    elif A>200:\n",
    "        B=A+A/100\n",
    "        print(\"Tip is 1%\")\n",
    "    c= s-B\n",
    "    print(f\"Amount Detected = {B}\")\n",
    "    print(f\"Amount Return = {c}\")"
   ]
  },
  {
   "cell_type": "code",
   "execution_count": 2,
   "metadata": {
    "scrolled": true
   },
   "outputs": [
    {
     "name": "stdout",
     "output_type": "stream",
     "text": [
      "Enter the year of day one s\n"
     ]
    },
    {
     "ename": "ValueError",
     "evalue": "invalid literal for int() with base 10: 's'",
     "output_type": "error",
     "traceback": [
      "\u001b[1;31m---------------------------------------------------------------------------\u001b[0m",
      "\u001b[1;31mValueError\u001b[0m                                Traceback (most recent call last)",
      "\u001b[1;32m<ipython-input-2-4b03368b4188>\u001b[0m in \u001b[0;36m<module>\u001b[1;34m\u001b[0m\n\u001b[0;32m      1\u001b[0m \u001b[1;31m#### Python program to calculate number of days between two dates\u001b[0m\u001b[1;33m\u001b[0m\u001b[1;33m\u001b[0m\u001b[1;33m\u001b[0m\u001b[0m\n\u001b[0;32m      2\u001b[0m \u001b[1;33m\u001b[0m\u001b[0m\n\u001b[1;32m----> 3\u001b[1;33m \u001b[0ma1\u001b[0m\u001b[1;33m=\u001b[0m\u001b[0mint\u001b[0m\u001b[1;33m(\u001b[0m\u001b[0minput\u001b[0m\u001b[1;33m(\u001b[0m\u001b[1;34m\"Enter the year of day one \"\u001b[0m\u001b[1;33m)\u001b[0m\u001b[1;33m)\u001b[0m\u001b[1;33m\u001b[0m\u001b[1;33m\u001b[0m\u001b[0m\n\u001b[0m\u001b[0;32m      4\u001b[0m \u001b[0mb1\u001b[0m\u001b[1;33m=\u001b[0m\u001b[0mint\u001b[0m\u001b[1;33m(\u001b[0m\u001b[0minput\u001b[0m\u001b[1;33m(\u001b[0m\u001b[1;34m\"Enter the month of day one \"\u001b[0m\u001b[1;33m)\u001b[0m\u001b[1;33m)\u001b[0m\u001b[1;33m\u001b[0m\u001b[1;33m\u001b[0m\u001b[0m\n\u001b[0;32m      5\u001b[0m \u001b[0mc1\u001b[0m\u001b[1;33m=\u001b[0m\u001b[0mint\u001b[0m\u001b[1;33m(\u001b[0m\u001b[0minput\u001b[0m\u001b[1;33m(\u001b[0m\u001b[1;34m\"Enter the date of day one \"\u001b[0m\u001b[1;33m)\u001b[0m\u001b[1;33m)\u001b[0m\u001b[1;33m\u001b[0m\u001b[1;33m\u001b[0m\u001b[0m\n",
      "\u001b[1;31mValueError\u001b[0m: invalid literal for int() with base 10: 's'"
     ]
    }
   ],
   "source": [
    "#### Python program to calculate number of days between two dates\n",
    "\n",
    "a1=int(input(\"Enter the year of day one \"))\n",
    "b1=int(input(\"Enter the month of day one \"))\n",
    "c1=int(input(\"Enter the date of day one \"))\n",
    "a2=int(input(\"Enter the year of last day \"))\n",
    "b2=int(input(\"Enter the month of last day \"))\n",
    "c2=int(input(\"Enter the date of last day \"))\n",
    "from datetime import date\n",
    "fdate= date(a1,b1,c1)\n",
    "ldate= date(a2,b2,c2)\n",
    "daybetw= fdate-ldate\n",
    "print(daybetw)"
   ]
  },
  {
   "cell_type": "code",
   "execution_count": null,
   "metadata": {},
   "outputs": [],
   "source": [
    "a=int(input(\"Enter the Year \"))\n",
    "b=int(input(\"Enter the Month and for whole year clander Enter 0 \"))\n",
    "import calendar\n",
    "if b==0:\n",
    "    print(calendar.calendar(a))\n",
    "if b>0:\n",
    "    print(calender.month(a,b))"
   ]
  },
  {
   "cell_type": "code",
   "execution_count": null,
   "metadata": {},
   "outputs": [],
   "source": [
    "\n",
    "\n",
    "a1=int(input(\"Enter the year of day one \"))\n",
    "b1=int(input(\"Enter the month of day one \"))\n",
    "c1=int(input(\"Enter the date of day one \"))\n",
    "a2=int(input(\"Enter the year of last day \"))\n",
    "b2=int(input(\"Enter the month of last day \"))\n",
    "c2=int(input(\"Enter the date of last day \"))\n",
    "from datetime import date\n",
    "fdate= date(a1,b1,c1)\n",
    "ldate= date(a2,b2,c2)\n",
    "daybetw= fdate-ldate\n",
    "#years=daybetw\n",
    "#if \n",
    "print(f\"you are {daybetw} old\")"
   ]
  },
  {
   "cell_type": "code",
   "execution_count": null,
   "metadata": {},
   "outputs": [],
   "source": [
    "######8.\tWrite a Python program to get a string which is n (non-negative integer) copies of a given string\n",
    "A=input(\"Enter an string \")\n",
    "B=int(input(\"Enter an non negative integer \"))\n",
    "for a in range(B):\n",
    "    print(A)"
   ]
  },
  {
   "cell_type": "code",
   "execution_count": 8,
   "metadata": {},
   "outputs": [
    {
     "name": "stdout",
     "output_type": "stream",
     "text": [
      "Hi!owais\n",
      "you are invite to a poll party\n",
      "Hi!ali\n",
      "you are invite to a poll party\n",
      "Hi!arshad\n",
      "you are invite to a poll party\n",
      "Hi!ahmed\n",
      "you are invite to a poll party\n",
      "Hi!john\n",
      "you are invite to a poll party\n",
      "Hi!nabeel\n",
      "you are invite to a poll party\n",
      "Hi!Huzaifa\n",
      "you are invite to a poll party\n",
      "Hi!moin\n",
      "you are invite to a poll party\n",
      "Hi!Afridi\n",
      "you are invite to a poll party\n",
      "Hi!asgar\n",
      "you are invite to a poll party\n",
      "Hi!yosuf\n",
      "you are invite to a poll party\n",
      "Hi!esa\n",
      "you are invite to a poll party\n"
     ]
    }
   ],
   "source": [
    "A=[\"owais\",\"ali\",\"arshad\",\"ahmed\",\"john\",\"nabeel\",\"Huzaifa\",\"moin\",\"Afridi\",\"asgar\",\"yosuf\",\"esa\"]\n",
    "for name in A:\n",
    "    print(f\"Hi!{name}\")\n",
    "    print(\"you are invite to a poll party\")\n"
   ]
  },
  {
   "cell_type": "code",
   "execution_count": 20,
   "metadata": {},
   "outputs": [
    {
     "name": "stdout",
     "output_type": "stream",
     "text": [
      "[4, 5]\n"
     ]
    }
   ],
   "source": [
    "f=[1,2,3]\n",
    "b=[1,2,3,4,5]\n",
    "c=list(set(b)-set(a))\n",
    "print(c)\n",
    "        \n"
   ]
  },
  {
   "cell_type": "code",
   "execution_count": 39,
   "metadata": {
    "scrolled": true
   },
   "outputs": [
    {
     "name": "stdout",
     "output_type": "stream",
     "text": [
      "3\n"
     ]
    }
   ],
   "source": [
    "with open(\"owais.txt\",\"w\")as file:\n",
    "    A=file.write(\"wtf\")\n",
    "print(A)"
   ]
  },
  {
   "cell_type": "code",
   "execution_count": 170,
   "metadata": {},
   "outputs": [
    {
     "name": "stdout",
     "output_type": "stream",
     "text": [
      "Male's total score in Math's is 1151\n",
      "Male's total score in reading is 1153\n",
      "Male's total score in writing is 1109\n",
      "Male's total score is 3413\n",
      "Female's total score in Math's is 1334\n",
      "Female's total score in reading is 1527\n",
      "Female's total score in writing is 1496\n",
      "Female's total score is 4357\n",
      "Number of Total Male candidate is 18\n",
      "Number of Total Female candidate is 21\n"
     ]
    }
   ],
   "source": [
    "0# Input Data\n",
    "labels = ['gender', 'parental level of education', 'test preparation course', 'math score', 'reading score', 'writing score'], \n",
    "data = [ \n",
    "   ['female', \"bachelor's degree\", 'none', 72, 72, 74], \n",
    "  ['female', 'some college', 'completed', 69, 90, 88], \n",
    "  ['female', \"master's degree\", 'none', 90, 95, 93], \n",
    "  ['male', \"associate's degree\", 'none', 47, 57, 44], \n",
    "  ['male', 'some college', 'none', 76, 78, 75], \n",
    "  ['female', \"associate's degree\", 'none', 71, 83, 78], \n",
    "  ['female', 'some college', 'completed', 88, 95, 92], \n",
    "  ['male', 'some college', 'none', 40, 43, 39], \n",
    "  ['male', 'high school', 'completed', 64, 64, 67], \n",
    "  ['female', 'high school', 'none', 38, 60, 50], \n",
    "  ['male', \"associate's degree\", 'none', 58, 54, 52], \n",
    " ['male', \"associate's degree\", 'none', 40, 52, 43], \n",
    " ['female', 'high school', 'none', 65, 81, 73], \n",
    " ['male', 'some college', 'completed', 78, 72, 70], \n",
    " ['female', \"master's degree\", 'none', 50, 53, 58], \n",
    " ['female', 'some high school', 'none', 69, 75, 78], \n",
    " ['male', 'high school', 'none', 88, 89, 86], \n",
    " ['female', 'some high school', 'none', 18, 32, 28], \n",
    " ['male', \"master's degree\", 'completed', 46, 42, 46], \n",
    " ['female', \"associate's degree\", 'none', 54, 58, 61], \n",
    " ['male', 'high school', 'none', 66, 69, 63], \n",
    " ['female', 'some college', 'completed', 65, 75, 70], \n",
    " ['male', 'some college', 'none', 44, 54, 53], \n",
    " ['female', 'some high school', 'none', 69, 73, 73], \n",
    " ['male', \"bachelor's degree\", 'completed', 74, 71, 80], \n",
    " ['male', \"master's degree\", 'none', 73, 74, 72], \n",
    " ['male', 'some college', 'none', 69, 54, 55], \n",
    " ['female', \"bachelor's degree\", 'none', 67, 69, 75], \n",
    " ['male', 'high school', 'none', 70, 70, 65], \n",
    " ['female', \"master's degree\", 'none', 62, 70, 75], \n",
    " ['female', 'some college', 'none', 69, 74, 74], \n",
    " ['female', 'some college', 'none', 63, 65, 61], \n",
    " ['female', \"master's degree\", 'none', 56, 72, 65], \n",
    " ['male', 's6ome college', 'none', 40, 42, 38], \n",
    " ['male', 'some college', 'none', 97, 87, 82], \n",
    " ['male', \"associate's degree\", 'completed', 81, 81, 79], \n",
    " ['female', \"associate's degree\", 'none', 74, 81, 83], \n",
    " ['female', 'some high school', 'none', 50, 64, 59], \n",
    " ['female', \"associate's degree\", 'completed', 75, 90, 88], \n",
    "]\n",
    "#male_mathscore=0\n",
    "#male_readscore=0\n",
    "#male_writingscore=0\n",
    "c=[]\n",
    "d=[]\n",
    "e=[]\n",
    "f=[]\n",
    "g=[]\n",
    "h=[]\n",
    "for a in data:\n",
    "    if a[0]==\"male\":\n",
    "        c.append(a[3])\n",
    "        male_mathscore=sum(c)\n",
    "        d.append(a[4])\n",
    "        male_readscore=sum(d)\n",
    "        e.append(a[5])\n",
    "        male_writescore=sum(e)\n",
    "    if a[0]==\"female\":\n",
    "        f.append(a[3])\n",
    "        female_mathscore=sum(f)\n",
    "        g.append(a[4])\n",
    "        female_readscore=sum(g)\n",
    "        h.append(a[5])\n",
    "        female_writescore=sum(h)\n",
    "Total_male_score=male_mathscore+male_readscore+male_writescore\n",
    "Total_female_score=female_mathscore+female_readscore+female_writescore\n",
    "print(\"Male's total score in Math's is\",male_mathscore)\n",
    "print(\"Male's total score in reading is\",male_readscore)\n",
    "print(\"Male's total score in writing is\",male_writescore)\n",
    "print(\"Male's total score is\",Total_male_score)\n",
    "print(\"Female's total score in Math's is\",female_mathscore)\n",
    "print(\"Female's total score in reading is\",female_readscore)\n",
    "print(\"Female's total score in writing is\",female_writescore)\n",
    "print(\"Female's total score is\",Total_female_score)\n",
    "print(\"Number of Total Male candidate is\",len(c))\n",
    "print(\"Number of Total Female candidate is\",len(h))\n",
    "    \n"
   ]
  },
  {
   "cell_type": "code",
   "execution_count": 131,
   "metadata": {},
   "outputs": [
    {
     "name": "stdout",
     "output_type": "stream",
     "text": [
      "[47, 76, 40, 64, 58, 40, 78, 88, 46, 66, 44, 74, 73, 69, 70, 40, 97, 81]\n"
     ]
    },
    {
     "data": {
      "text/plain": [
       "1111"
      ]
     },
     "execution_count": 131,
     "metadata": {},
     "output_type": "execute_result"
    }
   ],
   "source": [
    "\n",
    "print(c)\n",
    "len(c)\n",
    "#c[0:18]\n",
    "c[0]+c[1]+c[3]+c[4]+c[5]+c[6]+c[7]+c[8]+c[9]+c[10]+c[11]+c[12]+c[13]+c[14]+c[15]+c[16]+c[17]"
   ]
  },
  {
   "cell_type": "code",
   "execution_count": 155,
   "metadata": {},
   "outputs": [
    {
     "name": "stdout",
     "output_type": "stream",
     "text": [
      "93222\n"
     ]
    }
   ],
   "source": [
    "for a in data:\n",
    "    if a[0]==\"male\":\n",
    "        c.append(a[3])\n",
    "        for f in range(0,len(c)):\n",
    "            male_mathscore=male_mathscore+c[f]\n",
    "print(male_mathscore)"
   ]
  },
  {
   "cell_type": "code",
   "execution_count": 142,
   "metadata": {
    "scrolled": true
   },
   "outputs": [
    {
     "data": {
      "text/plain": [
       "1151"
      ]
     },
     "execution_count": 142,
     "metadata": {},
     "output_type": "execute_result"
    }
   ],
   "source": [
    "47+76+40+64+58+40+78+88+46+66+44+74+73+69+70+40+97+81\n"
   ]
  },
  {
   "cell_type": "code",
   "execution_count": 127,
   "metadata": {},
   "outputs": [
    {
     "data": {
      "text/plain": [
       "1151"
      ]
     },
     "execution_count": 127,
     "metadata": {},
     "output_type": "execute_result"
    }
   ],
   "source": [
    "d=c[0]+c[1]\n",
    "e=d+c[2]\n",
    "a=e+c[3]\n",
    "b=a+c[4]\n",
    "d=b+c[5]\n",
    "E=d+c[6]\n",
    "A=E+c[7]\n",
    "B=A+c[8]\n",
    "C=B+c[9]\n",
    "D=C+c[10]\n",
    "E=D+c[11]\n",
    "f=E+c[12]\n",
    "F=f+c[13]\n",
    "g=F+c[14]\n",
    "G=g+c[15]\n",
    "h=G+c[16]\n",
    "H=h+c[17]\n",
    "H+"
   ]
  },
  {
   "cell_type": "code",
   "execution_count": 141,
   "metadata": {},
   "outputs": [
    {
     "name": "stdout",
     "output_type": "stream",
     "text": [
      "1151\n"
     ]
    }
   ],
   "source": [
    "b=sum(c)\n",
    "print(b)"
   ]
  },
  {
   "cell_type": "code",
   "execution_count": 166,
   "metadata": {},
   "outputs": [
    {
     "data": {
      "text/plain": [
       "21"
      ]
     },
     "execution_count": 166,
     "metadata": {},
     "output_type": "execute_result"
    }
   ],
   "source": [
    "''''''''''"
   ]
  },
  {
   "cell_type": "code",
   "execution_count": null,
   "metadata": {},
   "outputs": [],
   "source": []
  }
 ],
 "metadata": {
  "kernelspec": {
   "display_name": "Python 3",
   "language": "python",
   "name": "python3"
  },
  "language_info": {
   "codemirror_mode": {
    "name": "ipython",
    "version": 3
   },
   "file_extension": ".py",
   "mimetype": "text/x-python",
   "name": "python",
   "nbconvert_exporter": "python",
   "pygments_lexer": "ipython3",
   "version": "3.7.6"
  }
 },
 "nbformat": 4,
 "nbformat_minor": 4
}
