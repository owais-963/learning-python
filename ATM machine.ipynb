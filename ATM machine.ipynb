{
 "cells": [
  {
   "cell_type": "code",
   "execution_count": 1,
   "metadata": {
    "scrolled": true
   },
   "outputs": [
    {
     "name": "stdout",
     "output_type": "stream",
     "text": [
      "Enter the ammount is multiple 0f 500: 7\n"
     ]
    }
   ],
   "source": [
    "ammount=input(\"Enter the ammount is multiple 0f 500: \")\n",
    "def atm_cal(ammount):\n",
    "    amount_1=5000\n",
    "    amount_2=1000\n",
    "    amount_3=500\n",
    "    try:\n",
    "        ammount=int(ammount)\n",
    "        return_amount=0\n",
    "        while return_ammount!=ammount:\n",
    "            return_amount=amount_1+amount_2+amount_3\n",
    "    except:\n",
    "        return print(\"please enter the valid value\")  \n",
    "    "
   ]
  },
  {
   "cell_type": "code",
   "execution_count": 2,
   "metadata": {},
   "outputs": [
    {
     "name": "stdout",
     "output_type": "stream",
     "text": [
      "Enter ammount: 6\n",
      "3000\n"
     ]
    }
   ],
   "source": [
    "ammount=input(\"Enter ammount: \")\n",
    "amount=500\n",
    "ammount=int(ammount)\n",
    "ammount=ammount*500\n",
    "return_amount=0\n",
    "while return_amount!=ammount:\n",
    "    return_amount+=amount\n",
    "print(return_amount)\n"
   ]
  },
  {
   "cell_type": "code",
   "execution_count": 3,
   "metadata": {},
   "outputs": [
    {
     "data": {
      "text/plain": [
       "3000"
      ]
     },
     "execution_count": 3,
     "metadata": {},
     "output_type": "execute_result"
    }
   ],
   "source": [
    "return_amount\n"
   ]
  },
  {
   "cell_type": "code",
   "execution_count": 4,
   "metadata": {},
   "outputs": [
    {
     "data": {
      "text/plain": [
       "22500"
      ]
     },
     "execution_count": 4,
     "metadata": {},
     "output_type": "execute_result"
    }
   ],
   "source": [
    "45*500"
   ]
  },
  {
   "cell_type": "code",
   "execution_count": 5,
   "metadata": {},
   "outputs": [],
   "source": [
    "import numpy as np"
   ]
  },
  {
   "cell_type": "code",
   "execution_count": 6,
   "metadata": {},
   "outputs": [],
   "source": [
    "amount_5000=np.array([5000])"
   ]
  },
  {
   "cell_type": "code",
   "execution_count": 7,
   "metadata": {},
   "outputs": [],
   "source": [
    "amount_5000=np.zeros(10,dtype='int16')\n",
    "amount_5000[:]=5000\n",
    "amount=8000"
   ]
  },
  {
   "cell_type": "code",
   "execution_count": 8,
   "metadata": {},
   "outputs": [
    {
     "data": {
      "text/plain": [
       "array([5000, 5000, 5000, 5000, 5000, 5000, 5000, 5000, 5000, 5000],\n",
       "      dtype=int16)"
      ]
     },
     "execution_count": 8,
     "metadata": {},
     "output_type": "execute_result"
    }
   ],
   "source": [
    "amount_5000"
   ]
  },
  {
   "cell_type": "code",
   "execution_count": 9,
   "metadata": {},
   "outputs": [],
   "source": [
    "a=[]"
   ]
  },
  {
   "cell_type": "code",
   "execution_count": 10,
   "metadata": {},
   "outputs": [],
   "source": [
    "for _ in range (0,10):\n",
    "    a.append(5000)"
   ]
  },
  {
   "cell_type": "code",
   "execution_count": 11,
   "metadata": {},
   "outputs": [
    {
     "data": {
      "text/plain": [
       "[5000, 5000, 5000, 5000, 5000, 5000, 5000, 5000, 5000, 5000]"
      ]
     },
     "execution_count": 11,
     "metadata": {},
     "output_type": "execute_result"
    }
   ],
   "source": [
    "a"
   ]
  },
  {
   "cell_type": "code",
   "execution_count": 12,
   "metadata": {},
   "outputs": [],
   "source": [
    "def prnt(amount):\n",
    "    lst1=[]\n",
    "    lst2=[]\n",
    "    lst3=[]\n",
    "    for _ in range(0,10):\n",
    "        lst3.append(5000)\n",
    "        lst2.append(1000)\n",
    "        lst1.append(500)\n",
    "    amount=int(amount)\n",
    "    amount=amount*500\n",
    "    return_amount=0\n",
    "    for i in range (0,len(lst1)):\n",
    "        while return_amount!=amount:\n",
    "            return_amount=lst1[i]+lst2[i]+lst3[i]\n",
    "    return return_amount"
   ]
  },
  {
   "cell_type": "code",
   "execution_count": 13,
   "metadata": {},
   "outputs": [
    {
     "ename": "KeyboardInterrupt",
     "evalue": "",
     "output_type": "error",
     "traceback": [
      "\u001b[1;31m---------------------------------------------------------------------------\u001b[0m",
      "\u001b[1;31mKeyboardInterrupt\u001b[0m                         Traceback (most recent call last)",
      "\u001b[1;32m<ipython-input-13-e40adf7da458>\u001b[0m in \u001b[0;36m<module>\u001b[1;34m\u001b[0m\n\u001b[1;32m----> 1\u001b[1;33m \u001b[0mprnt\u001b[0m\u001b[1;33m(\u001b[0m\u001b[1;36m5000\u001b[0m\u001b[1;33m)\u001b[0m\u001b[1;33m\u001b[0m\u001b[1;33m\u001b[0m\u001b[0m\n\u001b[0m",
      "\u001b[1;32m<ipython-input-12-24c08bff76b4>\u001b[0m in \u001b[0;36mprnt\u001b[1;34m(amount)\u001b[0m\n\u001b[0;32m     12\u001b[0m     \u001b[1;32mfor\u001b[0m \u001b[0mi\u001b[0m \u001b[1;32min\u001b[0m \u001b[0mrange\u001b[0m \u001b[1;33m(\u001b[0m\u001b[1;36m0\u001b[0m\u001b[1;33m,\u001b[0m\u001b[0mlen\u001b[0m\u001b[1;33m(\u001b[0m\u001b[0mlst1\u001b[0m\u001b[1;33m)\u001b[0m\u001b[1;33m)\u001b[0m\u001b[1;33m:\u001b[0m\u001b[1;33m\u001b[0m\u001b[1;33m\u001b[0m\u001b[0m\n\u001b[0;32m     13\u001b[0m         \u001b[1;32mwhile\u001b[0m \u001b[0mreturn_amount\u001b[0m\u001b[1;33m!=\u001b[0m\u001b[0mamount\u001b[0m\u001b[1;33m:\u001b[0m\u001b[1;33m\u001b[0m\u001b[1;33m\u001b[0m\u001b[0m\n\u001b[1;32m---> 14\u001b[1;33m             \u001b[0mreturn_amount\u001b[0m\u001b[1;33m=\u001b[0m\u001b[0mlst1\u001b[0m\u001b[1;33m[\u001b[0m\u001b[0mi\u001b[0m\u001b[1;33m]\u001b[0m\u001b[1;33m+\u001b[0m\u001b[0mlst2\u001b[0m\u001b[1;33m[\u001b[0m\u001b[0mi\u001b[0m\u001b[1;33m]\u001b[0m\u001b[1;33m+\u001b[0m\u001b[0mlst3\u001b[0m\u001b[1;33m[\u001b[0m\u001b[0mi\u001b[0m\u001b[1;33m]\u001b[0m\u001b[1;33m\u001b[0m\u001b[1;33m\u001b[0m\u001b[0m\n\u001b[0m\u001b[0;32m     15\u001b[0m     \u001b[1;32mreturn\u001b[0m \u001b[0mreturn_amount\u001b[0m\u001b[1;33m\u001b[0m\u001b[1;33m\u001b[0m\u001b[0m\n",
      "\u001b[1;31mKeyboardInterrupt\u001b[0m: "
     ]
    }
   ],
   "source": [
    "prnt(5000)"
   ]
  },
  {
   "cell_type": "code",
   "execution_count": 30,
   "metadata": {},
   "outputs": [],
   "source": [
    "import myapp"
   ]
  },
  {
   "cell_type": "code",
   "execution_count": 31,
   "metadata": {},
   "outputs": [
    {
     "name": "stdout",
     "output_type": "stream",
     "text": [
      "[{'name': 'Owais Ali Arshad', 'fname': 'Arshad ali', 'email': 'owais@.com', 'age': 18, 'adress': 'Karachi, Sindh, Pakistan', 'education': 'Intermediate', 'school': 'Islamia govt science collage'}, {'name': 'Uzair Ali Arshad', 'fname': 'Arshad ali', 'email': 'uzair.com', 'age': 17, 'adress': 'Karachi, Sindh, Pakistan', 'education': 'Matric', 'school': 'Iqra High School'}, {'name': 'Usaid Ullah Arshad', 'fname': 'Arshad ali', 'email': 'usaid.com', 'age': 12, 'adress': 'Karachi, Sindh, Pakistan', 'education': 'Primary', 'school': 'Native School'}, {'name': 'Humaid Ullah Arshad', 'fname': 'Arshad ali', 'email': 'Humaid.com', 'age': 7, 'adress': 'Karachi, Sindh, Pakistan', 'education': 'KG', 'school': 'Usman Public School'}]\n"
     ]
    }
   ],
   "source": [
    "myapp.view_app()"
   ]
  },
  {
   "cell_type": "code",
   "execution_count": 32,
   "metadata": {},
   "outputs": [
    {
     "ename": "NameError",
     "evalue": "name 'request' is not defined",
     "output_type": "error",
     "traceback": [
      "\u001b[1;31m---------------------------------------------------------------------------\u001b[0m",
      "\u001b[1;31mNameError\u001b[0m                                 Traceback (most recent call last)",
      "\u001b[1;32m<ipython-input-32-4f2230d44085>\u001b[0m in \u001b[0;36m<module>\u001b[1;34m\u001b[0m\n\u001b[1;32m----> 1\u001b[1;33m \u001b[0mmyapp\u001b[0m\u001b[1;33m.\u001b[0m\u001b[0msend_app\u001b[0m\u001b[1;33m(\u001b[0m\u001b[1;33m)\u001b[0m\u001b[1;33m\u001b[0m\u001b[1;33m\u001b[0m\u001b[0m\n\u001b[0m",
      "\u001b[1;32m~\\OneDrive\\Desktop\\Pythonfiles\\myapp.py\u001b[0m in \u001b[0;36msend_app\u001b[1;34m()\u001b[0m\n\u001b[0;32m     15\u001b[0m     \u001b[0mjson_data\u001b[0m\u001b[1;33m=\u001b[0m\u001b[0mjson\u001b[0m\u001b[1;33m.\u001b[0m\u001b[0mdumps\u001b[0m\u001b[1;33m(\u001b[0m\u001b[0mdata\u001b[0m\u001b[1;33m)\u001b[0m\u001b[1;33m\u001b[0m\u001b[1;33m\u001b[0m\u001b[0m\n\u001b[0;32m     16\u001b[0m \u001b[1;33m\u001b[0m\u001b[0m\n\u001b[1;32m---> 17\u001b[1;33m     \u001b[0mr\u001b[0m\u001b[1;33m=\u001b[0m\u001b[0mrequests\u001b[0m\u001b[1;33m.\u001b[0m\u001b[0mpost\u001b[0m\u001b[1;33m(\u001b[0m\u001b[0murl\u001b[0m\u001b[1;33m=\u001b[0m\u001b[0mURL\u001b[0m\u001b[1;33m,\u001b[0m\u001b[0mdata\u001b[0m\u001b[1;33m=\u001b[0m\u001b[0mjson_data\u001b[0m\u001b[1;33m)\u001b[0m\u001b[1;33m\u001b[0m\u001b[1;33m\u001b[0m\u001b[0m\n\u001b[0m\u001b[0;32m     18\u001b[0m \u001b[1;33m\u001b[0m\u001b[0m\n\u001b[0;32m     19\u001b[0m \u001b[1;33m\u001b[0m\u001b[0m\n",
      "\u001b[1;31mNameError\u001b[0m: name 'request' is not defined"
     ]
    }
   ],
   "source": [
    "myapp.send_app()"
   ]
  },
  {
   "cell_type": "code",
   "execution_count": 11,
   "metadata": {},
   "outputs": [
    {
     "name": "stdout",
     "output_type": "stream",
     "text": [
      "Enter your name: owais\n",
      "Hi! owais\n",
      "How was your day: bad\n",
      "All right: \n",
      "Guess my Lucky Number: \n",
      "5\n",
      "YEH! Right 5 is my lucky number\n"
     ]
    }
   ],
   "source": [
    "def main():\n",
    "    lucky_number=5\n",
    "    name=input('Enter your name: ')\n",
    "    print(f\"Hi! {name}\")\n",
    "    Q1=input('How was your day: ')\n",
    "    print(f'All right: ')\n",
    "    print(\"Guess my Lucky Number: \")\n",
    "    flag=True\n",
    "    while flag:\n",
    "        guess=input()\n",
    "        try:\n",
    "            guess=int(guess)\n",
    "            if guess==lucky_number:\n",
    "                print(f'YEH! Right {guess} is my lucky number')\n",
    "                flag=False\n",
    "            else:\n",
    "                print(f'{guess} is not my lucky no')\n",
    "                print(\"😂😂😂You stuck in my Loop😂😂😂\")\n",
    "        except:\n",
    "            print('guess must be a no')\n",
    "if __name__==\"__main__\":\n",
    "    main()"
   ]
  },
  {
   "cell_type": "code",
   "execution_count": 3,
   "metadata": {},
   "outputs": [
    {
     "data": {
      "text/plain": [
       "3"
      ]
     },
     "execution_count": 3,
     "metadata": {},
     "output_type": "execute_result"
    }
   ],
   "source": [
    "users=[1,2,3,4,[5,6,7,8]]\n",
    "users.index(4)"
   ]
  },
  {
   "cell_type": "code",
   "execution_count": 22,
   "metadata": {},
   "outputs": [
    {
     "name": "stdout",
     "output_type": "stream",
     "text": [
      "Enter the first number: 09\n",
      "chose a operator\n",
      "/, *, +, - : -\n",
      "Enter the second number: 09\n",
      "0\n",
      "do you perform another calculation\n",
      "Yes/No: yes\n",
      "Enter the first number: 9\n",
      "chose a operator\n",
      "/, *, +, - : -\n",
      "Enter the second number: 09\n",
      "0\n",
      "do you perform another calculation\n",
      "Yes/No: yes\n",
      "Enter the first number: 09\n",
      "chose a operator\n",
      "/, *, +, - : -\n",
      "Enter the second number: 09\n",
      "0\n",
      "do you perform another calculation\n",
      "Yes/No: no\n"
     ]
    }
   ],
   "source": [
    "# %load calculator.py\n",
    "import math as mt\n",
    "import numpy as np\n",
    "\n",
    "def calculator():\n",
    "    Flag=True\n",
    "    while Flag:\n",
    "        no1=input(\"Enter the first number: \")\n",
    "        print(\"chose a operator\")\n",
    "        operator=input(\"/, *, +, - : \")\n",
    "        no2=input(\"Enter the second number: \")\n",
    "        try:\n",
    "            no1=int(no1)\n",
    "            no2=int(no2)\n",
    "            if operator=='/':\n",
    "                Ans=no1/no2\n",
    "            elif operator==\"*\":\n",
    "                Ans=no1*no2\n",
    "            elif operator==\"+\":\n",
    "                Ans=no1+no2\n",
    "            elif operator==\"-\":\n",
    "                Ans=no1-no2\n",
    "            print(Ans)\n",
    "            print(\"do you perform another calculation\")\n",
    "            choice=input(\"Yes/No: \").title()\n",
    "            # print(choice)\n",
    "            if choice=='Yes':\n",
    "                Flag=True\n",
    "            elif choice=='No':\n",
    "                Flag=False\n",
    "        except Exception as e:\n",
    "            print(f\"Exception {(e)} occourd\")  \n",
    "\n",
    "\n",
    "\n",
    "\n",
    "if __name__==\"__main__\":\n",
    "    calculator()"
   ]
  },
  {
   "cell_type": "code",
   "execution_count": 21,
   "metadata": {},
   "outputs": [
    {
     "name": "stdout",
     "output_type": "stream",
     "text": [
      "Enter your name: owais ali\n",
      "Enter your password: owaisali\n",
      "welcome you can use our service\n",
      "Enter the number of which you want to divide: 545\n",
      "chose a operator\n",
      "/, *, +, - : -646\n",
      "Enter the number from which you want to divide: 43434\n",
      "Exception local variable 'Ans' referenced before assignment occourd\n",
      "Enter the number of which you want to divide: -\n",
      "chose a operator\n",
      "/, *, +, - : 565\n",
      "Enter the number from which you want to divide: 4545\n",
      "Exception invalid literal for int() with base 10: '-' occourd\n",
      "Enter the number of which you want to divide: 454\n",
      "chose a operator\n",
      "/, *, +, - : -\n",
      "Enter the number from which you want to divide: 454\n",
      "0\n",
      "do you perform another calculation\n",
      "Yes/No: NO\n"
     ]
    }
   ],
   "source": [
    "users=[\"Arshad Ali\", \"Shaheen Arshad\", \"Owais Ali\", \"Uzair Ali\", \"Usaid Ullaha\", \"Humaid Ullaha\"]\n",
    "password=[\"arshadali\",\"shaheenarshad\",\"owaisali\", \"uzairali\", \"usaidullaha\", \"humaidullaha\"]\n",
    "def take_pass():\n",
    "    global pas\n",
    "    pas=input(\"Enter your password: \").lower()\n",
    "    if pas==password[pass_at]:\n",
    "        return print(\"welcome you can use our service\") , calculator()\n",
    "    else:\n",
    "        print(\"wrong password \\n plaese try again\")\n",
    "        return take_pass()\n",
    "        \n",
    "\n",
    "athuntication=True\n",
    "while athuntication:\n",
    "    name=input(\"Enter your name: \").title()\n",
    "    if name in users:\n",
    "        pass_at=users.index(name)\n",
    "        take_pass()\n",
    "        athuntication=False\n",
    "    else:\n",
    "        print(\"invalid user\") "
   ]
  },
  {
   "cell_type": "code",
   "execution_count": 3,
   "metadata": {},
   "outputs": [
    {
     "name": "stdout",
     "output_type": "stream",
     "text": [
      "[3, 4, 34, 45, 100]\n"
     ]
    }
   ],
   "source": [
    "x = [3,4,100,34,45]\n",
    "for i in range(len(x) - 1):\n",
    "    if x[i] > x[i + 1]:\n",
    "        x[i],x[i + 1] = x[i + 1], x[i]\n",
    "print (x)"
   ]
  },
  {
   "cell_type": "code",
   "execution_count": 4,
   "metadata": {},
   "outputs": [
    {
     "name": "stdout",
     "output_type": "stream",
     "text": [
      "0\n",
      "1\n",
      "2\n",
      "3\n",
      "4\n",
      "5\n",
      "6\n",
      "7\n",
      "8\n",
      "9\n"
     ]
    }
   ],
   "source": [
    "i=0\n",
    "while i<10:\n",
    "    print(i)\n",
    "    i+=1"
   ]
  },
  {
   "cell_type": "code",
   "execution_count": null,
   "metadata": {},
   "outputs": [],
   "source": [
    "def rec(n):\n",
    "    if n"
   ]
  }
 ],
 "metadata": {
  "kernelspec": {
   "display_name": "Python 3",
   "language": "python",
   "name": "python3"
  },
  "language_info": {
   "codemirror_mode": {
    "name": "ipython",
    "version": 3
   },
   "file_extension": ".py",
   "mimetype": "text/x-python",
   "name": "python",
   "nbconvert_exporter": "python",
   "pygments_lexer": "ipython3",
   "version": "3.8.5"
  }
 },
 "nbformat": 4,
 "nbformat_minor": 4
}
