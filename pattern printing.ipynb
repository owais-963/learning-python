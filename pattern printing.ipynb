{
 "cells": [
  {
   "cell_type": "code",
   "execution_count": 7,
   "metadata": {},
   "outputs": [
    {
     "name": "stdout",
     "output_type": "stream",
     "text": [
      "0  1  2  3  4  5  6  7  8  9  "
     ]
    }
   ],
   "source": [
    "for row in range(1):\n",
    "    for col in range(10):\n",
    "        print(col,end=\"  \")"
   ]
  },
  {
   "cell_type": "code",
   "execution_count": 3,
   "metadata": {},
   "outputs": [
    {
     "name": "stdout",
     "output_type": "stream",
     "text": [
      "$  $  $  $  $  $  $  \n",
      "$  %  %  %  %  %  $  \n",
      "$  %  %  %  %  %  $  \n",
      "$  %  %  %  %  %  $  \n",
      "$  %  %  %  %  %  $  \n",
      "$  %  %  %  %  %  $  \n",
      "$  $  $  $  $  $  $  \n"
     ]
    }
   ],
   "source": [
    "for i in range(7):\n",
    "    for j in range(7):\n",
    "        if (i in range(1,6))&(j in range(1,6)):\n",
    "            print(\"%\",end=\"  \")\n",
    "        else:\n",
    "            print(\"$\",end=\"  \")\n",
    "    print()"
   ]
  },
  {
   "cell_type": "code",
   "execution_count": 5,
   "metadata": {},
   "outputs": [
    {
     "name": "stdout",
     "output_type": "stream",
     "text": [
      "Enter your Friend name or enter q to quite: owais\n",
      "['owais']\n",
      "Enter your Friend name or enter q to quite: Shayan\n",
      "['owais', 'shayan']\n",
      "Enter your Friend name or enter q to quite: Huzaifa\n",
      "['owais', 'shayan', 'huzaifa']\n",
      "Enter your Friend name or enter q to quite: Areeb\n",
      "['owais', 'shayan', 'huzaifa', 'areeb']\n",
      "Enter your Friend name or enter q to quite: Nabeel\n",
      "['owais', 'shayan', 'huzaifa', 'areeb', 'nabeel']\n",
      "Enter your Friend name or enter q to quite: Irsam\n",
      "['owais', 'shayan', 'huzaifa', 'areeb', 'nabeel', 'irsam']\n",
      "Enter your Friend name or enter q to quite: q\n",
      "Loop is close\n"
     ]
    }
   ],
   "source": [
    "frnd_list=[]\n",
    "Flag=True\n",
    "while Flag:\n",
    "    a=input(\"Enter your Friend name or enter q to quite: \").lower()\n",
    "    if(a!='q'):\n",
    "        frnd_list.append(a)\n",
    "        print(frnd_list)\n",
    "    else:\n",
    "        Flag=False\n",
    "        print(\"Loop is close\")\n",
    "        "
   ]
  },
  {
   "cell_type": "code",
   "execution_count": null,
   "metadata": {},
   "outputs": [],
   "source": []
  },
  {
   "cell_type": "code",
   "execution_count": null,
   "metadata": {},
   "outputs": [],
   "source": []
  },
  {
   "cell_type": "code",
   "execution_count": null,
   "metadata": {},
   "outputs": [],
   "source": []
  },
  {
   "cell_type": "code",
   "execution_count": null,
   "metadata": {},
   "outputs": [],
   "source": []
  },
  {
   "cell_type": "code",
   "execution_count": null,
   "metadata": {},
   "outputs": [],
   "source": []
  },
  {
   "cell_type": "code",
   "execution_count": null,
   "metadata": {},
   "outputs": [],
   "source": [
    "\n"
   ]
  }
 ],
 "metadata": {
  "kernelspec": {
   "display_name": "Python 3",
   "language": "python",
   "name": "python3"
  },
  "language_info": {
   "codemirror_mode": {
    "name": "ipython",
    "version": 3
   },
   "file_extension": ".py",
   "mimetype": "text/x-python",
   "name": "python",
   "nbconvert_exporter": "python",
   "pygments_lexer": "ipython3",
   "version": "3.8.5"
  }
 },
 "nbformat": 4,
 "nbformat_minor": 4
}
