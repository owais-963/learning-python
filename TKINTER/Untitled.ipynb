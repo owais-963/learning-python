{
 "cells": [
  {
   "cell_type": "code",
   "execution_count": 1,
   "metadata": {},
   "outputs": [],
   "source": [
    "import tkinter as tk"
   ]
  },
  {
   "cell_type": "code",
   "execution_count": 2,
   "metadata": {},
   "outputs": [],
   "source": [
    "from PIL import ImageTk , Image"
   ]
  },
  {
   "cell_type": "code",
   "execution_count": 21,
   "metadata": {},
   "outputs": [],
   "source": [
    "#a=input(\"enter the file name: \")\n",
    "root=tk.Tk()\n",
    "root.title(\"Image loader\")\n",
    "#WidthxHieght\n",
    "root.geometry('500x300')\n",
    "\n",
    "#width,height\n",
    "root.minsize(300,180)\n",
    "#ot.maxsize(800,600)\n",
    "\n",
    "#labels\n",
    "\n",
    "label=tk.Label(text=\"\"\"ttributes: A set of properties of a widget that defines  \n",
    "               \\n  visual appearance on the computer screen and how it responds  \n",
    "               \\n user events. Here we’ll discuss about the attributes of Label  \n",
    "               \\n  PackAttributes of Label: The Label widget is a standard Tkinter  \n",
    "               \\n get used to display a text or image on the screen.  There are a lot  \n",
    "               \\n attributes of Label widget. Some important attributes are discussed  \n",
    "               \\n ow:bg: The normal background color displayed behind the label and indicator.\"\"\"\n",
    "               ,bg='black',fg='white',padx=10,pady=12,font=('bold',19),\n",
    "              border =3,relief='sunken')\n",
    "\n",
    "#SOME IMPORTANT PACK OPTION\n",
    "\n",
    "# 1)anchor[e,w,n,s]\n",
    "#   .ne\n",
    "#   .nw  \n",
    "# 2)side\n",
    "#   .top\n",
    "#   .bottom\n",
    "#     -se,sw\n",
    "#   .left\n",
    "#   .Right\n",
    "# 3)fill\n",
    "#   .Y\n",
    "#   .X\n",
    "# 4)PAD\n",
    "#   .padx\n",
    "#   .pady\n",
    "#label.pack(anchor='ne')\n",
    "label.pack(side='left',fill='y',padx=34,pady=34)\n",
    "\n",
    "#only for JPEG image\n",
    "\"\"\"pic=Image.open(a)\n",
    "photo=ImageTk.PhotoImage(pic)\n",
    "label=tk.Label(image=photo)\n",
    "label.pack()\n",
    "\"\"\"\n",
    "#FOR OTHER TYPE OF IMAGE\n",
    "'''\n",
    "pic=tk.PhotoImage(file=\"filname\")\n",
    "label=tk.Label(image=pic)\n",
    "\n",
    "'''\n",
    "root.mainloop()"
   ]
  },
  {
   "cell_type": "code",
   "execution_count": 4,
   "metadata": {},
   "outputs": [
    {
     "name": "stdout",
     "output_type": "stream",
     "text": [
      "\n"
     ]
    }
   ],
   "source": [
    "\"\"\"Attributes Of Label & Pack | Python Tkinter GUI Tutorial In Hindi #6\n",
    " \n",
    "Attributes: A set of properties of a widget that defines its visual appearance on the computer screen and how it responds to user events. Here we’ll discuss about the attributes of Label and Pack.\n",
    "Attributes of Label: The Label widget is a standard Tkinter widget used to display a text or image on the screen.  There are a lot of attributes of Label widget. Some important attributes are discussed below:\n",
    "bg: The normal background color displayed behind the label and indicator.\n",
    "fg: This option specifies the color of the text (foreground color). If you are displaying a bitmap, this is the color that will appear at the position of the 1-bits in the bitmap.\n",
    "padx: Extra space added to the left and right of the text within the widget. Default is 1.\n",
    "pady: Extra space added above and below the text within the widget. Default is 1.\n",
    "relief: Specifies the appearance of a decorative border around the label. There are five types of reliefs, such that FLAT, RAISED, SUNKEN, GROOVE, RIDGE. The default is FLAT.\n",
    "font: If you are displaying text in this label (with the text or textvariable option), the font option specifies the style, size and other characteristics (i.e. bold, italic etc.) of the font and in this style the text will be displayed.\n",
    "text: To display one or more lines of text in a label widget, set this option to a string containing the text. Internal newlines (“\\n”) will force a line break.\n",
    "justify: Specifies how multiple lines of text will be aligned with respect to each other: LEFT for flush left, CENTER for centered (the default), or RIGHT for right-justified.\n",
    "height: The vertical dimension of the new frame.\n",
    "width: The horizontal dimension of the new frame. If this option is not set, the label will be sized to fit its contents.\n",
    "Attributes of Pack: The Pack geometry manager packs widgets in rows or columns. We can use options like fill, expand, and side to control this geometry manager.\n",
    "fill: Determines whether widget fills any extra space allocated to it by the packer, or keeps its own minimal dimensions: NONE (default), X (fill only horizontally), Y (fill only vertically), or BOTH (fill both horizontally and vertically).\n",
    "side: Determines which side of the parent widget packs against: TOP, BOTTOM, LEFT, or RIGHT. The default is TOP.\n",
    "anchor: Anchors are used to define where text is positioned relative to a reference point. The anchor attributes are: n, s, e, w, center, nw, sw, ne and se. The default is center.\n",
    "\"\"\"\n",
    "print()"
   ]
  },
  {
   "cell_type": "code",
   "execution_count": 41,
   "metadata": {},
   "outputs": [],
   "source": [
    "Root=tk.Tcl(useTk=1)\n",
    "label1=tk.Label(background='Black',fg='Green',text=\"@copyright reserve to owaisansari.com\",\n",
    "               font=('Arial',10),padx=10,pady=12,border=5,relief='sunken')\n",
    "label2=tk.Label(background='yellow',fg='black',text=\"start work \\n with python GUI \\n I Love to \\\n",
    "               \\n to work with GUI\"\n",
    "                ,font=('bold',20),padx=5)\n",
    "button=tk.Button(background='blue',fg='black')\n",
    "label3=tk.Label(button,background='blue',fg='white',)\n",
    "label1.pack(side='bottom',fill='x')\n",
    "label2.pack(side='left',fill='y',anchor='nw')\n",
    "label3.pack(side='right',fill='y')\n",
    "\n",
    "Root.mainloop()"
   ]
  },
  {
   "cell_type": "code",
   "execution_count": 6,
   "metadata": {},
   "outputs": [],
   "source": [
    "root=tk.Tk()\n",
    "root.geometry('600x450')\n",
    "f=tk.Frame(root,bg='green',borderwidth=6,relief='sunken')\n",
    "f.pack(side='left',fill='y')\n",
    "label=tk.Label(f,text='MY NAME IS OWAIS')\n",
    "label.pack(pady=130,anchor='nw')\n",
    "root.mainloop()"
   ]
  },
  {
   "cell_type": "code",
   "execution_count": 9,
   "metadata": {},
   "outputs": [
    {
     "name": "stdout",
     "output_type": "stream",
     "text": [
      "enter the file name: EDIT.jpg\n"
     ]
    }
   ],
   "source": [
    "import tkinter as tk\n",
    "from PIL import ImageTk , Image\n",
    "\n",
    "root=tk.Tk()\n",
    "root.title(\"Image loader\")\n",
    "#WidthxHieght\n",
    "root.geometry('500x300')\n",
    "\n",
    "#width,height\n",
    "root.minsize(300,180)\n",
    "root.maxsize(1280,1024)\n",
    "\n",
    "#labels\n",
    "#only for JPEG image\n",
    "a=input(\"enter the file name: \")\n",
    "pic=Image.open(a)\n",
    "photo=ImageTk.PhotoImage(pic)\n",
    "label=tk.Label(image=photo)\n",
    "label.pack()\n",
    "\n",
    "#FOR OTHER TYPE OF IMAGE\n",
    "'''\n",
    "pic=tk.PhotoImage(file=\"filname\")\n",
    "label=tk.Label(image=pic)\n",
    "\n",
    "'''\n",
    "root.mainloop()"
   ]
  },
  {
   "cell_type": "code",
   "execution_count": null,
   "metadata": {},
   "outputs": [],
   "source": []
  },
  {
   "cell_type": "code",
   "execution_count": null,
   "metadata": {},
   "outputs": [],
   "source": []
  },
  {
   "cell_type": "code",
   "execution_count": null,
   "metadata": {},
   "outputs": [],
   "source": []
  },
  {
   "cell_type": "code",
   "execution_count": 18,
   "metadata": {},
   "outputs": [
    {
     "name": "stdout",
     "output_type": "stream",
     "text": [
      "\n",
      "\n"
     ]
    }
   ],
   "source": [
    "print('\\n')"
   ]
  },
  {
   "cell_type": "code",
   "execution_count": 19,
   "metadata": {},
   "outputs": [],
   "source": [
    "import pyttsx3"
   ]
  },
  {
   "cell_type": "code",
   "execution_count": 20,
   "metadata": {},
   "outputs": [],
   "source": [
    "speak=pyttsx3.init()\n",
    "speak.setProperty('rate',127)\n",
    "voices=speak.getProperty('voices')\n",
    "speak.setProperty('voice',voices[1].id)\n",
    "speak.setProperty('age','')\n",
    "speak.say('welcome my master')\n",
    "speak.runAndWait()"
   ]
  },
  {
   "cell_type": "code",
   "execution_count": 21,
   "metadata": {},
   "outputs": [
    {
     "name": "stdout",
     "output_type": "stream",
     "text": [
      "127\n",
      "0.7\n"
     ]
    }
   ],
   "source": [
    "engine = pyttsx3.init() # object creation\n",
    "\n",
    "\"\"\" RATE\"\"\"\n",
    "rate = engine.getProperty('rate')   # getting details of current speaking rate\n",
    "print (rate)                        #printing current voice rate\n",
    "engine.setProperty('rate', 123)#setting up new voice rate\n",
    "\n",
    "\n",
    "\"\"\"VOLUME\"\"\"\n",
    "                   \n",
    "volume = engine.getProperty('volume')   #getting to know current volume level (min=0 and max=1)\n",
    "print (volume)                          #printing current volume level\n",
    "engine.setProperty('volume',0.7)    # setting up volume level  between 0 and 1\n",
    "\n",
    "\"\"\"VOICE\"\"\"\n",
    "voices = engine.getProperty('voices')       #getting details of current voice\n",
    "#ngine.setProperty('voice', voices[0].id)  #changing index, changes voices. o for male\n",
    "engine.setProperty('voice', voices[1].id)   #changing index, changes voices. 1 for female\n",
    "\n",
    "engine.say(\"Hello World!\")\n",
    "engine.say('My current speaking rate is ' + str(rate))\n",
    "engine.runAndWait()\n",
    "engine.stop()\n",
    "\n",
    "\"\"\"Saving Voice to a file\"\"\"\n",
    "# On linux make sure that 'espeak' and 'ffmpeg' are installed\n",
    "engine.save_to_file('Hello World', 'test.mp3')\n",
    "\n",
    "\n",
    "engine.runAndWait()"
   ]
  },
  {
   "cell_type": "code",
   "execution_count": 22,
   "metadata": {},
   "outputs": [],
   "source": [
    "engine = pyttsx3.init()\n",
    "voices = engine.getProperty('voices')\n",
    "for voice in voices:\n",
    "    engine.setProperty('voice', voice.id)\n",
    "    engine.say('The quick brown fox jumped over the lazy dog.')\n",
    "engine.runAndWait()"
   ]
  },
  {
   "cell_type": "code",
   "execution_count": 23,
   "metadata": {},
   "outputs": [
    {
     "name": "stdout",
     "output_type": "stream",
     "text": [
      "Voice:\n",
      " - ID: HKEY_LOCAL_MACHINE\\SOFTWARE\\Microsoft\\Speech\\Voices\\Tokens\\TTS_MS_EN-US_DAVID_11.0\n",
      " - Name: Microsoft David Desktop - English (United States)\n",
      " - Languages: []\n",
      " - Gender: None\n",
      " - Age: None\n",
      "Voice:\n",
      " - ID: HKEY_LOCAL_MACHINE\\SOFTWARE\\Microsoft\\Speech\\Voices\\Tokens\\TTS_MS_EN-US_ZIRA_11.0\n",
      " - Name: Microsoft Zira Desktop - English (United States)\n",
      " - Languages: []\n",
      " - Gender: None\n",
      " - Age: None\n"
     ]
    }
   ],
   "source": [
    "import pyttsx3\n",
    "engine = pyttsx3.init()\n",
    "voices = engine.getProperty('voices')\n",
    "for voice in voices:\n",
    "    print(\"Voice:\")\n",
    "    print(\" - ID: %s\" % voice.id)\n",
    "    print(\" - Name: %s\" % voice.name)\n",
    "    print(\" - Languages: %s\" % voice.languages)\n",
    "    print(\" - Gender: %s\" % voice.gender)\n",
    "    print(\" - Age: %s\" % voice.age)"
   ]
  },
  {
   "cell_type": "code",
   "execution_count": null,
   "metadata": {},
   "outputs": [],
   "source": []
  }
 ],
 "metadata": {
  "kernelspec": {
   "display_name": "Python 3",
   "language": "python",
   "name": "python3"
  },
  "language_info": {
   "codemirror_mode": {
    "name": "ipython",
    "version": 3
   },
   "file_extension": ".py",
   "mimetype": "text/x-python",
   "name": "python",
   "nbconvert_exporter": "python",
   "pygments_lexer": "ipython3",
   "version": "3.8.5"
  }
 },
 "nbformat": 4,
 "nbformat_minor": 4
}
