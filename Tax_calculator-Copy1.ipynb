{
 "cells": [
  {
   "cell_type": "code",
   "execution_count": 2,
   "metadata": {},
   "outputs": [],
   "source": [
    "import pandas as pd\n",
    "import numpy as np\n",
    "import math as mt"
   ]
  },
  {
   "cell_type": "code",
   "execution_count": 37,
   "metadata": {},
   "outputs": [
    {
     "data": {
      "text/html": [
       "<div>\n",
       "<style scoped>\n",
       "    .dataframe tbody tr th:only-of-type {\n",
       "        vertical-align: middle;\n",
       "    }\n",
       "\n",
       "    .dataframe tbody tr th {\n",
       "        vertical-align: top;\n",
       "    }\n",
       "\n",
       "    .dataframe thead th {\n",
       "        text-align: right;\n",
       "    }\n",
       "</style>\n",
       "<table border=\"1\" class=\"dataframe\">\n",
       "  <thead>\n",
       "    <tr style=\"text-align: right;\">\n",
       "      <th></th>\n",
       "      <th>0</th>\n",
       "      <th>1</th>\n",
       "      <th>2</th>\n",
       "      <th>3</th>\n",
       "    </tr>\n",
       "  </thead>\n",
       "  <tbody>\n",
       "    <tr>\n",
       "      <th>0</th>\n",
       "      <td>Taxable income (PKR*)</td>\n",
       "      <td>Taxable income (PKR*)</td>\n",
       "      <td>Tax on column 1 (PKR)</td>\n",
       "      <td>Percentage on excess (%)</td>\n",
       "    </tr>\n",
       "    <tr>\n",
       "      <th>1</th>\n",
       "      <td>Over</td>\n",
       "      <td>Not Over</td>\n",
       "      <td>NaN</td>\n",
       "      <td>NaN</td>\n",
       "    </tr>\n",
       "    <tr>\n",
       "      <th>2</th>\n",
       "      <td>0</td>\n",
       "      <td>600000.</td>\n",
       "      <td>NaN</td>\n",
       "      <td>0%</td>\n",
       "    </tr>\n",
       "    <tr>\n",
       "      <th>3</th>\n",
       "      <td>600000</td>\n",
       "      <td>1200000.</td>\n",
       "      <td>NaN</td>\n",
       "      <td>5%</td>\n",
       "    </tr>\n",
       "    <tr>\n",
       "      <th>4</th>\n",
       "      <td>1200000</td>\n",
       "      <td>1800000.</td>\n",
       "      <td>30000</td>\n",
       "      <td>10%</td>\n",
       "    </tr>\n",
       "    <tr>\n",
       "      <th>5</th>\n",
       "      <td>1800000</td>\n",
       "      <td>2500000.</td>\n",
       "      <td>90000</td>\n",
       "      <td>15%</td>\n",
       "    </tr>\n",
       "    <tr>\n",
       "      <th>6</th>\n",
       "      <td>2500000</td>\n",
       "      <td>3500000.</td>\n",
       "      <td>195000</td>\n",
       "      <td>17.5%</td>\n",
       "    </tr>\n",
       "    <tr>\n",
       "      <th>7</th>\n",
       "      <td>3500000</td>\n",
       "      <td>5000000.</td>\n",
       "      <td>370000</td>\n",
       "      <td>20%</td>\n",
       "    </tr>\n",
       "    <tr>\n",
       "      <th>8</th>\n",
       "      <td>5000000</td>\n",
       "      <td>8000000.</td>\n",
       "      <td>670000</td>\n",
       "      <td>22.5%</td>\n",
       "    </tr>\n",
       "    <tr>\n",
       "      <th>9</th>\n",
       "      <td>8000000</td>\n",
       "      <td>12000000.</td>\n",
       "      <td>1345000</td>\n",
       "      <td>25%</td>\n",
       "    </tr>\n",
       "    <tr>\n",
       "      <th>10</th>\n",
       "      <td>12000000</td>\n",
       "      <td>30000000.</td>\n",
       "      <td>2345000</td>\n",
       "      <td>27.5%</td>\n",
       "    </tr>\n",
       "    <tr>\n",
       "      <th>11</th>\n",
       "      <td>30000000</td>\n",
       "      <td>50000000.</td>\n",
       "      <td>7295000</td>\n",
       "      <td>30%</td>\n",
       "    </tr>\n",
       "    <tr>\n",
       "      <th>12</th>\n",
       "      <td>50000000</td>\n",
       "      <td>75000000.</td>\n",
       "      <td>13295000</td>\n",
       "      <td>32.5%</td>\n",
       "    </tr>\n",
       "    <tr>\n",
       "      <th>13</th>\n",
       "      <td>75000000</td>\n",
       "      <td>NaN</td>\n",
       "      <td>21420000</td>\n",
       "      <td>35%</td>\n",
       "    </tr>\n",
       "  </tbody>\n",
       "</table>\n",
       "</div>"
      ],
      "text/plain": [
       "                        0                      1                      2  \\\n",
       "0   Taxable income (PKR*)  Taxable income (PKR*)  Tax on column 1 (PKR)   \n",
       "1                    Over               Not Over                    NaN   \n",
       "2                       0                600000.                    NaN   \n",
       "3                  600000               1200000.                    NaN   \n",
       "4                 1200000               1800000.                  30000   \n",
       "5                 1800000               2500000.                  90000   \n",
       "6                 2500000               3500000.                 195000   \n",
       "7                 3500000               5000000.                 370000   \n",
       "8                 5000000               8000000.                 670000   \n",
       "9                 8000000              12000000.                1345000   \n",
       "10               12000000              30000000.                2345000   \n",
       "11               30000000              50000000.                7295000   \n",
       "12               50000000              75000000.               13295000   \n",
       "13               75000000                    NaN               21420000   \n",
       "\n",
       "                           3  \n",
       "0   Percentage on excess (%)  \n",
       "1                        NaN  \n",
       "2                         0%  \n",
       "3                         5%  \n",
       "4                        10%  \n",
       "5                        15%  \n",
       "6                      17.5%  \n",
       "7                        20%  \n",
       "8                      22.5%  \n",
       "9                        25%  \n",
       "10                     27.5%  \n",
       "11                       30%  \n",
       "12                     32.5%  \n",
       "13                       35%  "
      ]
     },
     "execution_count": 37,
     "metadata": {},
     "output_type": "execute_result"
    }
   ],
   "source": [
    "tax_slabes=pd.read_html(\"https://taxsummaries.pwc.com/pakistan/individual/taxes-on-personal-income\")[1]\n",
    "#tax_slabes=tax_slabes\n",
    "tax_slabes"
   ]
  },
  {
   "cell_type": "code",
   "execution_count": 4,
   "metadata": {},
   "outputs": [],
   "source": [
    "c1=np.array(list(tax_slabes[0][2:14]))\n",
    "c2=np.array(list(tax_slabes[1][2:14]))\n",
    "c3=np.array(list(tax_slabes[2][2:14]))\n",
    "c4=np.array(list(tax_slabes[3][2:14]))\n",
    "c1=c1.astype('float64')\n",
    "c2=np.where(c2=='nan',mt.inf,c2).astype('float64')\n",
    "c3=np.where(c3=='nan',0,c3).astype('float64')\n",
    "c4=np.where(c4=='nan','0%',c4).astype('str')"
   ]
  },
  {
   "cell_type": "code",
   "execution_count": 25,
   "metadata": {},
   "outputs": [],
   "source": [
    "data={'Income_Over':c1,'Income_Not_Over':c2,'Tax_on_first_column_PKR':c3,'Percentage_on_excess':c4}"
   ]
  },
  {
   "cell_type": "code",
   "execution_count": 26,
   "metadata": {},
   "outputs": [
    {
     "data": {
      "text/html": [
       "<div>\n",
       "<style scoped>\n",
       "    .dataframe tbody tr th:only-of-type {\n",
       "        vertical-align: middle;\n",
       "    }\n",
       "\n",
       "    .dataframe tbody tr th {\n",
       "        vertical-align: top;\n",
       "    }\n",
       "\n",
       "    .dataframe thead th {\n",
       "        text-align: right;\n",
       "    }\n",
       "</style>\n",
       "<table border=\"1\" class=\"dataframe\">\n",
       "  <thead>\n",
       "    <tr style=\"text-align: right;\">\n",
       "      <th></th>\n",
       "      <th>Income_Over</th>\n",
       "      <th>Income_Not_Over</th>\n",
       "      <th>Tax_on_first_column_PKR</th>\n",
       "      <th>Percentage_on_excess</th>\n",
       "    </tr>\n",
       "  </thead>\n",
       "  <tbody>\n",
       "    <tr>\n",
       "      <th>0</th>\n",
       "      <td>0.0</td>\n",
       "      <td>600000.0</td>\n",
       "      <td>0.0</td>\n",
       "      <td>0%</td>\n",
       "    </tr>\n",
       "    <tr>\n",
       "      <th>1</th>\n",
       "      <td>600000.0</td>\n",
       "      <td>1200000.0</td>\n",
       "      <td>0.0</td>\n",
       "      <td>5%</td>\n",
       "    </tr>\n",
       "    <tr>\n",
       "      <th>2</th>\n",
       "      <td>1200000.0</td>\n",
       "      <td>1800000.0</td>\n",
       "      <td>30000.0</td>\n",
       "      <td>10%</td>\n",
       "    </tr>\n",
       "    <tr>\n",
       "      <th>3</th>\n",
       "      <td>1800000.0</td>\n",
       "      <td>2500000.0</td>\n",
       "      <td>90000.0</td>\n",
       "      <td>15%</td>\n",
       "    </tr>\n",
       "    <tr>\n",
       "      <th>4</th>\n",
       "      <td>2500000.0</td>\n",
       "      <td>3500000.0</td>\n",
       "      <td>195000.0</td>\n",
       "      <td>17.5%</td>\n",
       "    </tr>\n",
       "    <tr>\n",
       "      <th>5</th>\n",
       "      <td>3500000.0</td>\n",
       "      <td>5000000.0</td>\n",
       "      <td>370000.0</td>\n",
       "      <td>20%</td>\n",
       "    </tr>\n",
       "    <tr>\n",
       "      <th>6</th>\n",
       "      <td>5000000.0</td>\n",
       "      <td>8000000.0</td>\n",
       "      <td>670000.0</td>\n",
       "      <td>22.5%</td>\n",
       "    </tr>\n",
       "    <tr>\n",
       "      <th>7</th>\n",
       "      <td>8000000.0</td>\n",
       "      <td>12000000.0</td>\n",
       "      <td>1345000.0</td>\n",
       "      <td>25%</td>\n",
       "    </tr>\n",
       "    <tr>\n",
       "      <th>8</th>\n",
       "      <td>12000000.0</td>\n",
       "      <td>30000000.0</td>\n",
       "      <td>2345000.0</td>\n",
       "      <td>27.5%</td>\n",
       "    </tr>\n",
       "    <tr>\n",
       "      <th>9</th>\n",
       "      <td>30000000.0</td>\n",
       "      <td>50000000.0</td>\n",
       "      <td>7295000.0</td>\n",
       "      <td>30%</td>\n",
       "    </tr>\n",
       "    <tr>\n",
       "      <th>10</th>\n",
       "      <td>50000000.0</td>\n",
       "      <td>75000000.0</td>\n",
       "      <td>13295000.0</td>\n",
       "      <td>32.5%</td>\n",
       "    </tr>\n",
       "    <tr>\n",
       "      <th>11</th>\n",
       "      <td>75000000.0</td>\n",
       "      <td>inf</td>\n",
       "      <td>21420000.0</td>\n",
       "      <td>35%</td>\n",
       "    </tr>\n",
       "  </tbody>\n",
       "</table>\n",
       "</div>"
      ],
      "text/plain": [
       "    Income_Over  Income_Not_Over  Tax_on_first_column_PKR Percentage_on_excess\n",
       "0           0.0         600000.0                      0.0                   0%\n",
       "1      600000.0        1200000.0                      0.0                   5%\n",
       "2     1200000.0        1800000.0                  30000.0                  10%\n",
       "3     1800000.0        2500000.0                  90000.0                  15%\n",
       "4     2500000.0        3500000.0                 195000.0                17.5%\n",
       "5     3500000.0        5000000.0                 370000.0                  20%\n",
       "6     5000000.0        8000000.0                 670000.0                22.5%\n",
       "7     8000000.0       12000000.0                1345000.0                  25%\n",
       "8    12000000.0       30000000.0                2345000.0                27.5%\n",
       "9    30000000.0       50000000.0                7295000.0                  30%\n",
       "10   50000000.0       75000000.0               13295000.0                32.5%\n",
       "11   75000000.0              inf               21420000.0                  35%"
      ]
     },
     "execution_count": 26,
     "metadata": {},
     "output_type": "execute_result"
    }
   ],
   "source": [
    "df=pd.DataFrame(data)\n",
    "tax_slabes=df\n",
    "tax_slabes"
   ]
  },
  {
   "cell_type": "markdown",
   "metadata": {},
   "source": [
    "# Test code"
   ]
  },
  {
   "cell_type": "code",
   "execution_count": 193,
   "metadata": {},
   "outputs": [
    {
     "name": "stdout",
     "output_type": "stream",
     "text": [
      "Enter your income: 3500000\n",
      "370000.0\n"
     ]
    }
   ],
   "source": [
    "a=int(input(\"Enter your income: \"))\n",
    "if(a>=0 and a<=600000):\n",
    "    tax=0\n",
    "elif(a>=600000 and a<1200000):\n",
    "    a=a-600000\n",
    "    tax=a/100*5\n",
    "elif(a>=1200000 and a<1800000):\n",
    "    a=a-1200000\n",
    "    tax=a/100*10+30000\n",
    "elif(a>=1800000 and a<2500000):\n",
    "    a=a-1800000\n",
    "    tax=a/100*15+90000\n",
    "else:\n",
    "    a=a-2500000\n",
    "    tax=a/100*17.5+195000\n",
    "print(tax)"
   ]
  },
  {
   "cell_type": "code",
   "execution_count": 36,
   "metadata": {},
   "outputs": [
    {
     "name": "stdout",
     "output_type": "stream",
     "text": [
      "Enter your income: 66565645\n",
      "18678834.625\n"
     ]
    },
    {
     "data": {
      "text/html": [
       "<div>\n",
       "<style scoped>\n",
       "    .dataframe tbody tr th:only-of-type {\n",
       "        vertical-align: middle;\n",
       "    }\n",
       "\n",
       "    .dataframe tbody tr th {\n",
       "        vertical-align: top;\n",
       "    }\n",
       "\n",
       "    .dataframe thead th {\n",
       "        text-align: right;\n",
       "    }\n",
       "</style>\n",
       "<table border=\"1\" class=\"dataframe\">\n",
       "  <thead>\n",
       "    <tr style=\"text-align: right;\">\n",
       "      <th></th>\n",
       "      <th>Income_Over</th>\n",
       "      <th>Income_Not_Over</th>\n",
       "      <th>Tax_on_first_column_PKR</th>\n",
       "      <th>Percentage_on_excess</th>\n",
       "    </tr>\n",
       "  </thead>\n",
       "  <tbody>\n",
       "    <tr>\n",
       "      <th>10</th>\n",
       "      <td>50000000.0</td>\n",
       "      <td>75000000.0</td>\n",
       "      <td>13295000.0</td>\n",
       "      <td>32.5%</td>\n",
       "    </tr>\n",
       "  </tbody>\n",
       "</table>\n",
       "</div>"
      ],
      "text/plain": [
       "    Income_Over  Income_Not_Over  Tax_on_first_column_PKR Percentage_on_excess\n",
       "10   50000000.0       75000000.0               13295000.0                32.5%"
      ]
     },
     "metadata": {},
     "output_type": "display_data"
    },
    {
     "data": {
      "text/html": [
       "<div>\n",
       "<style scoped>\n",
       "    .dataframe tbody tr th:only-of-type {\n",
       "        vertical-align: middle;\n",
       "    }\n",
       "\n",
       "    .dataframe tbody tr th {\n",
       "        vertical-align: top;\n",
       "    }\n",
       "\n",
       "    .dataframe thead th {\n",
       "        text-align: right;\n",
       "    }\n",
       "</style>\n",
       "<table border=\"1\" class=\"dataframe\">\n",
       "  <thead>\n",
       "    <tr style=\"text-align: right;\">\n",
       "      <th></th>\n",
       "      <th>Income_Over</th>\n",
       "      <th>Income_Not_Over</th>\n",
       "      <th>Tax_on_first_column_PKR</th>\n",
       "      <th>Percentage_on_excess</th>\n",
       "    </tr>\n",
       "  </thead>\n",
       "  <tbody>\n",
       "    <tr>\n",
       "      <th>0</th>\n",
       "      <td>0.0</td>\n",
       "      <td>600000.0</td>\n",
       "      <td>0.0</td>\n",
       "      <td>0%</td>\n",
       "    </tr>\n",
       "    <tr>\n",
       "      <th>1</th>\n",
       "      <td>600000.0</td>\n",
       "      <td>1200000.0</td>\n",
       "      <td>0.0</td>\n",
       "      <td>5%</td>\n",
       "    </tr>\n",
       "    <tr>\n",
       "      <th>2</th>\n",
       "      <td>1200000.0</td>\n",
       "      <td>1800000.0</td>\n",
       "      <td>30000.0</td>\n",
       "      <td>10%</td>\n",
       "    </tr>\n",
       "    <tr>\n",
       "      <th>3</th>\n",
       "      <td>1800000.0</td>\n",
       "      <td>2500000.0</td>\n",
       "      <td>90000.0</td>\n",
       "      <td>15%</td>\n",
       "    </tr>\n",
       "    <tr>\n",
       "      <th>4</th>\n",
       "      <td>2500000.0</td>\n",
       "      <td>3500000.0</td>\n",
       "      <td>195000.0</td>\n",
       "      <td>17.5%</td>\n",
       "    </tr>\n",
       "    <tr>\n",
       "      <th>5</th>\n",
       "      <td>3500000.0</td>\n",
       "      <td>5000000.0</td>\n",
       "      <td>370000.0</td>\n",
       "      <td>20%</td>\n",
       "    </tr>\n",
       "    <tr>\n",
       "      <th>6</th>\n",
       "      <td>5000000.0</td>\n",
       "      <td>8000000.0</td>\n",
       "      <td>670000.0</td>\n",
       "      <td>22.5%</td>\n",
       "    </tr>\n",
       "    <tr>\n",
       "      <th>7</th>\n",
       "      <td>8000000.0</td>\n",
       "      <td>12000000.0</td>\n",
       "      <td>1345000.0</td>\n",
       "      <td>25%</td>\n",
       "    </tr>\n",
       "    <tr>\n",
       "      <th>8</th>\n",
       "      <td>12000000.0</td>\n",
       "      <td>30000000.0</td>\n",
       "      <td>2345000.0</td>\n",
       "      <td>27.5%</td>\n",
       "    </tr>\n",
       "    <tr>\n",
       "      <th>9</th>\n",
       "      <td>30000000.0</td>\n",
       "      <td>50000000.0</td>\n",
       "      <td>7295000.0</td>\n",
       "      <td>30%</td>\n",
       "    </tr>\n",
       "    <tr>\n",
       "      <th>10</th>\n",
       "      <td>50000000.0</td>\n",
       "      <td>75000000.0</td>\n",
       "      <td>13295000.0</td>\n",
       "      <td>32.5%</td>\n",
       "    </tr>\n",
       "    <tr>\n",
       "      <th>11</th>\n",
       "      <td>75000000.0</td>\n",
       "      <td>inf</td>\n",
       "      <td>21420000.0</td>\n",
       "      <td>35%</td>\n",
       "    </tr>\n",
       "  </tbody>\n",
       "</table>\n",
       "</div>"
      ],
      "text/plain": [
       "    Income_Over  Income_Not_Over  Tax_on_first_column_PKR Percentage_on_excess\n",
       "0           0.0         600000.0                      0.0                   0%\n",
       "1      600000.0        1200000.0                      0.0                   5%\n",
       "2     1200000.0        1800000.0                  30000.0                  10%\n",
       "3     1800000.0        2500000.0                  90000.0                  15%\n",
       "4     2500000.0        3500000.0                 195000.0                17.5%\n",
       "5     3500000.0        5000000.0                 370000.0                  20%\n",
       "6     5000000.0        8000000.0                 670000.0                22.5%\n",
       "7     8000000.0       12000000.0                1345000.0                  25%\n",
       "8    12000000.0       30000000.0                2345000.0                27.5%\n",
       "9    30000000.0       50000000.0                7295000.0                  30%\n",
       "10   50000000.0       75000000.0               13295000.0                32.5%\n",
       "11   75000000.0              inf               21420000.0                  35%"
      ]
     },
     "metadata": {},
     "output_type": "display_data"
    }
   ],
   "source": [
    "income=input(\"Enter your income: \")\n",
    "try:\n",
    "    income=int(income)\n",
    "    if income>=0:\n",
    "        ind1=np.where(income>=tax_slabes.Income_Over)\n",
    "        ind2=np.where(income<tax_slabes.Income_Not_Over)\n",
    "        ind=np.intersect1d(ind1,ind2)\n",
    "        if(len(ind)==1):\n",
    "            ind=ind[0]\n",
    "            tax_label=tax_slabes.filter(items=[ind],axis=0)\n",
    "            per_exced=tax_label.Percentage_on_excess[ind]\n",
    "            per_exced=float(per_exced[0:len(per_exced)-1])\n",
    "            tax_of_column_one=tax_label.Tax_on_first_column_PKR[ind]\n",
    "            if ind!=0:\n",
    "                income=income-tax_label.Income_Over[ind]\n",
    "            tax_apply=income/100*per_exced+tax_of_column_one\n",
    "            print(tax_apply)\n",
    "            display(tax_label)\n",
    "        elif (len(ind)<1):\n",
    "            print(\"length of index is less than 1\")\n",
    "        else:\n",
    "            print('length of index is excede from 1')\n",
    "    else:\n",
    "        print(\"Income is must be greater than 0\")\n",
    "except:\n",
    "    print(\"error\")\n",
    "    pass\n",
    "finally:\n",
    "    display(tax_slabes)\n"
   ]
  },
  {
   "cell_type": "code",
   "execution_count": 20,
   "metadata": {},
   "outputs": [
    {
     "name": "stdout",
     "output_type": "stream",
     "text": [
      "4342\n"
     ]
    },
    {
     "data": {
      "text/html": [
       "<div>\n",
       "<style scoped>\n",
       "    .dataframe tbody tr th:only-of-type {\n",
       "        vertical-align: middle;\n",
       "    }\n",
       "\n",
       "    .dataframe tbody tr th {\n",
       "        vertical-align: top;\n",
       "    }\n",
       "\n",
       "    .dataframe thead th {\n",
       "        text-align: right;\n",
       "    }\n",
       "</style>\n",
       "<table border=\"1\" class=\"dataframe\">\n",
       "  <thead>\n",
       "    <tr style=\"text-align: right;\">\n",
       "      <th></th>\n",
       "      <th>Income_Over</th>\n",
       "      <th>Income_Not_Over</th>\n",
       "      <th>Tax_on_column_1_(PKR)</th>\n",
       "      <th>Percentage_on_excess</th>\n",
       "    </tr>\n",
       "  </thead>\n",
       "  <tbody>\n",
       "    <tr>\n",
       "      <th>0</th>\n",
       "      <td>0.0</td>\n",
       "      <td>600000.0</td>\n",
       "      <td>0.0</td>\n",
       "      <td>0%</td>\n",
       "    </tr>\n",
       "  </tbody>\n",
       "</table>\n",
       "</div>"
      ],
      "text/plain": [
       "   Income_Over  Income_Not_Over  Tax_on_column_1_(PKR) Percentage_on_excess\n",
       "0          0.0         600000.0                    0.0                   0%"
      ]
     },
     "metadata": {},
     "output_type": "display_data"
    }
   ],
   "source": [
    "t=int(input())\n",
    "ind1=np.where(t>=tax_slabes.Income_Over)      #ind = index\n",
    "ind2=np.where(t<tax_slabes.Income_Not_Over)\n",
    "\n",
    "ind=np.intersect1d(ind1,ind2)\n",
    "if(len(ind)==1):\n",
    "    ind=ind[0]      \n",
    "    tax_slabe=tax_slabes.filter(items=[ind],axis=0)\n",
    "    display(tax_slabe)\n",
    "    if ind!=0:\n",
    "        t=t-tax_slabes.Income_Not_Over[ind-1]\n",
    "        display(t)\n",
    "elif (len(ind)<1):\n",
    "    print(\"length of index is less than 1\")\n",
    "else:\n",
    "    print('length of index is excede from 1')"
   ]
  },
  {
   "cell_type": "code",
   "execution_count": 15,
   "metadata": {},
   "outputs": [
    {
     "data": {
      "text/plain": [
       "'3'"
      ]
     },
     "execution_count": 15,
     "metadata": {},
     "output_type": "execute_result"
    }
   ],
   "source": [
    "tax_slabe.Percentage_on_excess[ind[0]][0:len]"
   ]
  },
  {
   "cell_type": "code",
   "execution_count": 16,
   "metadata": {},
   "outputs": [
    {
     "data": {
      "text/plain": [
       "array([11], dtype=int64)"
      ]
     },
     "execution_count": 16,
     "metadata": {},
     "output_type": "execute_result"
    }
   ],
   "source": [
    "ind"
   ]
  },
  {
   "cell_type": "code",
   "execution_count": 30,
   "metadata": {},
   "outputs": [
    {
     "name": "stdout",
     "output_type": "stream",
     "text": [
      "Enter your income: 3455344534\n",
      "1204540586.9\n"
     ]
    }
   ],
   "source": [
    "income=input(\"Enter your income: \")\n",
    "income=int(income)\n",
    "if income>=0:\n",
    "    ind1=np.where(income>=tax_slabes.Income_Over)\n",
    "    ind2=np.where(income<tax_slabes.Income_Not_Over)\n",
    "    ind=np.intersect1d(ind1,ind2)\n",
    "    if(len(ind)==1):\n",
    "        ind=ind[0]\n",
    "        tax_label=tax_slabes.filter(items=[ind],axis=0)\n",
    "        per_exced=tax_label.Percentage_on_excess[ind]\n",
    "        per_exced=float(per_exced[0:len(per_exced)-1])\n",
    "        tax_of_column_one=tax_label.Tax_on_first_column_PKR[ind]\n",
    "        if ind!=0:\n",
    "            income=income-tax_slabes.Income_Not_Over[ind-1]\n",
    "        tax_apply=income/100*per_exced+tax_of_column_one\n",
    "        print(tax_apply)\n",
    "\n",
    "    elif (len(ind)<1):\n",
    "        print(\"length of index is less than 1\")\n",
    "    else:\n",
    "        print('length of index is excede from 1')\n",
    "else:\n",
    "    print(\"Income is must be greater than 0\")"
   ]
  },
  {
   "cell_type": "code",
   "execution_count": 35,
   "metadata": {},
   "outputs": [
    {
     "name": "stdout",
     "output_type": "stream",
     "text": [
      "15060541.05\n",
      "1 50 60 541.05\n"
     ]
    }
   ],
   "source": [
    "print(((55432434-50000000.0)/100*32.5)+13295000.0)\n",
    "print(1,50,60,541.05)"
   ]
  },
  {
   "cell_type": "code",
   "execution_count": null,
   "metadata": {},
   "outputs": [],
   "source": []
  },
  {
   "cell_type": "code",
   "execution_count": null,
   "metadata": {},
   "outputs": [],
   "source": []
  },
  {
   "cell_type": "code",
   "execution_count": null,
   "metadata": {},
   "outputs": [],
   "source": []
  },
  {
   "cell_type": "code",
   "execution_count": 289,
   "metadata": {},
   "outputs": [
    {
     "data": {
      "text/plain": [
       "600000.0"
      ]
     },
     "execution_count": 289,
     "metadata": {},
     "output_type": "execute_result"
    }
   ],
   "source": [
    "tax_slabes.Not_Over[0]"
   ]
  },
  {
   "cell_type": "code",
   "execution_count": 298,
   "metadata": {
    "scrolled": true
   },
   "outputs": [
    {
     "data": {
      "text/plain": [
       "0"
      ]
     },
     "execution_count": 298,
     "metadata": {},
     "output_type": "execute_result"
    }
   ],
   "source": [
    "#400000/100*int(tax_slabes['Percentage_on_excess_(%)'][0])\n",
    "percent=(tax_slabes['Percentage_on_excess_(%)'][0])\n",
    "percent=int(percent[0:len(percent)-1])\n",
    "percent*100"
   ]
  },
  {
   "cell_type": "code",
   "execution_count": 377,
   "metadata": {},
   "outputs": [
    {
     "data": {
      "text/plain": [
       "array([ True])"
      ]
     },
     "execution_count": 377,
     "metadata": {},
     "output_type": "execute_result"
    }
   ],
   "source": [
    "ind1=tax_slabes[tax_slabes[\"Income_Over\"]==0].index.values\n",
    "ind2=tax_slabes[tax_slabes[\"Income_Not_Over\"]==600000].index.values\n",
    "ind1==ind2"
   ]
  },
  {
   "cell_type": "code",
   "execution_count": 383,
   "metadata": {},
   "outputs": [
    {
     "data": {
      "text/html": [
       "<div>\n",
       "<style scoped>\n",
       "    .dataframe tbody tr th:only-of-type {\n",
       "        vertical-align: middle;\n",
       "    }\n",
       "\n",
       "    .dataframe tbody tr th {\n",
       "        vertical-align: top;\n",
       "    }\n",
       "\n",
       "    .dataframe thead th {\n",
       "        text-align: right;\n",
       "    }\n",
       "</style>\n",
       "<table border=\"1\" class=\"dataframe\">\n",
       "  <thead>\n",
       "    <tr style=\"text-align: right;\">\n",
       "      <th></th>\n",
       "      <th>Income_Over</th>\n",
       "    </tr>\n",
       "  </thead>\n",
       "  <tbody>\n",
       "    <tr>\n",
       "      <th>0</th>\n",
       "      <td>0</td>\n",
       "    </tr>\n",
       "    <tr>\n",
       "      <th>1</th>\n",
       "      <td>600000</td>\n",
       "    </tr>\n",
       "    <tr>\n",
       "      <th>2</th>\n",
       "      <td>1200000</td>\n",
       "    </tr>\n",
       "    <tr>\n",
       "      <th>3</th>\n",
       "      <td>1800000</td>\n",
       "    </tr>\n",
       "    <tr>\n",
       "      <th>4</th>\n",
       "      <td>2500000</td>\n",
       "    </tr>\n",
       "    <tr>\n",
       "      <th>5</th>\n",
       "      <td>3500000</td>\n",
       "    </tr>\n",
       "    <tr>\n",
       "      <th>6</th>\n",
       "      <td>5000000</td>\n",
       "    </tr>\n",
       "    <tr>\n",
       "      <th>7</th>\n",
       "      <td>8000000</td>\n",
       "    </tr>\n",
       "    <tr>\n",
       "      <th>8</th>\n",
       "      <td>12000000</td>\n",
       "    </tr>\n",
       "    <tr>\n",
       "      <th>9</th>\n",
       "      <td>30000000</td>\n",
       "    </tr>\n",
       "    <tr>\n",
       "      <th>10</th>\n",
       "      <td>50000000</td>\n",
       "    </tr>\n",
       "    <tr>\n",
       "      <th>11</th>\n",
       "      <td>75000000</td>\n",
       "    </tr>\n",
       "  </tbody>\n",
       "</table>\n",
       "</div>"
      ],
      "text/plain": [
       "    Income_Over\n",
       "0             0\n",
       "1        600000\n",
       "2       1200000\n",
       "3       1800000\n",
       "4       2500000\n",
       "5       3500000\n",
       "6       5000000\n",
       "7       8000000\n",
       "8      12000000\n",
       "9      30000000\n",
       "10     50000000\n",
       "11     75000000"
      ]
     },
     "execution_count": 383,
     "metadata": {},
     "output_type": "execute_result"
    }
   ],
   "source": [
    "tax_slabes.filter(items=['Income_Over',])"
   ]
  },
  {
   "cell_type": "code",
   "execution_count": 142,
   "metadata": {},
   "outputs": [],
   "source": [
    "init_df=pd.DataFrame(data1)"
   ]
  },
  {
   "cell_type": "code",
   "execution_count": 143,
   "metadata": {},
   "outputs": [],
   "source": [
    "data={'Taxable income (PKR*)':data1}\n",
    "init_df2=pd.DataFrame(c3)"
   ]
  },
  {
   "cell_type": "code",
   "execution_count": 144,
   "metadata": {},
   "outputs": [
    {
     "data": {
      "text/html": [
       "<div>\n",
       "<style scoped>\n",
       "    .dataframe tbody tr th:only-of-type {\n",
       "        vertical-align: middle;\n",
       "    }\n",
       "\n",
       "    .dataframe tbody tr th {\n",
       "        vertical-align: top;\n",
       "    }\n",
       "\n",
       "    .dataframe thead th {\n",
       "        text-align: right;\n",
       "    }\n",
       "</style>\n",
       "<table border=\"1\" class=\"dataframe\">\n",
       "  <thead>\n",
       "    <tr style=\"text-align: right;\">\n",
       "      <th></th>\n",
       "      <th>0</th>\n",
       "      <th>Over</th>\n",
       "      <th>Not Over</th>\n",
       "    </tr>\n",
       "  </thead>\n",
       "  <tbody>\n",
       "    <tr>\n",
       "      <th>0</th>\n",
       "      <td>NaN</td>\n",
       "      <td>0</td>\n",
       "      <td>600000.</td>\n",
       "    </tr>\n",
       "    <tr>\n",
       "      <th>1</th>\n",
       "      <td>NaN</td>\n",
       "      <td>600000</td>\n",
       "      <td>1200000.</td>\n",
       "    </tr>\n",
       "    <tr>\n",
       "      <th>2</th>\n",
       "      <td>30000</td>\n",
       "      <td>1200000</td>\n",
       "      <td>1800000.</td>\n",
       "    </tr>\n",
       "    <tr>\n",
       "      <th>3</th>\n",
       "      <td>90000</td>\n",
       "      <td>1800000</td>\n",
       "      <td>2500000.</td>\n",
       "    </tr>\n",
       "    <tr>\n",
       "      <th>4</th>\n",
       "      <td>195000</td>\n",
       "      <td>2500000</td>\n",
       "      <td>3500000.</td>\n",
       "    </tr>\n",
       "    <tr>\n",
       "      <th>5</th>\n",
       "      <td>370000</td>\n",
       "      <td>3500000</td>\n",
       "      <td>5000000.</td>\n",
       "    </tr>\n",
       "    <tr>\n",
       "      <th>6</th>\n",
       "      <td>670000</td>\n",
       "      <td>5000000</td>\n",
       "      <td>8000000.</td>\n",
       "    </tr>\n",
       "    <tr>\n",
       "      <th>7</th>\n",
       "      <td>1345000</td>\n",
       "      <td>8000000</td>\n",
       "      <td>12000000.</td>\n",
       "    </tr>\n",
       "    <tr>\n",
       "      <th>8</th>\n",
       "      <td>2345000</td>\n",
       "      <td>12000000</td>\n",
       "      <td>30000000.</td>\n",
       "    </tr>\n",
       "    <tr>\n",
       "      <th>9</th>\n",
       "      <td>7295000</td>\n",
       "      <td>30000000</td>\n",
       "      <td>50000000.</td>\n",
       "    </tr>\n",
       "    <tr>\n",
       "      <th>10</th>\n",
       "      <td>13295000</td>\n",
       "      <td>50000000</td>\n",
       "      <td>75000000.</td>\n",
       "    </tr>\n",
       "    <tr>\n",
       "      <th>11</th>\n",
       "      <td>21420000</td>\n",
       "      <td>75000000</td>\n",
       "      <td>NaN</td>\n",
       "    </tr>\n",
       "  </tbody>\n",
       "</table>\n",
       "</div>"
      ],
      "text/plain": [
       "           0      Over   Not Over\n",
       "0        NaN         0    600000.\n",
       "1        NaN    600000   1200000.\n",
       "2      30000   1200000   1800000.\n",
       "3      90000   1800000   2500000.\n",
       "4     195000   2500000   3500000.\n",
       "5     370000   3500000   5000000.\n",
       "6     670000   5000000   8000000.\n",
       "7    1345000   8000000  12000000.\n",
       "8    2345000  12000000  30000000.\n",
       "9    7295000  30000000  50000000.\n",
       "10  13295000  50000000  75000000.\n",
       "11  21420000  75000000        NaN"
      ]
     },
     "execution_count": 144,
     "metadata": {},
     "output_type": "execute_result"
    }
   ],
   "source": [
    "init_df2.join(init_df)"
   ]
  },
  {
   "cell_type": "code",
   "execution_count": 103,
   "metadata": {},
   "outputs": [
    {
     "data": {
      "text/html": [
       "<div>\n",
       "<style scoped>\n",
       "    .dataframe tbody tr th:only-of-type {\n",
       "        vertical-align: middle;\n",
       "    }\n",
       "\n",
       "    .dataframe tbody tr th {\n",
       "        vertical-align: top;\n",
       "    }\n",
       "\n",
       "    .dataframe thead th {\n",
       "        text-align: right;\n",
       "    }\n",
       "</style>\n",
       "<table border=\"1\" class=\"dataframe\">\n",
       "  <thead>\n",
       "    <tr style=\"text-align: right;\">\n",
       "      <th></th>\n",
       "      <th>0</th>\n",
       "    </tr>\n",
       "  </thead>\n",
       "  <tbody>\n",
       "    <tr>\n",
       "      <th>0</th>\n",
       "      <td>600000.</td>\n",
       "    </tr>\n",
       "    <tr>\n",
       "      <th>1</th>\n",
       "      <td>1200000.</td>\n",
       "    </tr>\n",
       "    <tr>\n",
       "      <th>2</th>\n",
       "      <td>1800000.</td>\n",
       "    </tr>\n",
       "    <tr>\n",
       "      <th>3</th>\n",
       "      <td>2500000.</td>\n",
       "    </tr>\n",
       "    <tr>\n",
       "      <th>4</th>\n",
       "      <td>3500000.</td>\n",
       "    </tr>\n",
       "    <tr>\n",
       "      <th>5</th>\n",
       "      <td>5000000.</td>\n",
       "    </tr>\n",
       "    <tr>\n",
       "      <th>6</th>\n",
       "      <td>8000000.</td>\n",
       "    </tr>\n",
       "    <tr>\n",
       "      <th>7</th>\n",
       "      <td>12000000.</td>\n",
       "    </tr>\n",
       "    <tr>\n",
       "      <th>8</th>\n",
       "      <td>30000000.</td>\n",
       "    </tr>\n",
       "    <tr>\n",
       "      <th>9</th>\n",
       "      <td>50000000.</td>\n",
       "    </tr>\n",
       "    <tr>\n",
       "      <th>10</th>\n",
       "      <td>75000000.</td>\n",
       "    </tr>\n",
       "    <tr>\n",
       "      <th>11</th>\n",
       "      <td>NaN</td>\n",
       "    </tr>\n",
       "  </tbody>\n",
       "</table>\n",
       "</div>"
      ],
      "text/plain": [
       "            0\n",
       "0     600000.\n",
       "1    1200000.\n",
       "2    1800000.\n",
       "3    2500000.\n",
       "4    3500000.\n",
       "5    5000000.\n",
       "6    8000000.\n",
       "7   12000000.\n",
       "8   30000000.\n",
       "9   50000000.\n",
       "10  75000000.\n",
       "11        NaN"
      ]
     },
     "execution_count": 103,
     "metadata": {},
     "output_type": "execute_result"
    }
   ],
   "source": [
    "pd.DataFrame()"
   ]
  },
  {
   "cell_type": "code",
   "execution_count": 122,
   "metadata": {},
   "outputs": [
    {
     "data": {
      "text/plain": [
       "48"
      ]
     },
     "execution_count": 122,
     "metadata": {},
     "output_type": "execute_result"
    }
   ],
   "source": [
    "4*12"
   ]
  },
  {
   "cell_type": "code",
   "execution_count": 123,
   "metadata": {},
   "outputs": [
    {
     "data": {
      "text/plain": [
       "24.0"
      ]
     },
     "execution_count": 123,
     "metadata": {},
     "output_type": "execute_result"
    }
   ],
   "source": [
    "48/2"
   ]
  },
  {
   "cell_type": "code",
   "execution_count": 276,
   "metadata": {},
   "outputs": [
    {
     "name": "stdout",
     "output_type": "stream",
     "text": [
      "123 <class 'int'>\n"
     ]
    }
   ],
   "source": [
    "t='123%'\n",
    "t=int(t[0:len(t)-1])\n",
    "print(t , type(t))"
   ]
  },
  {
   "cell_type": "code",
   "execution_count": 273,
   "metadata": {},
   "outputs": [],
   "source": []
  },
  {
   "cell_type": "code",
   "execution_count": null,
   "metadata": {},
   "outputs": [],
   "source": []
  }
 ],
 "metadata": {
  "kernelspec": {
   "display_name": "Python 3",
   "language": "python",
   "name": "python3"
  },
  "language_info": {
   "codemirror_mode": {
    "name": "ipython",
    "version": 3
   },
   "file_extension": ".py",
   "mimetype": "text/x-python",
   "name": "python",
   "nbconvert_exporter": "python",
   "pygments_lexer": "ipython3",
   "version": "3.8.5"
  }
 },
 "nbformat": 4,
 "nbformat_minor": 4
}
